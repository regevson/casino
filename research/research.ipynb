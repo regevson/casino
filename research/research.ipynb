{
 "cells": [
  {
   "cell_type": "code",
   "execution_count": 1,
   "metadata": {},
   "outputs": [
    {
     "name": "stderr",
     "output_type": "stream",
     "text": [
      "[nltk_data] Downloading package stopwords to /root/nltk_data...\n",
      "[nltk_data]   Package stopwords is already up-to-date!\n",
      "[nltk_data] Downloading package words to /root/nltk_data...\n",
      "[nltk_data]   Package words is already up-to-date!\n"
     ]
    }
   ],
   "source": [
    "import numpy as np\n",
    "import pandas as pd\n",
    "import requests\n",
    "from bs4 import BeautifulSoup\n",
    "import re\n",
    "from tqdm import tqdm\n",
    "\n",
    "import nltk\n",
    "from nltk.corpus import stopwords\n",
    "from nltk.corpus import words as english_words\n",
    "nltk.download('stopwords')\n",
    "nltk.download('words')\n",
    "\n",
    "\n",
    "from sklearn.model_selection import train_test_split\n",
    "from sklearn.preprocessing import StandardScaler\n",
    "from sklearn.svm import SVC\n",
    "\n",
    "from sklearn.decomposition import PCA\n",
    "import matplotlib.pyplot as plt\n",
    "\n",
    "from joblib import dump, load"
   ]
  },
  {
   "cell_type": "markdown",
   "metadata": {},
   "source": [
    "## Casino List\n",
    "- https://www.casinoslists.com/casinos/best\n",
    "- https://www.casinofreak.com/reviews/all-online-casinos\n",
    "- https://casinoalpha.com/online-casinos/list/page/2/\n",
    "- https://www.nonstopbonus.com/new-online-casinos\n",
    "- https://list.casino/\n",
    "- https://lcb.org/casinos"
   ]
  },
  {
   "cell_type": "code",
   "execution_count": 2,
   "metadata": {},
   "outputs": [],
   "source": [
    "headers = {\n",
    "    'User-Agent': 'Mozilla/5.0 (Windows NT 10.0; Win64; x64) AppleWebKit/537.36 (KHTML, like Gecko) Chrome/58.0.3029.110 Safari/537.3',\n",
    "    'Accept-Language': 'en-US,en;q=0.9',\n",
    "    'Connection': 'keep-alive'\n",
    "}"
   ]
  },
  {
   "cell_type": "raw",
   "metadata": {
    "vscode": {
     "languageId": "python"
    }
   },
   "source": [
    "# Scrape casino lists for urls\n",
    "idx = 0\n",
    "urls = []\n",
    "\n",
    "while True:\n",
    "    idx += 1\n",
    "    print(idx)\n",
    "    url = f\"https://lcb.org/partial/sites/list?&order[rating]=DESC&region=at&page={idx}&show_hidden=true\"\n",
    "    response = requests.get(url, headers=headers)\n",
    "    if not response.ok:\n",
    "        break\n",
    "\n",
    "    soup = BeautifulSoup(response.content, 'html.parser')\n",
    "    div_elements = soup.find_all('div', class_='table-cell logo casino')\n",
    "\n",
    "    for div in div_elements:\n",
    "        link = div.find('a')\n",
    "        if link:\n",
    "            print(\"appended\", link.get('href'))\n",
    "            urls.append(link.get('href'))\n",
    "\n",
    "print(urls)"
   ]
  },
  {
   "cell_type": "raw",
   "metadata": {
    "vscode": {
     "languageId": "python"
    }
   },
   "source": [
    "# remove duplicate urls and save them to file\n",
    "print(len(urls))\n",
    "urls = list(set(links))\n",
    "with open('data/urls.txt', 'w') as file:\n",
    "    for url in links:\n",
    "        file.write(url + '\\n')\n",
    "print(len(urls))"
   ]
  },
  {
   "cell_type": "raw",
   "metadata": {
    "vscode": {
     "languageId": "python"
    }
   },
   "source": [
    "# open urls from file\n",
    "return\n",
    "with open('data/urls_negatives.txt', 'r') as file:\n",
    "    urls = [line.strip() for line in file]"
   ]
  },
  {
   "cell_type": "raw",
   "metadata": {
    "vscode": {
     "languageId": "python"
    }
   },
   "source": [
    "# take urls and download website content\n",
    "\n",
    "return\n",
    "df = pd.DataFrame([], columns=['text'])\n",
    "dest_file_name = \"positives\"\n",
    "\n",
    "content = []\n",
    "idx = 0\n",
    "for url in tqdm(urls, desc=\"Processing urls\"):\n",
    "    try:\n",
    "        response = requests.get(\"http://\" + url, headers=headers)\n",
    "        if response.ok:\n",
    "            soup = BeautifulSoup(response.content, 'html.parser')\n",
    "            txt = soup.get_text().replace(\"\\n\", \"\")\n",
    "            if len(txt) > 50:\n",
    "                content.append(txt)\n",
    "                print(txt)\n",
    "                idx += 1\n",
    "                if idx % 30 == 0:\n",
    "                    df_new = pd.DataFrame(content, columns=['text'])\n",
    "                    df = pd.concat([df, df_new], ignore_index=True)\n",
    "                    df.to_csv(f'data/{dest_file_name}.csv', index=False)\n",
    "                    content = []\n",
    "                    idx = 0\n",
    "    except Exception as e:\n",
    "        print(f\"An error occurred: {str(e)}\")\n"
   ]
  },
  {
   "cell_type": "raw",
   "metadata": {},
   "source": [
    "with open('data/positives.csv', 'r') as file:\n",
    "    lines = file.readlines()\n",
    "\n",
    "# Apply changes to each line\n",
    "for i in range(len(lines)):\n",
    "    lines[i] = lines[i].replace('\\r', '')\n",
    "    lines[i] = lines[i].replace('\"', '')\n",
    "    lines[i] = re.sub(r' +', ' ', lines[i])\n",
    "    lines[i] = lines[i].strip(' ')\n",
    "    lines[i] = lines[i].replace(',', '')\n",
    "    lines[i] = lines[i].replace('\\n', '')\n",
    "    lines[i] = lines[i] + \"\\n\"\n",
    "\n",
    "with open('positives_clean.csv', 'w') as file:\n",
    "    file.writelines(lines)\n"
   ]
  },
  {
   "cell_type": "code",
   "execution_count": 3,
   "metadata": {},
   "outputs": [
    {
     "data": {
      "text/html": [
       "<div>\n",
       "<style scoped>\n",
       "    .dataframe tbody tr th:only-of-type {\n",
       "        vertical-align: middle;\n",
       "    }\n",
       "\n",
       "    .dataframe tbody tr th {\n",
       "        vertical-align: top;\n",
       "    }\n",
       "\n",
       "    .dataframe thead th {\n",
       "        text-align: right;\n",
       "    }\n",
       "</style>\n",
       "<table border=\"1\" class=\"dataframe\">\n",
       "  <thead>\n",
       "    <tr style=\"text-align: right;\">\n",
       "      <th></th>\n",
       "      <th>text</th>\n",
       "      <th>label</th>\n",
       "    </tr>\n",
       "  </thead>\n",
       "  <tbody>\n",
       "    <tr>\n",
       "      <th>0</th>\n",
       "      <td>SISportsbook | Sports Betting Odds | Bet $10 G...</td>\n",
       "      <td>1</td>\n",
       "    </tr>\n",
       "    <tr>\n",
       "      <th>1</th>\n",
       "      <td>Online Sportsbook | Bet Online | Online Sports...</td>\n",
       "      <td>1</td>\n",
       "    </tr>\n",
       "    <tr>\n",
       "      <th>2</th>\n",
       "      <td>FanDuel | Daily Fantasy Sports and Online U.S....</td>\n",
       "      <td>1</td>\n",
       "    </tr>\n",
       "    <tr>\n",
       "      <th>3</th>\n",
       "      <td>To view this video please enable JavaScript an...</td>\n",
       "      <td>1</td>\n",
       "    </tr>\n",
       "    <tr>\n",
       "      <th>4</th>\n",
       "      <td>web browser that</td>\n",
       "      <td>1</td>\n",
       "    </tr>\n",
       "    <tr>\n",
       "      <th>...</th>\n",
       "      <td>...</td>\n",
       "      <td>...</td>\n",
       "    </tr>\n",
       "    <tr>\n",
       "      <th>3417</th>\n",
       "      <td>Free Podcast Hosting - Buzzsprout Buzzsprout m...</td>\n",
       "      <td>0</td>\n",
       "    </tr>\n",
       "    <tr>\n",
       "      <th>3418</th>\n",
       "      <td>ORCID Please enable JavaScript to continue usi...</td>\n",
       "      <td>0</td>\n",
       "    </tr>\n",
       "    <tr>\n",
       "      <th>3419</th>\n",
       "      <td>Discover Top Blogs &amp; Best Websites in 2023 - F...</td>\n",
       "      <td>0</td>\n",
       "    </tr>\n",
       "    <tr>\n",
       "      <th>3420</th>\n",
       "      <td>Google AR &amp; VR | Home OverviewNews &amp; Announcem...</td>\n",
       "      <td>0</td>\n",
       "    </tr>\n",
       "    <tr>\n",
       "      <th>3421</th>\n",
       "      <td>Opinion - Opinionator - The New York Times Sec...</td>\n",
       "      <td>0</td>\n",
       "    </tr>\n",
       "  </tbody>\n",
       "</table>\n",
       "<p>3422 rows × 2 columns</p>\n",
       "</div>"
      ],
      "text/plain": [
       "                                                   text  label\n",
       "0     SISportsbook | Sports Betting Odds | Bet $10 G...      1\n",
       "1     Online Sportsbook | Bet Online | Online Sports...      1\n",
       "2     FanDuel | Daily Fantasy Sports and Online U.S....      1\n",
       "3     To view this video please enable JavaScript an...      1\n",
       "4                                      web browser that      1\n",
       "...                                                 ...    ...\n",
       "3417  Free Podcast Hosting - Buzzsprout Buzzsprout m...      0\n",
       "3418  ORCID Please enable JavaScript to continue usi...      0\n",
       "3419  Discover Top Blogs & Best Websites in 2023 - F...      0\n",
       "3420  Google AR & VR | Home OverviewNews & Announcem...      0\n",
       "3421  Opinion - Opinionator - The New York Times Sec...      0\n",
       "\n",
       "[3422 rows x 2 columns]"
      ]
     },
     "execution_count": 3,
     "metadata": {},
     "output_type": "execute_result"
    }
   ],
   "source": [
    "df_pos = pd.read_csv('data/positives_clean.csv', lineterminator='\\n')\n",
    "df_neg = pd.read_csv('data/negatives_clean.csv', lineterminator='\\n')\n",
    "\n",
    "df_pos['label'] = 1\n",
    "df_neg['label'] = 0\n",
    "\n",
    "df = pd.concat([df_pos, df_neg], ignore_index=True)\n",
    "df"
   ]
  },
  {
   "cell_type": "code",
   "execution_count": 4,
   "metadata": {},
   "outputs": [
    {
     "name": "stdout",
     "output_type": "stream",
     "text": [
      "len 3422\n",
      "len 1070\n"
     ]
    },
    {
     "data": {
      "text/html": [
       "<div>\n",
       "<style scoped>\n",
       "    .dataframe tbody tr th:only-of-type {\n",
       "        vertical-align: middle;\n",
       "    }\n",
       "\n",
       "    .dataframe tbody tr th {\n",
       "        vertical-align: top;\n",
       "    }\n",
       "\n",
       "    .dataframe thead th {\n",
       "        text-align: right;\n",
       "    }\n",
       "</style>\n",
       "<table border=\"1\" class=\"dataframe\">\n",
       "  <thead>\n",
       "    <tr style=\"text-align: right;\">\n",
       "      <th></th>\n",
       "      <th>text</th>\n",
       "      <th>label</th>\n",
       "    </tr>\n",
       "  </thead>\n",
       "  <tbody>\n",
       "    <tr>\n",
       "      <th>0</th>\n",
       "      <td>sisportsbook | sports betting odds | bet $10 g...</td>\n",
       "      <td>1</td>\n",
       "    </tr>\n",
       "    <tr>\n",
       "      <th>1</th>\n",
       "      <td>online sportsbook | bet online | online sports...</td>\n",
       "      <td>1</td>\n",
       "    </tr>\n",
       "    <tr>\n",
       "      <th>2</th>\n",
       "      <td>fanduel | daily fantasy sports and online u.s....</td>\n",
       "      <td>1</td>\n",
       "    </tr>\n",
       "    <tr>\n",
       "      <th>5</th>\n",
       "      <td>supports html5 videoskipnew customersbet $5 ge...</td>\n",
       "      <td>1</td>\n",
       "    </tr>\n",
       "    <tr>\n",
       "      <th>6</th>\n",
       "      <td>malta sunsetsign inbeginning on 22 january 202...</td>\n",
       "      <td>1</td>\n",
       "    </tr>\n",
       "    <tr>\n",
       "      <th>...</th>\n",
       "      <td>...</td>\n",
       "      <td>...</td>\n",
       "    </tr>\n",
       "    <tr>\n",
       "      <th>3416</th>\n",
       "      <td>online community for artists [pixiv] pixiv has...</td>\n",
       "      <td>0</td>\n",
       "    </tr>\n",
       "    <tr>\n",
       "      <th>3417</th>\n",
       "      <td>free podcast hosting - buzzsprout buzzsprout m...</td>\n",
       "      <td>0</td>\n",
       "    </tr>\n",
       "    <tr>\n",
       "      <th>3419</th>\n",
       "      <td>discover top blogs &amp; best websites in 2023 - f...</td>\n",
       "      <td>0</td>\n",
       "    </tr>\n",
       "    <tr>\n",
       "      <th>3420</th>\n",
       "      <td>google ar &amp; vr | home overviewnews &amp; announcem...</td>\n",
       "      <td>0</td>\n",
       "    </tr>\n",
       "    <tr>\n",
       "      <th>3421</th>\n",
       "      <td>opinion - opinionator - the new york times sec...</td>\n",
       "      <td>0</td>\n",
       "    </tr>\n",
       "  </tbody>\n",
       "</table>\n",
       "<p>1070 rows × 2 columns</p>\n",
       "</div>"
      ],
      "text/plain": [
       "                                                   text  label\n",
       "0     sisportsbook | sports betting odds | bet $10 g...      1\n",
       "1     online sportsbook | bet online | online sports...      1\n",
       "2     fanduel | daily fantasy sports and online u.s....      1\n",
       "5     supports html5 videoskipnew customersbet $5 ge...      1\n",
       "6     malta sunsetsign inbeginning on 22 january 202...      1\n",
       "...                                                 ...    ...\n",
       "3416  online community for artists [pixiv] pixiv has...      0\n",
       "3417  free podcast hosting - buzzsprout buzzsprout m...      0\n",
       "3419  discover top blogs & best websites in 2023 - f...      0\n",
       "3420  google ar & vr | home overviewnews & announcem...      0\n",
       "3421  opinion - opinionator - the new york times sec...      0\n",
       "\n",
       "[1070 rows x 2 columns]"
      ]
     },
     "execution_count": 4,
     "metadata": {},
     "output_type": "execute_result"
    }
   ],
   "source": [
    "print(\"len\", len(df))\n",
    "df['text'] = df['text'].apply(lambda x: x.lower())\n",
    "df.loc[:, 'word_count'] = df['text'].str.split().str.len()\n",
    "df = df[df['word_count'] >= 30]\n",
    "df = df.drop(columns=['word_count'])\n",
    "print(\"len\", len(df))\n",
    "df"
   ]
  },
  {
   "cell_type": "code",
   "execution_count": 5,
   "metadata": {},
   "outputs": [
    {
     "name": "stdout",
     "output_type": "stream",
     "text": [
      "num datapoints 1070\n",
      "num positive datapoints 346\n",
      "num negative datapoints 724\n",
      "-----------------------------------------------------------\n",
      "num datapoints 692\n",
      "num positive datapoints 346\n",
      "num negative datapoints 346\n"
     ]
    },
    {
     "data": {
      "text/html": [
       "<div>\n",
       "<style scoped>\n",
       "    .dataframe tbody tr th:only-of-type {\n",
       "        vertical-align: middle;\n",
       "    }\n",
       "\n",
       "    .dataframe tbody tr th {\n",
       "        vertical-align: top;\n",
       "    }\n",
       "\n",
       "    .dataframe thead th {\n",
       "        text-align: right;\n",
       "    }\n",
       "</style>\n",
       "<table border=\"1\" class=\"dataframe\">\n",
       "  <thead>\n",
       "    <tr style=\"text-align: right;\">\n",
       "      <th></th>\n",
       "      <th>text</th>\n",
       "      <th>label</th>\n",
       "    </tr>\n",
       "  </thead>\n",
       "  <tbody>\n",
       "    <tr>\n",
       "      <th>0</th>\n",
       "      <td>csgoace.com is for sale | hugedomainsskip to m...</td>\n",
       "      <td>1</td>\n",
       "    </tr>\n",
       "    <tr>\n",
       "      <th>1</th>\n",
       "      <td>bet2290.com is for sale | hugedomainsskip to m...</td>\n",
       "      <td>1</td>\n",
       "    </tr>\n",
       "    <tr>\n",
       "      <th>2</th>\n",
       "      <td>goalwin.com domain name is for sale. inquire n...</td>\n",
       "      <td>1</td>\n",
       "    </tr>\n",
       "    <tr>\n",
       "      <th>3</th>\n",
       "      <td>join now get paid when you win - faster than e...</td>\n",
       "      <td>1</td>\n",
       "    </tr>\n",
       "    <tr>\n",
       "      <th>4</th>\n",
       "      <td>uk bingo reviews news bonus offers &amp; promotion...</td>\n",
       "      <td>1</td>\n",
       "    </tr>\n",
       "    <tr>\n",
       "      <th>...</th>\n",
       "      <td>...</td>\n",
       "      <td>...</td>\n",
       "    </tr>\n",
       "    <tr>\n",
       "      <th>687</th>\n",
       "      <td>health: trusted and empathetic health and well...</td>\n",
       "      <td>0</td>\n",
       "    </tr>\n",
       "    <tr>\n",
       "      <th>688</th>\n",
       "      <td>monster jobs - job search career advice &amp; hiri...</td>\n",
       "      <td>0</td>\n",
       "    </tr>\n",
       "    <tr>\n",
       "      <th>689</th>\n",
       "      <td>lifehacker | do everything better skip to main...</td>\n",
       "      <td>0</td>\n",
       "    </tr>\n",
       "    <tr>\n",
       "      <th>690</th>\n",
       "      <td>apple developer view in english global nav ope...</td>\n",
       "      <td>0</td>\n",
       "    </tr>\n",
       "    <tr>\n",
       "      <th>691</th>\n",
       "      <td>thought catalog thought cataloginstagram faceb...</td>\n",
       "      <td>0</td>\n",
       "    </tr>\n",
       "  </tbody>\n",
       "</table>\n",
       "<p>692 rows × 2 columns</p>\n",
       "</div>"
      ],
      "text/plain": [
       "                                                  text  label\n",
       "0    csgoace.com is for sale | hugedomainsskip to m...      1\n",
       "1    bet2290.com is for sale | hugedomainsskip to m...      1\n",
       "2    goalwin.com domain name is for sale. inquire n...      1\n",
       "3    join now get paid when you win - faster than e...      1\n",
       "4    uk bingo reviews news bonus offers & promotion...      1\n",
       "..                                                 ...    ...\n",
       "687  health: trusted and empathetic health and well...      0\n",
       "688  monster jobs - job search career advice & hiri...      0\n",
       "689  lifehacker | do everything better skip to main...      0\n",
       "690  apple developer view in english global nav ope...      0\n",
       "691  thought catalog thought cataloginstagram faceb...      0\n",
       "\n",
       "[692 rows x 2 columns]"
      ]
     },
     "execution_count": 5,
     "metadata": {},
     "output_type": "execute_result"
    }
   ],
   "source": [
    "print(\"num datapoints\", len(df))\n",
    "print(\"num positive datapoints\", len(df[df['label'] == 1]))\n",
    "print(\"num negative datapoints\", len(df[df['label'] == 0]))\n",
    "\n",
    "num_positive = len(df[df['label'] == 1])\n",
    "num_negative = len(df[df['label'] == 0])\n",
    "\n",
    "min_samples = min(num_positive, num_negative)\n",
    "\n",
    "# Undersample\n",
    "df_positive = df[df['label'] == 1].sample(n=min_samples, random_state=42)\n",
    "df_negative = df[df['label'] == 0].sample(n=min_samples, random_state=42)\n",
    "\n",
    "# Concatenate the undersampled dataframes\n",
    "df_balanced = pd.concat([df_positive, df_negative], ignore_index=True)\n",
    "\n",
    "print(\"-----------------------------------------------------------\")\n",
    "print(\"num datapoints\", len(df_balanced))\n",
    "print(\"num positive datapoints\", len(df_balanced[df_balanced['label'] == 1]))\n",
    "print(\"num negative datapoints\", len(df_balanced[df_balanced['label'] == 0]))\n",
    "\n",
    "df_balanced"
   ]
  },
  {
   "cell_type": "code",
   "execution_count": 6,
   "metadata": {},
   "outputs": [
    {
     "data": {
      "text/plain": [
       "(                                                   text  label\n",
       " 1319  google chrome - the fast & secure web browser ...      0\n",
       " 1356  federal trade commission | protecting america'...      0\n",
       " 1401  \\t\\t footer links fda archive about fda access...      0\n",
       " 2158  martha stewart | recipes diy home decor & craf...      0\n",
       " 1257  dropbox.com skip to main contentwhy dropbox?ov...      0\n",
       " ...                                                 ...    ...\n",
       " 991   casino online sportsbooktoggle navigationlogin...      1\n",
       " 1358  about.me | your personal homepageget your free...      0\n",
       " 370   fanduel | daily fantasy sports and online u.s....      1\n",
       " 3290  olympics | olympic games medals results & late...      0\n",
       " 2506  oprah.com oprah.com own for the holidays own f...      0\n",
       " \n",
       " [749 rows x 2 columns],\n",
       "                                                    text  label\n",
       " 2037  7975000+ free and premium vector icons illustr...      0\n",
       " 2018  learn more featured move fast think slow: how ...      0\n",
       " 197   betpci betpcibetpcibetpcibetpcibetpcibetpcibet...      1\n",
       " 2868  home | university of colorado boulder skip to ...      0\n",
       " 2292  asus global skip to content accessibility help...      0\n",
       " ...                                                 ...    ...\n",
       " 2495  chime in. 19 replies share 29 {{ upvotecount |...      0\n",
       " 212   betsson: online casino live casino & sportsbet...      1\n",
       " 224   welcome to nginx!welcome to nginx!if you see t...      1\n",
       " 2779  thought catalog thought cataloginstagram faceb...      0\n",
       " 218   bettrojan.com domain name is for sale. inquire...      1\n",
       " \n",
       " [321 rows x 2 columns])"
      ]
     },
     "execution_count": 6,
     "metadata": {},
     "output_type": "execute_result"
    }
   ],
   "source": [
    "X = df[\"text\"]\n",
    "y = df[\"label\"]\n",
    "X_train_df, X_test_df, y_train_df, y_test_df = train_test_split(X, y, test_size=0.3, random_state=42)\n",
    "\n",
    "train_df = pd.concat([pd.DataFrame(X_train_df, columns=[\"text\"]), pd.DataFrame(y_train_df, columns=[\"label\"])], axis=1)\n",
    "test_df = pd.concat([pd.DataFrame(X_test_df, columns=[\"text\"]), pd.DataFrame(y_test_df, columns=[\"label\"])], axis=1)\n",
    "\n",
    "train_df, test_df"
   ]
  },
  {
   "cell_type": "code",
   "execution_count": 7,
   "metadata": {},
   "outputs": [
    {
     "data": {
      "text/html": [
       "<div>\n",
       "<style scoped>\n",
       "    .dataframe tbody tr th:only-of-type {\n",
       "        vertical-align: middle;\n",
       "    }\n",
       "\n",
       "    .dataframe tbody tr th {\n",
       "        vertical-align: top;\n",
       "    }\n",
       "\n",
       "    .dataframe thead th {\n",
       "        text-align: right;\n",
       "    }\n",
       "</style>\n",
       "<table border=\"1\" class=\"dataframe\">\n",
       "  <thead>\n",
       "    <tr style=\"text-align: right;\">\n",
       "      <th></th>\n",
       "      <th>word</th>\n",
       "      <th>freq</th>\n",
       "    </tr>\n",
       "  </thead>\n",
       "  <tbody>\n",
       "    <tr>\n",
       "      <th>0</th>\n",
       "      <td>de</td>\n",
       "      <td>2995</td>\n",
       "    </tr>\n",
       "    <tr>\n",
       "      <th>1</th>\n",
       "      <td>&amp;</td>\n",
       "      <td>2974</td>\n",
       "    </tr>\n",
       "    <tr>\n",
       "      <th>2</th>\n",
       "      <td>online</td>\n",
       "      <td>1943</td>\n",
       "    </tr>\n",
       "    <tr>\n",
       "      <th>3</th>\n",
       "      <td>new</td>\n",
       "      <td>1598</td>\n",
       "    </tr>\n",
       "    <tr>\n",
       "      <th>4</th>\n",
       "      <td>-</td>\n",
       "      <td>1586</td>\n",
       "    </tr>\n",
       "    <tr>\n",
       "      <th>...</th>\n",
       "      <td>...</td>\n",
       "      <td>...</td>\n",
       "    </tr>\n",
       "    <tr>\n",
       "      <th>97970</th>\n",
       "      <td>zak!/walmart</td>\n",
       "      <td>1</td>\n",
       "    </tr>\n",
       "    <tr>\n",
       "      <th>97971</th>\n",
       "      <td>kindi</td>\n",
       "      <td>1</td>\n",
       "    </tr>\n",
       "    <tr>\n",
       "      <th>97972</th>\n",
       "      <td>kids/amazonisrael-gaza</td>\n",
       "      <td>1</td>\n",
       "    </tr>\n",
       "    <tr>\n",
       "      <th>97973</th>\n",
       "      <td>conflict:</td>\n",
       "      <td>1</td>\n",
       "    </tr>\n",
       "    <tr>\n",
       "      <th>97974</th>\n",
       "      <td>own:</td>\n",
       "      <td>1</td>\n",
       "    </tr>\n",
       "  </tbody>\n",
       "</table>\n",
       "<p>97975 rows × 2 columns</p>\n",
       "</div>"
      ],
      "text/plain": [
       "                         word  freq\n",
       "0                          de  2995\n",
       "1                           &  2974\n",
       "2                      online  1943\n",
       "3                         new  1598\n",
       "4                           -  1586\n",
       "...                       ...   ...\n",
       "97970            zak!/walmart     1\n",
       "97971                   kindi     1\n",
       "97972  kids/amazonisrael-gaza     1\n",
       "97973               conflict:     1\n",
       "97974                    own:     1\n",
       "\n",
       "[97975 rows x 2 columns]"
      ]
     },
     "execution_count": 7,
     "metadata": {},
     "output_type": "execute_result"
    }
   ],
   "source": [
    "stop_words = set(stopwords.words('english'))\n",
    "words = train_df['text'].str.split(expand=True).stack()\n",
    "words = words[~words.isin(stop_words)]\n",
    "\n",
    "# Calculate word frequency\n",
    "word_freq = words.value_counts().reset_index()\n",
    "word_freq.columns = ['word', 'freq']\n",
    "word_freq"
   ]
  },
  {
   "cell_type": "code",
   "execution_count": 8,
   "metadata": {},
   "outputs": [
    {
     "name": "stdout",
     "output_type": "stream",
     "text": [
      "num words before: 97975\n",
      "num words after: 11000\n"
     ]
    }
   ],
   "source": [
    "# Remove non-English words\n",
    "print(\"num words before:\", len(word_freq))\n",
    "english = set(english_words.words())\n",
    "new_word_freq = word_freq[word_freq['word'].isin(english) & (word_freq['word'].str.len() >= 3)]\n",
    "print(\"num words after:\", len(new_word_freq))"
   ]
  },
  {
   "cell_type": "code",
   "execution_count": 9,
   "metadata": {},
   "outputs": [
    {
     "name": "stdout",
     "output_type": "stream",
     "text": [
      "num words before: 11000\n",
      "num words after: 2915\n"
     ]
    }
   ],
   "source": [
    "# Remove words with frequency less than 10\n",
    "print(\"num words before:\", len(new_word_freq))\n",
    "new_word_freq = new_word_freq[new_word_freq['freq'] >= 10]\n",
    "print(\"num words after:\", len(new_word_freq))"
   ]
  },
  {
   "cell_type": "code",
   "execution_count": 10,
   "metadata": {},
   "outputs": [],
   "source": [
    "bag_of_words = new_word_freq['word'].tolist()\n",
    "\n",
    "with open('bag_of_words.txt', 'w') as file:\n",
    "    for word in bag_of_words:\n",
    "        file.write(word + '\\n')"
   ]
  },
  {
   "cell_type": "code",
   "execution_count": 11,
   "metadata": {},
   "outputs": [
    {
     "name": "stderr",
     "output_type": "stream",
     "text": [
      "Processing rows:  59%|█████▉    | 444/749 [00:07<00:05, 59.10it/s]\n"
     ]
    },
    {
     "ename": "KeyboardInterrupt",
     "evalue": "",
     "output_type": "error",
     "traceback": [
      "\u001b[0;31m---------------------------------------------------------------------------\u001b[0m",
      "\u001b[0;31mKeyboardInterrupt\u001b[0m                         Traceback (most recent call last)",
      "Cell \u001b[0;32mIn[11], line 10\u001b[0m\n\u001b[1;32m      8\u001b[0m         df\u001b[38;5;241m.\u001b[39mat[idx, \u001b[38;5;124m'\u001b[39m\u001b[38;5;124mfeatures\u001b[39m\u001b[38;5;124m'\u001b[39m] \u001b[38;5;241m=\u001b[39m features_local\n\u001b[1;32m      9\u001b[0m     \u001b[38;5;28;01mreturn\u001b[39;00m df\n\u001b[0;32m---> 10\u001b[0m train_df \u001b[38;5;241m=\u001b[39m \u001b[43mcreate_features\u001b[49m\u001b[43m(\u001b[49m\u001b[43mtrain_df\u001b[49m\u001b[43m)\u001b[49m\n\u001b[1;32m     11\u001b[0m test_df \u001b[38;5;241m=\u001b[39m create_features(test_df)\n\u001b[1;32m     12\u001b[0m train_df\n",
      "Cell \u001b[0;32mIn[11], line 7\u001b[0m, in \u001b[0;36mcreate_features\u001b[0;34m(df)\u001b[0m\n\u001b[1;32m      5\u001b[0m     website_words \u001b[38;5;241m=\u001b[39m text\u001b[38;5;241m.\u001b[39msplit()\n\u001b[1;32m      6\u001b[0m     website_words \u001b[38;5;241m=\u001b[39m \u001b[38;5;28mlist\u001b[39m(\u001b[38;5;28mdict\u001b[39m\u001b[38;5;241m.\u001b[39mfromkeys(website_words))\n\u001b[0;32m----> 7\u001b[0m     features_local \u001b[38;5;241m=\u001b[39m [\u001b[38;5;241m1\u001b[39m \u001b[38;5;28;01mif\u001b[39;00m w \u001b[38;5;129;01min\u001b[39;00m website_words \u001b[38;5;28;01melse\u001b[39;00m \u001b[38;5;241m0\u001b[39m \u001b[38;5;28;01mfor\u001b[39;00m w \u001b[38;5;129;01min\u001b[39;00m bag_of_words]\n\u001b[1;32m      8\u001b[0m     df\u001b[38;5;241m.\u001b[39mat[idx, \u001b[38;5;124m'\u001b[39m\u001b[38;5;124mfeatures\u001b[39m\u001b[38;5;124m'\u001b[39m] \u001b[38;5;241m=\u001b[39m features_local\n\u001b[1;32m      9\u001b[0m \u001b[38;5;28;01mreturn\u001b[39;00m df\n",
      "Cell \u001b[0;32mIn[11], line 7\u001b[0m, in \u001b[0;36m<listcomp>\u001b[0;34m(.0)\u001b[0m\n\u001b[1;32m      5\u001b[0m     website_words \u001b[38;5;241m=\u001b[39m text\u001b[38;5;241m.\u001b[39msplit()\n\u001b[1;32m      6\u001b[0m     website_words \u001b[38;5;241m=\u001b[39m \u001b[38;5;28mlist\u001b[39m(\u001b[38;5;28mdict\u001b[39m\u001b[38;5;241m.\u001b[39mfromkeys(website_words))\n\u001b[0;32m----> 7\u001b[0m     features_local \u001b[38;5;241m=\u001b[39m [\u001b[38;5;241m1\u001b[39m \u001b[38;5;28;01mif\u001b[39;00m w \u001b[38;5;129;01min\u001b[39;00m website_words \u001b[38;5;28;01melse\u001b[39;00m \u001b[38;5;241m0\u001b[39m \u001b[38;5;28;01mfor\u001b[39;00m w \u001b[38;5;129;01min\u001b[39;00m bag_of_words]\n\u001b[1;32m      8\u001b[0m     df\u001b[38;5;241m.\u001b[39mat[idx, \u001b[38;5;124m'\u001b[39m\u001b[38;5;124mfeatures\u001b[39m\u001b[38;5;124m'\u001b[39m] \u001b[38;5;241m=\u001b[39m features_local\n\u001b[1;32m      9\u001b[0m \u001b[38;5;28;01mreturn\u001b[39;00m df\n",
      "\u001b[0;31mKeyboardInterrupt\u001b[0m: "
     ]
    }
   ],
   "source": [
    "def create_features(df):\n",
    "    df['features'] = None\n",
    "    for idx, row in tqdm(df.iterrows(), total=len(df), desc=\"Processing rows\"):\n",
    "        text = row['text']\n",
    "        website_words = text.split()\n",
    "        website_words = list(dict.fromkeys(website_words))\n",
    "        features_local = [1 if w in website_words else 0 for w in bag_of_words]\n",
    "        df.at[idx, 'features'] = features_local\n",
    "    return df\n",
    "train_df = create_features(train_df)\n",
    "test_df = create_features(test_df)\n",
    "train_df"
   ]
  },
  {
   "cell_type": "code",
   "execution_count": 16,
   "metadata": {},
   "outputs": [
    {
     "name": "stdout",
     "output_type": "stream",
     "text": [
      "Lin Accuracy: 90.34%\n",
      "POLY Accuracy: 70.72%\n"
     ]
    }
   ],
   "source": [
    "X_train = np.array(train_df['features'].tolist())\n",
    "y_train = np.array(train_df['label'].tolist())\n",
    "\n",
    "X_test = np.array(test_df['features'].tolist())\n",
    "y_test = np.array(test_df['label'].tolist())\n",
    "\n",
    "\n",
    "# Scale features\n",
    "scaler = StandardScaler()\n",
    "X_train = scaler.fit_transform(X_train)\n",
    "X_test = scaler.transform(X_test)\n",
    "\n",
    "# SVM regularization parameter\n",
    "C = 1.0\n",
    "\n",
    "# Create different SVM models\n",
    "svc = SVC(kernel='linear', C=C, probability=True).fit(X_train, y_train)\n",
    "poly_svc = SVC(kernel='poly', degree=3, C=C).fit(X_train, y_train)\n",
    "\n",
    "# Evaluate model\n",
    "accuracy_lin = svc.score(X_test, y_test)\n",
    "accuracy_poly = poly_svc.score(X_test, y_test)\n",
    "print(f\"Lin Accuracy: {accuracy_lin * 100:.2f}%\")\n",
    "print(f\"POLY Accuracy: {accuracy_poly * 100:.2f}%\")"
   ]
  },
  {
   "cell_type": "code",
   "execution_count": 19,
   "metadata": {},
   "outputs": [
    {
     "data": {
      "text/plain": [
       "['weights.joblib']"
      ]
     },
     "execution_count": 19,
     "metadata": {},
     "output_type": "execute_result"
    }
   ],
   "source": [
    "# save model weights\n",
    "dump(svc, 'weights.joblib')"
   ]
  },
  {
   "cell_type": "code",
   "execution_count": 345,
   "metadata": {},
   "outputs": [],
   "source": [
    "# for plot later\n",
    "pca = PCA(n_components=2)\n",
    "X_reduced = pca.fit_transform(X_test)\n",
    "\n",
    "y_pred_linear = svc.predict(X_test)\n",
    "y_pred_poly = poly_svc.predict(X_test)"
   ]
  },
  {
   "cell_type": "code",
   "execution_count": 346,
   "metadata": {},
   "outputs": [
    {
     "data": {
      "image/png": "[encoded data removed]",
      "text/plain": [
       "<Figure size 1500x1300 with 2 Axes>"
      ]
     },
     "metadata": {},
     "output_type": "display_data"
    }
   ],
   "source": [
    "def repaint_scatter(y):\n",
    "    for idx in range(len(y)):\n",
    "        if y[idx] == 1: # incorrect\n",
    "            y[idx] = -1\n",
    "        else: # correct\n",
    "            if y_train[idx] == 1: # casino\n",
    "                y[idx] = 0\n",
    "            else: # not casino\n",
    "                y[idx] = 1\n",
    "    return y\n",
    "    \n",
    "# Titles for the plots\n",
    "titles = ['SVC with linear kernel',\n",
    "          'SVC with polynomial (degree 3) kernel']\n",
    "\n",
    "# Set the figure size\n",
    "plt.figure(figsize=(15, 13))\n",
    "\n",
    "# Plotting the decision boundaries on the reduced dataset\n",
    "for i, clf in enumerate((svc, poly_svc)):\n",
    "    plt.subplot(2, 2, i + 1)\n",
    "    plt.subplots_adjust(wspace=0.2, hspace=0.4)\n",
    "\n",
    "    # # Apply PCA transformation to the meshgrid\n",
    "    # xx, yy = np.meshgrid(np.linspace(X_reduced[:, 0].min() - 1, X_reduced[:, 0].max() + 1, 50),\n",
    "    #                      np.linspace(X_reduced[:, 1].min() - 1, X_reduced[:, 1].max() + 1, 50))\n",
    "    # Z = clf.predict(pca.inverse_transform(np.c_[xx.ravel(), yy.ravel()]))\n",
    "    # Z = Z.reshape(xx.shape)\n",
    "\n",
    "    # # Contour plot\n",
    "    # plt.contourf(xx, yy, Z, cmap=plt.cm.brg, alpha=0.8)\n",
    "\n",
    "    # Scatter plot of the reduced data\n",
    "    y = None\n",
    "    if i == 0:\n",
    "        y = repaint_scatter(np.abs(y_test - y_pred_linear))\n",
    "    else:\n",
    "        y = repaint_scatter(np.abs(y_test - y_pred_poly))\n",
    "    \n",
    "    # green: correctly classified and normal website\n",
    "    # red: correctly classified and casino website\n",
    "    # blue: incorrectly classified\n",
    "    plt.scatter(X_reduced[:, 0], X_reduced[:, 1], c=y, cmap=plt.cm.brg)\n",
    "    plt.xlabel('PCA 1')\n",
    "    plt.ylabel('PCA 2')\n",
    "    plt.title(titles[i])\n",
    "\n",
    "plt.show()"
   ]
  },
  {
   "cell_type": "markdown",
   "metadata": {},
   "source": [
    "### Predict"
   ]
  },
  {
   "cell_type": "code",
   "execution_count": 15,
   "metadata": {},
   "outputs": [
    {
     "data": {
      "text/plain": [
       "'    Casino (video game) - Wikipedia                                    Jump to content        Main menu      Main menu move to sidebar hide    \\t\\tNavigation \\t   Main pageContentsCurrent eventsRandom articleAbout WikipediaContact usDonate      \\t\\tContribute \\t   HelpLearn to editCommunity portalRecent changesUpload file      Languages  Language links are at the top of the page.                    Search            Search                              Create account  Log in         Personal tools       Create account Log in      \\t\\tPages for logged out editors learn more    ContributionsTalk                             Contents move to sidebar hide     (Top)      1Gameplay        2Legacy        3References        4See also        5External links                  Toggle the table of contents        Casino (video game)    Add languages      Add links            ArticleTalk      English                  ReadEditView history        Tools      Tools move to sidebar hide    \\t\\tActions \\t   ReadEditView history      \\t\\tGeneral \\t   What links hereRelated changesUpload fileSpecial pagesPermanent linkPage informationCite this pageGet shortened URLWikidata item      \\t\\tPrint/export \\t   Download as PDFPrintable version                          From Wikipedia, the free encyclopedia   1978 video game This article is about the Atari 2600 video game. For the Apple II video game, see Casino (1982 video game). 1978 video gameCasinoGame coverDeveloper(s)Atari, Inc.Publisher(s)Atari, Inc.Designer(s)Bob Whitehead[1]Platform(s)Atari 2600Release1978Genre(s)GamblingMode(s)Single-player, multiplayer Casino is a collection of card games for the Atari Video Computer System  programmed by Bob Whitehead and published by Atari, Inc. in 1978.[1] Supporting up to four players, the game uses the paddle controllers.[2]   Gameplay[edit] A blackjack game in progress Displayed from an overhead perspective,[2] there are three card games to choose from: blackjack, five-card stud poker, and poker solitaire. Except for poker solitaire, each game always has the computer as the dealer, and bets are made by rotating the wheel on the controller and then pressing the button.[3] There are two different blackjack games: Game 1 allows for up to two players and hand splitting, and Game 2 allows for up to four players yet there is no hand splitting. There are variations in the game depending on the setting of the difficulty switches. If the left switch is set to \"A\", the computer will shuffle after 34 hands, and if set to \"B\", the computer will shuffle after every hand. If the right switch is set to \"A\", the dealer will stay (not draw anymore cards) after drawing a 17, and if set to \"B\", the computer will stay after drawing an 18 or better. Furthermore, the player will win if he draws the maximum number of cards; in Game 1, that is three or eight hits, and in Game 2, three hits.[3] Stud poker, which comprises Game 3, allows for up to four players. The computer, as the dealer, issues a card to each of the players and itself. Before the first card is dealt, and after each subsequent hand, until five cards have been dealt, each player must either make a bet or fold. If the left difficulty switch is set to \"A\", the dealer\\'s first card is dealt face down; otherwise, it is dealt face up; likewise for the right difficulty switch for each player.[3] Poker solitaire is different in that no bets are made and there is no dealer; rather, the goal is to arrange cards to create the best twelve poker hands in 25 cards, with five rows, five columns, and the two diagonals. Points are scored depending on the hands created, with a pair yielding 10 points and a royal flush yielding 500 points. The highest possible score is 3340 points.  Legacy[edit] The game was re-released in 2003 as part of the Atari - 80 Classic Games in One! collection for Microsoft Windows. It was also part of the 2004 Atari Anthology for the Xbox and PlayStation 2.  References[edit]   ^ a b Hague, James. \"The Giant List of Classic Game Programmers\".  ^ a b \"Casino (Atari)\". Atari Age. Archived from the original on 2007-12-17. Retrieved 2008-06-30.  ^ a b c \"Atari VCS Casino Manual\". archive.org.   See also[edit]  Video games portal List of Atari 2600 games Blackjack, another Atari 2600 card game External links[edit] Casino at Atari Mania     Retrieved from \"https://en.wikipedia.org/w/index.php?title=Casino_(video_game)&oldid=1141447081\" Categories: 1978 video gamesAtari 2600 gamesAtari 2600-only gamesBlackjack video gamesCasino video gamesPatience video gamesPoker video gamesVideo games developed in the United StatesHidden categories: Articles with short descriptionShort description matches WikidataArticles using Infobox video game using locally defined parametersArticles using Wikidata infoboxes with locally defined images        This page was last edited on 25 February 2023, at 03:19\\xa0(UTC). Text is available under the Creative Commons Attribution-ShareAlike License 4.0; additional terms may apply.  By using this site, you agree to the Terms of Use and Privacy Policy. Wikipedia® is a registered trademark of the Wikimedia Foundation, Inc., a non-profit organization.   Privacy policy About Wikipedia Disclaimers Contact Wikipedia Code of Conduct Developers Statistics Cookie statement Mobile view              Toggle limited content width        '"
      ]
     },
     "execution_count": 15,
     "metadata": {},
     "output_type": "execute_result"
    }
   ],
   "source": [
    "url = \"https://en.wikipedia.org/wiki/Casino_(video_game)\"\n",
    "\n",
    "response = requests.get(url, headers=headers)\n",
    "txt = \"\"\n",
    "if response.ok:\n",
    "    soup = BeautifulSoup(response.content, 'html.parser')\n",
    "    txt = soup.get_text().replace(\"\\n\", \" \")\n",
    "txt"
   ]
  },
  {
   "cell_type": "code",
   "execution_count": 16,
   "metadata": {},
   "outputs": [
    {
     "name": "stderr",
     "output_type": "stream",
     "text": [
      "Processing rows: 100%|██████████| 1/1 [00:00<00:00, 67.01it/s]\n"
     ]
    }
   ],
   "source": [
    "txt_clean = txt.lower()\n",
    "txt_clean = txt_clean.split()\n",
    "txt_clean = list(set(txt_clean))\n",
    "txt_clean = ' '.join(txt_clean)\n",
    "\n",
    "df_predict = pd.DataFrame([txt_clean], columns=['text'])\n",
    "\n",
    "bag_of_words = []\n",
    "with open('bag_of_words.txt', 'r') as file:\n",
    "    bag_of_words = file.readlines()\n",
    "bag_of_words = [word.strip() for word in bag_of_words]\n",
    "df_predict = create_features(df_predict)\n",
    "\n",
    "feature_vec = np.array(df_predict['features'].tolist())"
   ]
  },
  {
   "cell_type": "code",
   "execution_count": 17,
   "metadata": {},
   "outputs": [
    {
     "data": {
      "text/plain": [
       "(0, array([0.67212281, 0.32787719]))"
      ]
     },
     "execution_count": 17,
     "metadata": {},
     "output_type": "execute_result"
    }
   ],
   "source": [
    "svm = load('weights.joblib')\n",
    "\n",
    "label = svm.predict(feature_vec)\n",
    "prob = svm.predict_proba(feature_vec)\n",
    "label[0], prob[0]"
   ]
  }
 ],
 "metadata": {
  "kernelspec": {
   "display_name": "Python 3 (ipykernel)",
   "language": "python",
   "name": "python3"
  },
  "language_info": {
   "codemirror_mode": {
    "name": "ipython",
    "version": 3
   },
   "file_extension": ".py",
   "mimetype": "text/x-python",
   "name": "python",
   "nbconvert_exporter": "python",
   "pygments_lexer": "ipython3",
   "version": "3.10.12"
  }
 },
 "nbformat": 4,
 "nbformat_minor": 2
}
