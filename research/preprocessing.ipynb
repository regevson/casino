{
 "cells": [
  {
   "cell_type": "code",
   "execution_count": 15,
   "metadata": {},
   "outputs": [
    {
     "name": "stderr",
     "output_type": "stream",
     "text": [
      "Future exception was never retrieved\n",
      "future: <Future finished exception=TargetClosedError('Target page, context or browser has been closed')>\n",
      "playwright._impl._errors.TargetClosedError: Target page, context or browser has been closed\n",
      "Future exception was never retrieved\n",
      "future: <Future finished exception=TargetClosedError('Target page, context or browser has been closed')>\n",
      "playwright._impl._errors.TargetClosedError: Target page, context or browser has been closed\n",
      "[nltk_data] Downloading package stopwords to /root/nltk_data...\n",
      "[nltk_data]   Package stopwords is already up-to-date!\n",
      "[nltk_data] Downloading package words to /root/nltk_data...\n",
      "[nltk_data]   Package words is already up-to-date!\n"
     ]
    },
    {
     "data": {
      "text/plain": [
       "True"
      ]
     },
     "execution_count": 15,
     "metadata": {},
     "output_type": "execute_result"
    }
   ],
   "source": [
    "import numpy as np\n",
    "import pandas as pd\n",
    "import requests\n",
    "from bs4 import BeautifulSoup\n",
    "import re\n",
    "from tqdm import tqdm\n",
    "from playwright.async_api import async_playwright\n",
    "\n",
    "import nltk\n",
    "from nltk.corpus import stopwords\n",
    "from nltk.corpus import words as english_words\n",
    "nltk.download('stopwords')\n",
    "nltk.download('words')"
   ]
  },
  {
   "cell_type": "markdown",
   "metadata": {},
   "source": [
    "## Casino List\n",
    "- https://www.casinoslists.com/casinos/best\n",
    "- https://www.casinofreak.com/reviews/all-online-casinos\n",
    "- https://casinoalpha.com/online-casinos/list/page/2/\n",
    "- https://www.nonstopbonus.com/new-online-casinos\n",
    "- https://list.casino/\n",
    "- https://lcb.org/casinos"
   ]
  },
  {
   "cell_type": "code",
   "execution_count": 2,
   "metadata": {},
   "outputs": [],
   "source": [
    "headers = {\n",
    "    'User-Agent': 'Mozilla/5.0 (Windows NT 10.0; Win64; x64) AppleWebKit/537.36 (KHTML, like Gecko) Chrome/58.0.3029.110 Safari/537.3',\n",
    "    'Accept-Language': 'en-US,en;q=0.5'\n",
    "}"
   ]
  },
  {
   "cell_type": "raw",
   "metadata": {
    "vscode": {
     "languageId": "python"
    }
   },
   "source": [
    "# Scrape casino lists for urls\n",
    "idx = 0\n",
    "urls = []\n",
    "\n",
    "while True:\n",
    "    idx += 1\n",
    "    print(idx)\n",
    "    url = f\"https://lcb.org/partial/sites/list?&order[rating]=DESC&region=at&page={idx}&show_hidden=true\"\n",
    "    response = requests.get(url, headers=headers)\n",
    "    if not response.ok:\n",
    "        break\n",
    "\n",
    "    soup = BeautifulSoup(response.content, 'html.parser')\n",
    "    div_elements = soup.find_all('div', class_='table-cell logo casino')\n",
    "\n",
    "    for div in div_elements:\n",
    "        link = div.find('a')\n",
    "        if link:\n",
    "            print(\"appended\", link.get('href'))\n",
    "            urls.append(link.get('href'))\n",
    "\n",
    "print(urls)"
   ]
  },
  {
   "cell_type": "raw",
   "metadata": {
    "vscode": {
     "languageId": "python"
    }
   },
   "source": [
    "# remove duplicate urls and save them to file\n",
    "print(len(urls))\n",
    "urls = list(set(links))\n",
    "with open('data/urls.txt', 'w') as file:\n",
    "    for url in links:\n",
    "        file.write(url + '\\n')\n",
    "print(len(urls))"
   ]
  },
  {
   "cell_type": "raw",
   "metadata": {
    "vscode": {
     "languageId": "python"
    }
   },
   "source": [
    "# open urls from file\n",
    "return\n",
    "with open('data/urls_negatives.txt', 'r') as file:\n",
    "    urls = [line.strip() for line in file]"
   ]
  },
  {
   "cell_type": "raw",
   "metadata": {
    "vscode": {
     "languageId": "python"
    }
   },
   "source": [
    "# take urls and download website content\n",
    "\n",
    "return\n",
    "df = pd.DataFrame([], columns=['text'])\n",
    "dest_file_name = \"positives\"\n",
    "\n",
    "content = []\n",
    "idx = 0\n",
    "for url in tqdm(urls, desc=\"Processing urls\"):\n",
    "    try:\n",
    "        response = requests.get(\"http://\" + url, headers=headers)\n",
    "        if response.ok:\n",
    "            soup = BeautifulSoup(response.content, 'html.parser')\n",
    "            txt = soup.get_text().replace(\"\\n\", \"\")\n",
    "            if len(txt) > 50:\n",
    "                content.append(txt)\n",
    "                print(txt)\n",
    "                idx += 1\n",
    "                if idx % 30 == 0:\n",
    "                    df_new = pd.DataFrame(content, columns=['text'])\n",
    "                    df = pd.concat([df, df_new], ignore_index=True)\n",
    "                    df.to_csv(f'data/{dest_file_name}.csv', index=False)\n",
    "                    content = []\n",
    "                    idx = 0\n",
    "    except Exception as e:\n",
    "        print(f\"An error occurred: {str(e)}\")\n"
   ]
  },
  {
   "cell_type": "raw",
   "metadata": {},
   "source": [
    "with open('data/positives.csv', 'r') as file:\n",
    "    lines = file.readlines()\n",
    "\n",
    "# Apply changes to each line\n",
    "for i in range(len(lines)):\n",
    "    lines[i] = lines[i].replace('\\r', '')\n",
    "    lines[i] = lines[i].replace('\"', '')\n",
    "    lines[i] = re.sub(r' +', ' ', lines[i])\n",
    "    lines[i] = lines[i].strip(' ')\n",
    "    lines[i] = lines[i].replace(',', '')\n",
    "    lines[i] = lines[i].replace('\\n', '')\n",
    "    lines[i] = lines[i] + \"\\n\"\n",
    "\n",
    "with open('positives_clean.csv', 'w') as file:\n",
    "    file.writelines(lines)\n"
   ]
  },
  {
   "cell_type": "code",
   "execution_count": 3,
   "metadata": {},
   "outputs": [
    {
     "data": {
      "text/html": [
       "<div>\n",
       "<style scoped>\n",
       "    .dataframe tbody tr th:only-of-type {\n",
       "        vertical-align: middle;\n",
       "    }\n",
       "\n",
       "    .dataframe tbody tr th {\n",
       "        vertical-align: top;\n",
       "    }\n",
       "\n",
       "    .dataframe thead th {\n",
       "        text-align: right;\n",
       "    }\n",
       "</style>\n",
       "<table border=\"1\" class=\"dataframe\">\n",
       "  <thead>\n",
       "    <tr style=\"text-align: right;\">\n",
       "      <th></th>\n",
       "      <th>text</th>\n",
       "      <th>label</th>\n",
       "    </tr>\n",
       "  </thead>\n",
       "  <tbody>\n",
       "    <tr>\n",
       "      <th>0</th>\n",
       "      <td>SISportsbook | Sports Betting Odds | Bet $10 G...</td>\n",
       "      <td>1</td>\n",
       "    </tr>\n",
       "    <tr>\n",
       "      <th>1</th>\n",
       "      <td>Online Sportsbook | Bet Online | Online Sports...</td>\n",
       "      <td>1</td>\n",
       "    </tr>\n",
       "    <tr>\n",
       "      <th>2</th>\n",
       "      <td>FanDuel | Daily Fantasy Sports and Online U.S....</td>\n",
       "      <td>1</td>\n",
       "    </tr>\n",
       "    <tr>\n",
       "      <th>3</th>\n",
       "      <td>To view this video please enable JavaScript an...</td>\n",
       "      <td>1</td>\n",
       "    </tr>\n",
       "    <tr>\n",
       "      <th>4</th>\n",
       "      <td>web browser that</td>\n",
       "      <td>1</td>\n",
       "    </tr>\n",
       "    <tr>\n",
       "      <th>...</th>\n",
       "      <td>...</td>\n",
       "      <td>...</td>\n",
       "    </tr>\n",
       "    <tr>\n",
       "      <th>3417</th>\n",
       "      <td>Free Podcast Hosting - Buzzsprout Buzzsprout m...</td>\n",
       "      <td>0</td>\n",
       "    </tr>\n",
       "    <tr>\n",
       "      <th>3418</th>\n",
       "      <td>ORCID Please enable JavaScript to continue usi...</td>\n",
       "      <td>0</td>\n",
       "    </tr>\n",
       "    <tr>\n",
       "      <th>3419</th>\n",
       "      <td>Discover Top Blogs &amp; Best Websites in 2023 - F...</td>\n",
       "      <td>0</td>\n",
       "    </tr>\n",
       "    <tr>\n",
       "      <th>3420</th>\n",
       "      <td>Google AR &amp; VR | Home OverviewNews &amp; Announcem...</td>\n",
       "      <td>0</td>\n",
       "    </tr>\n",
       "    <tr>\n",
       "      <th>3421</th>\n",
       "      <td>Opinion - Opinionator - The New York Times Sec...</td>\n",
       "      <td>0</td>\n",
       "    </tr>\n",
       "  </tbody>\n",
       "</table>\n",
       "<p>3422 rows × 2 columns</p>\n",
       "</div>"
      ],
      "text/plain": [
       "                                                   text  label\n",
       "0     SISportsbook | Sports Betting Odds | Bet $10 G...      1\n",
       "1     Online Sportsbook | Bet Online | Online Sports...      1\n",
       "2     FanDuel | Daily Fantasy Sports and Online U.S....      1\n",
       "3     To view this video please enable JavaScript an...      1\n",
       "4                                      web browser that      1\n",
       "...                                                 ...    ...\n",
       "3417  Free Podcast Hosting - Buzzsprout Buzzsprout m...      0\n",
       "3418  ORCID Please enable JavaScript to continue usi...      0\n",
       "3419  Discover Top Blogs & Best Websites in 2023 - F...      0\n",
       "3420  Google AR & VR | Home OverviewNews & Announcem...      0\n",
       "3421  Opinion - Opinionator - The New York Times Sec...      0\n",
       "\n",
       "[3422 rows x 2 columns]"
      ]
     },
     "execution_count": 3,
     "metadata": {},
     "output_type": "execute_result"
    }
   ],
   "source": [
    "df_pos = pd.read_csv('data/positives_clean.csv', lineterminator='\\n')\n",
    "df_neg = pd.read_csv('data/negatives_clean.csv', lineterminator='\\n')\n",
    "\n",
    "df_pos['label'] = 1\n",
    "df_neg['label'] = 0\n",
    "\n",
    "df = pd.concat([df_pos, df_neg], ignore_index=True)\n",
    "df"
   ]
  },
  {
   "cell_type": "code",
   "execution_count": 4,
   "metadata": {},
   "outputs": [
    {
     "name": "stdout",
     "output_type": "stream",
     "text": [
      "len 3422\n",
      "len 1070\n"
     ]
    },
    {
     "data": {
      "text/html": [
       "<div>\n",
       "<style scoped>\n",
       "    .dataframe tbody tr th:only-of-type {\n",
       "        vertical-align: middle;\n",
       "    }\n",
       "\n",
       "    .dataframe tbody tr th {\n",
       "        vertical-align: top;\n",
       "    }\n",
       "\n",
       "    .dataframe thead th {\n",
       "        text-align: right;\n",
       "    }\n",
       "</style>\n",
       "<table border=\"1\" class=\"dataframe\">\n",
       "  <thead>\n",
       "    <tr style=\"text-align: right;\">\n",
       "      <th></th>\n",
       "      <th>text</th>\n",
       "      <th>label</th>\n",
       "    </tr>\n",
       "  </thead>\n",
       "  <tbody>\n",
       "    <tr>\n",
       "      <th>0</th>\n",
       "      <td>sisportsbook | sports betting odds | bet $10 g...</td>\n",
       "      <td>1</td>\n",
       "    </tr>\n",
       "    <tr>\n",
       "      <th>1</th>\n",
       "      <td>online sportsbook | bet online | online sports...</td>\n",
       "      <td>1</td>\n",
       "    </tr>\n",
       "    <tr>\n",
       "      <th>2</th>\n",
       "      <td>fanduel | daily fantasy sports and online u.s....</td>\n",
       "      <td>1</td>\n",
       "    </tr>\n",
       "    <tr>\n",
       "      <th>5</th>\n",
       "      <td>supports html5 videoskipnew customersbet $5 ge...</td>\n",
       "      <td>1</td>\n",
       "    </tr>\n",
       "    <tr>\n",
       "      <th>6</th>\n",
       "      <td>malta sunsetsign inbeginning on 22 january 202...</td>\n",
       "      <td>1</td>\n",
       "    </tr>\n",
       "    <tr>\n",
       "      <th>...</th>\n",
       "      <td>...</td>\n",
       "      <td>...</td>\n",
       "    </tr>\n",
       "    <tr>\n",
       "      <th>3416</th>\n",
       "      <td>online community for artists [pixiv] pixiv has...</td>\n",
       "      <td>0</td>\n",
       "    </tr>\n",
       "    <tr>\n",
       "      <th>3417</th>\n",
       "      <td>free podcast hosting - buzzsprout buzzsprout m...</td>\n",
       "      <td>0</td>\n",
       "    </tr>\n",
       "    <tr>\n",
       "      <th>3419</th>\n",
       "      <td>discover top blogs &amp; best websites in 2023 - f...</td>\n",
       "      <td>0</td>\n",
       "    </tr>\n",
       "    <tr>\n",
       "      <th>3420</th>\n",
       "      <td>google ar &amp; vr | home overviewnews &amp; announcem...</td>\n",
       "      <td>0</td>\n",
       "    </tr>\n",
       "    <tr>\n",
       "      <th>3421</th>\n",
       "      <td>opinion - opinionator - the new york times sec...</td>\n",
       "      <td>0</td>\n",
       "    </tr>\n",
       "  </tbody>\n",
       "</table>\n",
       "<p>1070 rows × 2 columns</p>\n",
       "</div>"
      ],
      "text/plain": [
       "                                                   text  label\n",
       "0     sisportsbook | sports betting odds | bet $10 g...      1\n",
       "1     online sportsbook | bet online | online sports...      1\n",
       "2     fanduel | daily fantasy sports and online u.s....      1\n",
       "5     supports html5 videoskipnew customersbet $5 ge...      1\n",
       "6     malta sunsetsign inbeginning on 22 january 202...      1\n",
       "...                                                 ...    ...\n",
       "3416  online community for artists [pixiv] pixiv has...      0\n",
       "3417  free podcast hosting - buzzsprout buzzsprout m...      0\n",
       "3419  discover top blogs & best websites in 2023 - f...      0\n",
       "3420  google ar & vr | home overviewnews & announcem...      0\n",
       "3421  opinion - opinionator - the new york times sec...      0\n",
       "\n",
       "[1070 rows x 2 columns]"
      ]
     },
     "execution_count": 4,
     "metadata": {},
     "output_type": "execute_result"
    }
   ],
   "source": [
    "print(\"len\", len(df))\n",
    "df['text'] = df['text'].apply(lambda x: x.lower())\n",
    "df.loc[:, 'word_count'] = df['text'].str.split().str.len()\n",
    "df = df[df['word_count'] >= 30]\n",
    "df = df.drop(columns=['word_count'])\n",
    "print(\"len\", len(df))\n",
    "df"
   ]
  },
  {
   "cell_type": "code",
   "execution_count": 7,
   "metadata": {},
   "outputs": [
    {
     "name": "stdout",
     "output_type": "stream",
     "text": [
      "Casino Blocker\n"
     ]
    }
   ],
   "source": [
    "from playwright.async_api import async_playwright\n",
    "import asyncio\n",
    "\n",
    "async def run():\n",
    "    async with async_playwright() as p:\n",
    "        browser = await p.chromium.launch()\n",
    "        page = await browser.new_page()\n",
    "        await page.goto('https://casino.regevson.com')\n",
    "        print(await page.title())\n",
    "        await browser.close()\n",
    "\n",
    "await run()"
   ]
  },
  {
   "cell_type": "code",
   "execution_count": 61,
   "metadata": {},
   "outputs": [
    {
     "name": "stderr",
     "output_type": "stream",
     "text": [
      "Fetching URLs:   0%|          | 2/868 [00:00<00:43, 19.84it/s]"
     ]
    },
    {
     "name": "stdout",
     "output_type": "stream",
     "text": [
      "Error fetching http://1288true.com: net::ERR_NAME_NOT_RESOLVED at http://1288true.com/\n",
      "Error fetching http://133fun.com: net::ERR_NAME_NOT_RESOLVED at http://133fun.com/\n",
      "Error fetching http://155fun.com: net::ERR_NAME_NOT_RESOLVED at http://155fun.com/\n",
      "Error fetching http://171fun.com: net::ERR_NAME_NOT_RESOLVED at http://171fun.com/\n"
     ]
    },
    {
     "name": "stderr",
     "output_type": "stream",
     "text": [
      "Fetching URLs:   1%|          | 7/868 [00:11<26:44,  1.86s/it]"
     ]
    },
    {
     "name": "stdout",
     "output_type": "stream",
     "text": [
      "Error fetching http://1planet7.com: net::ERR_NAME_NOT_RESOLVED at http://1planet7.com/\n"
     ]
    },
    {
     "name": "stderr",
     "output_type": "stream",
     "text": [
      "Fetching URLs:   1%|          | 9/868 [00:14<22:21,  1.56s/it]"
     ]
    },
    {
     "name": "stdout",
     "output_type": "stream",
     "text": [
      "Error fetching http://1trueblue.com: net::ERR_NAME_NOT_RESOLVED at http://1trueblue.com/\n"
     ]
    },
    {
     "name": "stderr",
     "output_type": "stream",
     "text": [
      "Fetching URLs:   1%|▏         | 12/868 [00:28<57:56,  4.06s/it]"
     ]
    },
    {
     "name": "stdout",
     "output_type": "stream",
     "text": [
      "Error fetching http://21dukes1.com: Timeout 10000ms exceeded.\n"
     ]
    },
    {
     "name": "stderr",
     "output_type": "stream",
     "text": [
      "Fetching URLs:   2%|▏         | 17/868 [00:40<56:48,  4.01s/it]"
     ]
    },
    {
     "name": "stdout",
     "output_type": "stream",
     "text": [
      "Error fetching http://24pokies.com: Timeout 10000ms exceeded.\n"
     ]
    },
    {
     "name": "stderr",
     "output_type": "stream",
     "text": [
      "Fetching URLs:   3%|▎         | 25/868 [00:41<05:27,  2.57it/s]"
     ]
    },
    {
     "name": "stdout",
     "output_type": "stream",
     "text": [
      "Error fetching http://271games.com: net::ERR_NAME_NOT_RESOLVED at http://271games.com/\n",
      "Error fetching http://2planet7.com: net::ERR_NAME_NOT_RESOLVED at http://2planet7.com/\n",
      "Error fetching http://2trueblue.com: net::ERR_NAME_NOT_RESOLVED at http://2trueblue.com/\n"
     ]
    },
    {
     "name": "stderr",
     "output_type": "stream",
     "text": [
      "Fetching URLs:   3%|▎         | 27/868 [00:47<17:43,  1.26s/it]Future exception was never retrieved\n",
      "future: <Future finished exception=TargetClosedError('Target page, context or browser has been closed')>\n",
      "playwright._impl._errors.TargetClosedError: Target page, context or browser has been closed\n",
      "Future exception was never retrieved\n",
      "future: <Future finished exception=TargetClosedError('Target page, context or browser has been closed')>\n",
      "playwright._impl._errors.TargetClosedError: Target page, context or browser has been closed\n",
      "Future exception was never retrieved\n",
      "future: <Future finished exception=TargetClosedError('Target page, context or browser has been closed')>\n",
      "playwright._impl._errors.TargetClosedError: Target page, context or browser has been closed\n",
      "Fetching URLs:   3%|▎         | 29/868 [00:55<29:43,  2.13s/it]"
     ]
    },
    {
     "name": "stdout",
     "output_type": "stream",
     "text": [
      "Error fetching http://444true.com: net::ERR_NAME_NOT_RESOLVED at http://444true.com/\n",
      "Error fetching http://475p7.com: net::ERR_NAME_NOT_RESOLVED at http://475p7.com/\n"
     ]
    },
    {
     "name": "stderr",
     "output_type": "stream",
     "text": [
      "Fetching URLs:   4%|▎         | 31/868 [01:05<45:31,  3.26s/it]"
     ]
    },
    {
     "name": "stdout",
     "output_type": "stream",
     "text": [
      "Error fetching http://4clockfortune.com: Timeout 10000ms exceeded.\n"
     ]
    },
    {
     "name": "stderr",
     "output_type": "stream",
     "text": [
      "Fetching URLs:   4%|▍         | 36/868 [01:18<29:12,  2.11s/it]  "
     ]
    },
    {
     "name": "stdout",
     "output_type": "stream",
     "text": [
      "Error fetching http://616fun.com: net::ERR_NAME_NOT_RESOLVED at http://616fun.com/\n",
      "Error fetching http://616true.com: net::ERR_NAME_NOT_RESOLVED at http://616true.com/\n",
      "Error fetching http://675go.com: net::ERR_NAME_NOT_RESOLVED at http://675go.com/\n"
     ]
    },
    {
     "name": "stderr",
     "output_type": "stream",
     "text": [
      "Fetching URLs:   4%|▍         | 39/868 [01:18<13:49,  1.00s/it]"
     ]
    },
    {
     "name": "stdout",
     "output_type": "stream",
     "text": [
      "Error fetching http://717fun.com: net::ERR_NAME_NOT_RESOLVED at http://717fun.com/\n",
      "Error fetching http://717true.com: net::ERR_NAME_NOT_RESOLVED at http://717true.com/\n"
     ]
    },
    {
     "name": "stderr",
     "output_type": "stream",
     "text": [
      "Fetching URLs:   5%|▌         | 44/868 [01:28<19:10,  1.40s/it]"
     ]
    },
    {
     "name": "stdout",
     "output_type": "stream",
     "text": [
      "Error fetching http://877play.com: net::ERR_NAME_NOT_RESOLVED at http://877play.com/\n",
      "Error fetching http://888true.com: net::ERR_NAME_NOT_RESOLVED at http://888true.com/\n"
     ]
    },
    {
     "name": "stderr",
     "output_type": "stream",
     "text": [
      "Fetching URLs:   5%|▌         | 45/868 [01:38<46:47,  3.41s/it]"
     ]
    },
    {
     "name": "stdout",
     "output_type": "stream",
     "text": [
      "Error fetching http://abalucky33.com: Timeout 10000ms exceeded.\n"
     ]
    },
    {
     "name": "stderr",
     "output_type": "stream",
     "text": [
      "Fetching URLs:   6%|▌         | 49/868 [02:00<59:51,  4.39s/it]  "
     ]
    },
    {
     "name": "stdout",
     "output_type": "stream",
     "text": [
      "Error fetching http://allspinswin.com: net::ERR_EMPTY_RESPONSE at http://allspinswin.com/\n",
      "Error fetching http://allspinswin248.com: net::ERR_NAME_NOT_RESOLVED at http://allspinswin248.com/\n"
     ]
    },
    {
     "name": "stderr",
     "output_type": "stream",
     "text": [
      "Fetching URLs:   6%|▌         | 51/868 [02:10<1:03:48,  4.69s/it]"
     ]
    },
    {
     "name": "stdout",
     "output_type": "stream",
     "text": [
      "Error fetching http://allspinswin263.com: Timeout 10000ms exceeded.\n"
     ]
    },
    {
     "name": "stderr",
     "output_type": "stream",
     "text": [
      "Fetching URLs:   6%|▌         | 54/868 [02:26<1:13:23,  5.41s/it]"
     ]
    },
    {
     "name": "stdout",
     "output_type": "stream",
     "text": [
      "Error fetching http://allspinswin308.com: Timeout 10000ms exceeded.\n"
     ]
    },
    {
     "name": "stderr",
     "output_type": "stream",
     "text": [
      "Fetching URLs:   6%|▋         | 55/868 [02:27<58:27,  4.31s/it]  "
     ]
    },
    {
     "name": "stdout",
     "output_type": "stream",
     "text": [
      "Error fetching http://allspinswin713.com: net::ERR_NAME_NOT_RESOLVED at http://allspinswin713.com/\n"
     ]
    },
    {
     "name": "stderr",
     "output_type": "stream",
     "text": [
      "Fetching URLs:   7%|▋         | 63/868 [02:33<13:23,  1.00it/s]"
     ]
    },
    {
     "name": "stdout",
     "output_type": "stream",
     "text": [
      "Error fetching http://arlekincasino1.com: net::ERR_NAME_NOT_RESOLVED at http://arlekincasino1.com/\n"
     ]
    },
    {
     "name": "stderr",
     "output_type": "stream",
     "text": [
      "Fetching URLs:   7%|▋         | 64/868 [02:34<13:41,  1.02s/it]"
     ]
    },
    {
     "name": "stdout",
     "output_type": "stream",
     "text": [
      "Error fetching http://arlekincasino2.com: net::ERR_NAME_NOT_RESOLVED at http://arlekincasino2.com/\n"
     ]
    },
    {
     "name": "stderr",
     "output_type": "stream",
     "text": [
      "Fetching URLs:   7%|▋         | 65/868 [02:35<14:04,  1.05s/it]"
     ]
    },
    {
     "name": "stdout",
     "output_type": "stream",
     "text": [
      "Error fetching http://arlekincasino3.com: net::ERR_NAME_NOT_RESOLVED at http://arlekincasino3.com/\n"
     ]
    },
    {
     "name": "stderr",
     "output_type": "stream",
     "text": [
      "Fetching URLs:   9%|▉         | 77/868 [02:53<18:01,  1.37s/it]"
     ]
    },
    {
     "name": "stdout",
     "output_type": "stream",
     "text": [
      "Error fetching http://aussieplay-online.com: net::ERR_NAME_NOT_RESOLVED at http://aussieplay-online.com/\n"
     ]
    },
    {
     "name": "stderr",
     "output_type": "stream",
     "text": [
      "Fetching URLs:  10%|▉         | 84/868 [03:12<39:09,  3.00s/it]"
     ]
    },
    {
     "name": "stdout",
     "output_type": "stream",
     "text": [
      "Error fetching http://australiangambling.ch: net::ERR_NAME_NOT_RESOLVED at http://australiangambling.ch/\n"
     ]
    },
    {
     "name": "stderr",
     "output_type": "stream",
     "text": [
      "Fetching URLs:  10%|█         | 91/868 [03:23<20:57,  1.62s/it]"
     ]
    },
    {
     "name": "stdout",
     "output_type": "stream",
     "text": [
      "Error fetching http://azurehand.com: net::ERR_NAME_NOT_RESOLVED at http://azurehand.com/\n"
     ]
    },
    {
     "name": "stderr",
     "output_type": "stream",
     "text": [
      "Fetching URLs:  15%|█▍        | 126/868 [05:07<1:08:25,  5.53s/it]"
     ]
    },
    {
     "name": "stdout",
     "output_type": "stream",
     "text": [
      "Error fetching http://bohocasino.com: Timeout 10000ms exceeded.\n"
     ]
    },
    {
     "name": "stderr",
     "output_type": "stream",
     "text": [
      "Fetching URLs:  15%|█▍        | 127/868 [05:17<1:25:07,  6.89s/it]"
     ]
    },
    {
     "name": "stdout",
     "output_type": "stream",
     "text": [
      "Error fetching http://bohocasino1.com: Timeout 10000ms exceeded.\n"
     ]
    },
    {
     "name": "stderr",
     "output_type": "stream",
     "text": [
      "Fetching URLs:  15%|█▌        | 134/868 [05:41<52:51,  4.32s/it]  "
     ]
    },
    {
     "name": "stdout",
     "output_type": "stream",
     "text": [
      "Error fetching http://bondibet-vip.com: Timeout 10000ms exceeded.\n"
     ]
    },
    {
     "name": "stderr",
     "output_type": "stream",
     "text": [
      "Fetching URLs:  16%|█▌        | 135/868 [05:44<46:52,  3.84s/it]"
     ]
    },
    {
     "name": "stdout",
     "output_type": "stream",
     "text": [
      "Error fetching http://bonzaspins.com: net::ERR_EMPTY_RESPONSE at http://bonzaspins.com/\n",
      "Error fetching http://bonzaspins221.com: net::ERR_NAME_NOT_RESOLVED at http://bonzaspins221.com/\n"
     ]
    },
    {
     "name": "stderr",
     "output_type": "stream",
     "text": [
      "Fetching URLs:  16%|█▌        | 138/868 [05:46<23:39,  1.94s/it]"
     ]
    },
    {
     "name": "stdout",
     "output_type": "stream",
     "text": [
      "Error fetching http://bonzaspins251.com: net::ERR_NAME_NOT_RESOLVED at http://bonzaspins251.com/\n",
      "Error fetching http://bonzaspins266.com: net::ERR_NAME_NOT_RESOLVED at http://bonzaspins266.com/\n"
     ]
    },
    {
     "name": "stderr",
     "output_type": "stream",
     "text": [
      "Fetching URLs:  16%|█▌        | 141/868 [05:48<16:35,  1.37s/it]"
     ]
    },
    {
     "name": "stdout",
     "output_type": "stream",
     "text": [
      "Error fetching http://bonzaspins33.com: net::ERR_NAME_NOT_RESOLVED at http://bonzaspins33.com/\n"
     ]
    },
    {
     "name": "stderr",
     "output_type": "stream",
     "text": [
      "Fetching URLs:  17%|█▋        | 144/868 [06:02<38:58,  3.23s/it]"
     ]
    },
    {
     "name": "stdout",
     "output_type": "stream",
     "text": [
      "Error fetching http://bo-vegas.club: net::ERR_NAME_NOT_RESOLVED at http://bo-vegas.club/\n"
     ]
    },
    {
     "name": "stderr",
     "output_type": "stream",
     "text": [
      "Fetching URLs:  17%|█▋        | 148/868 [06:03<16:58,  1.41s/it]"
     ]
    },
    {
     "name": "stdout",
     "output_type": "stream",
     "text": [
      "Error fetching http://bo-vegas.com: net::ERR_NAME_NOT_RESOLVED at http://bo-vegas.com/\n",
      "Error fetching http://bovegasvip.com: net::ERR_NAME_NOT_RESOLVED at http://bovegasvip.com/\n"
     ]
    },
    {
     "name": "stderr",
     "output_type": "stream",
     "text": [
      "Fetching URLs:  19%|█▊        | 162/868 [06:44<26:11,  2.23s/it]"
     ]
    },
    {
     "name": "stdout",
     "output_type": "stream",
     "text": [
      "Error fetching http://casinochan1.com: net::ERR_NAME_NOT_RESOLVED at http://casinochan1.com/\n"
     ]
    },
    {
     "name": "stderr",
     "output_type": "stream",
     "text": [
      "Fetching URLs:  19%|█▉        | 163/868 [06:46<24:15,  2.06s/it]"
     ]
    },
    {
     "name": "stdout",
     "output_type": "stream",
     "text": [
      "Error fetching http://casinochan2.com: net::ERR_NAME_NOT_RESOLVED at http://casinochan2.com/\n"
     ]
    },
    {
     "name": "stderr",
     "output_type": "stream",
     "text": [
      "Fetching URLs:  19%|█▉        | 164/868 [06:47<20:38,  1.76s/it]"
     ]
    },
    {
     "name": "stdout",
     "output_type": "stream",
     "text": [
      "Error fetching http://casinochan3.com: net::ERR_NAME_NOT_RESOLVED at http://casinochan3.com/\n"
     ]
    },
    {
     "name": "stderr",
     "output_type": "stream",
     "text": [
      "Fetching URLs:  19%|█▉        | 165/868 [06:48<17:57,  1.53s/it]"
     ]
    },
    {
     "name": "stdout",
     "output_type": "stream",
     "text": [
      "Error fetching http://casinochan4.com: net::ERR_NAME_NOT_RESOLVED at http://casinochan4.com/\n",
      "Error fetching http://casinodingo.com: net::ERR_NAME_NOT_RESOLVED at http://casinodingo.com/\n"
     ]
    },
    {
     "name": "stderr",
     "output_type": "stream",
     "text": [
      "Fetching URLs:  21%|██        | 184/868 [07:32<25:50,  2.27s/it]"
     ]
    },
    {
     "name": "stdout",
     "output_type": "stream",
     "text": [
      "Error fetching http://cherry-gold.club: net::ERR_NAME_NOT_RESOLVED at http://cherry-gold.club/\n"
     ]
    },
    {
     "name": "stderr",
     "output_type": "stream",
     "text": [
      "Fetching URLs:  21%|██▏       | 186/868 [07:33<17:02,  1.50s/it]"
     ]
    },
    {
     "name": "stdout",
     "output_type": "stream",
     "text": [
      "Error fetching http://cherrygoldclub.com: net::ERR_NAME_NOT_RESOLVED at http://cherrygoldclub.com/\n"
     ]
    },
    {
     "name": "stderr",
     "output_type": "stream",
     "text": [
      "Fetching URLs:  22%|██▏       | 188/868 [07:43<32:59,  2.91s/it]"
     ]
    },
    {
     "name": "stdout",
     "output_type": "stream",
     "text": [
      "Error fetching http://cleopatracasino.com: Timeout 10000ms exceeded.\n"
     ]
    },
    {
     "name": "stderr",
     "output_type": "stream",
     "text": [
      "Fetching URLs:  22%|██▏       | 191/868 [07:49<25:42,  2.28s/it]"
     ]
    },
    {
     "name": "stdout",
     "output_type": "stream",
     "text": [
      "Error fetching http://clubrbc.com: net::ERR_NAME_NOT_RESOLVED at http://clubrbc.com/\n"
     ]
    },
    {
     "name": "stderr",
     "output_type": "stream",
     "text": [
      "Fetching URLs:  22%|██▏       | 192/868 [07:59<49:02,  4.35s/it]"
     ]
    },
    {
     "name": "stdout",
     "output_type": "stream",
     "text": [
      "Error fetching http://cobracasino.com: Timeout 10000ms exceeded.\n"
     ]
    },
    {
     "name": "stderr",
     "output_type": "stream",
     "text": [
      "Fetching URLs:  22%|██▏       | 193/868 [08:01<41:10,  3.66s/it]"
     ]
    },
    {
     "name": "stdout",
     "output_type": "stream",
     "text": [
      "Error fetching http://cometroom.com: net::ERR_NAME_NOT_RESOLVED at http://cometroom.com/\n"
     ]
    },
    {
     "name": "stderr",
     "output_type": "stream",
     "text": [
      "Fetching URLs:  23%|██▎       | 202/868 [08:18<16:46,  1.51s/it]"
     ]
    },
    {
     "name": "stdout",
     "output_type": "stream",
     "text": [
      "Error fetching http://dingoo-casinoo.net: net::ERR_NAME_NOT_RESOLVED at http://dingoo-casinoo.net/\n",
      "Error fetching http://dinkumpokies.com: net::ERR_NAME_NOT_RESOLVED at http://dinkumpokies.com/\n"
     ]
    },
    {
     "name": "stderr",
     "output_type": "stream",
     "text": [
      "Fetching URLs:  25%|██▍       | 213/868 [08:53<57:44,  5.29s/it]"
     ]
    },
    {
     "name": "stdout",
     "output_type": "stream",
     "text": [
      "Error fetching http://fairgoaussie.com: Timeout 10000ms exceeded.\n"
     ]
    },
    {
     "name": "stderr",
     "output_type": "stream",
     "text": [
      "Fetching URLs:  26%|██▌       | 225/868 [09:30<49:55,  4.66s/it]"
     ]
    },
    {
     "name": "stdout",
     "output_type": "stream",
     "text": [
      "Error fetching http://fairgoonline.com: Timeout 10000ms exceeded.\n"
     ]
    },
    {
     "name": "stderr",
     "output_type": "stream",
     "text": [
      "Fetching URLs:  26%|██▋       | 230/868 [09:41<24:39,  2.32s/it]"
     ]
    },
    {
     "name": "stdout",
     "output_type": "stream",
     "text": [
      "Error fetching http://fastpay-casino42.com: net::ERR_NAME_NOT_RESOLVED at http://fastpay-casino42.com/\n"
     ]
    },
    {
     "name": "stderr",
     "output_type": "stream",
     "text": [
      "Fetching URLs:  27%|██▋       | 231/868 [09:42<20:32,  1.93s/it]"
     ]
    },
    {
     "name": "stdout",
     "output_type": "stream",
     "text": [
      "Error fetching http://fastpay-casino44.com: net::ERR_NAME_NOT_RESOLVED at http://fastpay-casino44.com/\n"
     ]
    },
    {
     "name": "stderr",
     "output_type": "stream",
     "text": [
      "Fetching URLs:  27%|██▋       | 232/868 [09:43<17:15,  1.63s/it]"
     ]
    },
    {
     "name": "stdout",
     "output_type": "stream",
     "text": [
      "Error fetching http://fastpay-casino45.com: net::ERR_NAME_NOT_RESOLVED at http://fastpay-casino45.com/\n"
     ]
    },
    {
     "name": "stderr",
     "output_type": "stream",
     "text": [
      "Fetching URLs:  27%|██▋       | 233/868 [09:43<14:51,  1.40s/it]"
     ]
    },
    {
     "name": "stdout",
     "output_type": "stream",
     "text": [
      "Error fetching http://fastpay-casino48.com: net::ERR_NAME_NOT_RESOLVED at http://fastpay-casino48.com/\n"
     ]
    },
    {
     "name": "stderr",
     "output_type": "stream",
     "text": [
      "Fetching URLs:  27%|██▋       | 235/868 [09:55<41:33,  3.94s/it]"
     ]
    },
    {
     "name": "stdout",
     "output_type": "stream",
     "text": [
      "Error fetching http://fightclub5.com: Timeout 10000ms exceeded.\n"
     ]
    },
    {
     "name": "stderr",
     "output_type": "stream",
     "text": [
      "Fetching URLs:  27%|██▋       | 236/868 [10:05<1:00:46,  5.77s/it]"
     ]
    },
    {
     "name": "stdout",
     "output_type": "stream",
     "text": [
      "Error fetching http://fight-clubcasino.com: Timeout 10000ms exceeded.\n"
     ]
    },
    {
     "name": "stderr",
     "output_type": "stream",
     "text": [
      "Fetching URLs:  27%|██▋       | 237/868 [10:07<50:05,  4.76s/it]  "
     ]
    },
    {
     "name": "stdout",
     "output_type": "stream",
     "text": [
      "Error fetching http://fortuneclock.com: net::ERR_NAME_NOT_RESOLVED at http://fortuneclock.com/\n"
     ]
    },
    {
     "name": "stderr",
     "output_type": "stream",
     "text": [
      "Fetching URLs:  28%|██▊       | 239/868 [10:17<51:18,  4.89s/it]"
     ]
    },
    {
     "name": "stdout",
     "output_type": "stream",
     "text": [
      "Error fetching http://free-spin.club: Timeout 10000ms exceeded.\n"
     ]
    },
    {
     "name": "stderr",
     "output_type": "stream",
     "text": [
      "Fetching URLs:  28%|██▊       | 240/868 [10:19<42:18,  4.04s/it]"
     ]
    },
    {
     "name": "stdout",
     "output_type": "stream",
     "text": [
      "Error fetching http://free-spin.vip: net::ERR_NAME_NOT_RESOLVED at http://free-spin.vip/\n"
     ]
    },
    {
     "name": "stderr",
     "output_type": "stream",
     "text": [
      "Fetching URLs:  28%|██▊       | 244/868 [10:25<26:38,  2.56s/it]"
     ]
    },
    {
     "name": "stdout",
     "output_type": "stream",
     "text": [
      "Error fetching http://gametrueblue.com: net::ERR_NAME_NOT_RESOLVED at http://gametrueblue.com/\n"
     ]
    },
    {
     "name": "stderr",
     "output_type": "stream",
     "text": [
      "Fetching URLs:  28%|██▊       | 247/868 [10:29<19:54,  1.92s/it]"
     ]
    },
    {
     "name": "stdout",
     "output_type": "stream",
     "text": [
      "Error fetching http://getslotcasino2.com: net::ERR_NAME_NOT_RESOLVED at http://getslotcasino2.com/\n"
     ]
    },
    {
     "name": "stderr",
     "output_type": "stream",
     "text": [
      "Fetching URLs:  29%|██▊       | 248/868 [10:30<17:56,  1.74s/it]"
     ]
    },
    {
     "name": "stdout",
     "output_type": "stream",
     "text": [
      "Error fetching http://getslotcasino4.com: net::ERR_NAME_NOT_RESOLVED at http://getslotcasino4.com/\n"
     ]
    },
    {
     "name": "stderr",
     "output_type": "stream",
     "text": [
      "Fetching URLs:  29%|██▉       | 251/868 [10:34<13:55,  1.35s/it]"
     ]
    },
    {
     "name": "stdout",
     "output_type": "stream",
     "text": [
      "Error fetching http://globaltrueblue.com: net::ERR_NAME_NOT_RESOLVED at http://globaltrueblue.com/\n"
     ]
    },
    {
     "name": "stderr",
     "output_type": "stream",
     "text": [
      "Fetching URLs:  31%|███       | 266/868 [11:41<36:05,  3.60s/it]  "
     ]
    },
    {
     "name": "stdout",
     "output_type": "stream",
     "text": [
      "Error fetching http://goldenpokies.com: net::ERR_EMPTY_RESPONSE at http://goldenpokies.com/\n"
     ]
    },
    {
     "name": "stderr",
     "output_type": "stream",
     "text": [
      "Fetching URLs:  31%|███       | 267/868 [11:51<55:22,  5.53s/it]"
     ]
    },
    {
     "name": "stdout",
     "output_type": "stream",
     "text": [
      "Error fetching http://goldenpokies266.com: Timeout 10000ms exceeded.\n"
     ]
    },
    {
     "name": "stderr",
     "output_type": "stream",
     "text": [
      "Fetching URLs:  31%|███       | 268/868 [12:02<1:08:49,  6.88s/it]"
     ]
    },
    {
     "name": "stdout",
     "output_type": "stream",
     "text": [
      "Error fetching http://goldenpokies33.com: Timeout 10000ms exceeded.\n"
     ]
    },
    {
     "name": "stderr",
     "output_type": "stream",
     "text": [
      "Fetching URLs:  31%|███       | 270/868 [12:12<54:57,  5.51s/it]  "
     ]
    },
    {
     "name": "stdout",
     "output_type": "stream",
     "text": [
      "Error fetching http://goldenpokies531.com: Timeout 10000ms exceeded.\n",
      "Error fetching http://goldenpokies535.com: net::ERR_NAME_NOT_RESOLVED at http://goldenpokies535.com/\n",
      "Error fetching http://goldenpokies54.com: net::ERR_NAME_NOT_RESOLVED at http://goldenpokies54.com/\n"
     ]
    },
    {
     "name": "stderr",
     "output_type": "stream",
     "text": [
      "Fetching URLs:  32%|███▏      | 280/868 [12:24<18:14,  1.86s/it]"
     ]
    },
    {
     "name": "stdout",
     "output_type": "stream",
     "text": [
      "Error fetching http://gomontecryptos1.com: net::ERR_NAME_NOT_RESOLVED at http://gomontecryptos1.com/\n"
     ]
    },
    {
     "name": "stderr",
     "output_type": "stream",
     "text": [
      "Fetching URLs:  32%|███▏      | 281/868 [12:26<17:03,  1.74s/it]"
     ]
    },
    {
     "name": "stdout",
     "output_type": "stream",
     "text": [
      "Error fetching http://gomontecryptos2.com: net::ERR_NAME_NOT_RESOLVED at http://gomontecryptos2.com/\n"
     ]
    },
    {
     "name": "stderr",
     "output_type": "stream",
     "text": [
      "Fetching URLs:  33%|███▎      | 288/868 [12:36<12:42,  1.31s/it]"
     ]
    },
    {
     "name": "stdout",
     "output_type": "stream",
     "text": [
      "Error fetching http://grandfortunecasino.com: net::ERR_NAME_NOT_RESOLVED at http://grandfortunecasino.com/\n"
     ]
    },
    {
     "name": "stderr",
     "output_type": "stream",
     "text": [
      "Fetching URLs:  34%|███▍      | 297/868 [12:47<07:09,  1.33it/s]"
     ]
    },
    {
     "name": "stdout",
     "output_type": "stream",
     "text": [
      "Error fetching http://gunsbet.com: net::ERR_ABORTED at http://gunsbet.com/\n"
     ]
    },
    {
     "name": "stderr",
     "output_type": "stream",
     "text": [
      "Fetching URLs:  34%|███▍      | 298/868 [12:50<13:44,  1.45s/it]"
     ]
    },
    {
     "name": "stdout",
     "output_type": "stream",
     "text": [
      "Error fetching http://gwcasino.com: net::ERR_EMPTY_RESPONSE at http://gwcasino.com/\n"
     ]
    },
    {
     "name": "stderr",
     "output_type": "stream",
     "text": [
      "Fetching URLs:  34%|███▍      | 299/868 [12:50<11:01,  1.16s/it]"
     ]
    },
    {
     "name": "stdout",
     "output_type": "stream",
     "text": [
      "Error fetching http://gwcasino280.com: net::ERR_NAME_NOT_RESOLVED at http://gwcasino280.com/\n"
     ]
    },
    {
     "name": "stderr",
     "output_type": "stream",
     "text": [
      "Fetching URLs:  35%|███▍      | 301/868 [12:55<15:18,  1.62s/it]"
     ]
    },
    {
     "name": "stdout",
     "output_type": "stream",
     "text": [
      "Error fetching http://gwcasino310.com: net::ERR_EMPTY_RESPONSE at http://gwcasino310.com/\n"
     ]
    },
    {
     "name": "stderr",
     "output_type": "stream",
     "text": [
      "Fetching URLs:  35%|███▍      | 302/868 [12:56<15:32,  1.65s/it]"
     ]
    },
    {
     "name": "stdout",
     "output_type": "stream",
     "text": [
      "Error fetching http://gwcasino325.com: net::ERR_EMPTY_RESPONSE at http://gwcasino325.com/\n"
     ]
    },
    {
     "name": "stderr",
     "output_type": "stream",
     "text": [
      "Fetching URLs:  35%|███▍      | 303/868 [12:58<15:36,  1.66s/it]"
     ]
    },
    {
     "name": "stdout",
     "output_type": "stream",
     "text": [
      "Error fetching http://gwcasino423.com: net::ERR_EMPTY_RESPONSE at http://gwcasino423.com/\n"
     ]
    },
    {
     "name": "stderr",
     "output_type": "stream",
     "text": [
      "Fetching URLs:  38%|███▊      | 327/868 [14:09<25:39,  2.84s/it]"
     ]
    },
    {
     "name": "stdout",
     "output_type": "stream",
     "text": [
      "Error fetching http://houseofpokies.com: net::ERR_EMPTY_RESPONSE at http://houseofpokies.com/\n"
     ]
    },
    {
     "name": "stderr",
     "output_type": "stream",
     "text": [
      "Fetching URLs:  38%|███▊      | 328/868 [14:09<19:24,  2.16s/it]"
     ]
    },
    {
     "name": "stdout",
     "output_type": "stream",
     "text": [
      "Error fetching http://houseofpokies117.com: net::ERR_NAME_NOT_RESOLVED at http://houseofpokies117.com/\n"
     ]
    },
    {
     "name": "stderr",
     "output_type": "stream",
     "text": [
      "Fetching URLs:  38%|███▊      | 329/868 [14:12<19:20,  2.15s/it]"
     ]
    },
    {
     "name": "stdout",
     "output_type": "stream",
     "text": [
      "Error fetching http://houseofpokies266.com: net::ERR_EMPTY_RESPONSE at http://houseofpokies266.com/\n"
     ]
    },
    {
     "name": "stderr",
     "output_type": "stream",
     "text": [
      "Fetching URLs:  38%|███▊      | 330/868 [14:22<40:31,  4.52s/it]"
     ]
    },
    {
     "name": "stdout",
     "output_type": "stream",
     "text": [
      "Error fetching http://houseofpokies279.com: Timeout 10000ms exceeded.\n",
      "Error fetching http://houseofpokies379.com: net::ERR_NAME_NOT_RESOLVED at http://houseofpokies379.com/\n"
     ]
    },
    {
     "name": "stderr",
     "output_type": "stream",
     "text": [
      "Fetching URLs:  38%|███▊      | 332/868 [14:32<42:34,  4.77s/it]"
     ]
    },
    {
     "name": "stdout",
     "output_type": "stream",
     "text": [
      "Error fetching http://ignition165.com: Timeout 10000ms exceeded.\n"
     ]
    },
    {
     "name": "stderr",
     "output_type": "stream",
     "text": [
      "Fetching URLs:  38%|███▊      | 333/868 [14:42<54:10,  6.08s/it]"
     ]
    },
    {
     "name": "stdout",
     "output_type": "stream",
     "text": [
      "Error fetching http://ignitioncasino.buzz: Timeout 10000ms exceeded.\n"
     ]
    },
    {
     "name": "stderr",
     "output_type": "stream",
     "text": [
      "Fetching URLs:  39%|███▉      | 338/868 [15:12<1:04:11,  7.27s/it]"
     ]
    },
    {
     "name": "stdout",
     "output_type": "stream",
     "text": [
      "Error fetching http://ignitioncasino.org.lv: Timeout 10000ms exceeded.\n"
     ]
    },
    {
     "name": "stderr",
     "output_type": "stream",
     "text": [
      "Fetching URLs:  39%|███▉      | 339/868 [15:22<1:11:15,  8.08s/it]"
     ]
    },
    {
     "name": "stdout",
     "output_type": "stream",
     "text": [
      "Error fetching http://ignitionpoker.eu: Timeout 10000ms exceeded.\n"
     ]
    },
    {
     "name": "stderr",
     "output_type": "stream",
     "text": [
      "Fetching URLs:  39%|███▉      | 340/868 [15:32<1:16:12,  8.66s/it]"
     ]
    },
    {
     "name": "stdout",
     "output_type": "stream",
     "text": [
      "Error fetching http://ignitionpoker.net.lv: Timeout 10000ms exceeded.\n"
     ]
    },
    {
     "name": "stderr",
     "output_type": "stream",
     "text": [
      "Fetching URLs:  40%|███▉      | 343/868 [15:43<53:36,  6.13s/it]  "
     ]
    },
    {
     "name": "stdout",
     "output_type": "stream",
     "text": [
      "Error fetching http://jackpotjill.com: Timeout 10000ms exceeded.\n"
     ]
    },
    {
     "name": "stderr",
     "output_type": "stream",
     "text": [
      "Fetching URLs:  41%|████      | 352/868 [16:17<40:18,  4.69s/it]"
     ]
    },
    {
     "name": "stdout",
     "output_type": "stream",
     "text": [
      "Error fetching http://joefortune.com: Timeout 10000ms exceeded.\n"
     ]
    },
    {
     "name": "stderr",
     "output_type": "stream",
     "text": [
      "Fetching URLs:  41%|████      | 357/868 [16:52<58:55,  6.92s/it]"
     ]
    },
    {
     "name": "stdout",
     "output_type": "stream",
     "text": [
      "Error fetching http://joefortune.net: Timeout 10000ms exceeded.\n"
     ]
    },
    {
     "name": "stderr",
     "output_type": "stream",
     "text": [
      "Fetching URLs:  41%|████▏     | 359/868 [17:11<1:10:48,  8.35s/it]"
     ]
    },
    {
     "name": "stdout",
     "output_type": "stream",
     "text": [
      "Error fetching http://joefortuneonlinepokies.net: Timeout 10000ms exceeded.\n"
     ]
    },
    {
     "name": "stderr",
     "output_type": "stream",
     "text": [
      "Fetching URLs:  42%|████▏     | 361/868 [17:31<1:18:44,  9.32s/it]"
     ]
    },
    {
     "name": "stdout",
     "output_type": "stream",
     "text": [
      "Error fetching http://joefortunepokies.eu: Timeout 10000ms exceeded.\n"
     ]
    },
    {
     "name": "stderr",
     "output_type": "stream",
     "text": [
      "Fetching URLs:  42%|████▏     | 362/868 [17:42<1:20:25,  9.54s/it]"
     ]
    },
    {
     "name": "stdout",
     "output_type": "stream",
     "text": [
      "Error fetching http://joefortunepokies.net: Timeout 10000ms exceeded.\n"
     ]
    },
    {
     "name": "stderr",
     "output_type": "stream",
     "text": [
      "Fetching URLs:  44%|████▎     | 379/868 [18:16<23:19,  2.86s/it]  "
     ]
    },
    {
     "name": "stdout",
     "output_type": "stream",
     "text": [
      "Error fetching http://joocasino4.com: net::ERR_NAME_NOT_RESOLVED at http://joocasino4.com/\n"
     ]
    },
    {
     "name": "stderr",
     "output_type": "stream",
     "text": [
      "Fetching URLs:  44%|████▍     | 384/868 [18:35<21:54,  2.72s/it]"
     ]
    },
    {
     "name": "stdout",
     "output_type": "stream",
     "text": [
      "Error fetching http://justrbc.com: net::ERR_NAME_NOT_RESOLVED at http://justrbc.com/\n"
     ]
    },
    {
     "name": "stderr",
     "output_type": "stream",
     "text": [
      "Fetching URLs:  44%|████▍     | 385/868 [18:36<18:36,  2.31s/it]"
     ]
    },
    {
     "name": "stdout",
     "output_type": "stream",
     "text": [
      "Error fetching http://kahuna777.com: net::ERR_NAME_NOT_RESOLVED at http://kahuna777.com/\n"
     ]
    },
    {
     "name": "stderr",
     "output_type": "stream",
     "text": [
      "Fetching URLs:  45%|████▍     | 387/868 [18:43<21:20,  2.66s/it]"
     ]
    },
    {
     "name": "stdout",
     "output_type": "stream",
     "text": [
      "Error fetching http://kahunacasino.net: net::ERR_NAME_NOT_RESOLVED at http://kahunacasino.net/\n"
     ]
    },
    {
     "name": "stderr",
     "output_type": "stream",
     "text": [
      "Fetching URLs:  45%|████▍     | 388/868 [18:45<18:44,  2.34s/it]"
     ]
    },
    {
     "name": "stdout",
     "output_type": "stream",
     "text": [
      "Error fetching http://kahunacasino777.com: net::ERR_NAME_NOT_RESOLVED at http://kahunacasino777.com/\n"
     ]
    },
    {
     "name": "stderr",
     "output_type": "stream",
     "text": [
      "Fetching URLs:  45%|████▌     | 392/868 [18:57<27:34,  3.48s/it]"
     ]
    },
    {
     "name": "stdout",
     "output_type": "stream",
     "text": [
      "Error fetching http://kimvegas.com: net::ERR_NAME_NOT_RESOLVED at http://kimvegas.com/\n"
     ]
    },
    {
     "name": "stderr",
     "output_type": "stream",
     "text": [
      "Fetching URLs:  45%|████▌     | 394/868 [19:16<51:33,  6.53s/it]"
     ]
    },
    {
     "name": "stdout",
     "output_type": "stream",
     "text": [
      "Error fetching http://kingbillycasino12.com: Timeout 10000ms exceeded.\n"
     ]
    },
    {
     "name": "stderr",
     "output_type": "stream",
     "text": [
      "Fetching URLs:  46%|████▌     | 400/868 [19:53<52:04,  6.68s/it]"
     ]
    },
    {
     "name": "stdout",
     "output_type": "stream",
     "text": [
      "Error fetching http://kingbillywin7.com: Timeout 10000ms exceeded.\n"
     ]
    },
    {
     "name": "stderr",
     "output_type": "stream",
     "text": [
      "Fetching URLs:  47%|████▋     | 406/868 [20:18<30:42,  3.99s/it]"
     ]
    },
    {
     "name": "stdout",
     "output_type": "stream",
     "text": [
      "Error fetching http://koalaroyal.com: net::ERR_CERT_COMMON_NAME_INVALID at http://koalaroyal.com/\n"
     ]
    },
    {
     "name": "stderr",
     "output_type": "stream",
     "text": [
      "Fetching URLs:  47%|████▋     | 407/868 [20:28<44:35,  5.80s/it]"
     ]
    },
    {
     "name": "stdout",
     "output_type": "stream",
     "text": [
      "Error fetching http://koalasfairgo.com: Timeout 10000ms exceeded.\n"
     ]
    },
    {
     "name": "stderr",
     "output_type": "stream",
     "text": [
      "Fetching URLs:  47%|████▋     | 409/868 [20:39<39:51,  5.21s/it]"
     ]
    },
    {
     "name": "stdout",
     "output_type": "stream",
     "text": [
      "Error fetching http://ladyhammercasino.com: net::ERR_NAME_NOT_RESOLVED at http://ladyhammercasino.com/\n"
     ]
    },
    {
     "name": "stderr",
     "output_type": "stream",
     "text": [
      "Fetching URLs:  48%|████▊     | 413/868 [20:58<45:04,  5.94s/it]"
     ]
    },
    {
     "name": "stdout",
     "output_type": "stream",
     "text": [
      "Error fetching http://letslucky.com: Timeout 10000ms exceeded.\n"
     ]
    },
    {
     "name": "stderr",
     "output_type": "stream",
     "text": [
      "Fetching URLs:  49%|████▊     | 423/868 [21:44<38:04,  5.13s/it]"
     ]
    },
    {
     "name": "stdout",
     "output_type": "stream",
     "text": [
      "Error fetching http://liveragingbull.com: net::ERR_NAME_NOT_RESOLVED at http://liveragingbull.com/\n"
     ]
    },
    {
     "name": "stderr",
     "output_type": "stream",
     "text": [
      "Fetching URLs:  50%|████▉     | 430/868 [22:04<33:26,  4.58s/it]"
     ]
    },
    {
     "name": "stdout",
     "output_type": "stream",
     "text": [
      "Error fetching http://luckyelfcasino.com: Timeout 10000ms exceeded.\n"
     ]
    },
    {
     "name": "stderr",
     "output_type": "stream",
     "text": [
      "Fetching URLs:  51%|█████     | 442/868 [22:36<16:33,  2.33s/it]"
     ]
    },
    {
     "name": "stdout",
     "output_type": "stream",
     "text": [
      "Error fetching http://n1bet2.com: net::ERR_ABORTED at http://n1bet2.com/\n"
     ]
    },
    {
     "name": "stderr",
     "output_type": "stream",
     "text": [
      "Fetching URLs:  53%|█████▎    | 459/868 [22:56<08:02,  1.18s/it]"
     ]
    },
    {
     "name": "stdout",
     "output_type": "stream",
     "text": [
      "Error fetching http://newplanet7.com: net::ERR_NAME_NOT_RESOLVED at http://newplanet7.com/\n",
      "Error fetching http://newtrueblue.com: net::ERR_NAME_NOT_RESOLVED at http://newtrueblue.com/\n"
     ]
    },
    {
     "name": "stderr",
     "output_type": "stream",
     "text": [
      "Fetching URLs:  53%|█████▎    | 462/868 [23:05<15:55,  2.35s/it]"
     ]
    },
    {
     "name": "stdout",
     "output_type": "stream",
     "text": [
      "Error fetching http://ninjaspins.com: net::ERR_EMPTY_RESPONSE at http://ninjaspins.com/\n"
     ]
    },
    {
     "name": "stderr",
     "output_type": "stream",
     "text": [
      "Fetching URLs:  53%|█████▎    | 464/868 [23:10<16:36,  2.47s/it]"
     ]
    },
    {
     "name": "stdout",
     "output_type": "stream",
     "text": [
      "Error fetching http://nodepositkings.com: net::ERR_EMPTY_RESPONSE at http://nodepositkings.com/\n"
     ]
    },
    {
     "name": "stderr",
     "output_type": "stream",
     "text": [
      "Fetching URLs:  54%|█████▍    | 468/868 [23:16<11:51,  1.78s/it]"
     ]
    },
    {
     "name": "stdout",
     "output_type": "stream",
     "text": [
      "Error fetching http://oneplanet7.com: net::ERR_NAME_NOT_RESOLVED at http://oneplanet7.com/\n"
     ]
    },
    {
     "name": "stderr",
     "output_type": "stream",
     "text": [
      "Fetching URLs:  54%|█████▍    | 473/868 [23:22<07:47,  1.18s/it]"
     ]
    },
    {
     "name": "stdout",
     "output_type": "stream",
     "text": [
      "Error fetching http://onlinekingschance.com: net::ERR_NAME_NOT_RESOLVED at http://onlinekingschance.com/\n",
      "Error fetching http://onlinetrueblue.com: net::ERR_NAME_NOT_RESOLVED at http://onlinetrueblue.com/\n"
     ]
    },
    {
     "name": "stderr",
     "output_type": "stream",
     "text": [
      "Fetching URLs:  55%|█████▍    | 476/868 [23:37<25:09,  3.85s/it]"
     ]
    },
    {
     "name": "stdout",
     "output_type": "stream",
     "text": [
      "Error fetching http://ozbet88au.com: Timeout 10000ms exceeded.\n"
     ]
    },
    {
     "name": "stderr",
     "output_type": "stream",
     "text": [
      "Fetching URLs:  56%|█████▌    | 484/868 [23:52<08:01,  1.25s/it]"
     ]
    },
    {
     "name": "stdout",
     "output_type": "stream",
     "text": [
      "Error fetching http://p71110.com: net::ERR_NAME_NOT_RESOLVED at http://p71110.com/\n",
      "Error fetching http://p73210.com: net::ERR_NAME_NOT_RESOLVED at http://p73210.com/\n",
      "Error fetching http://p73450.com: net::ERR_NAME_NOT_RESOLVED at http://p73450.com/\n"
     ]
    },
    {
     "name": "stderr",
     "output_type": "stream",
     "text": [
      "Fetching URLs:  56%|█████▌    | 486/868 [23:52<05:00,  1.27it/s]"
     ]
    },
    {
     "name": "stdout",
     "output_type": "stream",
     "text": [
      "Error fetching http://p74320.com: net::ERR_NAME_NOT_RESOLVED at http://p74320.com/\n",
      "Error fetching http://p75670.com: net::ERR_NAME_NOT_RESOLVED at http://p75670.com/\n",
      "Error fetching http://p77650.com: net::ERR_NAME_NOT_RESOLVED at http://p77650.com/\n"
     ]
    },
    {
     "name": "stderr",
     "output_type": "stream",
     "text": [
      "Fetching URLs:  57%|█████▋    | 493/868 [24:06<07:31,  1.20s/it]"
     ]
    },
    {
     "name": "stdout",
     "output_type": "stream",
     "text": [
      "Error fetching http://planet7app.com: net::ERR_NAME_NOT_RESOLVED at http://planet7app.com/\n",
      "Error fetching http://planet7go.com: net::ERR_NAME_NOT_RESOLVED at http://planet7go.com/\n",
      "Error fetching http://planet7live.com: net::ERR_NAME_NOT_RESOLVED at http://planet7live.com/\n"
     ]
    },
    {
     "name": "stderr",
     "output_type": "stream",
     "text": [
      "Fetching URLs:  57%|█████▋    | 495/868 [24:06<04:53,  1.27it/s]"
     ]
    },
    {
     "name": "stdout",
     "output_type": "stream",
     "text": [
      "Error fetching http://planet7now.com: net::ERR_NAME_NOT_RESOLVED at http://planet7now.com/\n",
      "Error fetching http://planet7online.com: net::ERR_NAME_NOT_RESOLVED at http://planet7online.com/\n"
     ]
    },
    {
     "name": "stderr",
     "output_type": "stream",
     "text": [
      "Fetching URLs:  57%|█████▋    | 496/868 [24:07<05:22,  1.15it/s]"
     ]
    },
    {
     "name": "stdout",
     "output_type": "stream",
     "text": [
      "Error fetching http://planet7oz.com: net::ERR_NAME_NOT_RESOLVED at http://planet7oz.com/\n"
     ]
    },
    {
     "name": "stderr",
     "output_type": "stream",
     "text": [
      "Fetching URLs:  57%|█████▋    | 498/868 [24:09<06:12,  1.01s/it]"
     ]
    },
    {
     "name": "stdout",
     "output_type": "stream",
     "text": [
      "Error fetching http://playamo27.com: net::ERR_NAME_NOT_RESOLVED at http://playamo27.com/\n"
     ]
    },
    {
     "name": "stderr",
     "output_type": "stream",
     "text": [
      "Fetching URLs:  57%|█████▋    | 499/868 [24:11<06:58,  1.13s/it]"
     ]
    },
    {
     "name": "stdout",
     "output_type": "stream",
     "text": [
      "Error fetching http://playamo28.com: net::ERR_NAME_NOT_RESOLVED at http://playamo28.com/\n"
     ]
    },
    {
     "name": "stderr",
     "output_type": "stream",
     "text": [
      "Fetching URLs:  58%|█████▊    | 500/868 [24:12<06:49,  1.11s/it]"
     ]
    },
    {
     "name": "stdout",
     "output_type": "stream",
     "text": [
      "Error fetching http://playamo29.com: net::ERR_NAME_NOT_RESOLVED at http://playamo29.com/\n"
     ]
    },
    {
     "name": "stderr",
     "output_type": "stream",
     "text": [
      "Fetching URLs:  58%|█████▊    | 501/868 [24:13<07:19,  1.20s/it]"
     ]
    },
    {
     "name": "stdout",
     "output_type": "stream",
     "text": [
      "Error fetching http://Playamo30.com: net::ERR_NAME_NOT_RESOLVED at http://playamo30.com/\n"
     ]
    },
    {
     "name": "stderr",
     "output_type": "stream",
     "text": [
      "Fetching URLs:  58%|█████▊    | 502/868 [24:14<07:26,  1.22s/it]"
     ]
    },
    {
     "name": "stdout",
     "output_type": "stream",
     "text": [
      "Error fetching http://Playamo31.com: net::ERR_NAME_NOT_RESOLVED at http://playamo31.com/\n"
     ]
    },
    {
     "name": "stderr",
     "output_type": "stream",
     "text": [
      "Fetching URLs:  58%|█████▊    | 503/868 [24:16<07:20,  1.21s/it]"
     ]
    },
    {
     "name": "stdout",
     "output_type": "stream",
     "text": [
      "Error fetching http://playamo32.com: net::ERR_NAME_NOT_RESOLVED at http://playamo32.com/\n"
     ]
    },
    {
     "name": "stderr",
     "output_type": "stream",
     "text": [
      "Fetching URLs:  58%|█████▊    | 504/868 [24:17<07:03,  1.16s/it]"
     ]
    },
    {
     "name": "stdout",
     "output_type": "stream",
     "text": [
      "Error fetching http://playamo33.com: net::ERR_NAME_NOT_RESOLVED at http://playamo33.com/\n"
     ]
    },
    {
     "name": "stderr",
     "output_type": "stream",
     "text": [
      "Fetching URLs:  58%|█████▊    | 505/868 [24:18<07:11,  1.19s/it]"
     ]
    },
    {
     "name": "stdout",
     "output_type": "stream",
     "text": [
      "Error fetching http://playamo34.com: net::ERR_NAME_NOT_RESOLVED at http://playamo34.com/\n"
     ]
    },
    {
     "name": "stderr",
     "output_type": "stream",
     "text": [
      "Fetching URLs:  58%|█████▊    | 506/868 [24:19<07:08,  1.18s/it]"
     ]
    },
    {
     "name": "stdout",
     "output_type": "stream",
     "text": [
      "Error fetching http://playamo35.com: net::ERR_NAME_NOT_RESOLVED at http://playamo35.com/\n"
     ]
    },
    {
     "name": "stderr",
     "output_type": "stream",
     "text": [
      "Fetching URLs:  58%|█████▊    | 507/868 [24:20<07:12,  1.20s/it]"
     ]
    },
    {
     "name": "stdout",
     "output_type": "stream",
     "text": [
      "Error fetching http://playamo36.com: net::ERR_NAME_NOT_RESOLVED at http://playamo36.com/\n"
     ]
    },
    {
     "name": "stderr",
     "output_type": "stream",
     "text": [
      "Fetching URLs:  59%|█████▊    | 508/868 [24:22<07:06,  1.18s/it]"
     ]
    },
    {
     "name": "stdout",
     "output_type": "stream",
     "text": [
      "Error fetching http://playamo38.com: net::ERR_NAME_NOT_RESOLVED at http://playamo38.com/\n"
     ]
    },
    {
     "name": "stderr",
     "output_type": "stream",
     "text": [
      "Fetching URLs:  59%|█████▊    | 509/868 [24:23<07:16,  1.22s/it]"
     ]
    },
    {
     "name": "stdout",
     "output_type": "stream",
     "text": [
      "Error fetching http://playamo39.com: net::ERR_NAME_NOT_RESOLVED at http://playamo39.com/\n"
     ]
    },
    {
     "name": "stderr",
     "output_type": "stream",
     "text": [
      "Fetching URLs:  60%|█████▉    | 520/868 [24:51<08:18,  1.43s/it]"
     ]
    },
    {
     "name": "stdout",
     "output_type": "stream",
     "text": [
      "Error fetching http://playp7oz.com: net::ERR_NAME_NOT_RESOLVED at http://playp7oz.com/\n",
      "Error fetching http://playragingbull.com: net::ERR_NAME_NOT_RESOLVED at http://playragingbull.com/\n"
     ]
    },
    {
     "name": "stderr",
     "output_type": "stream",
     "text": [
      "Fetching URLs:  60%|██████    | 521/868 [24:52<07:53,  1.36s/it]"
     ]
    },
    {
     "name": "stdout",
     "output_type": "stream",
     "text": [
      "Error fetching http://playtrueblue.com: net::ERR_NAME_NOT_RESOLVED at http://playtrueblue.com/\n"
     ]
    },
    {
     "name": "stderr",
     "output_type": "stream",
     "text": [
      "Fetching URLs:  60%|██████    | 523/868 [24:54<07:54,  1.38s/it]"
     ]
    },
    {
     "name": "stdout",
     "output_type": "stream",
     "text": [
      "Error fetching http://pokieisland.com: net::ERR_EMPTY_RESPONSE at http://pokieisland.com/\n"
     ]
    },
    {
     "name": "stderr",
     "output_type": "stream",
     "text": [
      "Fetching URLs:  60%|██████    | 525/868 [24:56<05:52,  1.03s/it]"
     ]
    },
    {
     "name": "stdout",
     "output_type": "stream",
     "text": [
      "Error fetching http://pokieisland713.com: net::ERR_NAME_NOT_RESOLVED at http://pokieisland713.com/\n"
     ]
    },
    {
     "name": "stderr",
     "output_type": "stream",
     "text": [
      "Fetching URLs:  61%|██████    | 526/868 [24:58<08:19,  1.46s/it]"
     ]
    },
    {
     "name": "stdout",
     "output_type": "stream",
     "text": [
      "Error fetching http://pokiemate.com: net::ERR_EMPTY_RESPONSE at http://pokiemate.com/\n"
     ]
    },
    {
     "name": "stderr",
     "output_type": "stream",
     "text": [
      "Fetching URLs:  61%|██████    | 527/868 [25:08<21:30,  3.78s/it]"
     ]
    },
    {
     "name": "stdout",
     "output_type": "stream",
     "text": [
      "Error fetching http://pokiemate239.com: Timeout 10000ms exceeded.\n"
     ]
    },
    {
     "name": "stderr",
     "output_type": "stream",
     "text": [
      "Fetching URLs:  61%|██████    | 528/868 [25:19<31:20,  5.53s/it]"
     ]
    },
    {
     "name": "stdout",
     "output_type": "stream",
     "text": [
      "Error fetching http://pokiemate281.com: Timeout 10000ms exceeded.\n"
     ]
    },
    {
     "name": "stderr",
     "output_type": "stream",
     "text": [
      "Fetching URLs:  61%|██████    | 530/868 [25:30<34:14,  6.08s/it]"
     ]
    },
    {
     "name": "stdout",
     "output_type": "stream",
     "text": [
      "Error fetching http://pokiemate44.com: Timeout 10000ms exceeded.\n"
     ]
    },
    {
     "name": "stderr",
     "output_type": "stream",
     "text": [
      "Fetching URLs:  61%|██████▏   | 533/868 [25:36<18:32,  3.32s/it]"
     ]
    },
    {
     "name": "stdout",
     "output_type": "stream",
     "text": [
      "Error fetching http://pokiemate877.com: net::ERR_EMPTY_RESPONSE at http://pokiemate877.com/\n"
     ]
    },
    {
     "name": "stderr",
     "output_type": "stream",
     "text": [
      "Fetching URLs:  62%|██████▏   | 534/868 [25:38<15:48,  2.84s/it]"
     ]
    },
    {
     "name": "stdout",
     "output_type": "stream",
     "text": [
      "Error fetching http://pokiemate922.com: net::ERR_EMPTY_RESPONSE at http://pokiemate922.com/\n"
     ]
    },
    {
     "name": "stderr",
     "output_type": "stream",
     "text": [
      "Fetching URLs:  62%|██████▏   | 535/868 [25:39<13:11,  2.38s/it]"
     ]
    },
    {
     "name": "stdout",
     "output_type": "stream",
     "text": [
      "Error fetching http://pokieplace.com: net::ERR_NAME_NOT_RESOLVED at http://pokieplace.com/\n"
     ]
    },
    {
     "name": "stderr",
     "output_type": "stream",
     "text": [
      "Fetching URLs:  62%|██████▏   | 537/868 [25:39<07:10,  1.30s/it]"
     ]
    },
    {
     "name": "stdout",
     "output_type": "stream",
     "text": [
      "Error fetching http://pokies.ch: net::ERR_NAME_NOT_RESOLVED at http://pokies.ch/\n"
     ]
    },
    {
     "name": "stderr",
     "output_type": "stream",
     "text": [
      "Fetching URLs:  63%|██████▎   | 544/868 [26:01<16:16,  3.01s/it]"
     ]
    },
    {
     "name": "stdout",
     "output_type": "stream",
     "text": [
      "Error fetching http://pokiespins.com: net::ERR_EMPTY_RESPONSE at http://pokiespins.com/\n"
     ]
    },
    {
     "name": "stderr",
     "output_type": "stream",
     "text": [
      "Fetching URLs:  63%|██████▎   | 545/868 [26:03<14:43,  2.73s/it]"
     ]
    },
    {
     "name": "stdout",
     "output_type": "stream",
     "text": [
      "Error fetching http://pokiespins265.com: net::ERR_EMPTY_RESPONSE at http://pokiespins265.com/\n"
     ]
    },
    {
     "name": "stderr",
     "output_type": "stream",
     "text": [
      "Fetching URLs:  63%|██████▎   | 548/868 [26:22<28:28,  5.34s/it]"
     ]
    },
    {
     "name": "stdout",
     "output_type": "stream",
     "text": [
      "Error fetching http://pokiespins83.com: Timeout 10000ms exceeded.\n"
     ]
    },
    {
     "name": "stderr",
     "output_type": "stream",
     "text": [
      "Fetching URLs:  63%|██████▎   | 549/868 [26:24<22:59,  4.32s/it]"
     ]
    },
    {
     "name": "stdout",
     "output_type": "stream",
     "text": [
      "Error fetching http://pokiespins266.com: net::ERR_EMPTY_RESPONSE at http://pokiespins266.com/\n"
     ]
    },
    {
     "name": "stderr",
     "output_type": "stream",
     "text": [
      "Fetching URLs:  63%|██████▎   | 550/868 [26:24<16:54,  3.19s/it]"
     ]
    },
    {
     "name": "stdout",
     "output_type": "stream",
     "text": [
      "Error fetching http://pokie-surf.com: net::ERR_NAME_NOT_RESOLVED at http://pokie-surf.com/\n"
     ]
    },
    {
     "name": "stderr",
     "output_type": "stream",
     "text": [
      "Fetching URLs:  64%|██████▍   | 559/868 [26:32<07:59,  1.55s/it]"
     ]
    },
    {
     "name": "stdout",
     "output_type": "stream",
     "text": [
      "Error fetching http://pokiez.com: net::ERR_EMPTY_RESPONSE at http://pokiez.com/\n"
     ]
    },
    {
     "name": "stderr",
     "output_type": "stream",
     "text": [
      "Fetching URLs:  65%|██████▍   | 561/868 [26:49<25:58,  5.08s/it]"
     ]
    },
    {
     "name": "stdout",
     "output_type": "stream",
     "text": [
      "Error fetching http://pokiez272.com: Timeout 10000ms exceeded.\n"
     ]
    },
    {
     "name": "stderr",
     "output_type": "stream",
     "text": [
      "Fetching URLs:  65%|██████▍   | 562/868 [26:59<33:24,  6.55s/it]"
     ]
    },
    {
     "name": "stdout",
     "output_type": "stream",
     "text": [
      "Error fetching http://pokiez322.com: Timeout 10000ms exceeded.\n"
     ]
    },
    {
     "name": "stderr",
     "output_type": "stream",
     "text": [
      "Fetching URLs:  65%|██████▍   | 563/868 [27:09<38:40,  7.61s/it]"
     ]
    },
    {
     "name": "stdout",
     "output_type": "stream",
     "text": [
      "Error fetching http://pokiez372.com: Timeout 10000ms exceeded.\n"
     ]
    },
    {
     "name": "stderr",
     "output_type": "stream",
     "text": [
      "Fetching URLs:  65%|██████▍   | 564/868 [27:16<37:41,  7.44s/it]"
     ]
    },
    {
     "name": "stdout",
     "output_type": "stream",
     "text": [
      "Error fetching http://pokizino.co: net::ERR_CERT_DATE_INVALID at http://pokizino.co/\n"
     ]
    },
    {
     "name": "stderr",
     "output_type": "stream",
     "text": [
      "Fetching URLs:  65%|██████▌   | 565/868 [27:18<30:07,  5.96s/it]"
     ]
    },
    {
     "name": "stdout",
     "output_type": "stream",
     "text": [
      "Error fetching http://pokizino.com: net::ERR_CERT_DATE_INVALID at http://pokizino.com/\n"
     ]
    },
    {
     "name": "stderr",
     "output_type": "stream",
     "text": [
      "Fetching URLs:  65%|██████▌   | 566/868 [27:20<23:13,  4.62s/it]"
     ]
    },
    {
     "name": "stdout",
     "output_type": "stream",
     "text": [
      "Error fetching http://pokizino.net: net::ERR_CERT_DATE_INVALID at http://pokizino.net/\n"
     ]
    },
    {
     "name": "stderr",
     "output_type": "stream",
     "text": [
      "Fetching URLs:  65%|██████▌   | 567/868 [27:30<31:17,  6.24s/it]"
     ]
    },
    {
     "name": "stdout",
     "output_type": "stream",
     "text": [
      "Error fetching http://powbet.com: Timeout 10000ms exceeded.\n"
     ]
    },
    {
     "name": "stderr",
     "output_type": "stream",
     "text": [
      "Fetching URLs:  66%|██████▌   | 574/868 [28:13<22:23,  4.57s/it]"
     ]
    },
    {
     "name": "stdout",
     "output_type": "stream",
     "text": [
      "Error fetching http://ragingbullcasino.com: net::ERR_NAME_NOT_RESOLVED at http://ragingbullcasino.com/\n",
      "Error fetching http://ragingbullmain.com: net::ERR_NAME_NOT_RESOLVED at http://ragingbullmain.com/\n"
     ]
    },
    {
     "name": "stderr",
     "output_type": "stream",
     "text": [
      "Fetching URLs:  66%|██████▋   | 576/868 [28:13<11:15,  2.31s/it]"
     ]
    },
    {
     "name": "stdout",
     "output_type": "stream",
     "text": [
      "Error fetching http://ragingbullplay.com: net::ERR_NAME_NOT_RESOLVED at http://ragingbullplay.com/\n",
      "Error fetching http://rbc101.com: net::ERR_NAME_NOT_RESOLVED at http://rbc101.com/\n"
     ]
    },
    {
     "name": "stderr",
     "output_type": "stream",
     "text": [
      "Fetching URLs:  67%|██████▋   | 579/868 [28:13<04:29,  1.07it/s]"
     ]
    },
    {
     "name": "stdout",
     "output_type": "stream",
     "text": [
      "Error fetching http://rbc111.com: net::ERR_NAME_NOT_RESOLVED at http://rbc111.com/\n",
      "Error fetching http://rbc123.com: net::ERR_NAME_NOT_RESOLVED at http://rbc123.com/\n",
      "Error fetching http://rbc178.com: net::ERR_NAME_NOT_RESOLVED at http://rbc178.com/\n"
     ]
    },
    {
     "name": "stderr",
     "output_type": "stream",
     "text": [
      "Fetching URLs:  67%|██████▋   | 581/868 [28:14<02:52,  1.67it/s]"
     ]
    },
    {
     "name": "stdout",
     "output_type": "stream",
     "text": [
      "Error fetching http://rbc188.com: net::ERR_NAME_NOT_RESOLVED at http://rbc188.com/\n",
      "Error fetching http://rbc234.com: net::ERR_NAME_NOT_RESOLVED at http://rbc234.com/\n",
      "Error fetching http://rbc555.com: net::ERR_NAME_NOT_RESOLVED at http://rbc555.com/\n"
     ]
    },
    {
     "name": "stderr",
     "output_type": "stream",
     "text": [
      "Fetching URLs:  67%|██████▋   | 583/868 [28:14<02:01,  2.34it/s]"
     ]
    },
    {
     "name": "stdout",
     "output_type": "stream",
     "text": [
      "Error fetching http://rbc567.com: net::ERR_NAME_NOT_RESOLVED at http://rbc567.com/\n"
     ]
    },
    {
     "name": "stderr",
     "output_type": "stream",
     "text": [
      "Fetching URLs:  67%|██████▋   | 584/868 [28:19<06:55,  1.46s/it]"
     ]
    },
    {
     "name": "stdout",
     "output_type": "stream",
     "text": [
      "Error fetching http://rbc717.com: net::ERR_NAME_NOT_RESOLVED at http://rbc717.com/\n"
     ]
    },
    {
     "name": "stderr",
     "output_type": "stream",
     "text": [
      "Fetching URLs:  67%|██████▋   | 585/868 [28:25<11:13,  2.38s/it]"
     ]
    },
    {
     "name": "stdout",
     "output_type": "stream",
     "text": [
      "Error fetching http://rbc818.com: net::ERR_NAME_NOT_RESOLVED at http://rbc818.com/\n"
     ]
    },
    {
     "name": "stderr",
     "output_type": "stream",
     "text": [
      "Fetching URLs:  68%|██████▊   | 586/868 [28:30<14:57,  3.18s/it]"
     ]
    },
    {
     "name": "stdout",
     "output_type": "stream",
     "text": [
      "Error fetching http://rbcarnival.com: net::ERR_NAME_NOT_RESOLVED at http://rbcarnival.com/\n"
     ]
    },
    {
     "name": "stderr",
     "output_type": "stream",
     "text": [
      "Fetching URLs:  68%|██████▊   | 591/868 [28:52<25:34,  5.54s/it]"
     ]
    },
    {
     "name": "stdout",
     "output_type": "stream",
     "text": [
      "Error fetching http://red-stag-casino.com: Timeout 10000ms exceeded.\n"
     ]
    },
    {
     "name": "stderr",
     "output_type": "stream",
     "text": [
      "Fetching URLs:  69%|██████▉   | 598/868 [29:34<31:22,  6.97s/it]"
     ]
    },
    {
     "name": "stdout",
     "output_type": "stream",
     "text": [
      "Error fetching http://reelsofjoy.com: Timeout 10000ms exceeded.\n"
     ]
    },
    {
     "name": "stderr",
     "output_type": "stream",
     "text": [
      "Fetching URLs:  72%|███████▏  | 623/868 [31:15<27:33,  6.75s/it]"
     ]
    },
    {
     "name": "stdout",
     "output_type": "stream",
     "text": [
      "Error fetching http://rocketplay.com: Timeout 10000ms exceeded.\n"
     ]
    },
    {
     "name": "stderr",
     "output_type": "stream",
     "text": [
      "Fetching URLs:  72%|███████▏  | 624/868 [31:25<31:28,  7.74s/it]"
     ]
    },
    {
     "name": "stdout",
     "output_type": "stream",
     "text": [
      "Error fetching http://rocketplay1.com: Timeout 10000ms exceeded.\n"
     ]
    },
    {
     "name": "stderr",
     "output_type": "stream",
     "text": [
      "Fetching URLs:  72%|███████▏  | 625/868 [31:35<34:11,  8.44s/it]"
     ]
    },
    {
     "name": "stdout",
     "output_type": "stream",
     "text": [
      "Error fetching http://rocketplay11.com: Timeout 10000ms exceeded.\n"
     ]
    },
    {
     "name": "stderr",
     "output_type": "stream",
     "text": [
      "Fetching URLs:  72%|███████▏  | 627/868 [31:52<35:08,  8.75s/it]"
     ]
    },
    {
     "name": "stdout",
     "output_type": "stream",
     "text": [
      "Error fetching http://rocketplay25.com: Timeout 10000ms exceeded.\n"
     ]
    },
    {
     "name": "stderr",
     "output_type": "stream",
     "text": [
      "Fetching URLs:  72%|███████▏  | 628/868 [32:02<36:32,  9.14s/it]"
     ]
    },
    {
     "name": "stdout",
     "output_type": "stream",
     "text": [
      "Error fetching http://rocketplay3.com: Timeout 10000ms exceeded.\n"
     ]
    },
    {
     "name": "stderr",
     "output_type": "stream",
     "text": [
      "Fetching URLs:  72%|███████▏  | 629/868 [32:13<37:31,  9.42s/it]"
     ]
    },
    {
     "name": "stdout",
     "output_type": "stream",
     "text": [
      "Error fetching http://rocketplay4.com: Timeout 10000ms exceeded.\n"
     ]
    },
    {
     "name": "stderr",
     "output_type": "stream",
     "text": [
      "Fetching URLs:  73%|███████▎  | 632/868 [32:44<39:38, 10.08s/it]"
     ]
    },
    {
     "name": "stdout",
     "output_type": "stream",
     "text": [
      "Error fetching http://rocketplay7.com: Timeout 10000ms exceeded.\n"
     ]
    },
    {
     "name": "stderr",
     "output_type": "stream",
     "text": [
      "Fetching URLs:  73%|███████▎  | 633/868 [32:54<39:29, 10.08s/it]"
     ]
    },
    {
     "name": "stdout",
     "output_type": "stream",
     "text": [
      "Error fetching http://rocketplay8.com: Timeout 10000ms exceeded.\n"
     ]
    },
    {
     "name": "stderr",
     "output_type": "stream",
     "text": [
      "Fetching URLs:  73%|███████▎  | 634/868 [33:04<39:19, 10.08s/it]"
     ]
    },
    {
     "name": "stdout",
     "output_type": "stream",
     "text": [
      "Error fetching http://rocketplay12.com: Timeout 10000ms exceeded.\n"
     ]
    },
    {
     "name": "stderr",
     "output_type": "stream",
     "text": [
      "Fetching URLs:  73%|███████▎  | 635/868 [33:14<39:09, 10.08s/it]"
     ]
    },
    {
     "name": "stdout",
     "output_type": "stream",
     "text": [
      "Error fetching http://rocknreels.com: Timeout 10000ms exceeded.\n"
     ]
    },
    {
     "name": "stderr",
     "output_type": "stream",
     "text": [
      "Fetching URLs:  74%|███████▎  | 640/868 [33:28<13:46,  3.62s/it]"
     ]
    },
    {
     "name": "stdout",
     "output_type": "stream",
     "text": [
      "Error fetching http://roocasino.com: net::ERR_EMPTY_RESPONSE at http://roocasino.com/\n",
      "Error fetching http://roocasino249.com: net::ERR_NAME_NOT_RESOLVED at http://roocasino249.com/\n"
     ]
    },
    {
     "name": "stderr",
     "output_type": "stream",
     "text": [
      "Fetching URLs:  74%|███████▍  | 643/868 [33:40<13:53,  3.70s/it]"
     ]
    },
    {
     "name": "stdout",
     "output_type": "stream",
     "text": [
      "Error fetching http://roocasino279.com: Timeout 10000ms exceeded.\n",
      "Error fetching http://roocasino294.com: net::ERR_NAME_NOT_RESOLVED at http://roocasino294.com/\n"
     ]
    },
    {
     "name": "stderr",
     "output_type": "stream",
     "text": [
      "Fetching URLs:  74%|███████▍  | 644/868 [33:40<09:48,  2.63s/it]"
     ]
    },
    {
     "name": "stdout",
     "output_type": "stream",
     "text": [
      "Error fetching http://roocasino309.com: net::ERR_NAME_NOT_RESOLVED at http://roocasino309.com/\n",
      "Error fetching http://roocasino324.com: net::ERR_NAME_NOT_RESOLVED at http://roocasino324.com/\n"
     ]
    },
    {
     "name": "stderr",
     "output_type": "stream",
     "text": [
      "Fetching URLs:  75%|███████▍  | 647/868 [33:42<05:01,  1.36s/it]"
     ]
    },
    {
     "name": "stdout",
     "output_type": "stream",
     "text": [
      "Error fetching http://roocasino339.com: net::ERR_NAME_NOT_RESOLVED at http://roocasino339.com/\n"
     ]
    },
    {
     "name": "stderr",
     "output_type": "stream",
     "text": [
      "Fetching URLs:  75%|███████▍  | 648/868 [33:44<05:14,  1.43s/it]"
     ]
    },
    {
     "name": "stdout",
     "output_type": "stream",
     "text": [
      "Error fetching http://roocasino357.com: net::ERR_NAME_NOT_RESOLVED at http://roocasino357.com/\n"
     ]
    },
    {
     "name": "stderr",
     "output_type": "stream",
     "text": [
      "Fetching URLs:  75%|███████▌  | 651/868 [33:47<04:18,  1.19s/it]"
     ]
    },
    {
     "name": "stdout",
     "output_type": "stream",
     "text": [
      "Error fetching http://roocasino414.com: net::ERR_NAME_NOT_RESOLVED at http://roocasino414.com/\n"
     ]
    },
    {
     "name": "stderr",
     "output_type": "stream",
     "text": [
      "Fetching URLs:  75%|███████▌  | 652/868 [33:52<07:52,  2.19s/it]"
     ]
    },
    {
     "name": "stdout",
     "output_type": "stream",
     "text": [
      "Error fetching http://roocasino425.com: net::ERR_NAME_NOT_RESOLVED at http://roocasino425.com/\n"
     ]
    },
    {
     "name": "stderr",
     "output_type": "stream",
     "text": [
      "Fetching URLs:  75%|███████▌  | 653/868 [34:02<15:15,  4.26s/it]"
     ]
    },
    {
     "name": "stdout",
     "output_type": "stream",
     "text": [
      "Error fetching http://royalreels.com: Timeout 10000ms exceeded.\n"
     ]
    },
    {
     "name": "stderr",
     "output_type": "stream",
     "text": [
      "Fetching URLs:  75%|███████▌  | 654/868 [34:12<20:50,  5.84s/it]"
     ]
    },
    {
     "name": "stdout",
     "output_type": "stream",
     "text": [
      "Error fetching http://royalreels1.com: Timeout 10000ms exceeded.\n"
     ]
    },
    {
     "name": "stderr",
     "output_type": "stream",
     "text": [
      "Fetching URLs:  76%|███████▋  | 662/868 [34:48<18:54,  5.51s/it]"
     ]
    },
    {
     "name": "stdout",
     "output_type": "stream",
     "text": [
      "Error fetching http://slotastic.com: Timeout 10000ms exceeded.\n"
     ]
    },
    {
     "name": "stderr",
     "output_type": "stream",
     "text": [
      "Fetching URLs:  76%|███████▋  | 664/868 [34:59<20:04,  5.90s/it]"
     ]
    },
    {
     "name": "stdout",
     "output_type": "stream",
     "text": [
      "Error fetching http://slotozen.live: Timeout 10000ms exceeded.\n"
     ]
    },
    {
     "name": "stderr",
     "output_type": "stream",
     "text": [
      "Fetching URLs:  77%|███████▋  | 669/868 [35:17<16:46,  5.06s/it]"
     ]
    },
    {
     "name": "stdout",
     "output_type": "stream",
     "text": [
      "Error fetching http://slotsberlin4.com: Timeout 10000ms exceeded.\n"
     ]
    },
    {
     "name": "stderr",
     "output_type": "stream",
     "text": [
      "Fetching URLs:  78%|███████▊  | 673/868 [35:32<12:51,  3.96s/it]"
     ]
    },
    {
     "name": "stdout",
     "output_type": "stream",
     "text": [
      "Error fetching http://slotsempiregames.com: net::ERR_NAME_NOT_RESOLVED at http://slotsempiregames.com/\n"
     ]
    },
    {
     "name": "stderr",
     "output_type": "stream",
     "text": [
      "Fetching URLs:  78%|███████▊  | 680/868 [35:43<05:50,  1.86s/it]"
     ]
    },
    {
     "name": "stdout",
     "output_type": "stream",
     "text": [
      "Error fetching http://slotvibe21.com: net::ERR_NAME_NOT_RESOLVED at http://slotvibe21.com/\n"
     ]
    },
    {
     "name": "stderr",
     "output_type": "stream",
     "text": [
      "Fetching URLs:  79%|███████▊  | 682/868 [35:45<03:54,  1.26s/it]"
     ]
    },
    {
     "name": "stdout",
     "output_type": "stream",
     "text": [
      "Error fetching http://sol100.casino: net::ERR_INVALID_REDIRECT at http://sol100.casino/\n"
     ]
    },
    {
     "name": "stderr",
     "output_type": "stream",
     "text": [
      "Fetching URLs:  79%|███████▉  | 690/868 [36:19<11:00,  3.71s/it]"
     ]
    },
    {
     "name": "stdout",
     "output_type": "stream",
     "text": [
      "Error fetching http://spinago1.casino: net::ERR_NAME_NOT_RESOLVED at http://spinago1.casino/\n"
     ]
    },
    {
     "name": "stderr",
     "output_type": "stream",
     "text": [
      "Fetching URLs:  80%|███████▉  | 691/868 [36:21<08:44,  2.96s/it]"
     ]
    },
    {
     "name": "stdout",
     "output_type": "stream",
     "text": [
      "Error fetching http://spinago1.com: net::ERR_NAME_NOT_RESOLVED at http://spinago1.com/\n"
     ]
    },
    {
     "name": "stderr",
     "output_type": "stream",
     "text": [
      "Fetching URLs:  80%|███████▉  | 692/868 [36:27<11:31,  3.93s/it]"
     ]
    },
    {
     "name": "stdout",
     "output_type": "stream",
     "text": [
      "Error fetching http://spinago3.casino: net::ERR_NAME_NOT_RESOLVED at http://spinago3.casino/\n"
     ]
    },
    {
     "name": "stderr",
     "output_type": "stream",
     "text": [
      "Fetching URLs:  80%|███████▉  | 693/868 [36:28<09:13,  3.16s/it]"
     ]
    },
    {
     "name": "stdout",
     "output_type": "stream",
     "text": [
      "Error fetching http://spinago4.casino: net::ERR_NAME_NOT_RESOLVED at http://spinago4.casino/\n"
     ]
    },
    {
     "name": "stderr",
     "output_type": "stream",
     "text": [
      "Fetching URLs:  80%|███████▉  | 694/868 [36:34<11:31,  3.97s/it]"
     ]
    },
    {
     "name": "stdout",
     "output_type": "stream",
     "text": [
      "Error fetching http://spinago5.casino: net::ERR_NAME_NOT_RESOLVED at http://spinago5.casino/\n"
     ]
    },
    {
     "name": "stderr",
     "output_type": "stream",
     "text": [
      "Fetching URLs:  80%|████████  | 695/868 [36:35<09:12,  3.19s/it]"
     ]
    },
    {
     "name": "stdout",
     "output_type": "stream",
     "text": [
      "Error fetching http://spinago6.casino: net::ERR_NAME_NOT_RESOLVED at http://spinago6.casino/\n"
     ]
    },
    {
     "name": "stderr",
     "output_type": "stream",
     "text": [
      "Fetching URLs:  81%|████████  | 705/868 [37:02<11:26,  4.21s/it]"
     ]
    },
    {
     "name": "stdout",
     "output_type": "stream",
     "text": [
      "Error fetching http://spintropolis.com: Timeout 10000ms exceeded.\n"
     ]
    },
    {
     "name": "stderr",
     "output_type": "stream",
     "text": [
      "Fetching URLs:  81%|████████▏ | 706/868 [37:13<16:05,  5.96s/it]"
     ]
    },
    {
     "name": "stdout",
     "output_type": "stream",
     "text": [
      "Error fetching http://sportaza.com: Timeout 10000ms exceeded.\n"
     ]
    },
    {
     "name": "stderr",
     "output_type": "stream",
     "text": [
      "Fetching URLs:  81%|████████▏ | 707/868 [37:23<19:16,  7.19s/it]"
     ]
    },
    {
     "name": "stdout",
     "output_type": "stream",
     "text": [
      "Error fetching http://staycasino.bet: Timeout 10000ms exceeded.\n"
     ]
    },
    {
     "name": "stderr",
     "output_type": "stream",
     "text": [
      "Fetching URLs:  82%|████████▏ | 708/868 [37:33<21:26,  8.04s/it]"
     ]
    },
    {
     "name": "stdout",
     "output_type": "stream",
     "text": [
      "Error fetching http://staycasino.com: Timeout 10000ms exceeded.\n"
     ]
    },
    {
     "name": "stderr",
     "output_type": "stream",
     "text": [
      "Fetching URLs:  82%|████████▏ | 711/868 [37:52<19:35,  7.49s/it]"
     ]
    },
    {
     "name": "stdout",
     "output_type": "stream",
     "text": [
      "Error fetching http://stellarspins.com: Timeout 10000ms exceeded.\n"
     ]
    },
    {
     "name": "stderr",
     "output_type": "stream",
     "text": [
      "Fetching URLs:  83%|████████▎ | 717/868 [38:13<12:20,  4.90s/it]"
     ]
    },
    {
     "name": "stdout",
     "output_type": "stream",
     "text": [
      "Error fetching http://tangierscasino.com: Timeout 10000ms exceeded.\n"
     ]
    },
    {
     "name": "stderr",
     "output_type": "stream",
     "text": [
      "Fetching URLs:  83%|████████▎ | 724/868 [38:27<05:31,  2.30s/it]"
     ]
    },
    {
     "name": "stdout",
     "output_type": "stream",
     "text": [
      "Error fetching http://thegogoroom.com: net::ERR_NAME_NOT_RESOLVED at http://thegogoroom.com/\n"
     ]
    },
    {
     "name": "stderr",
     "output_type": "stream",
     "text": [
      "Fetching URLs:  84%|████████▎ | 725/868 [38:37<11:01,  4.62s/it]"
     ]
    },
    {
     "name": "stdout",
     "output_type": "stream",
     "text": [
      "Error fetching http://thepokies.net: Timeout 10000ms exceeded.\n"
     ]
    },
    {
     "name": "stderr",
     "output_type": "stream",
     "text": [
      "Fetching URLs:  84%|████████▎ | 726/868 [38:38<08:04,  3.41s/it]"
     ]
    },
    {
     "name": "stdout",
     "output_type": "stream",
     "text": [
      "Error fetching http://thepokies1.net: net::ERR_CERT_COMMON_NAME_INVALID at http://thepokies1.net/\n"
     ]
    },
    {
     "name": "stderr",
     "output_type": "stream",
     "text": [
      "Fetching URLs:  84%|████████▍ | 727/868 [38:39<06:21,  2.70s/it]"
     ]
    },
    {
     "name": "stdout",
     "output_type": "stream",
     "text": [
      "Error fetching http://thepokies10.net: Unable to retrieve content because the page is navigating and changing the content.\n"
     ]
    },
    {
     "name": "stderr",
     "output_type": "stream",
     "text": [
      "Fetching URLs:  84%|████████▍ | 729/868 [38:50<10:20,  4.47s/it]"
     ]
    },
    {
     "name": "stdout",
     "output_type": "stream",
     "text": [
      "Error fetching http://thepokies12.net: Timeout 10000ms exceeded.\n"
     ]
    },
    {
     "name": "stderr",
     "output_type": "stream",
     "text": [
      "Fetching URLs:  84%|████████▍ | 730/868 [38:51<08:27,  3.68s/it]"
     ]
    },
    {
     "name": "stdout",
     "output_type": "stream",
     "text": [
      "Error fetching http://thepokies14.net: net::ERR_NAME_NOT_RESOLVED at http://thepokies14.net/\n"
     ]
    },
    {
     "name": "stderr",
     "output_type": "stream",
     "text": [
      "Fetching URLs:  84%|████████▍ | 731/868 [38:53<07:06,  3.12s/it]"
     ]
    },
    {
     "name": "stdout",
     "output_type": "stream",
     "text": [
      "Error fetching http://thepokies15.net: net::ERR_NAME_NOT_RESOLVED at http://thepokies15.net/\n"
     ]
    },
    {
     "name": "stderr",
     "output_type": "stream",
     "text": [
      "Fetching URLs:  84%|████████▍ | 732/868 [39:03<11:46,  5.19s/it]"
     ]
    },
    {
     "name": "stdout",
     "output_type": "stream",
     "text": [
      "Error fetching http://thepokies17.net: Timeout 10000ms exceeded.\n"
     ]
    },
    {
     "name": "stderr",
     "output_type": "stream",
     "text": [
      "Fetching URLs:  84%|████████▍ | 733/868 [39:04<08:22,  3.72s/it]"
     ]
    },
    {
     "name": "stdout",
     "output_type": "stream",
     "text": [
      "Error fetching http://thepokies2.net: net::ERR_CERT_COMMON_NAME_INVALID at http://thepokies2.net/\n"
     ]
    },
    {
     "name": "stderr",
     "output_type": "stream",
     "text": [
      "Fetching URLs:  85%|████████▍ | 734/868 [39:14<12:32,  5.62s/it]"
     ]
    },
    {
     "name": "stdout",
     "output_type": "stream",
     "text": [
      "Error fetching http://thepokies24.net: Timeout 10000ms exceeded.\n"
     ]
    },
    {
     "name": "stderr",
     "output_type": "stream",
     "text": [
      "Fetching URLs:  85%|████████▍ | 735/868 [39:14<08:52,  4.01s/it]"
     ]
    },
    {
     "name": "stdout",
     "output_type": "stream",
     "text": [
      "Error fetching http://thepokies3.net: net::ERR_CERT_COMMON_NAME_INVALID at http://thepokies3.net/\n"
     ]
    },
    {
     "name": "stderr",
     "output_type": "stream",
     "text": [
      "Fetching URLs:  85%|████████▍ | 736/868 [39:24<12:47,  5.82s/it]"
     ]
    },
    {
     "name": "stdout",
     "output_type": "stream",
     "text": [
      "Error fetching http://thepokies30.net: Timeout 10000ms exceeded.\n"
     ]
    },
    {
     "name": "stderr",
     "output_type": "stream",
     "text": [
      "Fetching URLs:  85%|████████▍ | 737/868 [39:34<15:28,  7.09s/it]"
     ]
    },
    {
     "name": "stdout",
     "output_type": "stream",
     "text": [
      "Error fetching http://thepokies31.net: Timeout 10000ms exceeded.\n"
     ]
    },
    {
     "name": "stderr",
     "output_type": "stream",
     "text": [
      "Fetching URLs:  85%|████████▌ | 738/868 [39:44<17:16,  7.98s/it]"
     ]
    },
    {
     "name": "stdout",
     "output_type": "stream",
     "text": [
      "Error fetching http://thepokies32.net: Timeout 10000ms exceeded.\n"
     ]
    },
    {
     "name": "stderr",
     "output_type": "stream",
     "text": [
      "Fetching URLs:  85%|████████▌ | 739/868 [39:54<18:28,  8.59s/it]"
     ]
    },
    {
     "name": "stdout",
     "output_type": "stream",
     "text": [
      "Error fetching http://thepokies33.net: Timeout 10000ms exceeded.\n"
     ]
    },
    {
     "name": "stderr",
     "output_type": "stream",
     "text": [
      "Fetching URLs:  85%|████████▌ | 740/868 [40:04<19:15,  9.03s/it]"
     ]
    },
    {
     "name": "stdout",
     "output_type": "stream",
     "text": [
      "Error fetching http://thepokies34.net: Timeout 10000ms exceeded.\n"
     ]
    },
    {
     "name": "stderr",
     "output_type": "stream",
     "text": [
      "Fetching URLs:  85%|████████▌ | 741/868 [40:14<19:45,  9.34s/it]"
     ]
    },
    {
     "name": "stdout",
     "output_type": "stream",
     "text": [
      "Error fetching http://thepokies35.net: Timeout 10000ms exceeded.\n"
     ]
    },
    {
     "name": "stderr",
     "output_type": "stream",
     "text": [
      "Fetching URLs:  85%|████████▌ | 742/868 [40:24<20:03,  9.55s/it]"
     ]
    },
    {
     "name": "stdout",
     "output_type": "stream",
     "text": [
      "Error fetching http://thepokies36.net: Timeout 10000ms exceeded.\n"
     ]
    },
    {
     "name": "stderr",
     "output_type": "stream",
     "text": [
      "Fetching URLs:  86%|████████▌ | 743/868 [40:34<20:12,  9.70s/it]"
     ]
    },
    {
     "name": "stdout",
     "output_type": "stream",
     "text": [
      "Error fetching http://thepokies37.net: Timeout 10000ms exceeded.\n"
     ]
    },
    {
     "name": "stderr",
     "output_type": "stream",
     "text": [
      "Fetching URLs:  86%|████████▌ | 744/868 [40:44<20:15,  9.80s/it]"
     ]
    },
    {
     "name": "stdout",
     "output_type": "stream",
     "text": [
      "Error fetching http://thepokies38.net: Timeout 10000ms exceeded.\n"
     ]
    },
    {
     "name": "stderr",
     "output_type": "stream",
     "text": [
      "Fetching URLs:  86%|████████▌ | 745/868 [40:54<20:14,  9.88s/it]"
     ]
    },
    {
     "name": "stdout",
     "output_type": "stream",
     "text": [
      "Error fetching http://thepokies39.net: Timeout 10000ms exceeded.\n"
     ]
    },
    {
     "name": "stderr",
     "output_type": "stream",
     "text": [
      "Fetching URLs:  86%|████████▌ | 746/868 [41:04<20:11,  9.93s/it]"
     ]
    },
    {
     "name": "stdout",
     "output_type": "stream",
     "text": [
      "Error fetching http://thepokies4.net: Timeout 10000ms exceeded.\n"
     ]
    },
    {
     "name": "stderr",
     "output_type": "stream",
     "text": [
      "Fetching URLs:  86%|████████▌ | 747/868 [41:14<20:05,  9.96s/it]"
     ]
    },
    {
     "name": "stdout",
     "output_type": "stream",
     "text": [
      "Error fetching http://thepokies40.net: Timeout 10000ms exceeded.\n"
     ]
    },
    {
     "name": "stderr",
     "output_type": "stream",
     "text": [
      "Fetching URLs:  86%|████████▌ | 748/868 [41:24<19:59,  9.99s/it]"
     ]
    },
    {
     "name": "stdout",
     "output_type": "stream",
     "text": [
      "Error fetching http://thepokies43.net: Timeout 10000ms exceeded.\n"
     ]
    },
    {
     "name": "stderr",
     "output_type": "stream",
     "text": [
      "Fetching URLs:  86%|████████▋ | 749/868 [41:25<13:59,  7.06s/it]"
     ]
    },
    {
     "name": "stdout",
     "output_type": "stream",
     "text": [
      "Error fetching http://thepokies5.net: net::ERR_NAME_NOT_RESOLVED at http://thepokies5.net/\n"
     ]
    },
    {
     "name": "stderr",
     "output_type": "stream",
     "text": [
      "Fetching URLs:  86%|████████▋ | 750/868 [41:35<15:38,  7.95s/it]"
     ]
    },
    {
     "name": "stdout",
     "output_type": "stream",
     "text": [
      "Error fetching http://thepokies6.net: Timeout 10000ms exceeded.\n"
     ]
    },
    {
     "name": "stderr",
     "output_type": "stream",
     "text": [
      "Fetching URLs:  87%|████████▋ | 753/868 [42:05<17:38,  9.21s/it]"
     ]
    },
    {
     "name": "stdout",
     "output_type": "stream",
     "text": [
      "Error fetching http://thepokies7.net: Timeout 10000ms exceeded.\n"
     ]
    },
    {
     "name": "stderr",
     "output_type": "stream",
     "text": [
      "Fetching URLs:  87%|████████▋ | 758/868 [42:43<15:19,  8.36s/it]"
     ]
    },
    {
     "name": "stdout",
     "output_type": "stream",
     "text": [
      "Error fetching http://thepokies8.net: Timeout 10000ms exceeded.\n"
     ]
    },
    {
     "name": "stderr",
     "output_type": "stream",
     "text": [
      "Fetching URLs:  87%|████████▋ | 759/868 [42:49<13:25,  7.39s/it]"
     ]
    },
    {
     "name": "stdout",
     "output_type": "stream",
     "text": [
      "Error fetching http://thepokies9.net: net::ERR_NAME_NOT_RESOLVED at http://thepokies9.net/\n"
     ]
    },
    {
     "name": "stderr",
     "output_type": "stream",
     "text": [
      "Fetching URLs:  88%|████████▊ | 765/868 [43:04<04:53,  2.85s/it]"
     ]
    },
    {
     "name": "stdout",
     "output_type": "stream",
     "text": [
      "Error fetching http://toptrueblue.com: net::ERR_NAME_NOT_RESOLVED at http://toptrueblue.com/\n",
      "Error fetching http://true131.com: net::ERR_NAME_NOT_RESOLVED at http://true131.com/\n"
     ]
    },
    {
     "name": "stderr",
     "output_type": "stream",
     "text": [
      "Fetching URLs:  88%|████████▊ | 768/868 [43:04<02:05,  1.25s/it]"
     ]
    },
    {
     "name": "stdout",
     "output_type": "stream",
     "text": [
      "Error fetching http://true143.com: net::ERR_NAME_NOT_RESOLVED at http://true143.com/\n",
      "Error fetching http://true178.com: net::ERR_NAME_NOT_RESOLVED at http://true178.com/\n",
      "Error fetching http://true188.com: net::ERR_NAME_NOT_RESOLVED at http://true188.com/\n"
     ]
    },
    {
     "name": "stderr",
     "output_type": "stream",
     "text": [
      "Fetching URLs:  89%|████████▊ | 769/868 [43:04<01:35,  1.04it/s]"
     ]
    },
    {
     "name": "stdout",
     "output_type": "stream",
     "text": [
      "Error fetching http://true234.com: net::ERR_NAME_NOT_RESOLVED at http://true234.com/\n"
     ]
    },
    {
     "name": "stderr",
     "output_type": "stream",
     "text": [
      "Fetching URLs:  89%|████████▊ | 770/868 [43:05<01:31,  1.07it/s]"
     ]
    },
    {
     "name": "stdout",
     "output_type": "stream",
     "text": [
      "Error fetching http://true3210.com: net::ERR_NAME_NOT_RESOLVED at http://true3210.com/\n",
      "Error fetching http://true444.com: net::ERR_NAME_NOT_RESOLVED at http://true444.com/\n"
     ]
    },
    {
     "name": "stderr",
     "output_type": "stream",
     "text": [
      "Fetching URLs:  89%|████████▉ | 773/868 [43:05<00:44,  2.16it/s]"
     ]
    },
    {
     "name": "stdout",
     "output_type": "stream",
     "text": [
      "Error fetching http://true555.com: net::ERR_NAME_NOT_RESOLVED at http://true555.com/\n",
      "Error fetching http://true567.com: net::ERR_NAME_NOT_RESOLVED at http://true567.com/\n"
     ]
    },
    {
     "name": "stderr",
     "output_type": "stream",
     "text": [
      "Fetching URLs:  89%|████████▉ | 776/868 [43:05<00:22,  4.10it/s]"
     ]
    },
    {
     "name": "stdout",
     "output_type": "stream",
     "text": [
      "Error fetching http://true616.com: net::ERR_NAME_NOT_RESOLVED at http://true616.com/\n",
      "Error fetching http://true717.com: net::ERR_NAME_NOT_RESOLVED at http://true717.com/\n",
      "Error fetching http://true76780.com: net::ERR_NAME_NOT_RESOLVED at http://true76780.com/\n",
      "Error fetching http://true818.com: net::ERR_NAME_NOT_RESOLVED at http://true818.com/\n"
     ]
    },
    {
     "name": "stderr",
     "output_type": "stream",
     "text": [
      "Fetching URLs:  90%|████████▉ | 778/868 [43:05<00:15,  5.63it/s]"
     ]
    },
    {
     "name": "stdout",
     "output_type": "stream",
     "text": [
      "Error fetching http://trueblue777.com: net::ERR_NAME_NOT_RESOLVED at http://trueblue777.com/\n",
      "Error fetching http://trueblueau.com: net::ERR_NAME_NOT_RESOLVED at http://trueblueau.com/\n"
     ]
    },
    {
     "name": "stderr",
     "output_type": "stream",
     "text": [
      "Fetching URLs:  90%|█████████ | 782/868 [43:07<00:23,  3.74it/s]"
     ]
    },
    {
     "name": "stdout",
     "output_type": "stream",
     "text": [
      "Error fetching http://truebluecasino.com: net::ERR_NAME_NOT_RESOLVED at http://truebluecasino.com/\n",
      "Error fetching http://Truebluecasinoapp.com: net::ERR_NAME_NOT_RESOLVED at http://truebluecasinoapp.com/\n",
      "Error fetching http://truebluecasinoau.com: net::ERR_NAME_NOT_RESOLVED at http://truebluecasinoau.com/\n"
     ]
    },
    {
     "name": "stderr",
     "output_type": "stream",
     "text": [
      "Fetching URLs:  90%|█████████ | 783/868 [43:08<00:37,  2.27it/s]"
     ]
    },
    {
     "name": "stdout",
     "output_type": "stream",
     "text": [
      "Error fetching http://truebluecasinos.com.au: net::ERR_NAME_NOT_RESOLVED at http://truebluecasinos.com.au/\n"
     ]
    },
    {
     "name": "stderr",
     "output_type": "stream",
     "text": [
      "Fetching URLs:  90%|█████████ | 784/868 [43:09<00:34,  2.40it/s]"
     ]
    },
    {
     "name": "stdout",
     "output_type": "stream",
     "text": [
      "Error fetching http://twoup.club: net::ERR_NAME_NOT_RESOLVED at http://twoup.club/\n"
     ]
    },
    {
     "name": "stderr",
     "output_type": "stream",
     "text": [
      "Fetching URLs:  91%|█████████ | 786/868 [43:10<00:40,  2.02it/s]"
     ]
    },
    {
     "name": "stdout",
     "output_type": "stream",
     "text": [
      "Error fetching http://twoupclub.com: net::ERR_NAME_NOT_RESOLVED at http://twoupclub.com/\n"
     ]
    },
    {
     "name": "stderr",
     "output_type": "stream",
     "text": [
      "Fetching URLs:  91%|█████████▏| 793/868 [43:41<06:19,  5.07s/it]"
     ]
    },
    {
     "name": "stdout",
     "output_type": "stream",
     "text": [
      "Error fetching http://uptownpokiesforyou.com: Timeout 10000ms exceeded.\n"
     ]
    },
    {
     "name": "stderr",
     "output_type": "stream",
     "text": [
      "Fetching URLs:  92%|█████████▏| 795/868 [43:58<08:17,  6.81s/it]"
     ]
    },
    {
     "name": "stdout",
     "output_type": "stream",
     "text": [
      "Error fetching http://uptownpokieslive.com: Timeout 10000ms exceeded.\n"
     ]
    },
    {
     "name": "stderr",
     "output_type": "stream",
     "text": [
      "Fetching URLs:  92%|█████████▏| 797/868 [44:13<08:50,  7.47s/it]"
     ]
    },
    {
     "name": "stdout",
     "output_type": "stream",
     "text": [
      "Error fetching http://uptownpokiesnew.com: Timeout 10000ms exceeded.\n"
     ]
    },
    {
     "name": "stderr",
     "output_type": "stream",
     "text": [
      "Fetching URLs:  92%|█████████▏| 799/868 [44:29<09:12,  8.00s/it]"
     ]
    },
    {
     "name": "stdout",
     "output_type": "stream",
     "text": [
      "Error fetching http://uptownpokiestube.com: Timeout 10000ms exceeded.\n"
     ]
    },
    {
     "name": "stderr",
     "output_type": "stream",
     "text": [
      "Fetching URLs:  93%|█████████▎| 809/868 [44:54<02:05,  2.12s/it]"
     ]
    },
    {
     "name": "stdout",
     "output_type": "stream",
     "text": [
      "Error fetching http://wagerbeat.com: net::ERR_EMPTY_RESPONSE at http://wagerbeat.com/\n",
      "Error fetching http://wagerbeat222.com: net::ERR_NAME_NOT_RESOLVED at http://wagerbeat222.com/\n",
      "Error fetching http://wagerbeat237.com: net::ERR_NAME_NOT_RESOLVED at http://wagerbeat237.com/\n"
     ]
    },
    {
     "name": "stderr",
     "output_type": "stream",
     "text": [
      "Fetching URLs:  93%|█████████▎| 811/868 [44:54<01:07,  1.18s/it]"
     ]
    },
    {
     "name": "stdout",
     "output_type": "stream",
     "text": [
      "Error fetching http://Wagerbeat252.com: net::ERR_NAME_NOT_RESOLVED at http://wagerbeat252.com/\n",
      "Error fetching http://wagerbeat282.com: net::ERR_NAME_NOT_RESOLVED at http://wagerbeat282.com/\n"
     ]
    },
    {
     "name": "stderr",
     "output_type": "stream",
     "text": [
      "Fetching URLs:  94%|█████████▍| 816/868 [45:00<00:55,  1.07s/it]"
     ]
    },
    {
     "name": "stdout",
     "output_type": "stream",
     "text": [
      "Error fetching http://wagerbeat312.com: net::ERR_NAME_NOT_RESOLVED at http://wagerbeat312.com/\n",
      "Error fetching http://wagerbeat327.com: net::ERR_NAME_NOT_RESOLVED at http://wagerbeat327.com/\n"
     ]
    },
    {
     "name": "stderr",
     "output_type": "stream",
     "text": [
      "Fetching URLs:  94%|█████████▍| 817/868 [45:00<00:43,  1.16it/s]"
     ]
    },
    {
     "name": "stdout",
     "output_type": "stream",
     "text": [
      "Error fetching http://wagerbeat342.com: net::ERR_NAME_NOT_RESOLVED at http://wagerbeat342.com/\n",
      "Error fetching http://wagerbeat414.com: net::ERR_NAME_NOT_RESOLVED at http://wagerbeat414.com/\n"
     ]
    },
    {
     "name": "stderr",
     "output_type": "stream",
     "text": [
      "Fetching URLs:  94%|█████████▍| 820/868 [45:12<02:11,  2.75s/it]"
     ]
    },
    {
     "name": "stdout",
     "output_type": "stream",
     "text": [
      "Error fetching http://welovelotto.com: Timeout 10000ms exceeded.\n"
     ]
    },
    {
     "name": "stderr",
     "output_type": "stream",
     "text": [
      "Fetching URLs:  95%|█████████▍| 822/868 [45:27<03:49,  4.98s/it]"
     ]
    },
    {
     "name": "stdout",
     "output_type": "stream",
     "text": [
      "Error fetching http://wildblaster46.com: Timeout 10000ms exceeded.\n"
     ]
    },
    {
     "name": "stderr",
     "output_type": "stream",
     "text": [
      "Fetching URLs:  96%|█████████▌| 830/868 [45:54<02:44,  4.34s/it]"
     ]
    },
    {
     "name": "stdout",
     "output_type": "stream",
     "text": [
      "Error fetching http://wildjoker2.com: Timeout 10000ms exceeded.\n"
     ]
    },
    {
     "name": "stderr",
     "output_type": "stream",
     "text": [
      "Fetching URLs:  96%|█████████▌| 832/868 [46:05<03:10,  5.28s/it]"
     ]
    },
    {
     "name": "stdout",
     "output_type": "stream",
     "text": [
      "Error fetching http://wildtornado.casino: Timeout 10000ms exceeded.\n"
     ]
    },
    {
     "name": "stderr",
     "output_type": "stream",
     "text": [
      "Fetching URLs:  96%|█████████▌| 834/868 [46:07<01:40,  2.97s/it]"
     ]
    },
    {
     "name": "stdout",
     "output_type": "stream",
     "text": [
      "Error fetching http://wildtornado77.casino: net::ERR_NAME_NOT_RESOLVED at http://wildtornado77.casino/\n"
     ]
    },
    {
     "name": "stderr",
     "output_type": "stream",
     "text": [
      "Fetching URLs:  97%|█████████▋| 838/868 [46:13<00:47,  1.59s/it]"
     ]
    },
    {
     "name": "stdout",
     "output_type": "stream",
     "text": [
      "Error fetching http://winningdays1.com: net::ERR_NAME_NOT_RESOLVED at http://winningdays1.com/\n"
     ]
    },
    {
     "name": "stderr",
     "output_type": "stream",
     "text": [
      "Fetching URLs:  97%|█████████▋| 846/868 [46:27<00:33,  1.55s/it]"
     ]
    },
    {
     "name": "stdout",
     "output_type": "stream",
     "text": [
      "Error fetching http://woocasino1.com: net::ERR_NAME_NOT_RESOLVED at http://woocasino1.com/\n"
     ]
    },
    {
     "name": "stderr",
     "output_type": "stream",
     "text": [
      "Fetching URLs:  98%|█████████▊| 847/868 [46:29<00:36,  1.72s/it]"
     ]
    },
    {
     "name": "stdout",
     "output_type": "stream",
     "text": [
      "Error fetching http://woocasino2.com: net::ERR_NAME_NOT_RESOLVED at http://woocasino2.com/\n"
     ]
    },
    {
     "name": "stderr",
     "output_type": "stream",
     "text": [
      "Fetching URLs:  98%|█████████▊| 848/868 [46:30<00:30,  1.53s/it]"
     ]
    },
    {
     "name": "stdout",
     "output_type": "stream",
     "text": [
      "Error fetching http://woocasino3.com: net::ERR_NAME_NOT_RESOLVED at http://woocasino3.com/\n"
     ]
    },
    {
     "name": "stderr",
     "output_type": "stream",
     "text": [
      "Fetching URLs:  98%|█████████▊| 849/868 [46:31<00:26,  1.39s/it]"
     ]
    },
    {
     "name": "stdout",
     "output_type": "stream",
     "text": [
      "Error fetching http://woocasino4.com: net::ERR_NAME_NOT_RESOLVED at http://woocasino4.com/\n"
     ]
    },
    {
     "name": "stderr",
     "output_type": "stream",
     "text": [
      "Fetching URLs:  98%|█████████▊| 850/868 [46:32<00:22,  1.26s/it]"
     ]
    },
    {
     "name": "stdout",
     "output_type": "stream",
     "text": [
      "Error fetching http://woocasino5.com: net::ERR_NAME_NOT_RESOLVED at http://woocasino5.com/\n"
     ]
    },
    {
     "name": "stderr",
     "output_type": "stream",
     "text": [
      "Fetching URLs:  98%|█████████▊| 851/868 [46:33<00:20,  1.19s/it]"
     ]
    },
    {
     "name": "stdout",
     "output_type": "stream",
     "text": [
      "Error fetching http://woocasino6.com: net::ERR_NAME_NOT_RESOLVED at http://woocasino6.com/\n"
     ]
    },
    {
     "name": "stderr",
     "output_type": "stream",
     "text": [
      "Fetching URLs:  99%|█████████▉| 858/868 [46:46<00:32,  3.29s/it]"
     ]
    },
    {
     "name": "stdout",
     "output_type": "stream",
     "text": [
      "Error fetching http://xbet.ag: Timeout 10000ms exceeded.\n"
     ]
    },
    {
     "name": "stderr",
     "output_type": "stream",
     "text": [
      "Fetching URLs:  99%|█████████▉| 859/868 [46:47<00:23,  2.63s/it]"
     ]
    },
    {
     "name": "stdout",
     "output_type": "stream",
     "text": [
      "Error fetching http://xpslots.com: net::ERR_NAME_NOT_RESOLVED at http://xpslots.com/\n"
     ]
    },
    {
     "name": "stderr",
     "output_type": "stream",
     "text": [
      "Fetching URLs:  99%|█████████▉| 861/868 [46:48<00:11,  1.70s/it]Task exception was never retrieved\n",
      "future: <Task finished name='Task-130' coro=<Connection.run() done, defined at /usr/local/lib/python3.10/dist-packages/playwright/_impl/_connection.py:268> exception=AttributeError(\"'dict' object has no attribute '_object'\")>\n",
      "Traceback (most recent call last):\n",
      "  File \"/usr/local/lib/python3.10/dist-packages/playwright/_impl/_connection.py\", line 277, in run\n",
      "    await self._transport.run()\n",
      "  File \"/usr/local/lib/python3.10/dist-packages/playwright/_impl/_transport.py\", line 163, in run\n",
      "    self.on_message(obj)\n",
      "  File \"/usr/local/lib/python3.10/dist-packages/playwright/_impl/_connection.py\", line 236, in <lambda>\n",
      "    self._transport.on_message = lambda msg: self.dispatch(msg)\n",
      "  File \"/usr/local/lib/python3.10/dist-packages/playwright/_impl/_connection.py\", line 395, in dispatch\n",
      "    self._create_remote_object(\n",
      "  File \"/usr/local/lib/python3.10/dist-packages/playwright/_impl/_connection.py\", line 445, in _create_remote_object\n",
      "    result = self._object_factory(parent, type, guid, initializer)\n",
      "  File \"/usr/local/lib/python3.10/dist-packages/playwright/_impl/_object_factory.py\", line 67, in create_remote_object\n",
      "    return Frame(parent, type, guid, initializer)\n",
      "  File \"/usr/local/lib/python3.10/dist-packages/playwright/_impl/_frame.py\", line 79, in __init__\n",
      "    self._parent_frame = from_nullable_channel(initializer.get(\"parentFrame\"))\n",
      "  File \"/usr/local/lib/python3.10/dist-packages/playwright/_impl/_connection.py\", line 515, in from_nullable_channel\n",
      "    return channel._object if channel else None\n",
      "AttributeError: 'dict' object has no attribute '_object'\n"
     ]
    }
   ],
   "source": [
    "\n",
    "file_urls = 'data/urls_pos.txt'\n",
    "file_output = 'data/pos_raw.txt'\n",
    "dead_urls_output = 'data/dead_urls_pos.txt'\n",
    "\n",
    "def write_dead(url):\n",
    "    with open(dead_urls_output, \"a\") as out_file:\n",
    "        out_file.write(url+\"\\n\")\n",
    "\n",
    "TIMEOUT = 10\n",
    "SAVE_THRES = 1\n",
    "WORD_THRES = 50\n",
    "async def run():\n",
    "    contents = []\n",
    "    async with async_playwright() as p:\n",
    "        browser = await p.chromium.launch()\n",
    "        context = await browser.new_context()\n",
    "        page = await context.new_page()\n",
    "        await page.set_extra_http_headers({\n",
    "            'User-Agent': 'Mozilla/5.0 (Windows NT 10.0; Win64; x64) AppleWebKit/537.36 (KHTML, like Gecko) Chrome/58.0.3029.110 Safari/537.3',\n",
    "            'Accept-Language': 'en-US,en;q=0.5'\n",
    "        })\n",
    "\n",
    "        with open(file_urls, 'r') as file:\n",
    "            urls = file.readlines()\n",
    "        \n",
    "        i = 0\n",
    "        for url in tqdm(urls, desc=\"Fetching URLs\"):\n",
    "            url = 'http://' + url.strip() # Remove whitespace/newlines\n",
    "\n",
    "            # fetch content \n",
    "            content = \"\"\n",
    "            try:\n",
    "                await page.goto(url, timeout=TIMEOUT*1000)\n",
    "                content = await page.content()\n",
    "                soup = BeautifulSoup(content, \"html.parser\")\n",
    "                content = soup.get_text(strip=True)\n",
    "            except Exception as e:\n",
    "                write_dead(url)\n",
    "                print(f\"Error fetching {url}: {e}\")\n",
    "                continue\n",
    "            \n",
    "            if content and len(content.split()) > WORD_THRES:\n",
    "                content = re.sub(r'[^\\w .,;:!?\"\\'-]', ' ', content, flags=re.UNICODE)\n",
    "                content = re.sub(r'\\s+', ' ', content) # compress multiple spaces into one\n",
    "                content = content.strip()\n",
    "                contents.append(content)\n",
    "                i += 1\n",
    "            \n",
    "                if i % SAVE_THRES == 0:\n",
    "                    with open(file_output, \"a\") as out_file:\n",
    "                        out_file.write(\"\\n\\n\".join(contents) + \"\\n\\n\")\n",
    "                    contents = []\n",
    "            else:\n",
    "                write_dead(url)\n",
    "\n",
    "\n",
    "        await context.close()\n",
    "        await browser.close()\n",
    "\n",
    "await run()"
   ]
  },
  {
   "cell_type": "code",
   "execution_count": 45,
   "metadata": {},
   "outputs": [
    {
     "data": {
      "text/plain": [
       "47"
      ]
     },
     "execution_count": 45,
     "metadata": {},
     "output_type": "execute_result"
    }
   ],
   "source": [
    "st = \"This approach works well for most text, but keep in mind that it considers anything separated by whitespace as a word, including numbers and punctuation. For more complex definitions of a word (for example, excluding punctuation), you would need a more sophisticated method, potentially involving regular expressions.\"\n",
    "len(st.split())"
   ]
  }
 ],
 "metadata": {
  "kernelspec": {
   "display_name": "Python 3 (ipykernel)",
   "language": "python",
   "name": "python3"
  },
  "language_info": {
   "codemirror_mode": {
    "name": "ipython",
    "version": 3
   },
   "file_extension": ".py",
   "mimetype": "text/x-python",
   "name": "python",
   "nbconvert_exporter": "python",
   "pygments_lexer": "ipython3",
   "version": "3.10.12"
  }
 },
 "nbformat": 4,
 "nbformat_minor": 2
}
