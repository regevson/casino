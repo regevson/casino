{
 "cells": [
  {
   "cell_type": "code",
   "execution_count": 1,
   "metadata": {},
   "outputs": [
    {
     "name": "stderr",
     "output_type": "stream",
     "text": [
      "[nltk_data] Downloading package stopwords to /root/nltk_data...\n",
      "[nltk_data]   Package stopwords is already up-to-date!\n",
      "[nltk_data] Downloading package words to /root/nltk_data...\n",
      "[nltk_data]   Package words is already up-to-date!\n"
     ]
    },
    {
     "data": {
      "text/plain": [
       "True"
      ]
     },
     "execution_count": 1,
     "metadata": {},
     "output_type": "execute_result"
    }
   ],
   "source": [
    "import numpy as np\n",
    "import pandas as pd\n",
    "import requests\n",
    "from bs4 import BeautifulSoup\n",
    "import re\n",
    "from tqdm import tqdm\n",
    "from playwright.async_api import async_playwright\n",
    "\n",
    "import nltk\n",
    "from nltk.corpus import stopwords\n",
    "from nltk.corpus import words as english_words\n",
    "nltk.download('stopwords')\n",
    "nltk.download('words')"
   ]
  },
  {
   "cell_type": "markdown",
   "metadata": {},
   "source": [
    "## Casino List\n",
    "- https://www.casinoslists.com/casinos/best\n",
    "- https://www.casinofreak.com/reviews/all-online-casinos\n",
    "- https://casinoalpha.com/online-casinos/list/page/2/\n",
    "- https://www.nonstopbonus.com/new-online-casinos\n",
    "- https://list.casino/\n",
    "- https://lcb.org/casinos"
   ]
  },
  {
   "cell_type": "code",
   "execution_count": 2,
   "metadata": {},
   "outputs": [],
   "source": [
    "headers = {\n",
    "    'User-Agent': 'Mozilla/5.0 (Windows NT 10.0; Win64; x64) AppleWebKit/537.36 (KHTML, like Gecko) Chrome/58.0.3029.110 Safari/537.3',\n",
    "    'Accept-Language': 'en-US,en;q=0.5'\n",
    "}"
   ]
  },
  {
   "cell_type": "raw",
   "metadata": {
    "vscode": {
     "languageId": "python"
    }
   },
   "source": [
    "# Scrape casino lists for urls\n",
    "idx = 0\n",
    "urls = []\n",
    "\n",
    "while True:\n",
    "    idx += 1\n",
    "    print(idx)\n",
    "    url = f\"https://lcb.org/partial/sites/list?&order[rating]=DESC&region=at&page={idx}&show_hidden=true\"\n",
    "    response = requests.get(url, headers=headers)\n",
    "    if not response.ok:\n",
    "        break\n",
    "\n",
    "    soup = BeautifulSoup(response.content, 'html.parser')\n",
    "    div_elements = soup.find_all('div', class_='table-cell logo casino')\n",
    "\n",
    "    for div in div_elements:\n",
    "        link = div.find('a')\n",
    "        if link:\n",
    "            print(\"appended\", link.get('href'))\n",
    "            urls.append(link.get('href'))\n",
    "\n",
    "print(urls)"
   ]
  },
  {
   "cell_type": "raw",
   "metadata": {
    "vscode": {
     "languageId": "python"
    }
   },
   "source": [
    "# remove duplicate urls and save them to file\n",
    "print(len(urls))\n",
    "urls = list(set(links))\n",
    "with open('data/urls.txt', 'w') as file:\n",
    "    for url in links:\n",
    "        file.write(url + '\\n')\n",
    "print(len(urls))"
   ]
  },
  {
   "cell_type": "raw",
   "metadata": {
    "vscode": {
     "languageId": "python"
    }
   },
   "source": [
    "# open urls from file\n",
    "return\n",
    "with open('data/urls_negatives.txt', 'r') as file:\n",
    "    urls = [line.strip() for line in file]"
   ]
  },
  {
   "cell_type": "raw",
   "metadata": {
    "vscode": {
     "languageId": "python"
    }
   },
   "source": [
    "# take urls and download website content\n",
    "\n",
    "return\n",
    "df = pd.DataFrame([], columns=['text'])\n",
    "dest_file_name = \"positives\"\n",
    "\n",
    "content = []\n",
    "idx = 0\n",
    "for url in tqdm(urls, desc=\"Processing urls\"):\n",
    "    try:\n",
    "        response = requests.get(\"http://\" + url, headers=headers)\n",
    "        if response.ok:\n",
    "            soup = BeautifulSoup(response.content, 'html.parser')\n",
    "            txt = soup.get_text().replace(\"\\n\", \"\")\n",
    "            if len(txt) > 50:\n",
    "                content.append(txt)\n",
    "                print(txt)\n",
    "                idx += 1\n",
    "                if idx % 30 == 0:\n",
    "                    df_new = pd.DataFrame(content, columns=['text'])\n",
    "                    df = pd.concat([df, df_new], ignore_index=True)\n",
    "                    df.to_csv(f'data/{dest_file_name}.csv', index=False)\n",
    "                    content = []\n",
    "                    idx = 0\n",
    "    except Exception as e:\n",
    "        print(f\"An error occurred: {str(e)}\")\n"
   ]
  },
  {
   "cell_type": "raw",
   "metadata": {},
   "source": [
    "with open('data/positives.csv', 'r') as file:\n",
    "    lines = file.readlines()\n",
    "\n",
    "# Apply changes to each line\n",
    "for i in range(len(lines)):\n",
    "    lines[i] = lines[i].replace('\\r', '')\n",
    "    lines[i] = lines[i].replace('\"', '')\n",
    "    lines[i] = re.sub(r' +', ' ', lines[i])\n",
    "    lines[i] = lines[i].strip(' ')\n",
    "    lines[i] = lines[i].replace(',', '')\n",
    "    lines[i] = lines[i].replace('\\n', '')\n",
    "    lines[i] = lines[i] + \"\\n\"\n",
    "\n",
    "with open('positives_clean.csv', 'w') as file:\n",
    "    file.writelines(lines)\n"
   ]
  },
  {
   "cell_type": "code",
   "execution_count": 3,
   "metadata": {},
   "outputs": [
    {
     "data": {
      "text/html": [
       "<div>\n",
       "<style scoped>\n",
       "    .dataframe tbody tr th:only-of-type {\n",
       "        vertical-align: middle;\n",
       "    }\n",
       "\n",
       "    .dataframe tbody tr th {\n",
       "        vertical-align: top;\n",
       "    }\n",
       "\n",
       "    .dataframe thead th {\n",
       "        text-align: right;\n",
       "    }\n",
       "</style>\n",
       "<table border=\"1\" class=\"dataframe\">\n",
       "  <thead>\n",
       "    <tr style=\"text-align: right;\">\n",
       "      <th></th>\n",
       "      <th>text</th>\n",
       "      <th>label</th>\n",
       "    </tr>\n",
       "  </thead>\n",
       "  <tbody>\n",
       "    <tr>\n",
       "      <th>0</th>\n",
       "      <td>SISportsbook | Sports Betting Odds | Bet $10 G...</td>\n",
       "      <td>1</td>\n",
       "    </tr>\n",
       "    <tr>\n",
       "      <th>1</th>\n",
       "      <td>Online Sportsbook | Bet Online | Online Sports...</td>\n",
       "      <td>1</td>\n",
       "    </tr>\n",
       "    <tr>\n",
       "      <th>2</th>\n",
       "      <td>FanDuel | Daily Fantasy Sports and Online U.S....</td>\n",
       "      <td>1</td>\n",
       "    </tr>\n",
       "    <tr>\n",
       "      <th>3</th>\n",
       "      <td>To view this video please enable JavaScript an...</td>\n",
       "      <td>1</td>\n",
       "    </tr>\n",
       "    <tr>\n",
       "      <th>4</th>\n",
       "      <td>web browser that</td>\n",
       "      <td>1</td>\n",
       "    </tr>\n",
       "    <tr>\n",
       "      <th>...</th>\n",
       "      <td>...</td>\n",
       "      <td>...</td>\n",
       "    </tr>\n",
       "    <tr>\n",
       "      <th>3417</th>\n",
       "      <td>Free Podcast Hosting - Buzzsprout Buzzsprout m...</td>\n",
       "      <td>0</td>\n",
       "    </tr>\n",
       "    <tr>\n",
       "      <th>3418</th>\n",
       "      <td>ORCID Please enable JavaScript to continue usi...</td>\n",
       "      <td>0</td>\n",
       "    </tr>\n",
       "    <tr>\n",
       "      <th>3419</th>\n",
       "      <td>Discover Top Blogs &amp; Best Websites in 2023 - F...</td>\n",
       "      <td>0</td>\n",
       "    </tr>\n",
       "    <tr>\n",
       "      <th>3420</th>\n",
       "      <td>Google AR &amp; VR | Home OverviewNews &amp; Announcem...</td>\n",
       "      <td>0</td>\n",
       "    </tr>\n",
       "    <tr>\n",
       "      <th>3421</th>\n",
       "      <td>Opinion - Opinionator - The New York Times Sec...</td>\n",
       "      <td>0</td>\n",
       "    </tr>\n",
       "  </tbody>\n",
       "</table>\n",
       "<p>3422 rows × 2 columns</p>\n",
       "</div>"
      ],
      "text/plain": [
       "                                                   text  label\n",
       "0     SISportsbook | Sports Betting Odds | Bet $10 G...      1\n",
       "1     Online Sportsbook | Bet Online | Online Sports...      1\n",
       "2     FanDuel | Daily Fantasy Sports and Online U.S....      1\n",
       "3     To view this video please enable JavaScript an...      1\n",
       "4                                      web browser that      1\n",
       "...                                                 ...    ...\n",
       "3417  Free Podcast Hosting - Buzzsprout Buzzsprout m...      0\n",
       "3418  ORCID Please enable JavaScript to continue usi...      0\n",
       "3419  Discover Top Blogs & Best Websites in 2023 - F...      0\n",
       "3420  Google AR & VR | Home OverviewNews & Announcem...      0\n",
       "3421  Opinion - Opinionator - The New York Times Sec...      0\n",
       "\n",
       "[3422 rows x 2 columns]"
      ]
     },
     "execution_count": 3,
     "metadata": {},
     "output_type": "execute_result"
    }
   ],
   "source": [
    "df_pos = pd.read_csv('data/positives_clean.csv', lineterminator='\\n')\n",
    "df_neg = pd.read_csv('data/negatives_clean.csv', lineterminator='\\n')\n",
    "\n",
    "df_pos['label'] = 1\n",
    "df_neg['label'] = 0\n",
    "\n",
    "df = pd.concat([df_pos, df_neg], ignore_index=True)\n",
    "df"
   ]
  },
  {
   "cell_type": "code",
   "execution_count": 4,
   "metadata": {},
   "outputs": [
    {
     "name": "stdout",
     "output_type": "stream",
     "text": [
      "len 3422\n",
      "len 1070\n"
     ]
    },
    {
     "data": {
      "text/html": [
       "<div>\n",
       "<style scoped>\n",
       "    .dataframe tbody tr th:only-of-type {\n",
       "        vertical-align: middle;\n",
       "    }\n",
       "\n",
       "    .dataframe tbody tr th {\n",
       "        vertical-align: top;\n",
       "    }\n",
       "\n",
       "    .dataframe thead th {\n",
       "        text-align: right;\n",
       "    }\n",
       "</style>\n",
       "<table border=\"1\" class=\"dataframe\">\n",
       "  <thead>\n",
       "    <tr style=\"text-align: right;\">\n",
       "      <th></th>\n",
       "      <th>text</th>\n",
       "      <th>label</th>\n",
       "    </tr>\n",
       "  </thead>\n",
       "  <tbody>\n",
       "    <tr>\n",
       "      <th>0</th>\n",
       "      <td>sisportsbook | sports betting odds | bet $10 g...</td>\n",
       "      <td>1</td>\n",
       "    </tr>\n",
       "    <tr>\n",
       "      <th>1</th>\n",
       "      <td>online sportsbook | bet online | online sports...</td>\n",
       "      <td>1</td>\n",
       "    </tr>\n",
       "    <tr>\n",
       "      <th>2</th>\n",
       "      <td>fanduel | daily fantasy sports and online u.s....</td>\n",
       "      <td>1</td>\n",
       "    </tr>\n",
       "    <tr>\n",
       "      <th>5</th>\n",
       "      <td>supports html5 videoskipnew customersbet $5 ge...</td>\n",
       "      <td>1</td>\n",
       "    </tr>\n",
       "    <tr>\n",
       "      <th>6</th>\n",
       "      <td>malta sunsetsign inbeginning on 22 january 202...</td>\n",
       "      <td>1</td>\n",
       "    </tr>\n",
       "    <tr>\n",
       "      <th>...</th>\n",
       "      <td>...</td>\n",
       "      <td>...</td>\n",
       "    </tr>\n",
       "    <tr>\n",
       "      <th>3416</th>\n",
       "      <td>online community for artists [pixiv] pixiv has...</td>\n",
       "      <td>0</td>\n",
       "    </tr>\n",
       "    <tr>\n",
       "      <th>3417</th>\n",
       "      <td>free podcast hosting - buzzsprout buzzsprout m...</td>\n",
       "      <td>0</td>\n",
       "    </tr>\n",
       "    <tr>\n",
       "      <th>3419</th>\n",
       "      <td>discover top blogs &amp; best websites in 2023 - f...</td>\n",
       "      <td>0</td>\n",
       "    </tr>\n",
       "    <tr>\n",
       "      <th>3420</th>\n",
       "      <td>google ar &amp; vr | home overviewnews &amp; announcem...</td>\n",
       "      <td>0</td>\n",
       "    </tr>\n",
       "    <tr>\n",
       "      <th>3421</th>\n",
       "      <td>opinion - opinionator - the new york times sec...</td>\n",
       "      <td>0</td>\n",
       "    </tr>\n",
       "  </tbody>\n",
       "</table>\n",
       "<p>1070 rows × 2 columns</p>\n",
       "</div>"
      ],
      "text/plain": [
       "                                                   text  label\n",
       "0     sisportsbook | sports betting odds | bet $10 g...      1\n",
       "1     online sportsbook | bet online | online sports...      1\n",
       "2     fanduel | daily fantasy sports and online u.s....      1\n",
       "5     supports html5 videoskipnew customersbet $5 ge...      1\n",
       "6     malta sunsetsign inbeginning on 22 january 202...      1\n",
       "...                                                 ...    ...\n",
       "3416  online community for artists [pixiv] pixiv has...      0\n",
       "3417  free podcast hosting - buzzsprout buzzsprout m...      0\n",
       "3419  discover top blogs & best websites in 2023 - f...      0\n",
       "3420  google ar & vr | home overviewnews & announcem...      0\n",
       "3421  opinion - opinionator - the new york times sec...      0\n",
       "\n",
       "[1070 rows x 2 columns]"
      ]
     },
     "execution_count": 4,
     "metadata": {},
     "output_type": "execute_result"
    }
   ],
   "source": [
    "print(\"len\", len(df))\n",
    "df['text'] = df['text'].apply(lambda x: x.lower())\n",
    "df.loc[:, 'word_count'] = df['text'].str.split().str.len()\n",
    "df = df[df['word_count'] >= 30]\n",
    "df = df.drop(columns=['word_count'])\n",
    "print(\"len\", len(df))\n",
    "df"
   ]
  },
  {
   "cell_type": "code",
   "execution_count": 7,
   "metadata": {},
   "outputs": [
    {
     "name": "stdout",
     "output_type": "stream",
     "text": [
      "Casino Blocker\n"
     ]
    }
   ],
   "source": [
    "from playwright.async_api import async_playwright\n",
    "import asyncio\n",
    "\n",
    "async def run():\n",
    "    async with async_playwright() as p:\n",
    "        browser = await p.chromium.launch()\n",
    "        page = await browser.new_page()\n",
    "        await page.goto('https://casino.regevson.com')\n",
    "        print(await page.title())\n",
    "        await browser.close()\n",
    "\n",
    "await run()"
   ]
  },
  {
   "cell_type": "code",
   "execution_count": 3,
   "metadata": {},
   "outputs": [
    {
     "name": "stderr",
     "output_type": "stream",
     "text": [
      "Fetching URLs:   0%|          | 2/1839 [00:01<27:26,  1.12it/s]"
     ]
    },
    {
     "name": "stdout",
     "output_type": "stream",
     "text": [
      "Error fetching latinopoker.eu: net::ERR_NAME_NOT_RESOLVED at https://latinopoker.eu/\n"
     ]
    },
    {
     "name": "stderr",
     "output_type": "stream",
     "text": [
      "Fetching URLs:   0%|          | 5/1839 [00:06<47:34,  1.56s/it]"
     ]
    },
    {
     "name": "stdout",
     "output_type": "stream",
     "text": [
      "Error fetching lazvegas.com: net::ERR_NAME_NOT_RESOLVED at https://lazvegas.com/\n"
     ]
    },
    {
     "name": "stderr",
     "output_type": "stream",
     "text": [
      "Fetching URLs:   0%|          | 9/1839 [00:21<2:00:34,  3.95s/it]"
     ]
    },
    {
     "name": "stdout",
     "output_type": "stream",
     "text": [
      "Error fetching legolas.bet: Timeout 10000ms exceeded.\n"
     ]
    },
    {
     "name": "stderr",
     "output_type": "stream",
     "text": [
      "Fetching URLs:   1%|          | 11/1839 [00:32<2:37:50,  5.18s/it]"
     ]
    },
    {
     "name": "stdout",
     "output_type": "stream",
     "text": [
      "Error fetching leojackpot.com: Timeout 10000ms exceeded.\n"
     ]
    },
    {
     "name": "stderr",
     "output_type": "stream",
     "text": [
      "Fetching URLs:   1%|          | 16/1839 [00:42<1:08:58,  2.27s/it]"
     ]
    },
    {
     "name": "stdout",
     "output_type": "stream",
     "text": [
      "Error fetching lightbet.com: net::ERR_CONNECTION_REFUSED at https://lightbet.com/\n"
     ]
    },
    {
     "name": "stderr",
     "output_type": "stream",
     "text": [
      "Fetching URLs:   1%|          | 20/1839 [00:49<50:56,  1.68s/it]  "
     ]
    },
    {
     "name": "stdout",
     "output_type": "stream",
     "text": [
      "Error fetching littlebigbingo.com: net::ERR_NAME_NOT_RESOLVED at https://littlebigbingo.com/\n"
     ]
    },
    {
     "name": "stderr",
     "output_type": "stream",
     "text": [
      "Fetching URLs:   1%|          | 22/1839 [01:05<2:37:38,  5.21s/it]"
     ]
    },
    {
     "name": "stdout",
     "output_type": "stream",
     "text": [
      "Error fetching livebetting.com: Timeout 10000ms exceeded.\n"
     ]
    },
    {
     "name": "stderr",
     "output_type": "stream",
     "text": [
      "Fetching URLs:   1%|▏         | 25/1839 [01:08<1:06:45,  2.21s/it]"
     ]
    },
    {
     "name": "stdout",
     "output_type": "stream",
     "text": [
      "Error fetching livecasino.betway.com: net::ERR_NAME_NOT_RESOLVED at https://livecasino.betway.com/\n"
     ]
    },
    {
     "name": "stderr",
     "output_type": "stream",
     "text": [
      "Fetching URLs:   1%|▏         | 27/1839 [01:08<35:12,  1.17s/it]  "
     ]
    },
    {
     "name": "stdout",
     "output_type": "stream",
     "text": [
      "Error fetching livelounge.com: net::ERR_CERT_DATE_INVALID at https://livelounge.com/\n",
      "Error fetching llamabet.co.uk: net::ERR_NAME_NOT_RESOLVED at https://llamabet.co.uk/\n"
     ]
    },
    {
     "name": "stderr",
     "output_type": "stream",
     "text": [
      "Fetching URLs:   2%|▏         | 28/1839 [01:08<26:00,  1.16it/s]"
     ]
    },
    {
     "name": "stdout",
     "output_type": "stream",
     "text": [
      "Error fetching lldj.com: net::ERR_NAME_NOT_RESOLVED at https://lldj.com/\n"
     ]
    },
    {
     "name": "stderr",
     "output_type": "stream",
     "text": [
      "Fetching URLs:   2%|▏         | 30/1839 [01:11<27:15,  1.11it/s]"
     ]
    },
    {
     "name": "stdout",
     "output_type": "stream",
     "text": [
      "Error fetching loadsabingo.com: net::ERR_HTTP2_PROTOCOL_ERROR at https://loadsabingo.com/\n"
     ]
    },
    {
     "name": "stderr",
     "output_type": "stream",
     "text": [
      "Fetching URLs:   2%|▏         | 31/1839 [01:21<1:49:52,  3.65s/it]"
     ]
    },
    {
     "name": "stdout",
     "output_type": "stream",
     "text": [
      "Error fetching lookbingo.com: Timeout 10000ms exceeded.\n"
     ]
    },
    {
     "name": "stderr",
     "output_type": "stream",
     "text": [
      "Fetching URLs:   2%|▏         | 36/1839 [01:37<2:10:06,  4.33s/it]"
     ]
    },
    {
     "name": "stdout",
     "output_type": "stream",
     "text": [
      "Error fetching lopocasport.com: Timeout 10000ms exceeded.\n"
     ]
    },
    {
     "name": "stderr",
     "output_type": "stream",
     "text": [
      "Fetching URLs:   2%|▏         | 39/1839 [01:50<2:15:42,  4.52s/it]"
     ]
    },
    {
     "name": "stdout",
     "output_type": "stream",
     "text": [
      "Error fetching loteriasyapuestas.es: net::ERR_NAME_NOT_RESOLVED at https://loteriasyapuestas.es/\n"
     ]
    },
    {
     "name": "stderr",
     "output_type": "stream",
     "text": [
      "Fetching URLs:   2%|▏         | 42/1839 [02:01<2:13:16,  4.45s/it]"
     ]
    },
    {
     "name": "stdout",
     "output_type": "stream",
     "text": [
      "Error fetching loterie.lu: Timeout 10000ms exceeded.\n"
     ]
    },
    {
     "name": "stderr",
     "output_type": "stream",
     "text": [
      "Fetching URLs:   3%|▎         | 56/1839 [03:02<1:29:46,  3.02s/it]"
     ]
    },
    {
     "name": "stdout",
     "output_type": "stream",
     "text": [
      "Error fetching lotto-bremen.de: net::ERR_CERT_COMMON_NAME_INVALID at https://lotto-bremen.de/\n"
     ]
    },
    {
     "name": "stderr",
     "output_type": "stream",
     "text": [
      "Fetching URLs:   4%|▎         | 65/1839 [03:28<1:08:11,  2.31s/it]"
     ]
    },
    {
     "name": "stdout",
     "output_type": "stream",
     "text": [
      "Error fetching lotto.cn: net::ERR_NAME_NOT_RESOLVED at https://lotto.cn/\n"
     ]
    },
    {
     "name": "stderr",
     "output_type": "stream",
     "text": [
      "Fetching URLs:   4%|▍         | 73/1839 [03:43<38:06,  1.29s/it]  "
     ]
    },
    {
     "name": "stdout",
     "output_type": "stream",
     "text": [
      "Error fetching lotto24bingo.com: net::ERR_CERT_COMMON_NAME_INVALID at https://lotto24bingo.com/\n"
     ]
    },
    {
     "name": "stderr",
     "output_type": "stream",
     "text": [
      "Fetching URLs:   4%|▍         | 82/1839 [04:03<55:05,  1.88s/it]  "
     ]
    },
    {
     "name": "stdout",
     "output_type": "stream",
     "text": [
      "Error fetching lsbet690.com: net::ERR_NAME_NOT_RESOLVED at https://lsbet690.com/\n"
     ]
    },
    {
     "name": "stderr",
     "output_type": "stream",
     "text": [
      "Fetching URLs:   5%|▍         | 86/1839 [04:10<48:56,  1.67s/it]  "
     ]
    },
    {
     "name": "stdout",
     "output_type": "stream",
     "text": [
      "Error fetching luckyland.co.uk: net::ERR_NAME_NOT_RESOLVED at https://luckyland.co.uk/\n"
     ]
    },
    {
     "name": "stderr",
     "output_type": "stream",
     "text": [
      "Fetching URLs:   5%|▌         | 93/1839 [04:22<37:56,  1.30s/it]  "
     ]
    },
    {
     "name": "stdout",
     "output_type": "stream",
     "text": [
      "Error fetching lutrija.co.me: net::ERR_CERT_AUTHORITY_INVALID at https://lutrija.co.me/\n"
     ]
    },
    {
     "name": "stderr",
     "output_type": "stream",
     "text": [
      "Fetching URLs:   5%|▌         | 96/1839 [04:40<2:21:23,  4.87s/it]"
     ]
    },
    {
     "name": "stdout",
     "output_type": "stream",
     "text": [
      "Error fetching luxbet.com: Timeout 10000ms exceeded.\n"
     ]
    },
    {
     "name": "stderr",
     "output_type": "stream",
     "text": [
      "Fetching URLs:   5%|▌         | 99/1839 [05:00<2:53:18,  5.98s/it]"
     ]
    },
    {
     "name": "stdout",
     "output_type": "stream",
     "text": [
      "Error fetching m.jetbull.com: net::ERR_NAME_NOT_RESOLVED at https://m.jetbull.com/\n"
     ]
    },
    {
     "name": "stderr",
     "output_type": "stream",
     "text": [
      "Fetching URLs:   5%|▌         | 100/1839 [05:01<2:14:52,  4.65s/it]"
     ]
    },
    {
     "name": "stdout",
     "output_type": "stream",
     "text": [
      "Error fetching m.klik4d.com: net::ERR_CONNECTION_RESET at https://m.klik4d.com/\n"
     ]
    },
    {
     "name": "stderr",
     "output_type": "stream",
     "text": [
      "Fetching URLs:   6%|▌         | 102/1839 [05:03<1:14:04,  2.56s/it]"
     ]
    },
    {
     "name": "stdout",
     "output_type": "stream",
     "text": [
      "Error fetching m.skybet.com: net::ERR_ABORTED at https://m.skybet.com/\n"
     ]
    },
    {
     "name": "stderr",
     "output_type": "stream",
     "text": [
      "Fetching URLs:   6%|▌         | 105/1839 [05:14<1:34:11,  3.26s/it]"
     ]
    },
    {
     "name": "stdout",
     "output_type": "stream",
     "text": [
      "Error fetching m8poker.com: Timeout 10000ms exceeded.\n",
      "Error fetching macau-slot.com: net::ERR_NAME_NOT_RESOLVED at https://macau-slot.com/\n"
     ]
    },
    {
     "name": "stderr",
     "output_type": "stream",
     "text": [
      "Fetching URLs:   6%|▌         | 106/1839 [05:24<2:32:58,  5.30s/it]"
     ]
    },
    {
     "name": "stdout",
     "output_type": "stream",
     "text": [
      "Error fetching macau.williamhill.com: Timeout 10000ms exceeded.\n"
     ]
    },
    {
     "name": "stderr",
     "output_type": "stream",
     "text": [
      "Fetching URLs:   6%|▌         | 108/1839 [05:38<3:03:16,  6.35s/it]"
     ]
    },
    {
     "name": "stdout",
     "output_type": "stream",
     "text": [
      "Error fetching macauslot.com: Timeout 10000ms exceeded.\n",
      "Error fetching madbookie.com: net::ERR_NAME_NOT_RESOLVED at https://madbookie.com/\n"
     ]
    },
    {
     "name": "stderr",
     "output_type": "stream",
     "text": [
      "Fetching URLs:   6%|▌         | 110/1839 [05:48<2:45:54,  5.76s/it]"
     ]
    },
    {
     "name": "stdout",
     "output_type": "stream",
     "text": [
      "Error fetching madbookie.com.au: Timeout 10000ms exceeded.\n"
     ]
    },
    {
     "name": "stderr",
     "output_type": "stream",
     "text": [
      "Fetching URLs:   6%|▌         | 111/1839 [05:58<3:16:20,  6.82s/it]"
     ]
    },
    {
     "name": "stdout",
     "output_type": "stream",
     "text": [
      "Error fetching magicbet.com: Timeout 10000ms exceeded.\n"
     ]
    },
    {
     "name": "stderr",
     "output_type": "stream",
     "text": [
      "Fetching URLs:   6%|▋         | 118/1839 [06:13<1:09:53,  2.44s/it]"
     ]
    },
    {
     "name": "stdout",
     "output_type": "stream",
     "text": [
      "Error fetching mansion88.com: net::ERR_CERT_DATE_INVALID at https://mansion88.com/\n"
     ]
    },
    {
     "name": "stderr",
     "output_type": "stream",
     "text": [
      "Fetching URLs:   7%|▋         | 124/1839 [06:32<1:16:32,  2.68s/it]"
     ]
    },
    {
     "name": "stdout",
     "output_type": "stream",
     "text": [
      "Error fetching markjarvisbet.com: Timeout 10000ms exceeded.\n",
      "Error fetching marsbet12.com: net::ERR_NAME_NOT_RESOLVED at https://marsbet12.com/\n",
      "Error fetching marsbet200.com: net::ERR_NAME_NOT_RESOLVED at https://marsbet200.com/\n"
     ]
    },
    {
     "name": "stderr",
     "output_type": "stream",
     "text": [
      "Fetching URLs:   7%|▋         | 126/1839 [06:32<47:11,  1.65s/it]  "
     ]
    },
    {
     "name": "stdout",
     "output_type": "stream",
     "text": [
      "Error fetching marsbet300.com: net::ERR_NAME_NOT_RESOLVED at https://marsbet300.com/\n",
      "Error fetching marsbet400.com: net::ERR_NAME_NOT_RESOLVED at https://marsbet400.com/\n"
     ]
    },
    {
     "name": "stderr",
     "output_type": "stream",
     "text": [
      "Fetching URLs:   7%|▋         | 128/1839 [06:33<33:44,  1.18s/it]"
     ]
    },
    {
     "name": "stdout",
     "output_type": "stream",
     "text": [
      "Error fetching maxbet.one: net::ERR_CERT_AUTHORITY_INVALID at https://maxbet.one/\n"
     ]
    },
    {
     "name": "stderr",
     "output_type": "stream",
     "text": [
      "Fetching URLs:   7%|▋         | 131/1839 [06:38<39:43,  1.40s/it]"
     ]
    },
    {
     "name": "stdout",
     "output_type": "stream",
     "text": [
      "Error fetching mayansports.eu: net::ERR_NAME_NOT_RESOLVED at https://mayansports.eu/\n"
     ]
    },
    {
     "name": "stderr",
     "output_type": "stream",
     "text": [
      "Fetching URLs:   7%|▋         | 135/1839 [06:47<53:18,  1.88s/it]  "
     ]
    },
    {
     "name": "stdout",
     "output_type": "stream",
     "text": [
      "Error fetching megasportsworld.com: net::ERR_CERT_DATE_INVALID at https://megasportsworld.com/\n"
     ]
    },
    {
     "name": "stderr",
     "output_type": "stream",
     "text": [
      "Fetching URLs:   7%|▋         | 136/1839 [06:57<2:01:52,  4.29s/it]"
     ]
    },
    {
     "name": "stdout",
     "output_type": "stream",
     "text": [
      "Error fetching mekinglove.com: Timeout 10000ms exceeded.\n"
     ]
    },
    {
     "name": "stderr",
     "output_type": "stream",
     "text": [
      "Fetching URLs:   8%|▊         | 140/1839 [07:09<1:36:14,  3.40s/it]"
     ]
    },
    {
     "name": "stdout",
     "output_type": "stream",
     "text": [
      "Error fetching metspoker.com: Timeout 10000ms exceeded.\n",
      "Error fetching mewahbonus.com: net::ERR_NAME_NOT_RESOLVED at https://mewahbonus.com/\n"
     ]
    },
    {
     "name": "stderr",
     "output_type": "stream",
     "text": [
      "Fetching URLs:   8%|▊         | 142/1839 [07:11<58:19,  2.06s/it]  "
     ]
    },
    {
     "name": "stdout",
     "output_type": "stream",
     "text": [
      "Error fetching miamidicecasino.com: net::ERR_CONNECTION_REFUSED at https://miamidicecasino.com/\n"
     ]
    },
    {
     "name": "stderr",
     "output_type": "stream",
     "text": [
      "Fetching URLs:   8%|▊         | 144/1839 [07:21<1:37:22,  3.45s/it]"
     ]
    },
    {
     "name": "stdout",
     "output_type": "stream",
     "text": [
      "Error fetching middlebet.com: Timeout 10000ms exceeded.\n"
     ]
    },
    {
     "name": "stderr",
     "output_type": "stream",
     "text": [
      "Fetching URLs:   8%|▊         | 147/1839 [07:34<2:11:37,  4.67s/it]"
     ]
    },
    {
     "name": "stdout",
     "output_type": "stream",
     "text": [
      "Error fetching mobilbet.com: Timeout 10000ms exceeded.\n"
     ]
    },
    {
     "name": "stderr",
     "output_type": "stream",
     "text": [
      "Fetching URLs:   8%|▊         | 149/1839 [07:48<2:48:45,  5.99s/it]"
     ]
    },
    {
     "name": "stdout",
     "output_type": "stream",
     "text": [
      "Error fetching mobocasino.com: Timeout 10000ms exceeded.\n"
     ]
    },
    {
     "name": "stderr",
     "output_type": "stream",
     "text": [
      "Fetching URLs:   8%|▊         | 150/1839 [07:58<3:21:42,  7.17s/it]"
     ]
    },
    {
     "name": "stdout",
     "output_type": "stream",
     "text": [
      "Error fetching monacoaces.com: Timeout 10000ms exceeded.\n"
     ]
    },
    {
     "name": "stderr",
     "output_type": "stream",
     "text": [
      "Fetching URLs:   8%|▊         | 152/1839 [08:08<2:39:52,  5.69s/it]"
     ]
    },
    {
     "name": "stdout",
     "output_type": "stream",
     "text": [
      "Error fetching moneyplayscasino.com: Timeout 10000ms exceeded.\n",
      "Error fetching montecarlocasino.com: net::ERR_CERT_COMMON_NAME_INVALID at https://montecarlocasino.com/\n"
     ]
    },
    {
     "name": "stderr",
     "output_type": "stream",
     "text": [
      "Fetching URLs:   8%|▊         | 153/1839 [08:09<1:58:08,  4.20s/it]"
     ]
    },
    {
     "name": "stdout",
     "output_type": "stream",
     "text": [
      "Error fetching morganbet.eu: net::ERR_NAME_NOT_RESOLVED at https://morganbet.eu/\n"
     ]
    },
    {
     "name": "stderr",
     "output_type": "stream",
     "text": [
      "Fetching URLs:   9%|▊         | 157/1839 [08:18<1:17:50,  2.78s/it]"
     ]
    },
    {
     "name": "stdout",
     "output_type": "stream",
     "text": [
      "Error fetching mpi.gov.tr: net::ERR_CERT_COMMON_NAME_INVALID at https://mpi.gov.tr/\n"
     ]
    },
    {
     "name": "stderr",
     "output_type": "stream",
     "text": [
      "Fetching URLs:   9%|▉         | 170/1839 [08:42<41:20,  1.49s/it]  "
     ]
    },
    {
     "name": "stdout",
     "output_type": "stream",
     "text": [
      "Error fetching mvpaction.ag: net::ERR_NAME_NOT_RESOLVED at https://mvpaction.ag/\n"
     ]
    },
    {
     "name": "stderr",
     "output_type": "stream",
     "text": [
      "Fetching URLs:  10%|▉         | 176/1839 [09:01<1:56:37,  4.21s/it]"
     ]
    },
    {
     "name": "stdout",
     "output_type": "stream",
     "text": [
      "Error fetching mychance.com: Timeout 10000ms exceeded.\n"
     ]
    },
    {
     "name": "stderr",
     "output_type": "stream",
     "text": [
      "Fetching URLs:  10%|▉         | 179/1839 [09:13<1:35:49,  3.46s/it]"
     ]
    },
    {
     "name": "stdout",
     "output_type": "stream",
     "text": [
      "Error fetching mysportsbook.ag: net::ERR_CERT_DATE_INVALID at https://mysportsbook.ag/\n"
     ]
    },
    {
     "name": "stderr",
     "output_type": "stream",
     "text": [
      "Fetching URLs:  10%|█         | 186/1839 [09:39<1:52:09,  4.07s/it]"
     ]
    },
    {
     "name": "stdout",
     "output_type": "stream",
     "text": [
      "Error fetching nairastake.com: Timeout 10000ms exceeded.\n",
      "Error fetching nanos365.com: net::ERR_NAME_NOT_RESOLVED at https://nanos365.com/\n"
     ]
    },
    {
     "name": "stderr",
     "output_type": "stream",
     "text": [
      "Fetching URLs:  10%|█         | 190/1839 [10:03<2:58:46,  6.50s/it]"
     ]
    },
    {
     "name": "stdout",
     "output_type": "stream",
     "text": [
      "Error fetching nederbet.com: Timeout 10000ms exceeded.\n"
     ]
    },
    {
     "name": "stderr",
     "output_type": "stream",
     "text": [
      "Fetching URLs:  11%|█         | 195/1839 [10:07<41:28,  1.51s/it]  "
     ]
    },
    {
     "name": "stdout",
     "output_type": "stream",
     "text": [
      "Error fetching neverfelted.eu: net::ERR_NAME_NOT_RESOLVED at https://neverfelted.eu/\n"
     ]
    },
    {
     "name": "stderr",
     "output_type": "stream",
     "text": [
      "Fetching URLs:  11%|█         | 198/1839 [10:13<39:28,  1.44s/it]  "
     ]
    },
    {
     "name": "stdout",
     "output_type": "stream",
     "text": [
      "Error fetching nightwoodbookmakers.co.uk: net::ERR_NAME_NOT_RESOLVED at https://nightwoodbookmakers.co.uk/\n"
     ]
    },
    {
     "name": "stderr",
     "output_type": "stream",
     "text": [
      "Fetching URLs:  11%|█         | 199/1839 [10:23<1:50:26,  4.04s/it]"
     ]
    },
    {
     "name": "stdout",
     "output_type": "stream",
     "text": [
      "Error fetching nikebet.net: Timeout 10000ms exceeded.\n"
     ]
    },
    {
     "name": "stderr",
     "output_type": "stream",
     "text": [
      "Fetching URLs:  11%|█         | 201/1839 [10:24<1:00:40,  2.22s/it]"
     ]
    },
    {
     "name": "stdout",
     "output_type": "stream",
     "text": [
      "Error fetching ninjackpot.com: net::ERR_CONNECTION_REFUSED at https://ninjackpot.com/\n"
     ]
    },
    {
     "name": "stderr",
     "output_type": "stream",
     "text": [
      "Fetching URLs:  11%|█         | 204/1839 [10:30<50:32,  1.85s/it]  "
     ]
    },
    {
     "name": "stdout",
     "output_type": "stream",
     "text": [
      "Error fetching nlotto.co.kr: net::ERR_CERT_DATE_INVALID at https://nlotto.co.kr/\n"
     ]
    },
    {
     "name": "stderr",
     "output_type": "stream",
     "text": [
      "Fetching URLs:  11%|█         | 206/1839 [10:42<2:00:02,  4.41s/it]"
     ]
    },
    {
     "name": "stdout",
     "output_type": "stream",
     "text": [
      "Error fetching noblebet.pl: Timeout 10000ms exceeded.\n"
     ]
    },
    {
     "name": "stderr",
     "output_type": "stream",
     "text": [
      "Fetching URLs:  11%|█▏        | 210/1839 [10:48<50:12,  1.85s/it]  "
     ]
    },
    {
     "name": "stdout",
     "output_type": "stream",
     "text": [
      "Error fetching norgesspill.com: net::ERR_HTTP2_PROTOCOL_ERROR at https://norgesspill.com/\n"
     ]
    },
    {
     "name": "stderr",
     "output_type": "stream",
     "text": [
      "Fetching URLs:  12%|█▏        | 212/1839 [10:50<36:55,  1.36s/it]"
     ]
    },
    {
     "name": "stdout",
     "output_type": "stream",
     "text": [
      "Error fetching norskeautomater.com: net::ERR_HTTP2_PROTOCOL_ERROR at https://norskeautomater.com/\n"
     ]
    },
    {
     "name": "stderr",
     "output_type": "stream",
     "text": [
      "Fetching URLs:  12%|█▏        | 221/1839 [11:19<1:13:17,  2.72s/it]"
     ]
    },
    {
     "name": "stdout",
     "output_type": "stream",
     "text": [
      "Error fetching odinbet.com: net::ERR_NAME_NOT_RESOLVED at https://odinbet.com/\n"
     ]
    },
    {
     "name": "stderr",
     "output_type": "stream",
     "text": [
      "Fetching URLs:  12%|█▏        | 222/1839 [11:29<2:12:35,  4.92s/it]"
     ]
    },
    {
     "name": "stdout",
     "output_type": "stream",
     "text": [
      "Error fetching offsidebet.com: Timeout 10000ms exceeded.\n"
     ]
    },
    {
     "name": "stderr",
     "output_type": "stream",
     "text": [
      "Fetching URLs:  12%|█▏        | 229/1839 [11:50<1:22:45,  3.08s/it]"
     ]
    },
    {
     "name": "stdout",
     "output_type": "stream",
     "text": [
      "Error fetching olybet.com: net::ERR_CERT_COMMON_NAME_INVALID at https://olybet.com/\n"
     ]
    },
    {
     "name": "stderr",
     "output_type": "stream",
     "text": [
      "Fetching URLs:  13%|█▎        | 232/1839 [12:17<3:05:40,  6.93s/it]"
     ]
    },
    {
     "name": "stdout",
     "output_type": "stream",
     "text": [
      "Error fetching omniacasino.com: Timeout 10000ms exceeded.\n",
      "Error fetching onetpedia.net: net::ERR_NAME_NOT_RESOLVED at https://onetpedia.net/\n"
     ]
    },
    {
     "name": "stderr",
     "output_type": "stream",
     "text": [
      "Fetching URLs:  13%|█▎        | 236/1839 [12:25<1:32:20,  3.46s/it]"
     ]
    },
    {
     "name": "stdout",
     "output_type": "stream",
     "text": [
      "Error fetching onlywinners.com: net::ERR_NAME_NOT_RESOLVED at https://onlywinners.com/\n"
     ]
    },
    {
     "name": "stderr",
     "output_type": "stream",
     "text": [
      "Fetching URLs:  13%|█▎        | 238/1839 [12:31<1:31:19,  3.42s/it]"
     ]
    },
    {
     "name": "stdout",
     "output_type": "stream",
     "text": [
      "Error fetching opcrates.com: net::ERR_NAME_NOT_RESOLVED at https://opcrates.com/\n"
     ]
    },
    {
     "name": "stderr",
     "output_type": "stream",
     "text": [
      "Fetching URLs:  13%|█▎        | 241/1839 [12:32<39:41,  1.49s/it]  "
     ]
    },
    {
     "name": "stdout",
     "output_type": "stream",
     "text": [
      "Error fetching optionsports.com: net::ERR_CERT_AUTHORITY_INVALID at https://optionsports.com/\n"
     ]
    },
    {
     "name": "stderr",
     "output_type": "stream",
     "text": [
      "Fetching URLs:  13%|█▎        | 242/1839 [12:42<1:46:56,  4.02s/it]"
     ]
    },
    {
     "name": "stdout",
     "output_type": "stream",
     "text": [
      "Error fetching orakulas.lt: Timeout 10000ms exceeded.\n"
     ]
    },
    {
     "name": "stderr",
     "output_type": "stream",
     "text": [
      "Fetching URLs:  13%|█▎        | 243/1839 [12:42<1:17:23,  2.91s/it]"
     ]
    },
    {
     "name": "stdout",
     "output_type": "stream",
     "text": [
      "Error fetching orlandocasino.com: net::ERR_CERT_AUTHORITY_INVALID at https://orlandocasino.com/\n",
      "Error fetching ourpricebet.com: net::ERR_NAME_NOT_RESOLVED at https://ourpricebet.com/\n"
     ]
    },
    {
     "name": "stderr",
     "output_type": "stream",
     "text": [
      "Fetching URLs:  13%|█▎        | 245/1839 [12:52<1:43:27,  3.89s/it]"
     ]
    },
    {
     "name": "stdout",
     "output_type": "stream",
     "text": [
      "Error fetching overtheodds.com.au: Timeout 10000ms exceeded.\n"
     ]
    },
    {
     "name": "stderr",
     "output_type": "stream",
     "text": [
      "Fetching URLs:  13%|█▎        | 246/1839 [13:02<2:23:35,  5.41s/it]"
     ]
    },
    {
     "name": "stdout",
     "output_type": "stream",
     "text": [
      "Error fetching ovocasino.com: Timeout 10000ms exceeded.\n"
     ]
    },
    {
     "name": "stderr",
     "output_type": "stream",
     "text": [
      "Fetching URLs:  13%|█▎        | 247/1839 [13:12<2:55:29,  6.61s/it]"
     ]
    },
    {
     "name": "stdout",
     "output_type": "stream",
     "text": [
      "Error fetching ozbet.com.au: Timeout 10000ms exceeded.\n",
      "Error fetching p2poker.net: net::ERR_NAME_NOT_RESOLVED at https://p2poker.net/\n"
     ]
    },
    {
     "name": "stderr",
     "output_type": "stream",
     "text": [
      "Fetching URLs:  14%|█▎        | 251/1839 [13:25<2:12:54,  5.02s/it]"
     ]
    },
    {
     "name": "stdout",
     "output_type": "stream",
     "text": [
      "Error fetching pais.co.il: Timeout 10000ms exceeded.\n",
      "Error fetching palladiumcasino.eu: net::ERR_NAME_NOT_RESOLVED at https://palladiumcasino.eu/\n"
     ]
    },
    {
     "name": "stderr",
     "output_type": "stream",
     "text": [
      "Fetching URLs:  14%|█▍        | 255/1839 [13:34<1:19:45,  3.02s/it]"
     ]
    },
    {
     "name": "stdout",
     "output_type": "stream",
     "text": [
      "Error fetching pandabet.net: net::ERR_ABORTED at https://pandabet.net/\n"
     ]
    },
    {
     "name": "stderr",
     "output_type": "stream",
     "text": [
      "Fetching URLs:  14%|█▍        | 266/1839 [14:02<1:58:50,  4.53s/it]"
     ]
    },
    {
     "name": "stdout",
     "output_type": "stream",
     "text": [
      "Error fetching piratespin.com: Timeout 10000ms exceeded.\n"
     ]
    },
    {
     "name": "stderr",
     "output_type": "stream",
     "text": [
      "Fetching URLs:  15%|█▍        | 268/1839 [14:14<2:25:50,  5.57s/it]"
     ]
    },
    {
     "name": "stdout",
     "output_type": "stream",
     "text": [
      "Error fetching planetwin365.com: Timeout 10000ms exceeded.\n"
     ]
    },
    {
     "name": "stderr",
     "output_type": "stream",
     "text": [
      "Fetching URLs:  15%|█▍        | 270/1839 [14:14<1:13:59,  2.83s/it]"
     ]
    },
    {
     "name": "stdout",
     "output_type": "stream",
     "text": [
      "Error fetching playbet.com: net::ERR_CERT_DATE_INVALID at https://playbet.com/\n",
      "Error fetching playclub.com: net::ERR_SSL_VERSION_OR_CIPHER_MISMATCH at https://playclub.com/\n"
     ]
    },
    {
     "name": "stderr",
     "output_type": "stream",
     "text": [
      "Fetching URLs:  15%|█▌        | 277/1839 [14:34<1:07:54,  2.61s/it]"
     ]
    },
    {
     "name": "stdout",
     "output_type": "stream",
     "text": [
      "Error fetching plexodds.com: net::ERR_NAME_NOT_RESOLVED at https://plexodds.com/\n"
     ]
    },
    {
     "name": "stderr",
     "output_type": "stream",
     "text": [
      "Fetching URLs:  15%|█▌        | 279/1839 [14:35<40:00,  1.54s/it]  "
     ]
    },
    {
     "name": "stdout",
     "output_type": "stream",
     "text": [
      "Error fetching pocketvegas.co.uk: net::ERR_CERT_DATE_INVALID at https://pocketvegas.co.uk/\n"
     ]
    },
    {
     "name": "stderr",
     "output_type": "stream",
     "text": [
      "Fetching URLs:  15%|█▌        | 280/1839 [14:45<1:46:17,  4.09s/it]"
     ]
    },
    {
     "name": "stdout",
     "output_type": "stream",
     "text": [
      "Error fetching pointcasino.com: Timeout 10000ms exceeded.\n"
     ]
    },
    {
     "name": "stderr",
     "output_type": "stream",
     "text": [
      "Fetching URLs:  15%|█▌        | 282/1839 [14:46<57:07,  2.20s/it]  "
     ]
    },
    {
     "name": "stdout",
     "output_type": "stream",
     "text": [
      "Error fetching poker.betway.com: net::ERR_NAME_NOT_RESOLVED at https://poker.betway.com/\n"
     ]
    },
    {
     "name": "stderr",
     "output_type": "stream",
     "text": [
      "Fetching URLs:  16%|█▌        | 286/1839 [14:48<21:00,  1.23it/s]"
     ]
    },
    {
     "name": "stdout",
     "output_type": "stream",
     "text": [
      "Error fetching pokerdassi360.com: net::ERR_NAME_NOT_RESOLVED at https://pokerdassi360.com/\n",
      "Error fetching pokergolden.biz: net::ERR_NAME_NOT_RESOLVED at https://pokergolden.biz/\n"
     ]
    },
    {
     "name": "stderr",
     "output_type": "stream",
     "text": [
      "Fetching URLs:  16%|█▌        | 287/1839 [14:58<1:20:18,  3.11s/it]"
     ]
    },
    {
     "name": "stdout",
     "output_type": "stream",
     "text": [
      "Error fetching pokerimaa.com: Timeout 10000ms exceeded.\n"
     ]
    },
    {
     "name": "stderr",
     "output_type": "stream",
     "text": [
      "Fetching URLs:  16%|█▌        | 288/1839 [14:59<1:08:38,  2.66s/it]"
     ]
    },
    {
     "name": "stdout",
     "output_type": "stream",
     "text": [
      "Error fetching pokermax.com: net::ERR_NAME_NOT_RESOLVED at https://pokermax.com/\n"
     ]
    },
    {
     "name": "stderr",
     "output_type": "stream",
     "text": [
      "Fetching URLs:  16%|█▌        | 297/1839 [15:21<37:10,  1.45s/it]  "
     ]
    },
    {
     "name": "stdout",
     "output_type": "stream",
     "text": [
      "Error fetching pridmorebookmakers.com: net::ERR_CONNECTION_REFUSED at https://pridmorebookmakers.com/\n",
      "Error fetching primebet.com.mt: net::ERR_NAME_NOT_RESOLVED at https://primebet.com.mt/\n"
     ]
    },
    {
     "name": "stderr",
     "output_type": "stream",
     "text": [
      "Fetching URLs:  16%|█▋        | 300/1839 [15:37<1:57:45,  4.59s/it]"
     ]
    },
    {
     "name": "stdout",
     "output_type": "stream",
     "text": [
      "Error fetching pro-factory.com: Timeout 10000ms exceeded.\n"
     ]
    },
    {
     "name": "stderr",
     "output_type": "stream",
     "text": [
      "Fetching URLs:  16%|█▋        | 303/1839 [15:51<1:42:50,  4.02s/it]"
     ]
    },
    {
     "name": "stdout",
     "output_type": "stream",
     "text": [
      "Error fetching promotion.eurolotto.com: net::ERR_NAME_NOT_RESOLVED at https://promotion.eurolotto.com/\n"
     ]
    },
    {
     "name": "stderr",
     "output_type": "stream",
     "text": [
      "Fetching URLs:  17%|█▋        | 305/1839 [15:52<58:48,  2.30s/it]  "
     ]
    },
    {
     "name": "stdout",
     "output_type": "stream",
     "text": [
      "Error fetching promotions.epic.partners: net::ERR_NAME_NOT_RESOLVED at https://promotions.epic.partners/\n"
     ]
    },
    {
     "name": "stderr",
     "output_type": "stream",
     "text": [
      "Fetching URLs:  17%|█▋        | 308/1839 [15:53<26:10,  1.03s/it]"
     ]
    },
    {
     "name": "stdout",
     "output_type": "stream",
     "text": [
      "Error fetching punchbets.com: net::ERR_SSL_VERSION_OR_CIPHER_MISMATCH at https://punchbets.com/\n"
     ]
    },
    {
     "name": "stderr",
     "output_type": "stream",
     "text": [
      "Fetching URLs:  17%|█▋        | 315/1839 [16:04<30:01,  1.18s/it]"
     ]
    },
    {
     "name": "stdout",
     "output_type": "stream",
     "text": [
      "Error fetching rajaslot77.net: net::ERR_CERT_DATE_INVALID at https://rajaslot77.net/\n"
     ]
    },
    {
     "name": "stderr",
     "output_type": "stream",
     "text": [
      "Fetching URLs:  17%|█▋        | 317/1839 [16:05<19:53,  1.28it/s]"
     ]
    },
    {
     "name": "stdout",
     "output_type": "stream",
     "text": [
      "Error fetching rb88.com: net::ERR_CERT_AUTHORITY_INVALID at https://rb88.com/\n"
     ]
    },
    {
     "name": "stderr",
     "output_type": "stream",
     "text": [
      "Fetching URLs:  17%|█▋        | 318/1839 [16:09<43:50,  1.73s/it]"
     ]
    },
    {
     "name": "stdout",
     "output_type": "stream",
     "text": [
      "Error fetching realbet.eu: net::ERR_NAME_NOT_RESOLVED at https://realbet.eu/\n"
     ]
    },
    {
     "name": "stderr",
     "output_type": "stream",
     "text": [
      "Fetching URLs:  17%|█▋        | 319/1839 [16:10<39:29,  1.56s/it]"
     ]
    },
    {
     "name": "stdout",
     "output_type": "stream",
     "text": [
      "Error fetching rebatewager.ag: net::ERR_NAME_NOT_RESOLVED at https://rebatewager.ag/\n"
     ]
    },
    {
     "name": "stderr",
     "output_type": "stream",
     "text": [
      "Fetching URLs:  18%|█▊        | 325/1839 [16:27<1:07:55,  2.69s/it]"
     ]
    },
    {
     "name": "stdout",
     "output_type": "stream",
     "text": [
      "Error fetching redstarsports.eu: net::ERR_CERT_COMMON_NAME_INVALID at https://redstarsports.eu/\n"
     ]
    },
    {
     "name": "stderr",
     "output_type": "stream",
     "text": [
      "Fetching URLs:  18%|█▊        | 328/1839 [16:35<1:12:21,  2.87s/it]"
     ]
    },
    {
     "name": "stdout",
     "output_type": "stream",
     "text": [
      "Error fetching ridika.com: net::ERR_NAME_NOT_RESOLVED at https://ridika.com/\n"
     ]
    },
    {
     "name": "stderr",
     "output_type": "stream",
     "text": [
      "Fetching URLs:  18%|█▊        | 333/1839 [16:53<1:50:48,  4.41s/it]"
     ]
    },
    {
     "name": "stdout",
     "output_type": "stream",
     "text": [
      "Error fetching roadbet.com: Timeout 10000ms exceeded.\n"
     ]
    },
    {
     "name": "stderr",
     "output_type": "stream",
     "text": [
      "Fetching URLs:  18%|█▊        | 334/1839 [17:03<2:31:53,  6.06s/it]"
     ]
    },
    {
     "name": "stdout",
     "output_type": "stream",
     "text": [
      "Error fetching rog303.com: Timeout 10000ms exceeded.\n"
     ]
    },
    {
     "name": "stderr",
     "output_type": "stream",
     "text": [
      "Fetching URLs:  18%|█▊        | 336/1839 [17:03<1:19:24,  3.17s/it]"
     ]
    },
    {
     "name": "stdout",
     "output_type": "stream",
     "text": [
      "Error fetching royalcspot.com: net::ERR_NAME_NOT_RESOLVED at https://royalcspot.com/\n"
     ]
    },
    {
     "name": "stderr",
     "output_type": "stream",
     "text": [
      "Fetching URLs:  18%|█▊        | 339/1839 [17:15<1:41:54,  4.08s/it]"
     ]
    },
    {
     "name": "stdout",
     "output_type": "stream",
     "text": [
      "Error fetching royalslots.com: Timeout 10000ms exceeded.\n"
     ]
    },
    {
     "name": "stderr",
     "output_type": "stream",
     "text": [
      "Fetching URLs:  18%|█▊        | 340/1839 [17:25<2:20:36,  5.63s/it]"
     ]
    },
    {
     "name": "stdout",
     "output_type": "stream",
     "text": [
      "Error fetching royrichie.com: Timeout 10000ms exceeded.\n"
     ]
    },
    {
     "name": "stderr",
     "output_type": "stream",
     "text": [
      "Fetching URLs:  19%|█▊        | 342/1839 [17:27<1:23:59,  3.37s/it]"
     ]
    },
    {
     "name": "stdout",
     "output_type": "stream",
     "text": [
      "Error fetching rush777.com: net::ERR_CERT_AUTHORITY_INVALID at https://rush777.com/\n"
     ]
    },
    {
     "name": "stderr",
     "output_type": "stream",
     "text": [
      "Fetching URLs:  19%|█▉        | 347/1839 [17:41<59:51,  2.41s/it]  "
     ]
    },
    {
     "name": "stdout",
     "output_type": "stream",
     "text": [
      "Error fetching safaribet.com.gh: net::ERR_NAME_NOT_RESOLVED at https://safaribet.com.gh/\n"
     ]
    },
    {
     "name": "stderr",
     "output_type": "stream",
     "text": [
      "Fetching URLs:  19%|█▉        | 348/1839 [17:42<45:22,  1.83s/it]"
     ]
    },
    {
     "name": "stdout",
     "output_type": "stream",
     "text": [
      "Error fetching saharabet.com: net::ERR_NAME_NOT_RESOLVED at https://saharabet.com/\n"
     ]
    },
    {
     "name": "stderr",
     "output_type": "stream",
     "text": [
      "Fetching URLs:  19%|█▉        | 351/1839 [17:57<1:54:58,  4.64s/it]"
     ]
    },
    {
     "name": "stdout",
     "output_type": "stream",
     "text": [
      "Error fetching saturnplay.com: Timeout 10000ms exceeded.\n"
     ]
    },
    {
     "name": "stderr",
     "output_type": "stream",
     "text": [
      "Fetching URLs:  19%|█▉        | 354/1839 [18:15<2:32:12,  6.15s/it]"
     ]
    },
    {
     "name": "stdout",
     "output_type": "stream",
     "text": [
      "Error fetching sblp.intertops.eu: Timeout 10000ms exceeded.\n"
     ]
    },
    {
     "name": "stderr",
     "output_type": "stream",
     "text": [
      "Fetching URLs:  19%|█▉        | 357/1839 [18:20<1:09:49,  2.83s/it]"
     ]
    },
    {
     "name": "stdout",
     "output_type": "stream",
     "text": [
      "Error fetching scandibet.com: net::ERR_CERT_DATE_INVALID at https://scandibet.com/\n",
      "Error fetching scasino.com: net::ERR_NAME_NOT_RESOLVED at https://scasino.com/\n"
     ]
    },
    {
     "name": "stderr",
     "output_type": "stream",
     "text": [
      "Fetching URLs:  20%|█▉        | 359/1839 [18:30<1:35:14,  3.86s/it]"
     ]
    },
    {
     "name": "stdout",
     "output_type": "stream",
     "text": [
      "Error fetching score99.net: Timeout 10000ms exceeded.\n",
      "Error fetching scotbet.com: net::ERR_NAME_NOT_RESOLVED at https://scotbet.com/\n"
     ]
    },
    {
     "name": "stderr",
     "output_type": "stream",
     "text": [
      "Fetching URLs:  20%|█▉        | 361/1839 [18:40<1:46:51,  4.34s/it]"
     ]
    },
    {
     "name": "stdout",
     "output_type": "stream",
     "text": [
      "Error fetching seabet.com: Timeout 10000ms exceeded.\n"
     ]
    },
    {
     "name": "stderr",
     "output_type": "stream",
     "text": [
      "Fetching URLs:  20%|█▉        | 363/1839 [18:52<2:11:23,  5.34s/it]"
     ]
    },
    {
     "name": "stdout",
     "output_type": "stream",
     "text": [
      "Error fetching seaniemac.com: Timeout 10000ms exceeded.\n"
     ]
    },
    {
     "name": "stderr",
     "output_type": "stream",
     "text": [
      "Fetching URLs:  20%|█▉        | 365/1839 [18:54<1:20:09,  3.26s/it]"
     ]
    },
    {
     "name": "stdout",
     "output_type": "stream",
     "text": [
      "Error fetching secure.bkbet.eu: net::ERR_NAME_NOT_RESOLVED at https://secure.bkbet.eu/\n"
     ]
    },
    {
     "name": "stderr",
     "output_type": "stream",
     "text": [
      "Fetching URLs:  20%|██        | 368/1839 [19:07<1:55:35,  4.72s/it]"
     ]
    },
    {
     "name": "stdout",
     "output_type": "stream",
     "text": [
      "Error fetching setantabet.com: Timeout 10000ms exceeded.\n"
     ]
    },
    {
     "name": "stderr",
     "output_type": "stream",
     "text": [
      "Fetching URLs:  20%|██        | 370/1839 [19:18<2:12:43,  5.42s/it]"
     ]
    },
    {
     "name": "stdout",
     "output_type": "stream",
     "text": [
      "Error fetching sirbobet.com: Timeout 10000ms exceeded.\n"
     ]
    },
    {
     "name": "stderr",
     "output_type": "stream",
     "text": [
      "Fetching URLs:  20%|██        | 372/1839 [19:21<1:24:54,  3.47s/it]"
     ]
    },
    {
     "name": "stdout",
     "output_type": "stream",
     "text": [
      "Error fetching sisal.it: net::ERR_HTTP2_PROTOCOL_ERROR at https://sisal.it/\n"
     ]
    },
    {
     "name": "stderr",
     "output_type": "stream",
     "text": [
      "Fetching URLs:  20%|██        | 373/1839 [19:31<2:12:46,  5.43s/it]"
     ]
    },
    {
     "name": "stdout",
     "output_type": "stream",
     "text": [
      "Error fetching situsjuditogel.net: Timeout 10000ms exceeded.\n",
      "Error fetching sjbet.at: net::ERR_NAME_NOT_RESOLVED at https://sjbet.at/\n"
     ]
    },
    {
     "name": "stderr",
     "output_type": "stream",
     "text": [
      "Fetching URLs:  20%|██        | 375/1839 [19:42<2:08:20,  5.26s/it]"
     ]
    },
    {
     "name": "stdout",
     "output_type": "stream",
     "text": [
      "Error fetching skedina.com: Timeout 10000ms exceeded.\n"
     ]
    },
    {
     "name": "stderr",
     "output_type": "stream",
     "text": [
      "Fetching URLs:  21%|██        | 378/1839 [19:44<59:52,  2.46s/it]  "
     ]
    },
    {
     "name": "stdout",
     "output_type": "stream",
     "text": [
      "Error fetching skinduel.com: net::ERR_ABORTED at https://skinduel.com/\n",
      "Error fetching skingaben.com: net::ERR_NAME_NOT_RESOLVED at https://skingaben.com/\n"
     ]
    },
    {
     "name": "stderr",
     "output_type": "stream",
     "text": [
      "Fetching URLs:  21%|██        | 380/1839 [19:54<1:27:37,  3.60s/it]"
     ]
    },
    {
     "name": "stdout",
     "output_type": "stream",
     "text": [
      "Error fetching skinhell.com: Timeout 10000ms exceeded.\n"
     ]
    },
    {
     "name": "stderr",
     "output_type": "stream",
     "text": [
      "Fetching URLs:  21%|██        | 381/1839 [20:04<2:04:44,  5.13s/it]"
     ]
    },
    {
     "name": "stdout",
     "output_type": "stream",
     "text": [
      "Error fetching skinhunt.com: Timeout 10000ms exceeded.\n"
     ]
    },
    {
     "name": "stderr",
     "output_type": "stream",
     "text": [
      "Fetching URLs:  21%|██        | 382/1839 [20:14<2:34:47,  6.37s/it]"
     ]
    },
    {
     "name": "stdout",
     "output_type": "stream",
     "text": [
      "Error fetching skinprofit.com: Timeout 10000ms exceeded.\n"
     ]
    },
    {
     "name": "stderr",
     "output_type": "stream",
     "text": [
      "Fetching URLs:  21%|██        | 383/1839 [20:24<2:58:18,  7.35s/it]"
     ]
    },
    {
     "name": "stdout",
     "output_type": "stream",
     "text": [
      "Error fetching skinsdream.com: Timeout 10000ms exceeded.\n"
     ]
    },
    {
     "name": "stderr",
     "output_type": "stream",
     "text": [
      "Fetching URLs:  21%|██        | 387/1839 [20:39<2:15:49,  5.61s/it]"
     ]
    },
    {
     "name": "stdout",
     "output_type": "stream",
     "text": [
      "Error fetching slbet.com: Timeout 10000ms exceeded.\n"
     ]
    },
    {
     "name": "stderr",
     "output_type": "stream",
     "text": [
      "Fetching URLs:  21%|██        | 390/1839 [20:51<2:07:57,  5.30s/it]"
     ]
    },
    {
     "name": "stdout",
     "output_type": "stream",
     "text": [
      "Error fetching slotsino.co.uk: Timeout 10000ms exceeded.\n"
     ]
    },
    {
     "name": "stderr",
     "output_type": "stream",
     "text": [
      "Fetching URLs:  21%|██▏       | 395/1839 [21:00<51:40,  2.15s/it]  "
     ]
    },
    {
     "name": "stdout",
     "output_type": "stream",
     "text": [
      "Error fetching sloty.com: net::ERR_SSL_UNRECOGNIZED_NAME_ALERT at https://sloty.com/\n"
     ]
    },
    {
     "name": "stderr",
     "output_type": "stream",
     "text": [
      "Fetching URLs:  22%|██▏       | 398/1839 [21:09<1:07:34,  2.81s/it]"
     ]
    },
    {
     "name": "stdout",
     "output_type": "stream",
     "text": [
      "Error fetching socalsportbook.com: net::ERR_NAME_NOT_RESOLVED at https://socalsportbook.com/\n"
     ]
    },
    {
     "name": "stderr",
     "output_type": "stream",
     "text": [
      "Fetching URLs:  22%|██▏       | 401/1839 [21:20<1:28:17,  3.68s/it]"
     ]
    },
    {
     "name": "stdout",
     "output_type": "stream",
     "text": [
      "Error fetching softbet.eu: Timeout 10000ms exceeded.\n"
     ]
    },
    {
     "name": "stderr",
     "output_type": "stream",
     "text": [
      "Fetching URLs:  22%|██▏       | 404/1839 [21:23<48:25,  2.02s/it]  "
     ]
    },
    {
     "name": "stdout",
     "output_type": "stream",
     "text": [
      "Error fetching spela.com: net::ERR_SSL_UNRECOGNIZED_NAME_ALERT at https://spela.com/\n"
     ]
    },
    {
     "name": "stderr",
     "output_type": "stream",
     "text": [
      "Fetching URLs:  22%|██▏       | 406/1839 [21:34<1:14:22,  3.11s/it]"
     ]
    },
    {
     "name": "stdout",
     "output_type": "stream",
     "text": [
      "Error fetching spindipity.com: Timeout 10000ms exceeded.\n",
      "Error fetching spinit.com: net::ERR_SSL_UNRECOGNIZED_NAME_ALERT at https://spinit.com/\n"
     ]
    },
    {
     "name": "stderr",
     "output_type": "stream",
     "text": [
      "Fetching URLs:  22%|██▏       | 408/1839 [21:34<39:36,  1.66s/it]  "
     ]
    },
    {
     "name": "stdout",
     "output_type": "stream",
     "text": [
      "Error fetching spinprincess.com: net::ERR_CERT_COMMON_NAME_INVALID at https://spinprincess.com/\n"
     ]
    },
    {
     "name": "stderr",
     "output_type": "stream",
     "text": [
      "Fetching URLs:  22%|██▏       | 412/1839 [21:40<38:11,  1.61s/it]"
     ]
    },
    {
     "name": "stdout",
     "output_type": "stream",
     "text": [
      "Error fetching sport-gewin.com: net::ERR_NAME_NOT_RESOLVED at https://sport-gewin.com/\n"
     ]
    },
    {
     "name": "stderr",
     "output_type": "stream",
     "text": [
      "Fetching URLs:  23%|██▎       | 419/1839 [22:09<2:02:50,  5.19s/it]"
     ]
    },
    {
     "name": "stdout",
     "output_type": "stream",
     "text": [
      "Error fetching sportingbet.com.au: Timeout 10000ms exceeded.\n"
     ]
    },
    {
     "name": "stderr",
     "output_type": "stream",
     "text": [
      "Fetching URLs:  23%|██▎       | 423/1839 [22:28<2:12:14,  5.60s/it]"
     ]
    },
    {
     "name": "stdout",
     "output_type": "stream",
     "text": [
      "Error fetching sportpesa.co.tz: Timeout 10000ms exceeded.\n"
     ]
    },
    {
     "name": "stderr",
     "output_type": "stream",
     "text": [
      "Fetching URLs:  23%|██▎       | 425/1839 [22:32<1:22:06,  3.48s/it]"
     ]
    },
    {
     "name": "stdout",
     "output_type": "stream",
     "text": [
      "Error fetching sports-gambling.com: net::ERR_NAME_NOT_RESOLVED at https://sports-gambling.com/\n"
     ]
    },
    {
     "name": "stderr",
     "output_type": "stream",
     "text": [
      "Fetching URLs:  24%|██▎       | 433/1839 [23:10<1:09:00,  2.94s/it]"
     ]
    },
    {
     "name": "stdout",
     "output_type": "stream",
     "text": [
      "Error fetching sports.magicred.com: net::ERR_SSL_PROTOCOL_ERROR at https://sports.magicred.com/\n"
     ]
    },
    {
     "name": "stderr",
     "output_type": "stream",
     "text": [
      "Fetching URLs:  24%|██▎       | 435/1839 [23:18<1:19:48,  3.41s/it]"
     ]
    },
    {
     "name": "stdout",
     "output_type": "stream",
     "text": [
      "Error fetching sports.smartlivegaming.com: net::ERR_NAME_NOT_RESOLVED at https://sports.smartlivegaming.com/\n"
     ]
    },
    {
     "name": "stderr",
     "output_type": "stream",
     "text": [
      "Fetching URLs:  24%|██▎       | 436/1839 [23:18<57:31,  2.46s/it]  "
     ]
    },
    {
     "name": "stdout",
     "output_type": "stream",
     "text": [
      "Error fetching sports.vernons.com: net::ERR_CERT_DATE_INVALID at https://sports.vernons.com/\n"
     ]
    },
    {
     "name": "stderr",
     "output_type": "stream",
     "text": [
      "Fetching URLs:  24%|██▍       | 438/1839 [23:28<1:39:55,  4.28s/it]"
     ]
    },
    {
     "name": "stdout",
     "output_type": "stream",
     "text": [
      "Error fetching sports.winner.com: Timeout 10000ms exceeded.\n"
     ]
    },
    {
     "name": "stderr",
     "output_type": "stream",
     "text": [
      "Fetching URLs:  24%|██▍       | 439/1839 [23:38<2:20:26,  6.02s/it]"
     ]
    },
    {
     "name": "stdout",
     "output_type": "stream",
     "text": [
      "Error fetching sportsbet.co.za: Timeout 10000ms exceeded.\n"
     ]
    },
    {
     "name": "stderr",
     "output_type": "stream",
     "text": [
      "Fetching URLs:  24%|██▍       | 443/1839 [23:53<1:57:36,  5.05s/it]"
     ]
    },
    {
     "name": "stdout",
     "output_type": "stream",
     "text": [
      "Error fetching sportsbetting.com.au: Timeout 10000ms exceeded.\n"
     ]
    },
    {
     "name": "stderr",
     "output_type": "stream",
     "text": [
      "Fetching URLs:  24%|██▍       | 445/1839 [23:55<1:10:23,  3.03s/it]"
     ]
    },
    {
     "name": "stdout",
     "output_type": "stream",
     "text": [
      "Error fetching sportsbook-uk.com: net::ERR_NAME_NOT_RESOLVED at https://sportsbook-uk.com/\n"
     ]
    },
    {
     "name": "stderr",
     "output_type": "stream",
     "text": [
      "Fetching URLs:  24%|██▍       | 446/1839 [23:56<53:49,  2.32s/it]  "
     ]
    },
    {
     "name": "stdout",
     "output_type": "stream",
     "text": [
      "Error fetching sportsbook.ca: net::ERR_SSL_UNRECOGNIZED_NAME_ALERT at https://sportsbook.ca/\n"
     ]
    },
    {
     "name": "stderr",
     "output_type": "stream",
     "text": [
      "Fetching URLs:  24%|██▍       | 447/1839 [23:59<1:00:56,  2.63s/it]"
     ]
    },
    {
     "name": "stdout",
     "output_type": "stream",
     "text": [
      "Error fetching sportsbook.kingdomcasino.com: net::ERR_NAME_NOT_RESOLVED at https://sportsbook.kingdomcasino.com/\n"
     ]
    },
    {
     "name": "stderr",
     "output_type": "stream",
     "text": [
      "Fetching URLs:  24%|██▍       | 449/1839 [24:00<35:15,  1.52s/it]  "
     ]
    },
    {
     "name": "stdout",
     "output_type": "stream",
     "text": [
      "Error fetching sportsbooks.com: net::ERR_CERT_DATE_INVALID at https://sportsbooks.com/\n"
     ]
    },
    {
     "name": "stderr",
     "output_type": "stream",
     "text": [
      "Fetching URLs:  24%|██▍       | 450/1839 [24:10<1:24:09,  3.64s/it]"
     ]
    },
    {
     "name": "stdout",
     "output_type": "stream",
     "text": [
      "Error fetching sportsbookusa.com: Timeout 10000ms exceeded.\n"
     ]
    },
    {
     "name": "stderr",
     "output_type": "stream",
     "text": [
      "Fetching URLs:  25%|██▍       | 454/1839 [24:23<1:20:33,  3.49s/it]"
     ]
    },
    {
     "name": "stdout",
     "output_type": "stream",
     "text": [
      "Error fetching sporttime.net: net::ERR_CERT_COMMON_NAME_INVALID at https://sporttime.net/\n"
     ]
    },
    {
     "name": "stderr",
     "output_type": "stream",
     "text": [
      "Fetching URLs:  25%|██▌       | 462/1839 [24:44<49:56,  2.18s/it]  "
     ]
    },
    {
     "name": "stdout",
     "output_type": "stream",
     "text": [
      "Error fetching starlottosport.com: net::ERR_NAME_NOT_RESOLVED at https://starlottosport.com/\n"
     ]
    },
    {
     "name": "stderr",
     "output_type": "stream",
     "text": [
      "Fetching URLs:  25%|██▌       | 464/1839 [24:56<1:40:04,  4.37s/it]"
     ]
    },
    {
     "name": "stdout",
     "output_type": "stream",
     "text": [
      "Error fetching statsloterij.nederlandseloterij.nl: Timeout 10000ms exceeded.\n"
     ]
    },
    {
     "name": "stderr",
     "output_type": "stream",
     "text": [
      "Fetching URLs:  25%|██▌       | 467/1839 [25:05<1:19:14,  3.47s/it]"
     ]
    },
    {
     "name": "stdout",
     "output_type": "stream",
     "text": [
      "Error fetching storspiller.com: net::ERR_NAME_NOT_RESOLVED at https://storspiller.com/\n"
     ]
    },
    {
     "name": "stderr",
     "output_type": "stream",
     "text": [
      "Fetching URLs:  26%|██▌       | 469/1839 [25:15<1:35:55,  4.20s/it]"
     ]
    },
    {
     "name": "stdout",
     "output_type": "stream",
     "text": [
      "Error fetching strikewin.com: Timeout 10000ms exceeded.\n"
     ]
    },
    {
     "name": "stderr",
     "output_type": "stream",
     "text": [
      "Fetching URLs:  26%|██▌       | 475/1839 [25:28<43:36,  1.92s/it]  "
     ]
    },
    {
     "name": "stdout",
     "output_type": "stream",
     "text": [
      "Error fetching super8casino.com: net::ERR_CONNECTION_REFUSED at https://super8casino.com/\n"
     ]
    },
    {
     "name": "stderr",
     "output_type": "stream",
     "text": [
      "Fetching URLs:  26%|██▌       | 478/1839 [25:47<1:53:08,  4.99s/it]"
     ]
    },
    {
     "name": "stdout",
     "output_type": "stream",
     "text": [
      "Error fetching supersoccer.co.uk: Timeout 10000ms exceeded.\n"
     ]
    },
    {
     "name": "stderr",
     "output_type": "stream",
     "text": [
      "Fetching URLs:  26%|██▌       | 479/1839 [25:48<1:26:25,  3.81s/it]"
     ]
    },
    {
     "name": "stdout",
     "output_type": "stream",
     "text": [
      "Error fetching supersportsbook.com: net::ERR_NAME_NOT_RESOLVED at https://supersportsbook.com/\n",
      "Error fetching superusacasino.com: net::ERR_NAME_NOT_RESOLVED at https://superusacasino.com/\n"
     ]
    },
    {
     "name": "stderr",
     "output_type": "stream",
     "text": [
      "Fetching URLs:  26%|██▋       | 483/1839 [25:53<45:24,  2.01s/it]  "
     ]
    },
    {
     "name": "stdout",
     "output_type": "stream",
     "text": [
      "Error fetching svedalacasino.com: net::ERR_CERT_COMMON_NAME_INVALID at https://svedalacasino.com/\n"
     ]
    },
    {
     "name": "stderr",
     "output_type": "stream",
     "text": [
      "Fetching URLs:  26%|██▋       | 487/1839 [25:59<29:23,  1.30s/it]"
     ]
    },
    {
     "name": "stdout",
     "output_type": "stream",
     "text": [
      "Error fetching sverigekronan.com: net::ERR_CONNECTION_REFUSED at https://sverigekronan.com/\n"
     ]
    },
    {
     "name": "stderr",
     "output_type": "stream",
     "text": [
      "Fetching URLs:  27%|██▋       | 497/1839 [26:16<30:25,  1.36s/it]"
     ]
    },
    {
     "name": "stdout",
     "output_type": "stream",
     "text": [
      "Error fetching taiwanlottery.com.tw: net::ERR_NAME_NOT_RESOLVED at https://taiwanlottery.com.tw/\n",
      "Error fetching takarakuji-official.jp: net::ERR_NAME_NOT_RESOLVED at https://takarakuji-official.jp/\n"
     ]
    },
    {
     "name": "stderr",
     "output_type": "stream",
     "text": [
      "Fetching URLs:  27%|██▋       | 504/1839 [26:35<1:29:53,  4.04s/it]"
     ]
    },
    {
     "name": "stdout",
     "output_type": "stream",
     "text": [
      "Error fetching thebettingguy.co.uk: Timeout 10000ms exceeded.\n"
     ]
    },
    {
     "name": "stderr",
     "output_type": "stream",
     "text": [
      "Fetching URLs:  28%|██▊       | 511/1839 [26:52<40:52,  1.85s/it]  "
     ]
    },
    {
     "name": "stdout",
     "output_type": "stream",
     "text": [
      "Error fetching tipico.com: net::ERR_HTTP2_PROTOCOL_ERROR at https://tipico.com/\n"
     ]
    },
    {
     "name": "stderr",
     "output_type": "stream",
     "text": [
      "Fetching URLs:  28%|██▊       | 517/1839 [27:19<1:50:25,  5.01s/it]"
     ]
    },
    {
     "name": "stdout",
     "output_type": "stream",
     "text": [
      "Error fetching titansbet.com.au: Timeout 10000ms exceeded.\n"
     ]
    },
    {
     "name": "stderr",
     "output_type": "stream",
     "text": [
      "Fetching URLs:  28%|██▊       | 518/1839 [27:19<1:19:32,  3.61s/it]"
     ]
    },
    {
     "name": "stdout",
     "output_type": "stream",
     "text": [
      "Error fetching toals.co.uk: net::ERR_CERT_AUTHORITY_INVALID at https://toals.co.uk/\n"
     ]
    },
    {
     "name": "stderr",
     "output_type": "stream",
     "text": [
      "Fetching URLs:  28%|██▊       | 523/1839 [27:48<2:31:22,  6.90s/it]"
     ]
    },
    {
     "name": "stdout",
     "output_type": "stream",
     "text": [
      "Error fetching topbetta.com: Timeout 10000ms exceeded.\n"
     ]
    },
    {
     "name": "stderr",
     "output_type": "stream",
     "text": [
      "Fetching URLs:  28%|██▊       | 524/1839 [27:58<2:51:54,  7.84s/it]"
     ]
    },
    {
     "name": "stdout",
     "output_type": "stream",
     "text": [
      "Error fetching topbetta.com.au: Timeout 10000ms exceeded.\n"
     ]
    },
    {
     "name": "stderr",
     "output_type": "stream",
     "text": [
      "Fetching URLs:  29%|██▊       | 526/1839 [28:01<1:38:00,  4.48s/it]"
     ]
    },
    {
     "name": "stdout",
     "output_type": "stream",
     "text": [
      "Error fetching topcatsports.ag: net::ERR_CONNECTION_REFUSED at https://topcatsports.ag/\n"
     ]
    },
    {
     "name": "stderr",
     "output_type": "stream",
     "text": [
      "Fetching URLs:  29%|██▊       | 528/1839 [28:11<1:43:38,  4.74s/it]"
     ]
    },
    {
     "name": "stdout",
     "output_type": "stream",
     "text": [
      "Error fetching topodds.com.au: Timeout 10000ms exceeded.\n"
     ]
    },
    {
     "name": "stderr",
     "output_type": "stream",
     "text": [
      "Fetching URLs:  29%|██▉       | 529/1839 [28:21<2:12:15,  6.06s/it]"
     ]
    },
    {
     "name": "stdout",
     "output_type": "stream",
     "text": [
      "Error fetching topplay.cc: Timeout 10000ms exceeded.\n"
     ]
    },
    {
     "name": "stderr",
     "output_type": "stream",
     "text": [
      "Fetching URLs:  29%|██▉       | 537/1839 [28:42<41:36,  1.92s/it]  "
     ]
    },
    {
     "name": "stdout",
     "output_type": "stream",
     "text": [
      "Error fetching toto2.com: net::ERR_CONNECTION_REFUSED at https://toto2.com/\n"
     ]
    },
    {
     "name": "stderr",
     "output_type": "stream",
     "text": [
      "Fetching URLs:  29%|██▉       | 539/1839 [28:54<1:31:22,  4.22s/it]"
     ]
    },
    {
     "name": "stdout",
     "output_type": "stream",
     "text": [
      "Error fetching totobet24.com: Timeout 10000ms exceeded.\n"
     ]
    },
    {
     "name": "stderr",
     "output_type": "stream",
     "text": [
      "Fetching URLs:  29%|██▉       | 540/1839 [28:55<1:12:12,  3.33s/it]"
     ]
    },
    {
     "name": "stdout",
     "output_type": "stream",
     "text": [
      "Error fetching toxicjackpot.com: net::ERR_NAME_NOT_RESOLVED at https://toxicjackpot.com/\n"
     ]
    },
    {
     "name": "stderr",
     "output_type": "stream",
     "text": [
      "Fetching URLs:  30%|██▉       | 543/1839 [28:58<39:59,  1.85s/it]  "
     ]
    },
    {
     "name": "stdout",
     "output_type": "stream",
     "text": [
      "Error fetching triobet.com: net::ERR_NAME_NOT_RESOLVED at https://triobet.com/\n"
     ]
    },
    {
     "name": "stderr",
     "output_type": "stream",
     "text": [
      "Fetching URLs:  30%|██▉       | 546/1839 [29:03<32:21,  1.50s/it]"
     ]
    },
    {
     "name": "stdout",
     "output_type": "stream",
     "text": [
      "Error fetching uberskins.net: net::ERR_NAME_NOT_RESOLVED at https://uberskins.net/\n"
     ]
    },
    {
     "name": "stderr",
     "output_type": "stream",
     "text": [
      "Fetching URLs:  30%|██▉       | 547/1839 [29:03<28:37,  1.33s/it]"
     ]
    },
    {
     "name": "stdout",
     "output_type": "stream",
     "text": [
      "Error fetching ubet.com: net::ERR_CONNECTION_REFUSED at https://ubet.com/\n"
     ]
    },
    {
     "name": "stderr",
     "output_type": "stream",
     "text": [
      "Fetching URLs:  30%|██▉       | 549/1839 [29:14<59:34,  2.77s/it]  "
     ]
    },
    {
     "name": "stdout",
     "output_type": "stream",
     "text": [
      "Error fetching ucabet.co: Timeout 10000ms exceeded.\n",
      "Error fetching ultimate-odds.com: net::ERR_NAME_NOT_RESOLVED at https://ultimate-odds.com/\n"
     ]
    },
    {
     "name": "stderr",
     "output_type": "stream",
     "text": [
      "Fetching URLs:  30%|██▉       | 550/1839 [29:14<43:56,  2.05s/it]"
     ]
    },
    {
     "name": "stdout",
     "output_type": "stream",
     "text": [
      "Error fetching unibet-42.com: net::ERR_NAME_NOT_RESOLVED at https://unibet-42.com/\n"
     ]
    },
    {
     "name": "stderr",
     "output_type": "stream",
     "text": [
      "Fetching URLs:  30%|███       | 553/1839 [29:19<39:34,  1.85s/it]"
     ]
    },
    {
     "name": "stdout",
     "output_type": "stream",
     "text": [
      "Error fetching usapriceperhead.com: net::ERR_NAME_NOT_RESOLVED at https://usapriceperhead.com/\n"
     ]
    },
    {
     "name": "stderr",
     "output_type": "stream",
     "text": [
      "Fetching URLs:  30%|███       | 555/1839 [29:21<29:35,  1.38s/it]"
     ]
    },
    {
     "name": "stdout",
     "output_type": "stream",
     "text": [
      "Error fetching usbetting.co.za: net::ERR_CERT_COMMON_NAME_INVALID at https://usbetting.co.za/\n"
     ]
    },
    {
     "name": "stderr",
     "output_type": "stream",
     "text": [
      "Fetching URLs:  30%|███       | 556/1839 [29:31<1:15:21,  3.52s/it]"
     ]
    },
    {
     "name": "stdout",
     "output_type": "stream",
     "text": [
      "Error fetching vandersports.com: Timeout 10000ms exceeded.\n"
     ]
    },
    {
     "name": "stderr",
     "output_type": "stream",
     "text": [
      "Fetching URLs:  30%|███       | 560/1839 [29:35<43:36,  2.05s/it]  "
     ]
    },
    {
     "name": "stdout",
     "output_type": "stream",
     "text": [
      "Error fetching vegashero.com: net::ERR_SSL_UNRECOGNIZED_NAME_ALERT at https://vegashero.com/\n"
     ]
    },
    {
     "name": "stderr",
     "output_type": "stream",
     "text": [
      "Fetching URLs:  31%|███       | 564/1839 [29:51<1:33:02,  4.38s/it]"
     ]
    },
    {
     "name": "stdout",
     "output_type": "stream",
     "text": [
      "Error fetching vestabet365.com: Timeout 10000ms exceeded.\n"
     ]
    },
    {
     "name": "stderr",
     "output_type": "stream",
     "text": [
      "Fetching URLs:  31%|███       | 567/1839 [29:54<43:19,  2.04s/it]  "
     ]
    },
    {
     "name": "stdout",
     "output_type": "stream",
     "text": [
      "Error fetching vietbet.eu: net::ERR_NAME_NOT_RESOLVED at https://vietbet.eu/\n"
     ]
    },
    {
     "name": "stderr",
     "output_type": "stream",
     "text": [
      "Fetching URLs:  31%|███       | 570/1839 [30:06<1:26:26,  4.09s/it]"
     ]
    },
    {
     "name": "stdout",
     "output_type": "stream",
     "text": [
      "Error fetching villabet.com: Timeout 10000ms exceeded.\n"
     ]
    },
    {
     "name": "stderr",
     "output_type": "stream",
     "text": [
      "Fetching URLs:  31%|███       | 572/1839 [30:10<1:03:11,  2.99s/it]"
     ]
    },
    {
     "name": "stdout",
     "output_type": "stream",
     "text": [
      "Error fetching vipsports.eu: net::ERR_CERT_COMMON_NAME_INVALID at https://vipsports.eu/\n"
     ]
    },
    {
     "name": "stderr",
     "output_type": "stream",
     "text": [
      "Fetching URLs:  31%|███▏      | 575/1839 [30:22<1:29:40,  4.26s/it]"
     ]
    },
    {
     "name": "stdout",
     "output_type": "stream",
     "text": [
      "Error fetching voltbet.com: Timeout 10000ms exceeded.\n"
     ]
    },
    {
     "name": "stderr",
     "output_type": "stream",
     "text": [
      "Fetching URLs:  31%|███▏      | 577/1839 [30:25<56:34,  2.69s/it]  "
     ]
    },
    {
     "name": "stdout",
     "output_type": "stream",
     "text": [
      "Error fetching vulcun.com: net::ERR_NAME_NOT_RESOLVED at https://vulcun.com/\n"
     ]
    },
    {
     "name": "stderr",
     "output_type": "stream",
     "text": [
      "Fetching URLs:  31%|███▏      | 579/1839 [30:39<1:50:11,  5.25s/it]"
     ]
    },
    {
     "name": "stdout",
     "output_type": "stream",
     "text": [
      "Error fetching wager.dm: Timeout 10000ms exceeded.\n"
     ]
    },
    {
     "name": "stderr",
     "output_type": "stream",
     "text": [
      "Fetching URLs:  32%|███▏      | 581/1839 [30:40<1:00:39,  2.89s/it]"
     ]
    },
    {
     "name": "stdout",
     "output_type": "stream",
     "text": [
      "Error fetching wager7.eu: net::ERR_CERT_DATE_INVALID at https://wager7.eu/\n"
     ]
    },
    {
     "name": "stderr",
     "output_type": "stream",
     "text": [
      "Fetching URLs:  32%|███▏      | 585/1839 [30:48<38:40,  1.85s/it]  "
     ]
    },
    {
     "name": "stdout",
     "output_type": "stream",
     "text": [
      "Error fetching wap.moneyyellow.com: net::ERR_CONNECTION_REFUSED at https://wap.moneyyellow.com/\n"
     ]
    },
    {
     "name": "stderr",
     "output_type": "stream",
     "text": [
      "Fetching URLs:  32%|███▏      | 586/1839 [30:58<1:30:12,  4.32s/it]"
     ]
    },
    {
     "name": "stdout",
     "output_type": "stream",
     "text": [
      "Error fetching webbookmakers.com: Timeout 10000ms exceeded.\n"
     ]
    },
    {
     "name": "stderr",
     "output_type": "stream",
     "text": [
      "Fetching URLs:  32%|███▏      | 590/1839 [31:09<53:45,  2.58s/it]  "
     ]
    },
    {
     "name": "stdout",
     "output_type": "stream",
     "text": [
      "Error fetching wettpunkt.com: net::ERR_NAME_NOT_RESOLVED at https://wettpunkt.com/\n"
     ]
    },
    {
     "name": "stderr",
     "output_type": "stream",
     "text": [
      "Fetching URLs:  32%|███▏      | 591/1839 [31:09<39:11,  1.88s/it]"
     ]
    },
    {
     "name": "stdout",
     "output_type": "stream",
     "text": [
      "Error fetching wgh.ag: net::ERR_CONNECTION_REFUSED at https://wgh.ag/\n"
     ]
    },
    {
     "name": "stderr",
     "output_type": "stream",
     "text": [
      "Fetching URLs:  32%|███▏      | 593/1839 [31:20<1:03:42,  3.07s/it]"
     ]
    },
    {
     "name": "stdout",
     "output_type": "stream",
     "text": [
      "Error fetching whalegaming.co.uk: Timeout 10000ms exceeded.\n",
      "Error fetching whitebet.com: net::ERR_CERT_AUTHORITY_INVALID at https://whitebet.com/\n"
     ]
    },
    {
     "name": "stderr",
     "output_type": "stream",
     "text": [
      "Fetching URLs:  32%|███▏      | 594/1839 [31:30<1:47:05,  5.16s/it]"
     ]
    },
    {
     "name": "stdout",
     "output_type": "stream",
     "text": [
      "Error fetching wildjackpots.com: Timeout 10000ms exceeded.\n"
     ]
    },
    {
     "name": "stderr",
     "output_type": "stream",
     "text": [
      "Fetching URLs:  32%|███▏      | 597/1839 [31:45<1:54:52,  5.55s/it]"
     ]
    },
    {
     "name": "stdout",
     "output_type": "stream",
     "text": [
      "Error fetching williamhill.com.au: net::ERR_NAME_NOT_RESOLVED at https://williamhill.com.au/\n"
     ]
    },
    {
     "name": "stderr",
     "output_type": "stream",
     "text": [
      "Fetching URLs:  33%|███▎      | 599/1839 [31:56<2:02:24,  5.92s/it]"
     ]
    },
    {
     "name": "stdout",
     "output_type": "stream",
     "text": [
      "Error fetching win29.com: Timeout 10000ms exceeded.\n"
     ]
    },
    {
     "name": "stderr",
     "output_type": "stream",
     "text": [
      "Fetching URLs:  33%|███▎      | 603/1839 [32:12<1:52:36,  5.47s/it]"
     ]
    },
    {
     "name": "stdout",
     "output_type": "stream",
     "text": [
      "Error fetching winningft.com: Timeout 10000ms exceeded.\n"
     ]
    },
    {
     "name": "stderr",
     "output_type": "stream",
     "text": [
      "Fetching URLs:  33%|███▎      | 604/1839 [32:12<1:20:42,  3.92s/it]"
     ]
    },
    {
     "name": "stdout",
     "output_type": "stream",
     "text": [
      "Error fetching wishmaker.com: net::ERR_CERT_DATE_INVALID at https://wishmaker.com/\n"
     ]
    },
    {
     "name": "stderr",
     "output_type": "stream",
     "text": [
      "Fetching URLs:  33%|███▎      | 605/1839 [32:13<1:00:33,  2.94s/it]"
     ]
    },
    {
     "name": "stdout",
     "output_type": "stream",
     "text": [
      "Error fetching wixstars.com: net::ERR_SSL_PROTOCOL_ERROR at https://wixstars.com/\n"
     ]
    },
    {
     "name": "stderr",
     "output_type": "stream",
     "text": [
      "Fetching URLs:  33%|███▎      | 606/1839 [32:23<1:44:25,  5.08s/it]"
     ]
    },
    {
     "name": "stdout",
     "output_type": "stream",
     "text": [
      "Error fetching worldofsport.co.za: Timeout 10000ms exceeded.\n"
     ]
    },
    {
     "name": "stderr",
     "output_type": "stream",
     "text": [
      "Fetching URLs:  33%|███▎      | 608/1839 [32:32<1:28:36,  4.32s/it]"
     ]
    },
    {
     "name": "stdout",
     "output_type": "stream",
     "text": [
      "Error fetching worldstar.co.ug: net::ERR_NAME_NOT_RESOLVED at https://worldstar.co.ug/\n"
     ]
    },
    {
     "name": "stderr",
     "output_type": "stream",
     "text": [
      "Fetching URLs:  33%|███▎      | 609/1839 [32:32<1:05:19,  3.19s/it]"
     ]
    },
    {
     "name": "stdout",
     "output_type": "stream",
     "text": [
      "Error fetching worldwidegamble.com: net::ERR_CERT_DATE_INVALID at https://worldwidegamble.com/\n"
     ]
    },
    {
     "name": "stderr",
     "output_type": "stream",
     "text": [
      "Fetching URLs:  33%|███▎      | 616/1839 [32:46<36:40,  1.80s/it]  "
     ]
    },
    {
     "name": "stdout",
     "output_type": "stream",
     "text": [
      "Error fetching www.10luxury39.com: net::ERR_NAME_NOT_RESOLVED at https://www.10luxury39.com/\n"
     ]
    },
    {
     "name": "stderr",
     "output_type": "stream",
     "text": [
      "Fetching URLs:  34%|███▎      | 619/1839 [32:55<43:39,  2.15s/it]  "
     ]
    },
    {
     "name": "stdout",
     "output_type": "stream",
     "text": [
      "Error fetching www.12bet.uk: Unable to retrieve content because the page is navigating and changing the content.\n",
      "Error fetching www.1337bid.com: net::ERR_NAME_NOT_RESOLVED at https://www.1337bid.com/\n"
     ]
    },
    {
     "name": "stderr",
     "output_type": "stream",
     "text": [
      "Fetching URLs:  34%|███▍      | 621/1839 [32:55<24:40,  1.22s/it]"
     ]
    },
    {
     "name": "stdout",
     "output_type": "stream",
     "text": [
      "Error fetching www.138.com: net::ERR_NAME_NOT_RESOLVED at https://www.138.com/\n",
      "Error fetching www.180bets.com: net::ERR_CERT_COMMON_NAME_INVALID at https://www.180bets.com/\n"
     ]
    },
    {
     "name": "stderr",
     "output_type": "stream",
     "text": [
      "Fetching URLs:  34%|███▍      | 625/1839 [33:06<30:45,  1.52s/it]  "
     ]
    },
    {
     "name": "stdout",
     "output_type": "stream",
     "text": [
      "Error fetching www.1bet2bet.com: net::ERR_NAME_NOT_RESOLVED at https://www.1bet2bet.com/\n"
     ]
    },
    {
     "name": "stderr",
     "output_type": "stream",
     "text": [
      "Fetching URLs:  34%|███▍      | 626/1839 [33:16<1:20:09,  3.96s/it]"
     ]
    },
    {
     "name": "stdout",
     "output_type": "stream",
     "text": [
      "Error fetching www.1stlines.com: Timeout 10000ms exceeded.\n"
     ]
    },
    {
     "name": "stderr",
     "output_type": "stream",
     "text": [
      "Fetching URLs:  35%|███▍      | 637/1839 [33:49<1:08:10,  3.40s/it]"
     ]
    },
    {
     "name": "stdout",
     "output_type": "stream",
     "text": [
      "Error fetching www.24hbet.com: net::ERR_NAME_NOT_RESOLVED at https://www.24hbet.com/\n"
     ]
    },
    {
     "name": "stderr",
     "output_type": "stream",
     "text": [
      "Fetching URLs:  35%|███▌      | 647/1839 [34:19<1:39:49,  5.02s/it]"
     ]
    },
    {
     "name": "stdout",
     "output_type": "stream",
     "text": [
      "Error fetching www.666casino.com: Timeout 10000ms exceeded.\n"
     ]
    },
    {
     "name": "stderr",
     "output_type": "stream",
     "text": [
      "Fetching URLs:  35%|███▌      | 650/1839 [34:36<1:57:22,  5.92s/it]"
     ]
    },
    {
     "name": "stdout",
     "output_type": "stream",
     "text": [
      "Error fetching www.7777.bg: Timeout 10000ms exceeded.\n"
     ]
    },
    {
     "name": "stderr",
     "output_type": "stream",
     "text": [
      "Fetching URLs:  36%|███▌      | 653/1839 [35:03<2:43:35,  8.28s/it]"
     ]
    },
    {
     "name": "stdout",
     "output_type": "stream",
     "text": [
      "Error fetching www.7godscasino.com: Timeout 10000ms exceeded.\n"
     ]
    },
    {
     "name": "stderr",
     "output_type": "stream",
     "text": [
      "Fetching URLs:  36%|███▌      | 657/1839 [35:21<2:04:49,  6.34s/it]"
     ]
    },
    {
     "name": "stdout",
     "output_type": "stream",
     "text": [
      "Error fetching www.88asia88.com: Timeout 10000ms exceeded.\n"
     ]
    },
    {
     "name": "stderr",
     "output_type": "stream",
     "text": [
      "Fetching URLs:  36%|███▌      | 662/1839 [35:24<29:52,  1.52s/it]  "
     ]
    },
    {
     "name": "stdout",
     "output_type": "stream",
     "text": [
      "Error fetching www.99bet.com: net::ERR_NAME_NOT_RESOLVED at https://www.99bet.com/\n",
      "Error fetching www.a1casino.com: net::ERR_NAME_NOT_RESOLVED at https://www.a1casino.com/\n"
     ]
    },
    {
     "name": "stderr",
     "output_type": "stream",
     "text": [
      "Fetching URLs:  36%|███▌      | 664/1839 [35:26<20:51,  1.07s/it]"
     ]
    },
    {
     "name": "stdout",
     "output_type": "stream",
     "text": [
      "Error fetching www.abcislands.ag: Unable to retrieve content because the page is navigating and changing the content.\n",
      "Error fetching www.ace-skins.com: net::ERR_NAME_NOT_RESOLVED at https://www.ace-skins.com/\n"
     ]
    },
    {
     "name": "stderr",
     "output_type": "stream",
     "text": [
      "Fetching URLs:  36%|███▌      | 666/1839 [35:26<12:34,  1.55it/s]"
     ]
    },
    {
     "name": "stdout",
     "output_type": "stream",
     "text": [
      "Error fetching www.actionbets.com: net::ERR_CONNECTION_REFUSED at https://www.actionbets.com/\n",
      "Error fetching www.actiononsports.com: net::ERR_NAME_NOT_RESOLVED at https://www.actiononsports.com/\n"
     ]
    },
    {
     "name": "stderr",
     "output_type": "stream",
     "text": [
      "Fetching URLs:  36%|███▋      | 667/1839 [35:28<16:11,  1.21it/s]"
     ]
    },
    {
     "name": "stdout",
     "output_type": "stream",
     "text": [
      "Error fetching www.acttab.com.au: net::ERR_CERT_COMMON_NAME_INVALID at https://www.acttab.com.au/\n"
     ]
    },
    {
     "name": "stderr",
     "output_type": "stream",
     "text": [
      "Fetching URLs:  36%|███▋      | 669/1839 [35:29<12:34,  1.55it/s]"
     ]
    },
    {
     "name": "stdout",
     "output_type": "stream",
     "text": [
      "Error fetching www.agenbetplace88.com: net::ERR_ABORTED at https://www.agenbetplace88.com/\n"
     ]
    },
    {
     "name": "stderr",
     "output_type": "stream",
     "text": [
      "Fetching URLs:  36%|███▋      | 670/1839 [35:39<1:07:28,  3.46s/it]"
     ]
    },
    {
     "name": "stdout",
     "output_type": "stream",
     "text": [
      "Error fetching www.agent855k.com: Timeout 10000ms exceeded.\n"
     ]
    },
    {
     "name": "stderr",
     "output_type": "stream",
     "text": [
      "Fetching URLs:  36%|███▋      | 671/1839 [35:39<48:40,  2.50s/it]  "
     ]
    },
    {
     "name": "stdout",
     "output_type": "stream",
     "text": [
      "Error fetching www.agentspinner.com: net::ERR_NAME_NOT_RESOLVED at https://www.agentspinner.com/\n"
     ]
    },
    {
     "name": "stderr",
     "output_type": "stream",
     "text": [
      "Fetching URLs:  37%|███▋      | 676/1839 [35:54<50:20,  2.60s/it]  "
     ]
    },
    {
     "name": "stdout",
     "output_type": "stream",
     "text": [
      "Error fetching www.allpro.eu: net::ERR_CERT_AUTHORITY_INVALID at https://www.allpro.eu/\n"
     ]
    },
    {
     "name": "stderr",
     "output_type": "stream",
     "text": [
      "Fetching URLs:  37%|███▋      | 678/1839 [36:06<1:33:40,  4.84s/it]"
     ]
    },
    {
     "name": "stdout",
     "output_type": "stream",
     "text": [
      "Error fetching www.allstarsportsbook.com: Timeout 10000ms exceeded.\n"
     ]
    },
    {
     "name": "stderr",
     "output_type": "stream",
     "text": [
      "Fetching URLs:  37%|███▋      | 681/1839 [36:19<1:39:19,  5.15s/it]"
     ]
    },
    {
     "name": "stdout",
     "output_type": "stream",
     "text": [
      "Error fetching www.alphadraft.com: Timeout 10000ms exceeded.\n"
     ]
    },
    {
     "name": "stderr",
     "output_type": "stream",
     "text": [
      "Fetching URLs:  37%|███▋      | 683/1839 [36:31<1:51:54,  5.81s/it]"
     ]
    },
    {
     "name": "stdout",
     "output_type": "stream",
     "text": [
      "Error fetching www.americanfootballbetting.com: Timeout 10000ms exceeded.\n"
     ]
    },
    {
     "name": "stderr",
     "output_type": "stream",
     "text": [
      "Fetching URLs:  37%|███▋      | 686/1839 [36:35<50:09,  2.61s/it]  "
     ]
    },
    {
     "name": "stdout",
     "output_type": "stream",
     "text": [
      "Error fetching www.apollobet.com: net::ERR_CONNECTION_REFUSED at https://www.apollobet.com/\n"
     ]
    },
    {
     "name": "stderr",
     "output_type": "stream",
     "text": [
      "Fetching URLs:  37%|███▋      | 687/1839 [36:35<36:38,  1.91s/it]"
     ]
    },
    {
     "name": "stdout",
     "output_type": "stream",
     "text": [
      "Error fetching www.arena-bet.com: net::ERR_NAME_NOT_RESOLVED at https://www.arena-bet.com/\n"
     ]
    },
    {
     "name": "stderr",
     "output_type": "stream",
     "text": [
      "Fetching URLs:  37%|███▋      | 688/1839 [36:35<27:15,  1.42s/it]"
     ]
    },
    {
     "name": "stdout",
     "output_type": "stream",
     "text": [
      "Error fetching www.asianbeta.com: net::ERR_NAME_NOT_RESOLVED at https://www.asianbeta.com/\n"
     ]
    },
    {
     "name": "stderr",
     "output_type": "stream",
     "text": [
      "Fetching URLs:  38%|███▊      | 690/1839 [36:40<35:11,  1.84s/it]"
     ]
    },
    {
     "name": "stdout",
     "output_type": "stream",
     "text": [
      "Error fetching www.axbet.com: net::ERR_SSL_VERSION_OR_CIPHER_MISMATCH at https://www.axbet.com/\n"
     ]
    },
    {
     "name": "stderr",
     "output_type": "stream",
     "text": [
      "Fetching URLs:  38%|███▊      | 695/1839 [36:51<30:43,  1.61s/it]"
     ]
    },
    {
     "name": "stdout",
     "output_type": "stream",
     "text": [
      "Error fetching www.bananajackpot.com: net::ERR_NAME_NOT_RESOLVED at https://www.bananajackpot.com/\n",
      "Error fetching www.bandarklik4d.net: net::ERR_NAME_NOT_RESOLVED at https://www.bandarklik4d.net/\n"
     ]
    },
    {
     "name": "stderr",
     "output_type": "stream",
     "text": [
      "Fetching URLs:  38%|███▊      | 697/1839 [36:53<23:19,  1.23s/it]"
     ]
    },
    {
     "name": "stdout",
     "output_type": "stream",
     "text": [
      "Error fetching www.beatthebook.eu: net::ERR_NAME_NOT_RESOLVED at https://www.beatthebook.eu/\n"
     ]
    },
    {
     "name": "stderr",
     "output_type": "stream",
     "text": [
      "Fetching URLs:  38%|███▊      | 698/1839 [37:03<1:08:59,  3.63s/it]"
     ]
    },
    {
     "name": "stdout",
     "output_type": "stream",
     "text": [
      "Error fetching www.belmont.ag: Timeout 10000ms exceeded.\n"
     ]
    },
    {
     "name": "stderr",
     "output_type": "stream",
     "text": [
      "Fetching URLs:  38%|███▊      | 701/1839 [37:18<1:35:27,  5.03s/it]"
     ]
    },
    {
     "name": "stdout",
     "output_type": "stream",
     "text": [
      "Error fetching www.bestbettoday.com: Timeout 10000ms exceeded.\n"
     ]
    },
    {
     "name": "stderr",
     "output_type": "stream",
     "text": [
      "Fetching URLs:  38%|███▊      | 703/1839 [37:20<57:07,  3.02s/it]  "
     ]
    },
    {
     "name": "stdout",
     "output_type": "stream",
     "text": [
      "Error fetching www.bestecasino.com: net::ERR_CERT_DATE_INVALID at https://www.bestecasino.com/\n"
     ]
    },
    {
     "name": "stderr",
     "output_type": "stream",
     "text": [
      "Fetching URLs:  38%|███▊      | 704/1839 [37:30<1:36:35,  5.11s/it]"
     ]
    },
    {
     "name": "stdout",
     "output_type": "stream",
     "text": [
      "Error fetching www.bet-52.com: Timeout 10000ms exceeded.\n"
     ]
    },
    {
     "name": "stderr",
     "output_type": "stream",
     "text": [
      "Fetching URLs:  38%|███▊      | 706/1839 [37:43<1:53:31,  6.01s/it]"
     ]
    },
    {
     "name": "stdout",
     "output_type": "stream",
     "text": [
      "Error fetching www.bet-csgo.com: Timeout 10000ms exceeded.\n"
     ]
    },
    {
     "name": "stderr",
     "output_type": "stream",
     "text": [
      "Fetching URLs:  38%|███▊      | 708/1839 [37:46<1:08:06,  3.61s/it]"
     ]
    },
    {
     "name": "stdout",
     "output_type": "stream",
     "text": [
      "Error fetching www.bet.hkjc.com: net::ERR_NAME_NOT_RESOLVED at https://www.bet.hkjc.com/\n"
     ]
    },
    {
     "name": "stderr",
     "output_type": "stream",
     "text": [
      "Fetching URLs:  39%|███▊      | 710/1839 [37:51<57:50,  3.07s/it]  "
     ]
    },
    {
     "name": "stdout",
     "output_type": "stream",
     "text": [
      "Error fetching www.bet11888.com: net::ERR_NAME_NOT_RESOLVED at https://www.bet11888.com/\n"
     ]
    },
    {
     "name": "stderr",
     "output_type": "stream",
     "text": [
      "Fetching URLs:  39%|███▊      | 711/1839 [38:01<1:37:12,  5.17s/it]"
     ]
    },
    {
     "name": "stdout",
     "output_type": "stream",
     "text": [
      "Error fetching www.bet2290.com: Timeout 10000ms exceeded.\n"
     ]
    },
    {
     "name": "stderr",
     "output_type": "stream",
     "text": [
      "Fetching URLs:  39%|███▊      | 712/1839 [38:11<2:04:35,  6.63s/it]"
     ]
    },
    {
     "name": "stdout",
     "output_type": "stream",
     "text": [
      "Error fetching www.bet2875.com: Timeout 10000ms exceeded.\n",
      "Error fetching www.bet2earn.net: net::ERR_NAME_NOT_RESOLVED at https://www.bet2earn.net/\n"
     ]
    },
    {
     "name": "stderr",
     "output_type": "stream",
     "text": [
      "Fetching URLs:  39%|███▉      | 715/1839 [38:24<1:46:37,  5.69s/it]"
     ]
    },
    {
     "name": "stdout",
     "output_type": "stream",
     "text": [
      "Error fetching www.bet3000.com: Timeout 10000ms exceeded.\n"
     ]
    },
    {
     "name": "stderr",
     "output_type": "stream",
     "text": [
      "Fetching URLs:  39%|███▉      | 716/1839 [38:34<2:07:52,  6.83s/it]"
     ]
    },
    {
     "name": "stdout",
     "output_type": "stream",
     "text": [
      "Error fetching www.bet33.com: Timeout 10000ms exceeded.\n"
     ]
    },
    {
     "name": "stderr",
     "output_type": "stream",
     "text": [
      "Fetching URLs:  39%|███▉      | 718/1839 [38:44<2:00:10,  6.43s/it]"
     ]
    },
    {
     "name": "stdout",
     "output_type": "stream",
     "text": [
      "Error fetching www.bet7days.com: Timeout 10000ms exceeded.\n"
     ]
    },
    {
     "name": "stderr",
     "output_type": "stream",
     "text": [
      "Fetching URLs:  39%|███▉      | 719/1839 [38:46<1:34:13,  5.05s/it]"
     ]
    },
    {
     "name": "stdout",
     "output_type": "stream",
     "text": [
      "Error fetching www.betadonis55.com: net::ERR_NAME_NOT_RESOLVED at https://www.betadonis55.com/\n"
     ]
    },
    {
     "name": "stderr",
     "output_type": "stream",
     "text": [
      "Fetching URLs:  39%|███▉      | 725/1839 [38:53<33:10,  1.79s/it]  "
     ]
    },
    {
     "name": "stdout",
     "output_type": "stream",
     "text": [
      "Error fetching www.betano.cz: net::ERR_ABORTED at https://www.betano.cz/\n"
     ]
    },
    {
     "name": "stderr",
     "output_type": "stream",
     "text": [
      "Fetching URLs:  40%|███▉      | 732/1839 [39:07<24:40,  1.34s/it]"
     ]
    },
    {
     "name": "stdout",
     "output_type": "stream",
     "text": [
      "Error fetching www.betcanadian.com: net::ERR_CONNECTION_REFUSED at https://www.betcanadian.com/\n"
     ]
    },
    {
     "name": "stderr",
     "output_type": "stream",
     "text": [
      "Fetching URLs:  40%|███▉      | 735/1839 [39:20<1:14:21,  4.04s/it]"
     ]
    },
    {
     "name": "stdout",
     "output_type": "stream",
     "text": [
      "Error fetching www.betcave.com: Timeout 10000ms exceeded.\n"
     ]
    },
    {
     "name": "stderr",
     "output_type": "stream",
     "text": [
      "Fetching URLs:  40%|████      | 737/1839 [39:32<1:39:18,  5.41s/it]"
     ]
    },
    {
     "name": "stdout",
     "output_type": "stream",
     "text": [
      "Error fetching www.betcityru.com: Timeout 10000ms exceeded.\n"
     ]
    },
    {
     "name": "stderr",
     "output_type": "stream",
     "text": [
      "Fetching URLs:  40%|████      | 739/1839 [39:43<1:47:03,  5.84s/it]"
     ]
    },
    {
     "name": "stdout",
     "output_type": "stream",
     "text": [
      "Error fetching www.betclock.com: Timeout 10000ms exceeded.\n"
     ]
    },
    {
     "name": "stderr",
     "output_type": "stream",
     "text": [
      "Fetching URLs:  40%|████      | 741/1839 [39:45<1:00:45,  3.32s/it]"
     ]
    },
    {
     "name": "stdout",
     "output_type": "stream",
     "text": [
      "Error fetching www.betcostarica.ag: net::ERR_CONNECTION_REFUSED at https://www.betcostarica.ag/\n"
     ]
    },
    {
     "name": "stderr",
     "output_type": "stream",
     "text": [
      "Fetching URLs:  40%|████      | 742/1839 [39:48<58:53,  3.22s/it]  "
     ]
    },
    {
     "name": "stdout",
     "output_type": "stream",
     "text": [
      "Error fetching www.betcruise.com: net::ERR_NAME_NOT_RESOLVED at https://www.betcruise.com/\n"
     ]
    },
    {
     "name": "stderr",
     "output_type": "stream",
     "text": [
      "Fetching URLs:  41%|████      | 747/1839 [39:56<35:27,  1.95s/it]"
     ]
    },
    {
     "name": "stdout",
     "output_type": "stream",
     "text": [
      "Error fetching www.betelephant.com: net::ERR_CONNECTION_REFUSED at https://www.betelephant.com/\n"
     ]
    },
    {
     "name": "stderr",
     "output_type": "stream",
     "text": [
      "Fetching URLs:  41%|████      | 749/1839 [40:07<1:15:09,  4.14s/it]"
     ]
    },
    {
     "name": "stdout",
     "output_type": "stream",
     "text": [
      "Error fetching www.betextratime.com: Timeout 10000ms exceeded.\n"
     ]
    },
    {
     "name": "stderr",
     "output_type": "stream",
     "text": [
      "Fetching URLs:  41%|████      | 750/1839 [40:08<54:36,  3.01s/it]  "
     ]
    },
    {
     "name": "stdout",
     "output_type": "stream",
     "text": [
      "Error fetching www.betezy.com.au: net::ERR_NAME_NOT_RESOLVED at https://www.betezy.com.au/\n"
     ]
    },
    {
     "name": "stderr",
     "output_type": "stream",
     "text": [
      "Fetching URLs:  41%|████      | 752/1839 [40:10<38:58,  2.15s/it]"
     ]
    },
    {
     "name": "stdout",
     "output_type": "stream",
     "text": [
      "Error fetching www.betfirst-en.dhnet.be: net::ERR_NAME_NOT_RESOLVED at https://www.betfirst-en.dhnet.be/\n"
     ]
    },
    {
     "name": "stderr",
     "output_type": "stream",
     "text": [
      "Fetching URLs:  41%|████      | 754/1839 [40:20<1:02:59,  3.48s/it]"
     ]
    },
    {
     "name": "stdout",
     "output_type": "stream",
     "text": [
      "Error fetching www.betflag.com: Timeout 10000ms exceeded.\n"
     ]
    },
    {
     "name": "stderr",
     "output_type": "stream",
     "text": [
      "Fetching URLs:  41%|████      | 755/1839 [40:20<48:37,  2.69s/it]  "
     ]
    },
    {
     "name": "stdout",
     "output_type": "stream",
     "text": [
      "Error fetching www.betflash.co.za: net::ERR_CERT_COMMON_NAME_INVALID at https://www.betflash.co.za/\n"
     ]
    },
    {
     "name": "stderr",
     "output_type": "stream",
     "text": [
      "Fetching URLs:  41%|████      | 758/1839 [40:32<1:13:27,  4.08s/it]"
     ]
    },
    {
     "name": "stdout",
     "output_type": "stream",
     "text": [
      "Error fetching www.betgolf.com.au: Timeout 10000ms exceeded.\n"
     ]
    },
    {
     "name": "stderr",
     "output_type": "stream",
     "text": [
      "Fetching URLs:  41%|████▏     | 763/1839 [40:45<52:09,  2.91s/it]  "
     ]
    },
    {
     "name": "stdout",
     "output_type": "stream",
     "text": [
      "Error fetching www.betin.com: net::ERR_NAME_NOT_RESOLVED at https://www.betin.com/\n"
     ]
    },
    {
     "name": "stderr",
     "output_type": "stream",
     "text": [
      "Fetching URLs:  42%|████▏     | 765/1839 [40:55<1:09:40,  3.89s/it]"
     ]
    },
    {
     "name": "stdout",
     "output_type": "stream",
     "text": [
      "Error fetching www.betin1.com: Timeout 10000ms exceeded.\n"
     ]
    },
    {
     "name": "stderr",
     "output_type": "stream",
     "text": [
      "Fetching URLs:  42%|████▏     | 766/1839 [41:05<1:36:41,  5.41s/it]"
     ]
    },
    {
     "name": "stdout",
     "output_type": "stream",
     "text": [
      "Error fetching www.betinternet.com: Timeout 10000ms exceeded.\n"
     ]
    },
    {
     "name": "stderr",
     "output_type": "stream",
     "text": [
      "Fetching URLs:  42%|████▏     | 772/1839 [41:16<36:59,  2.08s/it]  "
     ]
    },
    {
     "name": "stdout",
     "output_type": "stream",
     "text": [
      "Error fetching www.betlatina.com: Unable to retrieve content because the page is navigating and changing the content.\n"
     ]
    },
    {
     "name": "stderr",
     "output_type": "stream",
     "text": [
      "Fetching URLs:  42%|████▏     | 774/1839 [41:17<21:21,  1.20s/it]"
     ]
    },
    {
     "name": "stdout",
     "output_type": "stream",
     "text": [
      "Error fetching www.betline.com: net::ERR_CERT_COMMON_NAME_INVALID at https://www.betline.com/\n",
      "Error fetching www.betliner.com: net::ERR_CONNECTION_REFUSED at https://www.betliner.com/\n"
     ]
    },
    {
     "name": "stderr",
     "output_type": "stream",
     "text": [
      "Fetching URLs:  42%|████▏     | 777/1839 [41:37<1:28:57,  5.03s/it]"
     ]
    },
    {
     "name": "stdout",
     "output_type": "stream",
     "text": [
      "Error fetching www.betmclean.com: Timeout 10000ms exceeded.\n"
     ]
    },
    {
     "name": "stderr",
     "output_type": "stream",
     "text": [
      "Fetching URLs:  42%|████▏     | 778/1839 [41:47<1:55:23,  6.53s/it]"
     ]
    },
    {
     "name": "stdout",
     "output_type": "stream",
     "text": [
      "Error fetching www.betmira.com: Timeout 10000ms exceeded.\n"
     ]
    },
    {
     "name": "stderr",
     "output_type": "stream",
     "text": [
      "Fetching URLs:  43%|████▎     | 784/1839 [41:53<26:43,  1.52s/it]  "
     ]
    },
    {
     "name": "stdout",
     "output_type": "stream",
     "text": [
      "Error fetching www.betngo.com: net::ERR_CERT_COMMON_NAME_INVALID at https://www.betngo.com/\n"
     ]
    },
    {
     "name": "stderr",
     "output_type": "stream",
     "text": [
      "Fetching URLs:  43%|████▎     | 786/1839 [41:56<21:29,  1.22s/it]"
     ]
    },
    {
     "name": "stdout",
     "output_type": "stream",
     "text": [
      "Error fetching www.betondunhill.com: net::ERR_NAME_NOT_RESOLVED at https://www.betondunhill.com/\n"
     ]
    },
    {
     "name": "stderr",
     "output_type": "stream",
     "text": [
      "Fetching URLs:  43%|████▎     | 788/1839 [42:01<32:28,  1.85s/it]"
     ]
    },
    {
     "name": "stdout",
     "output_type": "stream",
     "text": [
      "Error fetching www.betonline.com: net::ERR_NAME_NOT_RESOLVED at https://www.betonline.com/\n"
     ]
    },
    {
     "name": "stderr",
     "output_type": "stream",
     "text": [
      "Fetching URLs:  43%|████▎     | 789/1839 [42:11<1:15:24,  4.31s/it]"
     ]
    },
    {
     "name": "stdout",
     "output_type": "stream",
     "text": [
      "Error fetching www.betonline247.com: Timeout 10000ms exceeded.\n"
     ]
    },
    {
     "name": "stderr",
     "output_type": "stream",
     "text": [
      "Fetching URLs:  43%|████▎     | 792/1839 [42:15<38:41,  2.22s/it]  "
     ]
    },
    {
     "name": "stdout",
     "output_type": "stream",
     "text": [
      "Error fetching www.betoto.com: net::ERR_CERT_COMMON_NAME_INVALID at https://www.betoto.com/\n"
     ]
    },
    {
     "name": "stderr",
     "output_type": "stream",
     "text": [
      "Fetching URLs:  43%|████▎     | 796/1839 [42:25<36:58,  2.13s/it]"
     ]
    },
    {
     "name": "stdout",
     "output_type": "stream",
     "text": [
      "Error fetching www.betpassion.uno: net::ERR_NAME_NOT_RESOLVED at https://www.betpassion.uno/\n"
     ]
    },
    {
     "name": "stderr",
     "output_type": "stream",
     "text": [
      "Fetching URLs:  44%|████▎     | 804/1839 [42:54<1:22:44,  4.80s/it]"
     ]
    },
    {
     "name": "stdout",
     "output_type": "stream",
     "text": [
      "Error fetching www.betpci.com: Timeout 10000ms exceeded.\n"
     ]
    },
    {
     "name": "stderr",
     "output_type": "stream",
     "text": [
      "Fetching URLs:  44%|████▍     | 806/1839 [43:07<1:41:30,  5.90s/it]"
     ]
    },
    {
     "name": "stdout",
     "output_type": "stream",
     "text": [
      "Error fetching www.betplace88.co: Timeout 10000ms exceeded.\n"
     ]
    },
    {
     "name": "stderr",
     "output_type": "stream",
     "text": [
      "Fetching URLs:  44%|████▍     | 807/1839 [43:17<2:02:58,  7.15s/it]"
     ]
    },
    {
     "name": "stdout",
     "output_type": "stream",
     "text": [
      "Error fetching www.betplace88.net: Timeout 10000ms exceeded.\n"
     ]
    },
    {
     "name": "stderr",
     "output_type": "stream",
     "text": [
      "Fetching URLs:  44%|████▍     | 808/1839 [43:27<2:17:51,  8.02s/it]"
     ]
    },
    {
     "name": "stdout",
     "output_type": "stream",
     "text": [
      "Error fetching www.betplace88.org: Timeout 10000ms exceeded.\n"
     ]
    },
    {
     "name": "stderr",
     "output_type": "stream",
     "text": [
      "Fetching URLs:  44%|████▍     | 809/1839 [43:28<1:38:53,  5.76s/it]"
     ]
    },
    {
     "name": "stdout",
     "output_type": "stream",
     "text": [
      "Error fetching www.betplatinum.ag: net::ERR_CONNECTION_REFUSED at https://www.betplatinum.ag/\n"
     ]
    },
    {
     "name": "stderr",
     "output_type": "stream",
     "text": [
      "Fetching URLs:  44%|████▍     | 812/1839 [43:43<1:41:49,  5.95s/it]"
     ]
    },
    {
     "name": "stdout",
     "output_type": "stream",
     "text": [
      "Error fetching www.betprestige.com: Timeout 10000ms exceeded.\n"
     ]
    },
    {
     "name": "stderr",
     "output_type": "stream",
     "text": [
      "Fetching URLs:  44%|████▍     | 814/1839 [43:44<53:31,  3.13s/it]  "
     ]
    },
    {
     "name": "stdout",
     "output_type": "stream",
     "text": [
      "Error fetching www.betqs.com: net::ERR_ABORTED at https://www.betqs.com/\n"
     ]
    },
    {
     "name": "stderr",
     "output_type": "stream",
     "text": [
      "Fetching URLs:  45%|████▍     | 821/1839 [43:52<16:03,  1.06it/s]"
     ]
    },
    {
     "name": "stdout",
     "output_type": "stream",
     "text": [
      "Error fetching www.betrogers.com: net::ERR_NAME_NOT_RESOLVED at https://www.betrogers.com/\n",
      "Error fetching www.betroyal.com: net::ERR_NAME_NOT_RESOLVED at https://www.betroyal.com/\n"
     ]
    },
    {
     "name": "stderr",
     "output_type": "stream",
     "text": [
      "Fetching URLs:  45%|████▍     | 823/1839 [44:03<44:09,  2.61s/it]  "
     ]
    },
    {
     "name": "stdout",
     "output_type": "stream",
     "text": [
      "Error fetching www.bets10go.com: Timeout 10000ms exceeded.\n",
      "Error fetching www.bets4all.com: net::ERR_NAME_NOT_RESOLVED at https://www.bets4all.com/\n"
     ]
    },
    {
     "name": "stderr",
     "output_type": "stream",
     "text": [
      "Task exception was never retrieved\n",
      "future: <Task finished name='Task-7' coro=<Connection.run() done, defined at /usr/local/lib/python3.10/dist-packages/playwright/_impl/_connection.py:268> exception=AttributeError(\"'dict' object has no attribute '_object'\")>\n",
      "Traceback (most recent call last):\n",
      "  File \"/usr/local/lib/python3.10/dist-packages/playwright/_impl/_connection.py\", line 277, in run\n",
      "    await self._transport.run()\n",
      "  File \"/usr/local/lib/python3.10/dist-packages/playwright/_impl/_transport.py\", line 163, in run\n",
      "    self.on_message(obj)\n",
      "  File \"/usr/local/lib/python3.10/dist-packages/playwright/_impl/_connection.py\", line 236, in <lambda>\n",
      "    self._transport.on_message = lambda msg: self.dispatch(msg)\n",
      "  File \"/usr/local/lib/python3.10/dist-packages/playwright/_impl/_connection.py\", line 395, in dispatch\n",
      "    self._create_remote_object(\n",
      "  File \"/usr/local/lib/python3.10/dist-packages/playwright/_impl/_connection.py\", line 445, in _create_remote_object\n",
      "    result = self._object_factory(parent, type, guid, initializer)\n",
      "  File \"/usr/local/lib/python3.10/dist-packages/playwright/_impl/_object_factory.py\", line 67, in create_remote_object\n",
      "    return Frame(parent, type, guid, initializer)\n",
      "  File \"/usr/local/lib/python3.10/dist-packages/playwright/_impl/_frame.py\", line 79, in __init__\n",
      "    self._parent_frame = from_nullable_channel(initializer.get(\"parentFrame\"))\n",
      "  File \"/usr/local/lib/python3.10/dist-packages/playwright/_impl/_connection.py\", line 515, in from_nullable_channel\n",
      "    return channel._object if channel else None\n",
      "AttributeError: 'dict' object has no attribute '_object'\n"
     ]
    }
   ],
   "source": [
    "\n",
    "file_urls = 'data/blocklist/all_urls_pos.txt'\n",
    "file_output = 'data/blocklist/pos_raw.txt'\n",
    "dead_urls_output = 'data/blocklist/dead_urls_pos.txt'\n",
    "\n",
    "def write_dead(url):\n",
    "    with open(dead_urls_output, \"a\") as out_file:\n",
    "        out_file.write(url+\"\\n\")\n",
    "\n",
    "TIMEOUT = 10\n",
    "SAVE_THRES = 1\n",
    "WORD_THRES = 50\n",
    "async def run():\n",
    "    contents = []\n",
    "    async with async_playwright() as p:\n",
    "        browser = await p.chromium.launch()\n",
    "        context = await browser.new_context()\n",
    "        page = await context.new_page()\n",
    "        await page.set_extra_http_headers({\n",
    "            'User-Agent': 'Mozilla/5.0 (Windows NT 10.0; Win64; x64) AppleWebKit/537.36 (KHTML, like Gecko) Chrome/58.0.3029.110 Safari/537.3',\n",
    "            'Accept-Language': 'en-US,en;q=0.5'\n",
    "        })\n",
    "\n",
    "        with open(file_urls, 'r') as file:\n",
    "            urls = file.readlines()\n",
    "        \n",
    "        # 780\n",
    "        # 761\n",
    "        i = 1541\n",
    "        urls = urls[1541:]\n",
    "        for url in tqdm(urls, desc=\"Fetching URLs\"):\n",
    "            url = url.strip() # Remove whitespace/newlines\n",
    "\n",
    "            # fetch content \n",
    "            content = \"\"\n",
    "            try:\n",
    "                await page.goto(\"https://\"+url, timeout=TIMEOUT*1000)\n",
    "                content = await page.content()\n",
    "                soup = BeautifulSoup(content, \"html.parser\")\n",
    "                content = soup.get_text(strip=True)\n",
    "            except Exception as e:\n",
    "                write_dead(url)\n",
    "                print(f\"Error fetching {url}: {e}\")\n",
    "                continue\n",
    "            \n",
    "            if content and len(content.split()) > WORD_THRES:\n",
    "                content = re.sub(r'[^\\w .,;:!?\"\\'-]', ' ', content, flags=re.UNICODE)\n",
    "                content = re.sub(r'\\s+', ' ', content) # compress multiple spaces into one\n",
    "                content = content.strip()\n",
    "                contents.append(content)\n",
    "                i += 1\n",
    "            \n",
    "                if i % SAVE_THRES == 0:\n",
    "                    with open(file_output, \"a\") as out_file:\n",
    "                        out_file.write(\"\\n\\n\".join(contents) + \"\\n\\n\")\n",
    "                    contents = []\n",
    "            else:\n",
    "                write_dead(url)\n",
    "\n",
    "\n",
    "        await context.close()\n",
    "        await browser.close()\n",
    "\n",
    "await run()"
   ]
  },
  {
   "cell_type": "code",
   "execution_count": 10,
   "metadata": {},
   "outputs": [
    {
     "name": "stdout",
     "output_type": "stream",
     "text": [
      "868\n",
      "612\n",
      "256\n"
     ]
    }
   ],
   "source": [
    "INPUT_ALL = \"data/all_urls_pos.txt\"\n",
    "INPUT_DEAD = \"data/dead_urls_pos.txt\"\n",
    "OUTPUT = \"data/alive_urls_pos.txt\"\n",
    "\n",
    "\n",
    "with open(INPUT_ALL, \"r\") as input_file:\n",
    "    all_urls = input_file.readlines()\n",
    "\n",
    "with open(INPUT_DEAD, \"r\") as dead_file:\n",
    "    dead_urls = dead_file.readlines()\n",
    "\n",
    "\n",
    "\n",
    "alive = list(set(all_urls).difference(set(dead_urls)))\n",
    "\n",
    "print(len(all_urls))\n",
    "print(len(dead_urls))\n",
    "print(len(alive))\n",
    "\n",
    "with open(OUTPUT, \"w\") as out_file:\n",
    "    out_file.write(\"\".join(alive))\n"
   ]
  }
 ],
 "metadata": {
  "kernelspec": {
   "display_name": "Python 3 (ipykernel)",
   "language": "python",
   "name": "python3"
  },
  "language_info": {
   "codemirror_mode": {
    "name": "ipython",
    "version": 3
   },
   "file_extension": ".py",
   "mimetype": "text/x-python",
   "name": "python",
   "nbconvert_exporter": "python",
   "pygments_lexer": "ipython3",
   "version": "3.10.12"
  }
 },
 "nbformat": 4,
 "nbformat_minor": 2
}
