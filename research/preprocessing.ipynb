{
 "cells": [
  {
   "cell_type": "code",
   "execution_count": 1,
   "metadata": {},
   "outputs": [
    {
     "name": "stderr",
     "output_type": "stream",
     "text": [
      "[nltk_data] Downloading package stopwords to /root/nltk_data...\n",
      "[nltk_data]   Package stopwords is already up-to-date!\n",
      "[nltk_data] Downloading package words to /root/nltk_data...\n",
      "[nltk_data]   Package words is already up-to-date!\n"
     ]
    },
    {
     "data": {
      "text/plain": [
       "True"
      ]
     },
     "execution_count": 1,
     "metadata": {},
     "output_type": "execute_result"
    }
   ],
   "source": [
    "import numpy as np\n",
    "import pandas as pd\n",
    "import requests\n",
    "from bs4 import BeautifulSoup\n",
    "import re\n",
    "from tqdm import tqdm\n",
    "from playwright.async_api import async_playwright\n",
    "\n",
    "import nltk\n",
    "from nltk.corpus import stopwords\n",
    "from nltk.corpus import words as english_words\n",
    "nltk.download('stopwords')\n",
    "nltk.download('words')"
   ]
  },
  {
   "cell_type": "markdown",
   "metadata": {},
   "source": [
    "## Casino List\n",
    "- https://www.casinoslists.com/casinos/best\n",
    "- https://www.casinofreak.com/reviews/all-online-casinos\n",
    "- https://casinoalpha.com/online-casinos/list/page/2/\n",
    "- https://www.nonstopbonus.com/new-online-casinos\n",
    "- https://list.casino/\n",
    "- https://lcb.org/casinos"
   ]
  },
  {
   "cell_type": "code",
   "execution_count": 2,
   "metadata": {},
   "outputs": [],
   "source": [
    "headers = {\n",
    "    'User-Agent': 'Mozilla/5.0 (Windows NT 10.0; Win64; x64) AppleWebKit/537.36 (KHTML, like Gecko) Chrome/58.0.3029.110 Safari/537.3',\n",
    "    'Accept-Language': 'en-US,en;q=0.5'\n",
    "}"
   ]
  },
  {
   "cell_type": "raw",
   "metadata": {
    "vscode": {
     "languageId": "python"
    }
   },
   "source": [
    "# Scrape casino lists for urls\n",
    "idx = 0\n",
    "urls = []\n",
    "\n",
    "while True:\n",
    "    idx += 1\n",
    "    print(idx)\n",
    "    url = f\"https://lcb.org/partial/sites/list?&order[rating]=DESC&region=at&page={idx}&show_hidden=true\"\n",
    "    response = requests.get(url, headers=headers)\n",
    "    if not response.ok:\n",
    "        break\n",
    "\n",
    "    soup = BeautifulSoup(response.content, 'html.parser')\n",
    "    div_elements = soup.find_all('div', class_='table-cell logo casino')\n",
    "\n",
    "    for div in div_elements:\n",
    "        link = div.find('a')\n",
    "        if link:\n",
    "            print(\"appended\", link.get('href'))\n",
    "            urls.append(link.get('href'))\n",
    "\n",
    "print(urls)"
   ]
  },
  {
   "cell_type": "raw",
   "metadata": {
    "vscode": {
     "languageId": "python"
    }
   },
   "source": [
    "# remove duplicate urls and save them to file\n",
    "print(len(urls))\n",
    "urls = list(set(links))\n",
    "with open('data/urls.txt', 'w') as file:\n",
    "    for url in links:\n",
    "        file.write(url + '\\n')\n",
    "print(len(urls))"
   ]
  },
  {
   "cell_type": "raw",
   "metadata": {
    "vscode": {
     "languageId": "python"
    }
   },
   "source": [
    "# open urls from file\n",
    "return\n",
    "with open('data/urls_negatives.txt', 'r') as file:\n",
    "    urls = [line.strip() for line in file]"
   ]
  },
  {
   "cell_type": "raw",
   "metadata": {
    "vscode": {
     "languageId": "python"
    }
   },
   "source": [
    "# take urls and download website content\n",
    "\n",
    "return\n",
    "df = pd.DataFrame([], columns=['text'])\n",
    "dest_file_name = \"positives\"\n",
    "\n",
    "content = []\n",
    "idx = 0\n",
    "for url in tqdm(urls, desc=\"Processing urls\"):\n",
    "    try:\n",
    "        response = requests.get(\"http://\" + url, headers=headers)\n",
    "        if response.ok:\n",
    "            soup = BeautifulSoup(response.content, 'html.parser')\n",
    "            txt = soup.get_text().replace(\"\\n\", \"\")\n",
    "            if len(txt) > 50:\n",
    "                content.append(txt)\n",
    "                print(txt)\n",
    "                idx += 1\n",
    "                if idx % 30 == 0:\n",
    "                    df_new = pd.DataFrame(content, columns=['text'])\n",
    "                    df = pd.concat([df, df_new], ignore_index=True)\n",
    "                    df.to_csv(f'data/{dest_file_name}.csv', index=False)\n",
    "                    content = []\n",
    "                    idx = 0\n",
    "    except Exception as e:\n",
    "        print(f\"An error occurred: {str(e)}\")\n"
   ]
  },
  {
   "cell_type": "raw",
   "metadata": {},
   "source": [
    "with open('data/positives.csv', 'r') as file:\n",
    "    lines = file.readlines()\n",
    "\n",
    "# Apply changes to each line\n",
    "for i in range(len(lines)):\n",
    "    lines[i] = lines[i].replace('\\r', '')\n",
    "    lines[i] = lines[i].replace('\"', '')\n",
    "    lines[i] = re.sub(r' +', ' ', lines[i])\n",
    "    lines[i] = lines[i].strip(' ')\n",
    "    lines[i] = lines[i].replace(',', '')\n",
    "    lines[i] = lines[i].replace('\\n', '')\n",
    "    lines[i] = lines[i] + \"\\n\"\n",
    "\n",
    "with open('positives_clean.csv', 'w') as file:\n",
    "    file.writelines(lines)\n"
   ]
  },
  {
   "cell_type": "code",
   "execution_count": 3,
   "metadata": {},
   "outputs": [
    {
     "data": {
      "text/html": [
       "<div>\n",
       "<style scoped>\n",
       "    .dataframe tbody tr th:only-of-type {\n",
       "        vertical-align: middle;\n",
       "    }\n",
       "\n",
       "    .dataframe tbody tr th {\n",
       "        vertical-align: top;\n",
       "    }\n",
       "\n",
       "    .dataframe thead th {\n",
       "        text-align: right;\n",
       "    }\n",
       "</style>\n",
       "<table border=\"1\" class=\"dataframe\">\n",
       "  <thead>\n",
       "    <tr style=\"text-align: right;\">\n",
       "      <th></th>\n",
       "      <th>text</th>\n",
       "      <th>label</th>\n",
       "    </tr>\n",
       "  </thead>\n",
       "  <tbody>\n",
       "    <tr>\n",
       "      <th>0</th>\n",
       "      <td>SISportsbook | Sports Betting Odds | Bet $10 G...</td>\n",
       "      <td>1</td>\n",
       "    </tr>\n",
       "    <tr>\n",
       "      <th>1</th>\n",
       "      <td>Online Sportsbook | Bet Online | Online Sports...</td>\n",
       "      <td>1</td>\n",
       "    </tr>\n",
       "    <tr>\n",
       "      <th>2</th>\n",
       "      <td>FanDuel | Daily Fantasy Sports and Online U.S....</td>\n",
       "      <td>1</td>\n",
       "    </tr>\n",
       "    <tr>\n",
       "      <th>3</th>\n",
       "      <td>To view this video please enable JavaScript an...</td>\n",
       "      <td>1</td>\n",
       "    </tr>\n",
       "    <tr>\n",
       "      <th>4</th>\n",
       "      <td>web browser that</td>\n",
       "      <td>1</td>\n",
       "    </tr>\n",
       "    <tr>\n",
       "      <th>...</th>\n",
       "      <td>...</td>\n",
       "      <td>...</td>\n",
       "    </tr>\n",
       "    <tr>\n",
       "      <th>3417</th>\n",
       "      <td>Free Podcast Hosting - Buzzsprout Buzzsprout m...</td>\n",
       "      <td>0</td>\n",
       "    </tr>\n",
       "    <tr>\n",
       "      <th>3418</th>\n",
       "      <td>ORCID Please enable JavaScript to continue usi...</td>\n",
       "      <td>0</td>\n",
       "    </tr>\n",
       "    <tr>\n",
       "      <th>3419</th>\n",
       "      <td>Discover Top Blogs &amp; Best Websites in 2023 - F...</td>\n",
       "      <td>0</td>\n",
       "    </tr>\n",
       "    <tr>\n",
       "      <th>3420</th>\n",
       "      <td>Google AR &amp; VR | Home OverviewNews &amp; Announcem...</td>\n",
       "      <td>0</td>\n",
       "    </tr>\n",
       "    <tr>\n",
       "      <th>3421</th>\n",
       "      <td>Opinion - Opinionator - The New York Times Sec...</td>\n",
       "      <td>0</td>\n",
       "    </tr>\n",
       "  </tbody>\n",
       "</table>\n",
       "<p>3422 rows × 2 columns</p>\n",
       "</div>"
      ],
      "text/plain": [
       "                                                   text  label\n",
       "0     SISportsbook | Sports Betting Odds | Bet $10 G...      1\n",
       "1     Online Sportsbook | Bet Online | Online Sports...      1\n",
       "2     FanDuel | Daily Fantasy Sports and Online U.S....      1\n",
       "3     To view this video please enable JavaScript an...      1\n",
       "4                                      web browser that      1\n",
       "...                                                 ...    ...\n",
       "3417  Free Podcast Hosting - Buzzsprout Buzzsprout m...      0\n",
       "3418  ORCID Please enable JavaScript to continue usi...      0\n",
       "3419  Discover Top Blogs & Best Websites in 2023 - F...      0\n",
       "3420  Google AR & VR | Home OverviewNews & Announcem...      0\n",
       "3421  Opinion - Opinionator - The New York Times Sec...      0\n",
       "\n",
       "[3422 rows x 2 columns]"
      ]
     },
     "execution_count": 3,
     "metadata": {},
     "output_type": "execute_result"
    }
   ],
   "source": [
    "df_pos = pd.read_csv('data/positives_clean.csv', lineterminator='\\n')\n",
    "df_neg = pd.read_csv('data/negatives_clean.csv', lineterminator='\\n')\n",
    "\n",
    "df_pos['label'] = 1\n",
    "df_neg['label'] = 0\n",
    "\n",
    "df = pd.concat([df_pos, df_neg], ignore_index=True)\n",
    "df"
   ]
  },
  {
   "cell_type": "code",
   "execution_count": 4,
   "metadata": {},
   "outputs": [
    {
     "name": "stdout",
     "output_type": "stream",
     "text": [
      "len 3422\n",
      "len 1070\n"
     ]
    },
    {
     "data": {
      "text/html": [
       "<div>\n",
       "<style scoped>\n",
       "    .dataframe tbody tr th:only-of-type {\n",
       "        vertical-align: middle;\n",
       "    }\n",
       "\n",
       "    .dataframe tbody tr th {\n",
       "        vertical-align: top;\n",
       "    }\n",
       "\n",
       "    .dataframe thead th {\n",
       "        text-align: right;\n",
       "    }\n",
       "</style>\n",
       "<table border=\"1\" class=\"dataframe\">\n",
       "  <thead>\n",
       "    <tr style=\"text-align: right;\">\n",
       "      <th></th>\n",
       "      <th>text</th>\n",
       "      <th>label</th>\n",
       "    </tr>\n",
       "  </thead>\n",
       "  <tbody>\n",
       "    <tr>\n",
       "      <th>0</th>\n",
       "      <td>sisportsbook | sports betting odds | bet $10 g...</td>\n",
       "      <td>1</td>\n",
       "    </tr>\n",
       "    <tr>\n",
       "      <th>1</th>\n",
       "      <td>online sportsbook | bet online | online sports...</td>\n",
       "      <td>1</td>\n",
       "    </tr>\n",
       "    <tr>\n",
       "      <th>2</th>\n",
       "      <td>fanduel | daily fantasy sports and online u.s....</td>\n",
       "      <td>1</td>\n",
       "    </tr>\n",
       "    <tr>\n",
       "      <th>5</th>\n",
       "      <td>supports html5 videoskipnew customersbet $5 ge...</td>\n",
       "      <td>1</td>\n",
       "    </tr>\n",
       "    <tr>\n",
       "      <th>6</th>\n",
       "      <td>malta sunsetsign inbeginning on 22 january 202...</td>\n",
       "      <td>1</td>\n",
       "    </tr>\n",
       "    <tr>\n",
       "      <th>...</th>\n",
       "      <td>...</td>\n",
       "      <td>...</td>\n",
       "    </tr>\n",
       "    <tr>\n",
       "      <th>3416</th>\n",
       "      <td>online community for artists [pixiv] pixiv has...</td>\n",
       "      <td>0</td>\n",
       "    </tr>\n",
       "    <tr>\n",
       "      <th>3417</th>\n",
       "      <td>free podcast hosting - buzzsprout buzzsprout m...</td>\n",
       "      <td>0</td>\n",
       "    </tr>\n",
       "    <tr>\n",
       "      <th>3419</th>\n",
       "      <td>discover top blogs &amp; best websites in 2023 - f...</td>\n",
       "      <td>0</td>\n",
       "    </tr>\n",
       "    <tr>\n",
       "      <th>3420</th>\n",
       "      <td>google ar &amp; vr | home overviewnews &amp; announcem...</td>\n",
       "      <td>0</td>\n",
       "    </tr>\n",
       "    <tr>\n",
       "      <th>3421</th>\n",
       "      <td>opinion - opinionator - the new york times sec...</td>\n",
       "      <td>0</td>\n",
       "    </tr>\n",
       "  </tbody>\n",
       "</table>\n",
       "<p>1070 rows × 2 columns</p>\n",
       "</div>"
      ],
      "text/plain": [
       "                                                   text  label\n",
       "0     sisportsbook | sports betting odds | bet $10 g...      1\n",
       "1     online sportsbook | bet online | online sports...      1\n",
       "2     fanduel | daily fantasy sports and online u.s....      1\n",
       "5     supports html5 videoskipnew customersbet $5 ge...      1\n",
       "6     malta sunsetsign inbeginning on 22 january 202...      1\n",
       "...                                                 ...    ...\n",
       "3416  online community for artists [pixiv] pixiv has...      0\n",
       "3417  free podcast hosting - buzzsprout buzzsprout m...      0\n",
       "3419  discover top blogs & best websites in 2023 - f...      0\n",
       "3420  google ar & vr | home overviewnews & announcem...      0\n",
       "3421  opinion - opinionator - the new york times sec...      0\n",
       "\n",
       "[1070 rows x 2 columns]"
      ]
     },
     "execution_count": 4,
     "metadata": {},
     "output_type": "execute_result"
    }
   ],
   "source": [
    "print(\"len\", len(df))\n",
    "df['text'] = df['text'].apply(lambda x: x.lower())\n",
    "df.loc[:, 'word_count'] = df['text'].str.split().str.len()\n",
    "df = df[df['word_count'] >= 30]\n",
    "df = df.drop(columns=['word_count'])\n",
    "print(\"len\", len(df))\n",
    "df"
   ]
  },
  {
   "cell_type": "code",
   "execution_count": 7,
   "metadata": {},
   "outputs": [
    {
     "name": "stdout",
     "output_type": "stream",
     "text": [
      "Casino Blocker\n"
     ]
    }
   ],
   "source": [
    "from playwright.async_api import async_playwright\n",
    "import asyncio\n",
    "\n",
    "async def run():\n",
    "    async with async_playwright() as p:\n",
    "        browser = await p.chromium.launch()\n",
    "        page = await browser.new_page()\n",
    "        await page.goto('https://casino.regevson.com')\n",
    "        print(await page.title())\n",
    "        await browser.close()\n",
    "\n",
    "await run()"
   ]
  },
  {
   "cell_type": "code",
   "execution_count": 4,
   "metadata": {},
   "outputs": [
    {
     "name": "stderr",
     "output_type": "stream",
     "text": [
      "Fetching URLs:   1%|          | 5/986 [00:04<15:56,  1.03it/s]"
     ]
    },
    {
     "name": "stdout",
     "output_type": "stream",
     "text": [
      "Error fetching www.betxchange.co.za: net::ERR_CERT_AUTHORITY_INVALID at https://www.betxchange.co.za/\n"
     ]
    },
    {
     "name": "stderr",
     "output_type": "stream",
     "text": [
      "Fetching URLs:   1%|          | 7/986 [00:16<1:06:39,  4.09s/it]"
     ]
    },
    {
     "name": "stdout",
     "output_type": "stream",
     "text": [
      "Error fetching www.betzone.com: Timeout 10000ms exceeded.\n"
     ]
    },
    {
     "name": "stderr",
     "output_type": "stream",
     "text": [
      "Fetching URLs:   1%|          | 10/986 [00:28<1:13:27,  4.52s/it]"
     ]
    },
    {
     "name": "stdout",
     "output_type": "stream",
     "text": [
      "Error fetching www.bigbetworld.com: net::ERR_NAME_NOT_RESOLVED at https://www.bigbetworld.com/\n"
     ]
    },
    {
     "name": "stderr",
     "output_type": "stream",
     "text": [
      "Fetching URLs:   1%|▏         | 13/986 [00:32<36:53,  2.27s/it]  "
     ]
    },
    {
     "name": "stdout",
     "output_type": "stream",
     "text": [
      "Error fetching www.bingoscotland.net: net::ERR_CONNECTION_REFUSED at https://www.bingoscotland.net/\n"
     ]
    },
    {
     "name": "stderr",
     "output_type": "stream",
     "text": [
      "Fetching URLs:   2%|▏         | 17/986 [00:40<43:57,  2.72s/it]"
     ]
    },
    {
     "name": "stdout",
     "output_type": "stream",
     "text": [
      "Error fetching www.bingoyard.com: net::ERR_NAME_NOT_RESOLVED at https://www.bingoyard.com/\n"
     ]
    },
    {
     "name": "stderr",
     "output_type": "stream",
     "text": [
      "Fetching URLs:   2%|▏         | 19/986 [00:44<34:23,  2.13s/it]"
     ]
    },
    {
     "name": "stdout",
     "output_type": "stream",
     "text": [
      "Error fetching www.bitcoinsports.eu: net::ERR_SSL_PROTOCOL_ERROR at https://www.bitcoinsports.eu/\n"
     ]
    },
    {
     "name": "stderr",
     "output_type": "stream",
     "text": [
      "Fetching URLs:   2%|▏         | 20/986 [00:54<1:12:44,  4.52s/it]"
     ]
    },
    {
     "name": "stdout",
     "output_type": "stream",
     "text": [
      "Error fetching www.bitsaloon.com: Timeout 10000ms exceeded.\n"
     ]
    },
    {
     "name": "stderr",
     "output_type": "stream",
     "text": [
      "Fetching URLs:   2%|▏         | 23/986 [01:15<1:49:46,  6.84s/it]"
     ]
    },
    {
     "name": "stdout",
     "output_type": "stream",
     "text": [
      "Error fetching www.bobetting.com: Timeout 10000ms exceeded.\n"
     ]
    },
    {
     "name": "stderr",
     "output_type": "stream",
     "text": [
      "Future exception was never retrieved\n",
      "future: <Future finished exception=TargetClosedError('Target page, context or browser has been closed')>\n",
      "playwright._impl._errors.TargetClosedError: Target page, context or browser has been closed\n",
      "Fetching URLs:   3%|▎         | 26/986 [01:36<1:58:11,  7.39s/it]"
     ]
    },
    {
     "name": "stdout",
     "output_type": "stream",
     "text": [
      "Error fetching www.bodog888.com: Timeout 10000ms exceeded.\n"
     ]
    },
    {
     "name": "stderr",
     "output_type": "stream",
     "text": [
      "Fetching URLs:   3%|▎         | 30/986 [01:41<41:22,  2.60s/it]  "
     ]
    },
    {
     "name": "stdout",
     "output_type": "stream",
     "text": [
      "Error fetching www.bombaybets.eu: net::ERR_NAME_NOT_RESOLVED at https://www.bombaybets.eu/\n",
      "Error fetching www.book247.eu: net::ERR_NAME_NOT_RESOLVED at https://www.book247.eu/\n"
     ]
    },
    {
     "name": "stderr",
     "output_type": "stream",
     "text": [
      "Fetching URLs:   4%|▎         | 35/986 [02:03<56:46,  3.58s/it]  "
     ]
    },
    {
     "name": "stdout",
     "output_type": "stream",
     "text": [
      "Error fetching www.bookmaker7.com: Timeout 10000ms exceeded.\n",
      "Error fetching www.bookmakerclub.com: net::ERR_CONNECTION_REFUSED at https://www.bookmakerclub.com/\n"
     ]
    },
    {
     "name": "stderr",
     "output_type": "stream",
     "text": [
      "Fetching URLs:   4%|▎         | 36/986 [02:03<40:20,  2.55s/it]"
     ]
    },
    {
     "name": "stdout",
     "output_type": "stream",
     "text": [
      "Error fetching www.botbcasino.com: net::ERR_CONNECTION_CLOSED at https://www.botbcasino.com/\n"
     ]
    },
    {
     "name": "stderr",
     "output_type": "stream",
     "text": [
      "Fetching URLs:   4%|▍         | 39/986 [02:19<1:11:53,  4.56s/it]"
     ]
    },
    {
     "name": "stdout",
     "output_type": "stream",
     "text": [
      "Error fetching www.britsbingo.co.uk: net::ERR_NAME_NOT_RESOLVED at https://www.britsbingo.co.uk/\n"
     ]
    },
    {
     "name": "stderr",
     "output_type": "stream",
     "text": [
      "Fetching URLs:   4%|▍         | 41/986 [02:22<49:19,  3.13s/it]  "
     ]
    },
    {
     "name": "stdout",
     "output_type": "stream",
     "text": [
      "Error fetching www.brucebetting.com: net::ERR_NAME_NOT_RESOLVED at https://www.brucebetting.com/\n"
     ]
    },
    {
     "name": "stderr",
     "output_type": "stream",
     "text": [
      "Fetching URLs:   4%|▍         | 44/986 [02:35<1:12:36,  4.63s/it]"
     ]
    },
    {
     "name": "stdout",
     "output_type": "stream",
     "text": [
      "Error fetching www.buckandbutler.com: Timeout 10000ms exceeded.\n"
     ]
    },
    {
     "name": "stderr",
     "output_type": "stream",
     "text": [
      "Fetching URLs:   5%|▍         | 45/986 [02:38<1:03:06,  4.02s/it]"
     ]
    },
    {
     "name": "stdout",
     "output_type": "stream",
     "text": [
      "Error fetching www.bulldog777.com: net::ERR_CERT_AUTHORITY_INVALID at https://www.bulldog777.com/\n"
     ]
    },
    {
     "name": "stderr",
     "output_type": "stream",
     "text": [
      "Fetching URLs:   5%|▌         | 52/986 [02:53<24:08,  1.55s/it]  "
     ]
    },
    {
     "name": "stdout",
     "output_type": "stream",
     "text": [
      "Error fetching www.canadasbookie.com: net::ERR_HTTP2_PROTOCOL_ERROR at https://www.canadasbookie.com/\n"
     ]
    },
    {
     "name": "stderr",
     "output_type": "stream",
     "text": [
      "Fetching URLs:   5%|▌         | 53/986 [03:03<1:03:56,  4.11s/it]"
     ]
    },
    {
     "name": "stdout",
     "output_type": "stream",
     "text": [
      "Error fetching www.candisbingo.co.uk: Timeout 10000ms exceeded.\n"
     ]
    },
    {
     "name": "stderr",
     "output_type": "stream",
     "text": [
      "Fetching URLs:   6%|▌         | 57/986 [03:07<26:05,  1.68s/it]  "
     ]
    },
    {
     "name": "stdout",
     "output_type": "stream",
     "text": [
      "Error fetching www.cardbet.com: net::ERR_CERT_COMMON_NAME_INVALID at https://www.cardbet.com/\n",
      "Error fetching www.caribsports.com: net::ERR_NAME_NOT_RESOLVED at https://www.caribsports.com/\n"
     ]
    },
    {
     "name": "stderr",
     "output_type": "stream",
     "text": [
      "Fetching URLs:   6%|▋         | 64/986 [03:20<14:58,  1.03it/s]"
     ]
    },
    {
     "name": "stdout",
     "output_type": "stream",
     "text": [
      "Error fetching www.casineto.net: net::ERR_NAME_NOT_RESOLVED at https://www.casineto.net/\n"
     ]
    },
    {
     "name": "stderr",
     "output_type": "stream",
     "text": [
      "Fetching URLs:   7%|▋         | 71/986 [03:27<12:29,  1.22it/s]"
     ]
    },
    {
     "name": "stdout",
     "output_type": "stream",
     "text": [
      "Error fetching www.casinocalzone.com: net::ERR_CONNECTION_REFUSED at https://www.casinocalzone.com/\n",
      "Error fetching www.casinocruise.com: net::ERR_NAME_NOT_RESOLVED at https://www.casinocruise.com/\n"
     ]
    },
    {
     "name": "stderr",
     "output_type": "stream",
     "text": [
      "Fetching URLs:   8%|▊         | 75/986 [03:42<59:46,  3.94s/it]"
     ]
    },
    {
     "name": "stdout",
     "output_type": "stream",
     "text": [
      "Error fetching www.casinoland.com: Timeout 10000ms exceeded.\n"
     ]
    },
    {
     "name": "stderr",
     "output_type": "stream",
     "text": [
      "Fetching URLs:   8%|▊         | 77/986 [03:42<31:08,  2.06s/it]"
     ]
    },
    {
     "name": "stdout",
     "output_type": "stream",
     "text": [
      "Error fetching www.casinolasvegas.no: net::ERR_CONNECTION_REFUSED at https://www.casinolasvegas.no/\n"
     ]
    },
    {
     "name": "stderr",
     "output_type": "stream",
     "text": [
      "Fetching URLs:   8%|▊         | 79/986 [03:46<28:17,  1.87s/it]"
     ]
    },
    {
     "name": "stdout",
     "output_type": "stream",
     "text": [
      "Error fetching www.casinopop.com: net::ERR_NAME_NOT_RESOLVED at https://www.casinopop.com/\n"
     ]
    },
    {
     "name": "stderr",
     "output_type": "stream",
     "text": [
      "Fetching URLs:   9%|▊         | 85/986 [04:01<37:42,  2.51s/it]"
     ]
    },
    {
     "name": "stdout",
     "output_type": "stream",
     "text": [
      "Error fetching www.cbmsport.com: net::ERR_NAME_NOT_RESOLVED at https://www.cbmsport.com/\n"
     ]
    },
    {
     "name": "stderr",
     "output_type": "stream",
     "text": [
      "Fetching URLs:   9%|▉         | 91/986 [04:08<16:35,  1.11s/it]"
     ]
    },
    {
     "name": "stdout",
     "output_type": "stream",
     "text": [
      "Error fetching www.cgaming.olg.ca: net::ERR_NAME_NOT_RESOLVED at https://www.cgaming.olg.ca/\n",
      "Error fetching www.champagnebingo.com: net::ERR_CONNECTION_REFUSED at https://www.champagnebingo.com/\n",
      "Error fetching www.championsbet.net: net::ERR_NAME_NOT_RESOLVED at https://www.championsbet.net/\n"
     ]
    },
    {
     "name": "stderr",
     "output_type": "stream",
     "text": [
      "Fetching URLs:  10%|▉         | 96/986 [04:16<17:29,  1.18s/it]"
     ]
    },
    {
     "name": "stdout",
     "output_type": "stream",
     "text": [
      "Error fetching www.chanz.com: Unable to retrieve content because the page is navigating and changing the content.\n",
      "Error fetching www.cheekywin.com: net::ERR_NAME_NOT_RESOLVED at https://www.cheekywin.com/\n"
     ]
    },
    {
     "name": "stderr",
     "output_type": "stream",
     "text": [
      "Fetching URLs:  10%|█         | 99/986 [04:20<16:39,  1.13s/it]"
     ]
    },
    {
     "name": "stdout",
     "output_type": "stream",
     "text": [
      "Error fetching www.chinesebookie.eu: net::ERR_NAME_NOT_RESOLVED at https://www.chinesebookie.eu/\n",
      "Error fetching www.chisholmbet.com: net::ERR_CERT_AUTHORITY_INVALID at https://www.chisholmbet.com/\n"
     ]
    },
    {
     "name": "stderr",
     "output_type": "stream",
     "text": [
      "Fetching URLs:  10%|█         | 100/986 [04:30<54:20,  3.68s/it]"
     ]
    },
    {
     "name": "stdout",
     "output_type": "stream",
     "text": [
      "Error fetching www.circlebet.com: Timeout 10000ms exceeded.\n"
     ]
    },
    {
     "name": "stderr",
     "output_type": "stream",
     "text": [
      "Fetching URLs:  10%|█         | 101/986 [04:40<1:21:29,  5.52s/it]"
     ]
    },
    {
     "name": "stdout",
     "output_type": "stream",
     "text": [
      "Error fetching www.circusbingo.com: Timeout 10000ms exceeded.\n"
     ]
    },
    {
     "name": "stderr",
     "output_type": "stream",
     "text": [
      "Fetching URLs:  11%|█         | 107/986 [04:49<27:26,  1.87s/it]  "
     ]
    },
    {
     "name": "stdout",
     "output_type": "stream",
     "text": [
      "Error fetching www.cocktailbingo.com: net::ERR_NAME_NOT_RESOLVED at https://www.cocktailbingo.com/\n"
     ]
    },
    {
     "name": "stderr",
     "output_type": "stream",
     "text": [
      "Fetching URLs:  11%|█▏        | 112/986 [04:58<20:58,  1.44s/it]"
     ]
    },
    {
     "name": "stdout",
     "output_type": "stream",
     "text": [
      "Error fetching www.comebackskins.com: net::ERR_NAME_NOT_RESOLVED at https://www.comebackskins.com/\n"
     ]
    },
    {
     "name": "stderr",
     "output_type": "stream",
     "text": [
      "Fetching URLs:  12%|█▏        | 115/986 [05:01<18:08,  1.25s/it]"
     ]
    },
    {
     "name": "stdout",
     "output_type": "stream",
     "text": [
      "Error fetching www.contorabet.com: net::ERR_SSL_VERSION_OR_CIPHER_MISMATCH at https://www.contorabet.com/\n"
     ]
    },
    {
     "name": "stderr",
     "output_type": "stream",
     "text": [
      "Fetching URLs:  12%|█▏        | 118/986 [05:21<1:16:52,  5.31s/it]"
     ]
    },
    {
     "name": "stdout",
     "output_type": "stream",
     "text": [
      "Error fetching www.corbettsports.com: Timeout 10000ms exceeded.\n"
     ]
    },
    {
     "name": "stderr",
     "output_type": "stream",
     "text": [
      "Fetching URLs:  12%|█▏        | 120/986 [05:24<51:21,  3.56s/it]  "
     ]
    },
    {
     "name": "stdout",
     "output_type": "stream",
     "text": [
      "Error fetching www.counterluck.com: net::ERR_NAME_NOT_RESOLVED at https://www.counterluck.com/\n"
     ]
    },
    {
     "name": "stderr",
     "output_type": "stream",
     "text": [
      "Fetching URLs:  12%|█▏        | 123/986 [05:25<22:10,  1.54s/it]"
     ]
    },
    {
     "name": "stdout",
     "output_type": "stream",
     "text": [
      "Error fetching www.creditwagering.com: net::ERR_NAME_NOT_RESOLVED at https://www.creditwagering.com/\n"
     ]
    },
    {
     "name": "stderr",
     "output_type": "stream",
     "text": [
      "Fetching URLs:  13%|█▎        | 124/986 [05:26<18:47,  1.31s/it]"
     ]
    },
    {
     "name": "stdout",
     "output_type": "stream",
     "text": [
      "Error fetching www.crowin24.com: net::ERR_NAME_NOT_RESOLVED at https://www.crowin24.com/\n"
     ]
    },
    {
     "name": "stderr",
     "output_type": "stream",
     "text": [
      "Fetching URLs:  13%|█▎        | 127/986 [05:30<19:03,  1.33s/it]"
     ]
    },
    {
     "name": "stdout",
     "output_type": "stream",
     "text": [
      "Error fetching www.crsportsbetting.com: net::ERR_CERT_COMMON_NAME_INVALID at https://www.crsportsbetting.com/\n"
     ]
    },
    {
     "name": "stderr",
     "output_type": "stream",
     "text": [
      "Fetching URLs:  13%|█▎        | 128/986 [05:40<50:22,  3.52s/it]"
     ]
    },
    {
     "name": "stdout",
     "output_type": "stream",
     "text": [
      "Error fetching www.csgo-casino.com: Timeout 10000ms exceeded.\n"
     ]
    },
    {
     "name": "stderr",
     "output_type": "stream",
     "text": [
      "Fetching URLs:  13%|█▎        | 130/986 [05:41<29:11,  2.05s/it]"
     ]
    },
    {
     "name": "stdout",
     "output_type": "stream",
     "text": [
      "Error fetching www.csgo-dream.com: net::ERR_CONNECTION_REFUSED at https://www.csgo-dream.com/\n",
      "Error fetching www.csgo-easy.com: net::ERR_NAME_NOT_RESOLVED at https://www.csgo-easy.com/\n"
     ]
    },
    {
     "name": "stderr",
     "output_type": "stream",
     "text": [
      "Fetching URLs:  13%|█▎        | 133/986 [05:46<22:43,  1.60s/it]"
     ]
    },
    {
     "name": "stdout",
     "output_type": "stream",
     "text": [
      "Error fetching www.csgo-games.net: net::ERR_CERT_COMMON_NAME_INVALID at https://www.csgo-games.net/\n",
      "Error fetching www.csgo-house.com: net::ERR_NAME_NOT_RESOLVED at https://www.csgo-house.com/\n"
     ]
    },
    {
     "name": "stderr",
     "output_type": "stream",
     "text": [
      "Fetching URLs:  14%|█▎        | 134/986 [05:56<57:52,  4.08s/it]"
     ]
    },
    {
     "name": "stdout",
     "output_type": "stream",
     "text": [
      "Error fetching www.csgo-raffle.com: Timeout 10000ms exceeded.\n"
     ]
    },
    {
     "name": "stderr",
     "output_type": "stream",
     "text": [
      "Fetching URLs:  14%|█▎        | 135/986 [06:06<1:22:51,  5.84s/it]"
     ]
    },
    {
     "name": "stdout",
     "output_type": "stream",
     "text": [
      "Error fetching www.csgo-saloon.com: Timeout 10000ms exceeded.\n"
     ]
    },
    {
     "name": "stderr",
     "output_type": "stream",
     "text": [
      "Fetching URLs:  14%|█▍        | 137/986 [06:07<43:25,  3.07s/it]  "
     ]
    },
    {
     "name": "stdout",
     "output_type": "stream",
     "text": [
      "Error fetching www.csgo-skin-raffle.com: net::ERR_NAME_NOT_RESOLVED at https://www.csgo-skin-raffle.com/\n",
      "Error fetching www.csgo-slots.com: net::ERR_NAME_NOT_RESOLVED at https://www.csgo-slots.com/\n"
     ]
    },
    {
     "name": "stderr",
     "output_type": "stream",
     "text": [
      "Fetching URLs:  14%|█▍        | 138/986 [06:07<30:51,  2.18s/it]"
     ]
    },
    {
     "name": "stdout",
     "output_type": "stream",
     "text": [
      "Error fetching www.csgo-try.com: net::ERR_NAME_NOT_RESOLVED at https://www.csgo-try.com/\n"
     ]
    },
    {
     "name": "stderr",
     "output_type": "stream",
     "text": [
      "Fetching URLs:  14%|█▍        | 140/986 [06:22<1:10:08,  4.98s/it]"
     ]
    },
    {
     "name": "stdout",
     "output_type": "stream",
     "text": [
      "Error fetching www.csgoace.com: Timeout 10000ms exceeded.\n",
      "Error fetching www.csgoaimpot.com: net::ERR_NAME_NOT_RESOLVED at https://www.csgoaimpot.com/\n"
     ]
    },
    {
     "name": "stderr",
     "output_type": "stream",
     "text": [
      "Fetching URLs:  15%|█▍        | 143/986 [06:28<44:15,  3.15s/it]  "
     ]
    },
    {
     "name": "stdout",
     "output_type": "stream",
     "text": [
      "Error fetching www.csgobigbets.com: net::ERR_NAME_NOT_RESOLVED at https://www.csgobigbets.com/\n"
     ]
    },
    {
     "name": "stderr",
     "output_type": "stream",
     "text": [
      "Fetching URLs:  15%|█▍        | 144/986 [06:29<34:31,  2.46s/it]"
     ]
    },
    {
     "name": "stdout",
     "output_type": "stream",
     "text": [
      "Error fetching www.csgobird.com: net::ERR_CONNECTION_REFUSED at https://www.csgobird.com/\n"
     ]
    },
    {
     "name": "stderr",
     "output_type": "stream",
     "text": [
      "Fetching URLs:  15%|█▍        | 146/986 [06:40<1:02:11,  4.44s/it]"
     ]
    },
    {
     "name": "stdout",
     "output_type": "stream",
     "text": [
      "Error fetching www.csgobooth.com: Timeout 10000ms exceeded.\n"
     ]
    },
    {
     "name": "stderr",
     "output_type": "stream",
     "text": [
      "Fetching URLs:  15%|█▍        | 147/986 [06:50<1:24:32,  6.05s/it]"
     ]
    },
    {
     "name": "stdout",
     "output_type": "stream",
     "text": [
      "Error fetching www.csgobrawl.com: Timeout 10000ms exceeded.\n"
     ]
    },
    {
     "name": "stderr",
     "output_type": "stream",
     "text": [
      "Fetching URLs:  15%|█▌        | 148/986 [06:51<1:00:51,  4.36s/it]"
     ]
    },
    {
     "name": "stdout",
     "output_type": "stream",
     "text": [
      "Error fetching www.csgobud.com: net::ERR_NAME_NOT_RESOLVED at https://www.csgobud.com/\n"
     ]
    },
    {
     "name": "stderr",
     "output_type": "stream",
     "text": [
      "Fetching URLs:  15%|█▌        | 149/986 [06:51<44:01,  3.16s/it]  "
     ]
    },
    {
     "name": "stdout",
     "output_type": "stream",
     "text": [
      "Error fetching www.csgocardgames.com: net::ERR_NAME_NOT_RESOLVED at https://www.csgocardgames.com/\n"
     ]
    },
    {
     "name": "stderr",
     "output_type": "stream",
     "text": [
      "Fetching URLs:  15%|█▌        | 150/986 [07:01<1:12:20,  5.19s/it]"
     ]
    },
    {
     "name": "stdout",
     "output_type": "stream",
     "text": [
      "Error fetching www.csgocasual.com: Timeout 10000ms exceeded.\n"
     ]
    },
    {
     "name": "stderr",
     "output_type": "stream",
     "text": [
      "Fetching URLs:  15%|█▌        | 152/986 [07:11<1:05:25,  4.71s/it]"
     ]
    },
    {
     "name": "stdout",
     "output_type": "stream",
     "text": [
      "Error fetching www.csgochance.com: Timeout 10000ms exceeded.\n",
      "Error fetching www.csgochips.com: net::ERR_NAME_NOT_RESOLVED at https://www.csgochips.com/\n"
     ]
    },
    {
     "name": "stderr",
     "output_type": "stream",
     "text": [
      "Fetching URLs:  16%|█▌        | 153/986 [07:21<1:27:23,  6.30s/it]"
     ]
    },
    {
     "name": "stdout",
     "output_type": "stream",
     "text": [
      "Error fetching www.csgocytosis.com: Timeout 10000ms exceeded.\n"
     ]
    },
    {
     "name": "stderr",
     "output_type": "stream",
     "text": [
      "Fetching URLs:  16%|█▌        | 156/986 [07:22<33:40,  2.43s/it]  "
     ]
    },
    {
     "name": "stdout",
     "output_type": "stream",
     "text": [
      "Error fetching www.csgodices.com: net::ERR_CERT_COMMON_NAME_INVALID at https://www.csgodices.com/\n",
      "Error fetching www.csgodivine.com: net::ERR_NAME_NOT_RESOLVED at https://www.csgodivine.com/\n"
     ]
    },
    {
     "name": "stderr",
     "output_type": "stream",
     "text": [
      "Fetching URLs:  16%|█▌        | 159/986 [07:23<15:31,  1.13s/it]"
     ]
    },
    {
     "name": "stdout",
     "output_type": "stream",
     "text": [
      "Error fetching www.csgodouble.com: net::ERR_CERT_COMMON_NAME_INVALID at https://www.csgodouble.com/\n",
      "Error fetching www.csgodoubleup.com: net::ERR_NAME_NOT_RESOLVED at https://www.csgodoubleup.com/\n"
     ]
    },
    {
     "name": "stderr",
     "output_type": "stream",
     "text": [
      "Fetching URLs:  16%|█▋        | 161/986 [07:23<09:31,  1.44it/s]"
     ]
    },
    {
     "name": "stdout",
     "output_type": "stream",
     "text": [
      "Error fetching www.csgoearth.com: net::ERR_NAME_NOT_RESOLVED at https://www.csgoearth.com/\n",
      "Error fetching www.csgofakebet.com: net::ERR_NAME_NOT_RESOLVED at https://www.csgofakebet.com/\n"
     ]
    },
    {
     "name": "stderr",
     "output_type": "stream",
     "text": [
      "Fetching URLs:  16%|█▋        | 162/986 [07:33<38:54,  2.83s/it]"
     ]
    },
    {
     "name": "stdout",
     "output_type": "stream",
     "text": [
      "Error fetching www.csgofunpot.com: Timeout 10000ms exceeded.\n",
      "Error fetching www.csgohollow.com: net::ERR_NAME_NOT_RESOLVED at https://www.csgohollow.com/\n"
     ]
    },
    {
     "name": "stderr",
     "output_type": "stream",
     "text": [
      "Fetching URLs:  17%|█▋        | 166/986 [07:44<38:04,  2.79s/it]"
     ]
    },
    {
     "name": "stdout",
     "output_type": "stream",
     "text": [
      "Error fetching www.csgojackpot.com: Timeout 10000ms exceeded.\n",
      "Error fetching www.csgolden.eu: net::ERR_NAME_NOT_RESOLVED at https://www.csgolden.eu/\n"
     ]
    },
    {
     "name": "stderr",
     "output_type": "stream",
     "text": [
      "Fetching URLs:  17%|█▋        | 167/986 [07:54<1:03:20,  4.64s/it]"
     ]
    },
    {
     "name": "stdout",
     "output_type": "stream",
     "text": [
      "Error fetching www.csgoldpot.com: Timeout 10000ms exceeded.\n"
     ]
    },
    {
     "name": "stderr",
     "output_type": "stream",
     "text": [
      "Fetching URLs:  17%|█▋        | 168/986 [07:54<47:18,  3.47s/it]  "
     ]
    },
    {
     "name": "stdout",
     "output_type": "stream",
     "text": [
      "Error fetching www.csgoleap.com: net::ERR_NAME_NOT_RESOLVED at https://www.csgoleap.com/\n"
     ]
    },
    {
     "name": "stderr",
     "output_type": "stream",
     "text": [
      "Fetching URLs:  17%|█▋        | 169/986 [08:04<1:11:55,  5.28s/it]"
     ]
    },
    {
     "name": "stdout",
     "output_type": "stream",
     "text": [
      "Error fetching www.csgolotto.net: Timeout 10000ms exceeded.\n"
     ]
    },
    {
     "name": "stderr",
     "output_type": "stream",
     "text": [
      "Fetching URLs:  17%|█▋        | 171/986 [08:17<1:23:32,  6.15s/it]"
     ]
    },
    {
     "name": "stdout",
     "output_type": "stream",
     "text": [
      "Error fetching www.csgolucky.com: Timeout 10000ms exceeded.\n"
     ]
    },
    {
     "name": "stderr",
     "output_type": "stream",
     "text": [
      "Fetching URLs:  17%|█▋        | 172/986 [08:27<1:38:49,  7.28s/it]"
     ]
    },
    {
     "name": "stdout",
     "output_type": "stream",
     "text": [
      "Error fetching www.csgoluckywheel.com: Timeout 10000ms exceeded.\n"
     ]
    },
    {
     "name": "stderr",
     "output_type": "stream",
     "text": [
      "Fetching URLs:  18%|█▊        | 173/986 [08:37<1:49:40,  8.09s/it]"
     ]
    },
    {
     "name": "stdout",
     "output_type": "stream",
     "text": [
      "Error fetching www.csgoparty.com: Timeout 10000ms exceeded.\n"
     ]
    },
    {
     "name": "stderr",
     "output_type": "stream",
     "text": [
      "Fetching URLs:  18%|█▊        | 176/986 [08:39<42:29,  3.15s/it]  "
     ]
    },
    {
     "name": "stdout",
     "output_type": "stream",
     "text": [
      "Error fetching www.csgopull.com: net::ERR_CONNECTION_CLOSED at https://www.csgopull.com/\n"
     ]
    },
    {
     "name": "stderr",
     "output_type": "stream",
     "text": [
      "Fetching URLs:  18%|█▊        | 178/986 [08:50<1:04:53,  4.82s/it]"
     ]
    },
    {
     "name": "stdout",
     "output_type": "stream",
     "text": [
      "Error fetching www.csgorage.com: Timeout 10000ms exceeded.\n"
     ]
    },
    {
     "name": "stderr",
     "output_type": "stream",
     "text": [
      "Fetching URLs:  18%|█▊        | 181/986 [08:52<26:37,  1.98s/it]  "
     ]
    },
    {
     "name": "stdout",
     "output_type": "stream",
     "text": [
      "Error fetching www.csgoreactor.com: net::ERR_NAME_NOT_RESOLVED at https://www.csgoreactor.com/\n",
      "Error fetching www.csgoreaper.com: net::ERR_CONNECTION_REFUSED at https://www.csgoreaper.com/\n"
     ]
    },
    {
     "name": "stderr",
     "output_type": "stream",
     "text": [
      "Fetching URLs:  18%|█▊        | 182/986 [09:02<59:04,  4.41s/it]"
     ]
    },
    {
     "name": "stdout",
     "output_type": "stream",
     "text": [
      "Error fetching www.csgoresort.com: Timeout 10000ms exceeded.\n"
     ]
    },
    {
     "name": "stderr",
     "output_type": "stream",
     "text": [
      "Fetching URLs:  19%|█▉        | 187/986 [09:04<13:37,  1.02s/it]"
     ]
    },
    {
     "name": "stdout",
     "output_type": "stream",
     "text": [
      "Error fetching www.csgoskinlottery.com: net::ERR_NAME_NOT_RESOLVED at https://www.csgoskinlottery.com/\n",
      "Error fetching www.csgoskins.com: net::ERR_NAME_NOT_RESOLVED at https://www.csgoskins.com/\n"
     ]
    },
    {
     "name": "stderr",
     "output_type": "stream",
     "text": [
      "Fetching URLs:  19%|█▉        | 188/986 [09:14<49:43,  3.74s/it]"
     ]
    },
    {
     "name": "stdout",
     "output_type": "stream",
     "text": [
      "Error fetching www.csgospeed.com: Timeout 10000ms exceeded.\n"
     ]
    },
    {
     "name": "stderr",
     "output_type": "stream",
     "text": [
      "Fetching URLs:  19%|█▉        | 189/986 [09:16<41:05,  3.09s/it]"
     ]
    },
    {
     "name": "stdout",
     "output_type": "stream",
     "text": [
      "Error fetching www.csgovaults.com: net::ERR_NAME_NOT_RESOLVED at https://www.csgovaults.com/\n"
     ]
    },
    {
     "name": "stderr",
     "output_type": "stream",
     "text": [
      "Fetching URLs:  19%|█▉        | 191/986 [09:26<52:57,  4.00s/it]"
     ]
    },
    {
     "name": "stdout",
     "output_type": "stream",
     "text": [
      "Error fetching www.csgowealth.com: Timeout 10000ms exceeded.\n"
     ]
    },
    {
     "name": "stderr",
     "output_type": "stream",
     "text": [
      "Fetching URLs:  20%|█▉        | 193/986 [09:28<34:53,  2.64s/it]"
     ]
    },
    {
     "name": "stdout",
     "output_type": "stream",
     "text": [
      "Error fetching www.cspotluck.com: net::ERR_NAME_NOT_RESOLVED at https://www.cspotluck.com/\n"
     ]
    },
    {
     "name": "stderr",
     "output_type": "stream",
     "text": [
      "Fetching URLs:  20%|█▉        | 195/986 [09:29<22:15,  1.69s/it]"
     ]
    },
    {
     "name": "stdout",
     "output_type": "stream",
     "text": [
      "Error fetching www.cupcakebingo.co.uk: Unable to retrieve content because the page is navigating and changing the content.\n"
     ]
    },
    {
     "name": "stderr",
     "output_type": "stream",
     "text": [
      "Fetching URLs:  20%|██        | 200/986 [09:35<14:42,  1.12s/it]"
     ]
    },
    {
     "name": "stdout",
     "output_type": "stream",
     "text": [
      "Error fetching www.daftar-klik4d.com: net::ERR_CERT_DATE_INVALID at https://www.daftar-klik4d.com/\n",
      "Error fetching www.daftarbetplace88.net: net::ERR_NAME_NOT_RESOLVED at https://www.daftarbetplace88.net/\n"
     ]
    },
    {
     "name": "stderr",
     "output_type": "stream",
     "text": [
      "Fetching URLs:  20%|██        | 201/986 [09:35<11:15,  1.16it/s]"
     ]
    },
    {
     "name": "stdout",
     "output_type": "stream",
     "text": [
      "Error fetching www.dailydime.eu: net::ERR_NAME_NOT_RESOLVED at https://www.dailydime.eu/\n"
     ]
    },
    {
     "name": "stderr",
     "output_type": "stream",
     "text": [
      "Fetching URLs:  21%|██        | 204/986 [09:42<22:06,  1.70s/it]"
     ]
    },
    {
     "name": "stdout",
     "output_type": "stream",
     "text": [
      "Error fetching www.dantoto.dk: net::ERR_CERT_COMMON_NAME_INVALID at https://www.dantoto.dk/\n"
     ]
    },
    {
     "name": "stderr",
     "output_type": "stream",
     "text": [
      "Fetching URLs:  21%|██        | 209/986 [10:00<42:34,  3.29s/it]  "
     ]
    },
    {
     "name": "stdout",
     "output_type": "stream",
     "text": [
      "Error fetching www.depositbetplace88.com: Timeout 10000ms exceeded.\n",
      "Error fetching www.depositbetplace88.net: net::ERR_NAME_NOT_RESOLVED at https://www.depositbetplace88.net/\n"
     ]
    },
    {
     "name": "stderr",
     "output_type": "stream",
     "text": [
      "Fetching URLs:  21%|██▏       | 210/986 [10:01<31:46,  2.46s/it]"
     ]
    },
    {
     "name": "stdout",
     "output_type": "stream",
     "text": [
      "Error fetching www.desertnightscasino.co.uk: net::ERR_CERT_DATE_INVALID at https://www.desertnightscasino.co.uk/\n"
     ]
    },
    {
     "name": "stderr",
     "output_type": "stream",
     "text": [
      "Fetching URLs:  22%|██▏       | 212/986 [10:12<58:02,  4.50s/it]"
     ]
    },
    {
     "name": "stdout",
     "output_type": "stream",
     "text": [
      "Error fetching www.dialabet.com.au: Timeout 10000ms exceeded.\n"
     ]
    },
    {
     "name": "stderr",
     "output_type": "stream",
     "text": [
      "Fetching URLs:  22%|██▏       | 214/986 [10:23<1:08:39,  5.34s/it]"
     ]
    },
    {
     "name": "stdout",
     "output_type": "stream",
     "text": [
      "Error fetching www.dicestrike.com: Timeout 10000ms exceeded.\n"
     ]
    },
    {
     "name": "stderr",
     "output_type": "stream",
     "text": [
      "Fetching URLs:  22%|██▏       | 221/986 [10:37<31:15,  2.45s/it]  "
     ]
    },
    {
     "name": "stdout",
     "output_type": "stream",
     "text": [
      "Error fetching www.docbet.com: net::ERR_SSL_PROTOCOL_ERROR at https://www.docbet.com/\n"
     ]
    },
    {
     "name": "stderr",
     "output_type": "stream",
     "text": [
      "Fetching URLs:  23%|██▎       | 230/986 [10:55<19:00,  1.51s/it]"
     ]
    },
    {
     "name": "stdout",
     "output_type": "stream",
     "text": [
      "Error fetching www.dynabet.com.au: net::ERR_NAME_NOT_RESOLVED at https://www.dynabet.com.au/\n"
     ]
    },
    {
     "name": "stderr",
     "output_type": "stream",
     "text": [
      "Fetching URLs:  23%|██▎       | 231/986 [11:05<51:13,  4.07s/it]"
     ]
    },
    {
     "name": "stdout",
     "output_type": "stream",
     "text": [
      "Error fetching www.e-loterie.ma: Timeout 10000ms exceeded.\n"
     ]
    },
    {
     "name": "stderr",
     "output_type": "stream",
     "text": [
      "Fetching URLs:  24%|██▎       | 234/986 [11:07<24:45,  1.97s/it]"
     ]
    },
    {
     "name": "stdout",
     "output_type": "stream",
     "text": [
      "Error fetching www.easytowager.com: net::ERR_CERT_COMMON_NAME_INVALID at https://www.easytowager.com/\n"
     ]
    },
    {
     "name": "stderr",
     "output_type": "stream",
     "text": [
      "Fetching URLs:  24%|██▍       | 235/986 [11:17<55:09,  4.41s/it]"
     ]
    },
    {
     "name": "stdout",
     "output_type": "stream",
     "text": [
      "Error fetching www.ebetusa.com: Timeout 10000ms exceeded.\n"
     ]
    },
    {
     "name": "stderr",
     "output_type": "stream",
     "text": [
      "Fetching URLs:  24%|██▍       | 236/986 [11:27<1:16:10,  6.09s/it]"
     ]
    },
    {
     "name": "stdout",
     "output_type": "stream",
     "text": [
      "Error fetching www.eccobet.com: Timeout 10000ms exceeded.\n"
     ]
    },
    {
     "name": "stderr",
     "output_type": "stream",
     "text": [
      "Fetching URLs:  24%|██▍       | 237/986 [11:29<1:00:06,  4.82s/it]"
     ]
    },
    {
     "name": "stdout",
     "output_type": "stream",
     "text": [
      "Error fetching www.ed3688.com: net::ERR_CONNECTION_REFUSED at https://www.ed3688.com/\n"
     ]
    },
    {
     "name": "stderr",
     "output_type": "stream",
     "text": [
      "Fetching URLs:  24%|██▍       | 240/986 [11:36<40:26,  3.25s/it]  "
     ]
    },
    {
     "name": "stdout",
     "output_type": "stream",
     "text": [
      "Error fetching www.egamingbets.com: net::ERR_NAME_NOT_RESOLVED at https://www.egamingbets.com/\n"
     ]
    },
    {
     "name": "stderr",
     "output_type": "stream",
     "text": [
      "Fetching URLs:  24%|██▍       | 241/986 [11:36<30:19,  2.44s/it]"
     ]
    },
    {
     "name": "stdout",
     "output_type": "stream",
     "text": [
      "Error fetching www.ehorse.com: net::ERR_CERT_AUTHORITY_INVALID at https://www.ehorse.com/\n"
     ]
    },
    {
     "name": "stderr",
     "output_type": "stream",
     "text": [
      "Fetching URLs:  25%|██▍       | 242/986 [11:37<23:28,  1.89s/it]"
     ]
    },
    {
     "name": "stdout",
     "output_type": "stream",
     "text": [
      "Error fetching www.elitebetkenya.com: net::ERR_CONNECTION_CLOSED at https://www.elitebetkenya.com/\n"
     ]
    },
    {
     "name": "stderr",
     "output_type": "stream",
     "text": [
      "Fetching URLs:  25%|██▍       | 245/986 [11:39<13:08,  1.06s/it]"
     ]
    },
    {
     "name": "stdout",
     "output_type": "stream",
     "text": [
      "Error fetching www.enterbet.com: net::ERR_ABORTED at https://www.enterbet.com/\n"
     ]
    },
    {
     "name": "stderr",
     "output_type": "stream",
     "text": [
      "Fetching URLs:  25%|██▍       | 246/986 [11:49<46:30,  3.77s/it]"
     ]
    },
    {
     "name": "stdout",
     "output_type": "stream",
     "text": [
      "Error fetching www.eqraffle.com: Timeout 10000ms exceeded.\n"
     ]
    },
    {
     "name": "stderr",
     "output_type": "stream",
     "text": [
      "Fetching URLs:  25%|██▌       | 251/986 [12:10<41:51,  3.42s/it]  "
     ]
    },
    {
     "name": "stdout",
     "output_type": "stream",
     "text": [
      "Error fetching www.etipos.sk: net::ERR_ABORTED at https://www.etipos.sk/\n"
     ]
    },
    {
     "name": "stderr",
     "output_type": "stream",
     "text": [
      "Fetching URLs:  26%|██▌       | 254/986 [12:21<48:50,  4.00s/it]"
     ]
    },
    {
     "name": "stdout",
     "output_type": "stream",
     "text": [
      "Error fetching www.euro24sports.com: Timeout 10000ms exceeded.\n"
     ]
    },
    {
     "name": "stderr",
     "output_type": "stream",
     "text": [
      "Fetching URLs:  26%|██▌       | 255/986 [12:22<38:35,  3.17s/it]"
     ]
    },
    {
     "name": "stdout",
     "output_type": "stream",
     "text": [
      "Error fetching www.europe-bet.com: net::ERR_NAME_NOT_RESOLVED at https://www.europe-bet.com/\n"
     ]
    },
    {
     "name": "stderr",
     "output_type": "stream",
     "text": [
      "Fetching URLs:  27%|██▋       | 262/986 [12:35<28:10,  2.33s/it]"
     ]
    },
    {
     "name": "stdout",
     "output_type": "stream",
     "text": [
      "Error fetching www.extreme-sportsbetting.com: net::ERR_NAME_NOT_RESOLVED at https://www.extreme-sportsbetting.com/\n"
     ]
    },
    {
     "name": "stderr",
     "output_type": "stream",
     "text": [
      "Fetching URLs:  27%|██▋       | 263/986 [12:45<54:47,  4.55s/it]"
     ]
    },
    {
     "name": "stdout",
     "output_type": "stream",
     "text": [
      "Error fetching www.eypobet.com: Timeout 10000ms exceeded.\n"
     ]
    },
    {
     "name": "stderr",
     "output_type": "stream",
     "text": [
      "Fetching URLs:  27%|██▋       | 265/986 [12:46<29:16,  2.44s/it]"
     ]
    },
    {
     "name": "stdout",
     "output_type": "stream",
     "text": [
      "Error fetching www.ezbets.ag: net::ERR_CERT_DATE_INVALID at https://www.ezbets.ag/\n",
      "Error fetching www.ezsportsbetting.com: net::ERR_NAME_NOT_RESOLVED at https://www.ezsportsbetting.com/\n"
     ]
    },
    {
     "name": "stderr",
     "output_type": "stream",
     "text": [
      "Fetching URLs:  27%|██▋       | 268/986 [12:50<20:19,  1.70s/it]"
     ]
    },
    {
     "name": "stdout",
     "output_type": "stream",
     "text": [
      "Error fetching www.falconbet.com: net::ERR_SSL_VERSION_OR_CIPHER_MISMATCH at https://www.falconbet.com/\n"
     ]
    },
    {
     "name": "stderr",
     "output_type": "stream",
     "text": [
      "Fetching URLs:  28%|██▊       | 272/986 [12:53<15:00,  1.26s/it]"
     ]
    },
    {
     "name": "stdout",
     "output_type": "stream",
     "text": [
      "Error fetching www.favourit.com: net::ERR_NAME_NOT_RESOLVED at https://www.favourit.com/\n"
     ]
    },
    {
     "name": "stderr",
     "output_type": "stream",
     "text": [
      "Fetching URLs:  28%|██▊       | 274/986 [13:00<24:29,  2.06s/it]"
     ]
    },
    {
     "name": "stdout",
     "output_type": "stream",
     "text": [
      "Error fetching www.fikacasino.com: net::ERR_CERT_COMMON_NAME_INVALID at https://www.fikacasino.com/\n"
     ]
    },
    {
     "name": "stderr",
     "output_type": "stream",
     "text": [
      "Fetching URLs:  28%|██▊       | 276/986 [13:11<47:42,  4.03s/it]"
     ]
    },
    {
     "name": "stdout",
     "output_type": "stream",
     "text": [
      "Error fetching www.flumecasino.com: Timeout 10000ms exceeded.\n"
     ]
    },
    {
     "name": "stderr",
     "output_type": "stream",
     "text": [
      "Fetching URLs:  29%|██▉       | 288/986 [13:36<44:28,  3.82s/it]"
     ]
    },
    {
     "name": "stdout",
     "output_type": "stream",
     "text": [
      "Error fetching www.fullbetter.com: Timeout 10000ms exceeded.\n"
     ]
    },
    {
     "name": "stderr",
     "output_type": "stream",
     "text": [
      "Fetching URLs:  29%|██▉       | 289/986 [13:46<1:06:05,  5.69s/it]"
     ]
    },
    {
     "name": "stdout",
     "output_type": "stream",
     "text": [
      "Error fetching www.fun-bet.com: Timeout 10000ms exceeded.\n"
     ]
    },
    {
     "name": "stderr",
     "output_type": "stream",
     "text": [
      "Fetching URLs:  30%|██▉       | 293/986 [13:53<28:35,  2.48s/it]  "
     ]
    },
    {
     "name": "stdout",
     "output_type": "stream",
     "text": [
      "Error fetching www.galaxybetting.com: net::ERR_SSL_VERSION_OR_CIPHER_MISMATCH at https://www.galaxybetting.com/\n"
     ]
    },
    {
     "name": "stderr",
     "output_type": "stream",
     "text": [
      "Fetching URLs:  30%|██▉       | 295/986 [14:05<53:01,  4.60s/it]"
     ]
    },
    {
     "name": "stdout",
     "output_type": "stream",
     "text": [
      "Error fetching www.gamblecsgo.com: Timeout 10000ms exceeded.\n"
     ]
    },
    {
     "name": "stderr",
     "output_type": "stream",
     "text": [
      "Fetching URLs:  30%|███       | 299/986 [14:22<41:09,  3.59s/it]  "
     ]
    },
    {
     "name": "stdout",
     "output_type": "stream",
     "text": [
      "Error fetching www.gametime88.com: net::ERR_NAME_NOT_RESOLVED at https://www.gametime88.com/\n"
     ]
    },
    {
     "name": "stderr",
     "output_type": "stream",
     "text": [
      "Fetching URLs:  31%|███       | 301/986 [14:26<32:05,  2.81s/it]"
     ]
    },
    {
     "name": "stdout",
     "output_type": "stream",
     "text": [
      "Error fetching www.genesiscasino.com: net::ERR_NAME_NOT_RESOLVED at https://www.genesiscasino.com/\n"
     ]
    },
    {
     "name": "stderr",
     "output_type": "stream",
     "text": [
      "Fetching URLs:  31%|███       | 306/986 [14:30<12:16,  1.08s/it]"
     ]
    },
    {
     "name": "stdout",
     "output_type": "stream",
     "text": [
      "Error fetching www.getabet.com: net::ERR_CERT_COMMON_NAME_INVALID at https://www.getabet.com/\n"
     ]
    },
    {
     "name": "stderr",
     "output_type": "stream",
     "text": [
      "Fetching URLs:  31%|███       | 308/986 [14:31<09:51,  1.15it/s]"
     ]
    },
    {
     "name": "stdout",
     "output_type": "stream",
     "text": [
      "Error fetching www.giocoreale.com: net::ERR_CERT_COMMON_NAME_INVALID at https://www.giocoreale.com/\n"
     ]
    },
    {
     "name": "stderr",
     "output_type": "stream",
     "text": [
      "Fetching URLs:  31%|███▏      | 309/986 [14:41<39:53,  3.54s/it]"
     ]
    },
    {
     "name": "stdout",
     "output_type": "stream",
     "text": [
      "Error fetching www.glimmercasino.com: Timeout 10000ms exceeded.\n"
     ]
    },
    {
     "name": "stderr",
     "output_type": "stream",
     "text": [
      "Fetching URLs:  31%|███▏      | 310/986 [14:52<1:01:17,  5.44s/it]"
     ]
    },
    {
     "name": "stdout",
     "output_type": "stream",
     "text": [
      "Error fetching www.globalwagering.ws: Timeout 10000ms exceeded.\n",
      "Error fetching www.globetworld.com: net::ERR_NAME_NOT_RESOLVED at https://www.globetworld.com/\n"
     ]
    },
    {
     "name": "stderr",
     "output_type": "stream",
     "text": [
      "Fetching URLs:  32%|███▏      | 312/986 [14:52<33:51,  3.01s/it]  "
     ]
    },
    {
     "name": "stdout",
     "output_type": "stream",
     "text": [
      "Error fetching www.go50.net: net::ERR_NAME_NOT_RESOLVED at https://www.go50.net/\n"
     ]
    },
    {
     "name": "stderr",
     "output_type": "stream",
     "text": [
      "Fetching URLs:  32%|███▏      | 320/986 [15:00<10:00,  1.11it/s]"
     ]
    },
    {
     "name": "stdout",
     "output_type": "stream",
     "text": [
      "Error fetching www.goldbetsports.com: net::ERR_NAME_NOT_RESOLVED at https://www.goldbetsports.com/\n",
      "Error fetching www.goldenbetsng.com: net::ERR_NAME_NOT_RESOLVED at https://www.goldenbetsng.com/\n",
      "Error fetching www.goldmedalbingo.com: net::ERR_NAME_NOT_RESOLVED at https://www.goldmedalbingo.com/\n"
     ]
    },
    {
     "name": "stderr",
     "output_type": "stream",
     "text": [
      "Fetching URLs:  33%|███▎      | 324/986 [15:17<47:12,  4.28s/it]"
     ]
    },
    {
     "name": "stdout",
     "output_type": "stream",
     "text": [
      "Error fetching www.gotoentertainment.com: Timeout 10000ms exceeded.\n"
     ]
    },
    {
     "name": "stderr",
     "output_type": "stream",
     "text": [
      "Fetching URLs:  33%|███▎      | 327/986 [15:25<35:01,  3.19s/it]"
     ]
    },
    {
     "name": "stdout",
     "output_type": "stream",
     "text": [
      "Error fetching www.gr88.com: net::ERR_CERT_COMMON_NAME_INVALID at https://www.gr88.com/\n",
      "Error fetching www.gracesbingo.com: net::ERR_NAME_NOT_RESOLVED at https://www.gracesbingo.com/\n"
     ]
    },
    {
     "name": "stderr",
     "output_type": "stream",
     "text": [
      "Fetching URLs:  33%|███▎      | 330/986 [15:34<31:21,  2.87s/it]"
     ]
    },
    {
     "name": "stdout",
     "output_type": "stream",
     "text": [
      "Error fetching www.gtbets.eu: net::ERR_CERT_DATE_INVALID at https://www.gtbets.eu/\n"
     ]
    },
    {
     "name": "stderr",
     "output_type": "stream",
     "text": [
      "Fetching URLs:  34%|███▎      | 332/986 [15:46<49:49,  4.57s/it]"
     ]
    },
    {
     "name": "stdout",
     "output_type": "stream",
     "text": [
      "Error fetching www.gunnersgaming.com: Timeout 10000ms exceeded.\n"
     ]
    },
    {
     "name": "stderr",
     "output_type": "stream",
     "text": [
      "Fetching URLs:  34%|███▍      | 337/986 [15:53<21:07,  1.95s/it]"
     ]
    },
    {
     "name": "stdout",
     "output_type": "stream",
     "text": [
      "Error fetching www.hamsterbet.com: net::ERR_CONNECTION_REFUSED at https://www.hamsterbet.com/\n"
     ]
    },
    {
     "name": "stderr",
     "output_type": "stream",
     "text": [
      "Fetching URLs:  34%|███▍      | 338/986 [15:53<16:39,  1.54s/it]"
     ]
    },
    {
     "name": "stdout",
     "output_type": "stream",
     "text": [
      "Error fetching www.hanplayer.com: net::ERR_CERT_AUTHORITY_INVALID at https://www.hanplayer.com/\n"
     ]
    },
    {
     "name": "stderr",
     "output_type": "stream",
     "text": [
      "Fetching URLs:  35%|███▍      | 344/986 [16:01<09:17,  1.15it/s]"
     ]
    },
    {
     "name": "stdout",
     "output_type": "stream",
     "text": [
      "Error fetching www.herobet.com.br: net::ERR_NAME_NOT_RESOLVED at https://www.herobet.com.br/\n"
     ]
    },
    {
     "name": "stderr",
     "output_type": "stream",
     "text": [
      "Fetching URLs:  35%|███▍      | 345/986 [16:02<08:42,  1.23it/s]"
     ]
    },
    {
     "name": "stdout",
     "output_type": "stream",
     "text": [
      "Error fetching www.heypoker.com: net::ERR_NAME_NOT_RESOLVED at https://www.heypoker.com/\n"
     ]
    },
    {
     "name": "stderr",
     "output_type": "stream",
     "text": [
      "Fetching URLs:  35%|███▌      | 348/986 [16:07<12:51,  1.21s/it]"
     ]
    },
    {
     "name": "stdout",
     "output_type": "stream",
     "text": [
      "Error fetching www.highlifebingo.com: net::ERR_CONNECTION_REFUSED at https://www.highlifebingo.com/\n"
     ]
    },
    {
     "name": "stderr",
     "output_type": "stream",
     "text": [
      "Fetching URLs:  36%|███▌      | 354/986 [16:20<19:23,  1.84s/it]"
     ]
    },
    {
     "name": "stdout",
     "output_type": "stream",
     "text": [
      "Error fetching www.hollywoodsportsbook.eu: net::ERR_CERT_COMMON_NAME_INVALID at https://www.hollywoodsportsbook.eu/\n",
      "Error fetching www.home.olg.ca: net::ERR_NAME_NOT_RESOLVED at https://www.home.olg.ca/\n",
      "Error fetching www.homerunsportsbetting.com: net::ERR_NAME_NOT_RESOLVED at https://www.homerunsportsbetting.com/\n"
     ]
    },
    {
     "name": "stderr",
     "output_type": "stream",
     "text": [
      "Fetching URLs:  36%|███▋      | 359/986 [16:26<11:00,  1.05s/it]"
     ]
    },
    {
     "name": "stdout",
     "output_type": "stream",
     "text": [
      "Error fetching www.horizonsports.es: net::ERR_NAME_NOT_RESOLVED at https://www.horizonsports.es/\n",
      "Error fetching www.hotlinecsgo.com: net::ERR_NAME_NOT_RESOLVED at https://www.hotlinecsgo.com/\n"
     ]
    },
    {
     "name": "stderr",
     "output_type": "stream",
     "text": [
      "Fetching URLs:  37%|███▋      | 360/986 [16:27<11:15,  1.08s/it]"
     ]
    },
    {
     "name": "stdout",
     "output_type": "stream",
     "text": [
      "Error fetching www.hpbet.com: net::ERR_CERT_COMMON_NAME_INVALID at https://www.hpbet.com/\n"
     ]
    },
    {
     "name": "stderr",
     "output_type": "stream",
     "text": [
      "Fetching URLs:  37%|███▋      | 362/986 [16:28<08:05,  1.29it/s]"
     ]
    },
    {
     "name": "stdout",
     "output_type": "stream",
     "text": [
      "Error fetching www.hughesbet.com: net::ERR_CERT_COMMON_NAME_INVALID at https://www.hughesbet.com/\n"
     ]
    },
    {
     "name": "stderr",
     "output_type": "stream",
     "text": [
      "Fetching URLs:  37%|███▋      | 364/986 [16:29<07:41,  1.35it/s]"
     ]
    },
    {
     "name": "stdout",
     "output_type": "stream",
     "text": [
      "Error fetching www.iasbet.com: net::ERR_NAME_NOT_RESOLVED at https://www.iasbet.com/\n"
     ]
    },
    {
     "name": "stderr",
     "output_type": "stream",
     "text": [
      "Fetching URLs:  37%|███▋      | 366/986 [16:32<10:19,  1.00it/s]"
     ]
    },
    {
     "name": "stdout",
     "output_type": "stream",
     "text": [
      "Error fetching www.ibetcasino.com: net::ERR_CONNECTION_REFUSED at https://www.ibetcasino.com/\n"
     ]
    },
    {
     "name": "stderr",
     "output_type": "stream",
     "text": [
      "Fetching URLs:  38%|███▊      | 372/986 [16:38<10:05,  1.01it/s]"
     ]
    },
    {
     "name": "stdout",
     "output_type": "stream",
     "text": [
      "Error fetching www.inbet88.com: net::ERR_ADDRESS_UNREACHABLE at https://www.inbet88.com/\n"
     ]
    },
    {
     "name": "stderr",
     "output_type": "stream",
     "text": [
      "Fetching URLs:  38%|███▊      | 375/986 [16:53<31:21,  3.08s/it]"
     ]
    },
    {
     "name": "stdout",
     "output_type": "stream",
     "text": [
      "Error fetching www.instacasino.com: net::ERR_CERT_DATE_INVALID at https://www.instacasino.com/\n"
     ]
    },
    {
     "name": "stderr",
     "output_type": "stream",
     "text": [
      "Fetching URLs:  39%|███▊      | 380/986 [17:11<45:04,  4.46s/it]"
     ]
    },
    {
     "name": "stdout",
     "output_type": "stream",
     "text": [
      "Error fetching www.intertops.eu: Timeout 10000ms exceeded.\n"
     ]
    },
    {
     "name": "stderr",
     "output_type": "stream",
     "text": [
      "Fetching URLs:  39%|███▉      | 384/986 [17:13<14:18,  1.43s/it]"
     ]
    },
    {
     "name": "stdout",
     "output_type": "stream",
     "text": [
      "Error fetching www.islandcasino.com: net::ERR_NAME_NOT_RESOLVED at https://www.islandcasino.com/\n"
     ]
    },
    {
     "name": "stderr",
     "output_type": "stream",
     "text": [
      "Fetching URLs:  39%|███▉      | 386/986 [17:16<12:15,  1.23s/it]"
     ]
    },
    {
     "name": "stdout",
     "output_type": "stream",
     "text": [
      "Error fetching www.isportbet.net: net::ERR_CERT_DATE_INVALID at https://www.isportbet.net/\n",
      "Error fetching www.itvbingo.com: net::ERR_SSL_VERSION_OR_CIPHER_MISMATCH at https://www.itvbingo.com/\n"
     ]
    },
    {
     "name": "stderr",
     "output_type": "stream",
     "text": [
      "Fetching URLs:  39%|███▉      | 388/986 [17:26<29:55,  3.00s/it]"
     ]
    },
    {
     "name": "stdout",
     "output_type": "stream",
     "text": [
      "Error fetching www.jackpotbingo.co.uk: Timeout 10000ms exceeded.\n"
     ]
    },
    {
     "name": "stderr",
     "output_type": "stream",
     "text": [
      "Fetching URLs:  39%|███▉      | 389/986 [17:28<28:52,  2.90s/it]"
     ]
    },
    {
     "name": "stdout",
     "output_type": "stream",
     "text": [
      "Error fetching www.jammyduck.com: net::ERR_NAME_NOT_RESOLVED at https://www.jammyduck.com/\n"
     ]
    },
    {
     "name": "stderr",
     "output_type": "stream",
     "text": [
      "Fetching URLs:  40%|███▉      | 391/986 [17:29<17:40,  1.78s/it]"
     ]
    },
    {
     "name": "stdout",
     "output_type": "stream",
     "text": [
      "Error fetching www.japancasino.com: net::ERR_CERT_COMMON_NAME_INVALID at https://www.japancasino.com/\n"
     ]
    },
    {
     "name": "stderr",
     "output_type": "stream",
     "text": [
      "Fetching URLs:  40%|███▉      | 394/986 [17:31<11:50,  1.20s/it]"
     ]
    },
    {
     "name": "stdout",
     "output_type": "stream",
     "text": [
      "Error fetching www.jebetting.com: net::ERR_NAME_NOT_RESOLVED at https://www.jebetting.com/\n"
     ]
    },
    {
     "name": "stderr",
     "output_type": "stream",
     "text": [
      "Fetching URLs:  40%|████      | 396/986 [17:43<37:43,  3.84s/it]"
     ]
    },
    {
     "name": "stdout",
     "output_type": "stream",
     "text": [
      "Error fetching www.jesterjackpots.co.uk: Timeout 10000ms exceeded.\n"
     ]
    },
    {
     "name": "stderr",
     "output_type": "stream",
     "text": [
      "Fetching URLs:  40%|████      | 397/986 [17:45<31:12,  3.18s/it]"
     ]
    },
    {
     "name": "stdout",
     "output_type": "stream",
     "text": [
      "Error fetching www.jesterjackpots.com: Unable to retrieve content because the page is navigating and changing the content.\n"
     ]
    },
    {
     "name": "stderr",
     "output_type": "stream",
     "text": [
      "Fetching URLs:  40%|████      | 398/986 [17:53<46:32,  4.75s/it]"
     ]
    },
    {
     "name": "stdout",
     "output_type": "stream",
     "text": [
      "Error fetching www.jetbull.com: net::ERR_NAME_NOT_RESOLVED at https://www.jetbull.com/\n"
     ]
    },
    {
     "name": "stderr",
     "output_type": "stream",
     "text": [
      "Fetching URLs:  41%|████      | 404/986 [18:12<42:43,  4.41s/it]"
     ]
    },
    {
     "name": "stdout",
     "output_type": "stream",
     "text": [
      "Error fetching www.joker123.net: Timeout 10000ms exceeded.\n"
     ]
    },
    {
     "name": "stderr",
     "output_type": "stream",
     "text": [
      "Fetching URLs:  41%|████      | 405/986 [18:13<34:26,  3.56s/it]"
     ]
    },
    {
     "name": "stdout",
     "output_type": "stream",
     "text": [
      "Error fetching www.juegos.loteriasyapuestas.es: net::ERR_NAME_NOT_RESOLVED at https://www.juegos.loteriasyapuestas.es/\n"
     ]
    },
    {
     "name": "stderr",
     "output_type": "stream",
     "text": [
      "Fetching URLs:  42%|████▏     | 415/986 [18:43<34:45,  3.65s/it]"
     ]
    },
    {
     "name": "stdout",
     "output_type": "stream",
     "text": [
      "Error fetching www.karjalakasino.com: net::ERR_NAME_NOT_RESOLVED at https://www.karjalakasino.com/\n",
      "Error fetching www.karlcasino.com: net::ERR_HTTP2_PROTOCOL_ERROR at https://www.karlcasino.com/\n"
     ]
    },
    {
     "name": "stderr",
     "output_type": "stream",
     "text": [
      "Fetching URLs:  42%|████▏     | 418/986 [18:46<17:08,  1.81s/it]"
     ]
    },
    {
     "name": "stdout",
     "output_type": "stream",
     "text": [
      "Error fetching www.ke.betpawa.com: net::ERR_CERT_AUTHORITY_INVALID at https://www.ke.betpawa.com/\n"
     ]
    },
    {
     "name": "stderr",
     "output_type": "stream",
     "text": [
      "Fetching URLs:  43%|████▎     | 420/986 [18:56<30:34,  3.24s/it]"
     ]
    },
    {
     "name": "stdout",
     "output_type": "stream",
     "text": [
      "Error fetching www.keyarena.gg: net::ERR_NAME_NOT_RESOLVED at https://www.keyarena.gg/\n",
      "Error fetching www.kingkong999.net: net::ERR_NAME_NOT_RESOLVED at https://www.kingkong999.net/\n"
     ]
    },
    {
     "name": "stderr",
     "output_type": "stream",
     "text": [
      "Fetching URLs:  43%|████▎     | 422/986 [18:57<17:00,  1.81s/it]"
     ]
    },
    {
     "name": "stdout",
     "output_type": "stream",
     "text": [
      "Error fetching www.kingneptunescasino.com: net::ERR_ADDRESS_UNREACHABLE at https://www.kingneptunescasino.com/\n"
     ]
    },
    {
     "name": "stderr",
     "output_type": "stream",
     "text": [
      "Fetching URLs:  43%|████▎     | 424/986 [18:59<14:52,  1.59s/it]"
     ]
    },
    {
     "name": "stdout",
     "output_type": "stream",
     "text": [
      "Error fetching www.kissmybingo.com: net::ERR_NAME_NOT_RESOLVED at https://www.kissmybingo.com/\n"
     ]
    },
    {
     "name": "stderr",
     "output_type": "stream",
     "text": [
      "Fetching URLs:  43%|████▎     | 427/986 [19:08<21:27,  2.30s/it]"
     ]
    },
    {
     "name": "stdout",
     "output_type": "stream",
     "text": [
      "Error fetching www.klik4d.com: net::ERR_CONNECTION_RESET at https://www.klik4d.com/\n"
     ]
    },
    {
     "name": "stderr",
     "output_type": "stream",
     "text": [
      "Fetching URLs:  43%|████▎     | 428/986 [19:09<16:53,  1.82s/it]"
     ]
    },
    {
     "name": "stdout",
     "output_type": "stream",
     "text": [
      "Error fetching www.klik4d.link: net::ERR_SSL_PROTOCOL_ERROR at https://www.klik4d.link/\n",
      "Error fetching www.klik4d.us: net::ERR_NAME_NOT_RESOLVED at https://www.klik4d.us/\n"
     ]
    },
    {
     "name": "stderr",
     "output_type": "stream",
     "text": [
      "Fetching URLs:  44%|████▎     | 430/986 [19:19<29:20,  3.17s/it]"
     ]
    },
    {
     "name": "stdout",
     "output_type": "stream",
     "text": [
      "Error fetching www.klik4dtogel.net: Timeout 10000ms exceeded.\n"
     ]
    },
    {
     "name": "stderr",
     "output_type": "stream",
     "text": [
      "Fetching URLs:  44%|████▎     | 431/986 [19:29<43:53,  4.74s/it]"
     ]
    },
    {
     "name": "stdout",
     "output_type": "stream",
     "text": [
      "Error fetching www.krugerbets.com: Timeout 10000ms exceeded.\n"
     ]
    },
    {
     "name": "stderr",
     "output_type": "stream",
     "text": [
      "Fetching URLs:  44%|████▍     | 432/986 [19:39<55:55,  6.06s/it]"
     ]
    },
    {
     "name": "stdout",
     "output_type": "stream",
     "text": [
      "Error fetching www.ksbingo.com: Timeout 10000ms exceeded.\n"
     ]
    },
    {
     "name": "stderr",
     "output_type": "stream",
     "text": [
      "Fetching URLs:  44%|████▍     | 438/986 [20:03<27:06,  2.97s/it]  "
     ]
    },
    {
     "name": "stdout",
     "output_type": "stream",
     "text": [
      "Error fetching www.latinopoker.eu: net::ERR_NAME_NOT_RESOLVED at https://www.latinopoker.eu/\n"
     ]
    },
    {
     "name": "stderr",
     "output_type": "stream",
     "text": [
      "Fetching URLs:  45%|████▍     | 440/986 [20:10<30:59,  3.41s/it]"
     ]
    },
    {
     "name": "stdout",
     "output_type": "stream",
     "text": [
      "Error fetching www.lazvegas.com: net::ERR_NAME_NOT_RESOLVED at https://www.lazvegas.com/\n"
     ]
    },
    {
     "name": "stderr",
     "output_type": "stream",
     "text": [
      "Fetching URLs:  45%|████▍     | 442/986 [20:21<43:42,  4.82s/it]"
     ]
    },
    {
     "name": "stdout",
     "output_type": "stream",
     "text": [
      "Error fetching www.legolas.bet: Timeout 10000ms exceeded.\n"
     ]
    },
    {
     "name": "stderr",
     "output_type": "stream",
     "text": [
      "Fetching URLs:  45%|████▌     | 444/986 [20:32<50:47,  5.62s/it]"
     ]
    },
    {
     "name": "stdout",
     "output_type": "stream",
     "text": [
      "Error fetching www.leojackpot.com: Timeout 10000ms exceeded.\n"
     ]
    },
    {
     "name": "stderr",
     "output_type": "stream",
     "text": [
      "Fetching URLs:  46%|████▌     | 449/986 [20:44<24:53,  2.78s/it]"
     ]
    },
    {
     "name": "stdout",
     "output_type": "stream",
     "text": [
      "Error fetching www.lightbet.com: net::ERR_CONNECTION_REFUSED at https://www.lightbet.com/\n"
     ]
    },
    {
     "name": "stderr",
     "output_type": "stream",
     "text": [
      "Fetching URLs:  46%|████▌     | 450/986 [20:45<21:26,  2.40s/it]"
     ]
    },
    {
     "name": "stdout",
     "output_type": "stream",
     "text": [
      "Error fetching www.linesmaker.eu: net::ERR_NAME_NOT_RESOLVED at https://www.linesmaker.eu/\n"
     ]
    },
    {
     "name": "stderr",
     "output_type": "stream",
     "text": [
      "Fetching URLs:  46%|████▌     | 454/986 [20:52<14:10,  1.60s/it]"
     ]
    },
    {
     "name": "stdout",
     "output_type": "stream",
     "text": [
      "Error fetching www.littlebigbingo.com: net::ERR_NAME_NOT_RESOLVED at https://www.littlebigbingo.com/\n"
     ]
    },
    {
     "name": "stderr",
     "output_type": "stream",
     "text": [
      "Fetching URLs:  46%|████▌     | 455/986 [21:02<36:44,  4.15s/it]"
     ]
    },
    {
     "name": "stdout",
     "output_type": "stream",
     "text": [
      "Error fetching www.livebetting.com: Timeout 10000ms exceeded.\n"
     ]
    },
    {
     "name": "stderr",
     "output_type": "stream",
     "text": [
      "Fetching URLs:  46%|████▋     | 457/986 [21:04<22:22,  2.54s/it]"
     ]
    },
    {
     "name": "stdout",
     "output_type": "stream",
     "text": [
      "Error fetching www.livelounge.com: net::ERR_CERT_DATE_INVALID at https://www.livelounge.com/\n"
     ]
    },
    {
     "name": "stderr",
     "output_type": "stream",
     "text": [
      "Fetching URLs:  46%|████▋     | 458/986 [21:04<16:17,  1.85s/it]"
     ]
    },
    {
     "name": "stdout",
     "output_type": "stream",
     "text": [
      "Error fetching www.livesports.ag: net::ERR_NAME_NOT_RESOLVED at https://www.livesports.ag/\n"
     ]
    },
    {
     "name": "stderr",
     "output_type": "stream",
     "text": [
      "Fetching URLs:  47%|████▋     | 461/986 [21:16<24:44,  2.83s/it]"
     ]
    },
    {
     "name": "stdout",
     "output_type": "stream",
     "text": [
      "Error fetching www.loadsabingo.com: net::ERR_HTTP2_PROTOCOL_ERROR at https://www.loadsabingo.com/\n"
     ]
    },
    {
     "name": "stderr",
     "output_type": "stream",
     "text": [
      "Fetching URLs:  47%|████▋     | 462/986 [21:26<43:39,  5.00s/it]"
     ]
    },
    {
     "name": "stdout",
     "output_type": "stream",
     "text": [
      "Error fetching www.lookbingo.com: Timeout 10000ms exceeded.\n"
     ]
    },
    {
     "name": "stderr",
     "output_type": "stream",
     "text": [
      "Fetching URLs:  47%|████▋     | 466/986 [21:43<47:06,  5.44s/it]"
     ]
    },
    {
     "name": "stdout",
     "output_type": "stream",
     "text": [
      "Error fetching www.lopocasport.com: Timeout 10000ms exceeded.\n"
     ]
    },
    {
     "name": "stderr",
     "output_type": "stream",
     "text": [
      "Fetching URLs:  47%|████▋     | 468/986 [21:55<52:57,  6.13s/it]"
     ]
    },
    {
     "name": "stdout",
     "output_type": "stream",
     "text": [
      "Error fetching www.lotenal.gob.mx: Timeout 10000ms exceeded.\n"
     ]
    },
    {
     "name": "stderr",
     "output_type": "stream",
     "text": [
      "Fetching URLs:  48%|████▊     | 473/986 [22:19<49:11,  5.75s/it]"
     ]
    },
    {
     "name": "stdout",
     "output_type": "stream",
     "text": [
      "Error fetching www.loterie.ma: Timeout 10000ms exceeded.\n"
     ]
    },
    {
     "name": "stderr",
     "output_type": "stream",
     "text": [
      "Fetching URLs:  48%|████▊     | 474/986 [22:19<35:04,  4.11s/it]"
     ]
    },
    {
     "name": "stdout",
     "output_type": "stream",
     "text": [
      "Error fetching www.loteries.lotoquebec.com: net::ERR_NAME_NOT_RESOLVED at https://www.loteries.lotoquebec.com/\n"
     ]
    },
    {
     "name": "stderr",
     "output_type": "stream",
     "text": [
      "Fetching URLs:  49%|████▉     | 482/986 [22:44<21:13,  2.53s/it]"
     ]
    },
    {
     "name": "stdout",
     "output_type": "stream",
     "text": [
      "Error fetching www.lottery.olg.ca: net::ERR_NAME_NOT_RESOLVED at https://www.lottery.olg.ca/\n"
     ]
    },
    {
     "name": "stderr",
     "output_type": "stream",
     "text": [
      "Fetching URLs:  49%|████▉     | 483/986 [22:54<40:05,  4.78s/it]"
     ]
    },
    {
     "name": "stdout",
     "output_type": "stream",
     "text": [
      "Error fetching www.lotto-bayern.de: Timeout 10000ms exceeded.\n"
     ]
    },
    {
     "name": "stderr",
     "output_type": "stream",
     "text": [
      "Fetching URLs:  49%|████▉     | 484/986 [23:04<53:15,  6.37s/it]"
     ]
    },
    {
     "name": "stdout",
     "output_type": "stream",
     "text": [
      "Error fetching www.lotto-berlin.de: Timeout 10000ms exceeded.\n"
     ]
    },
    {
     "name": "stderr",
     "output_type": "stream",
     "text": [
      "Fetching URLs:  49%|████▉     | 485/986 [23:14<1:02:20,  7.47s/it]"
     ]
    },
    {
     "name": "stdout",
     "output_type": "stream",
     "text": [
      "Error fetching www.lotto-brandenburg.de: Timeout 10000ms exceeded.\n"
     ]
    },
    {
     "name": "stderr",
     "output_type": "stream",
     "text": [
      "Fetching URLs:  49%|████▉     | 486/986 [23:24<1:08:38,  8.24s/it]"
     ]
    },
    {
     "name": "stdout",
     "output_type": "stream",
     "text": [
      "Error fetching www.lotto-bremen.de: Timeout 10000ms exceeded.\n"
     ]
    },
    {
     "name": "stderr",
     "output_type": "stream",
     "text": [
      "Fetching URLs:  49%|████▉     | 487/986 [23:34<1:12:59,  8.78s/it]"
     ]
    },
    {
     "name": "stdout",
     "output_type": "stream",
     "text": [
      "Error fetching www.lotto-bw.de: Timeout 10000ms exceeded.\n"
     ]
    },
    {
     "name": "stderr",
     "output_type": "stream",
     "text": [
      "Fetching URLs:  49%|████▉     | 488/986 [23:34<51:37,  6.22s/it]  "
     ]
    },
    {
     "name": "stdout",
     "output_type": "stream",
     "text": [
      "Error fetching www.lotto-centrum.com: net::ERR_CERT_COMMON_NAME_INVALID at https://www.lotto-centrum.com/\n"
     ]
    },
    {
     "name": "stderr",
     "output_type": "stream",
     "text": [
      "Fetching URLs:  50%|████▉     | 489/986 [23:44<1:01:02,  7.37s/it]"
     ]
    },
    {
     "name": "stdout",
     "output_type": "stream",
     "text": [
      "Error fetching www.lotto-hessen.de: Timeout 10000ms exceeded.\n"
     ]
    },
    {
     "name": "stderr",
     "output_type": "stream",
     "text": [
      "Fetching URLs:  50%|████▉     | 490/986 [23:54<1:07:36,  8.18s/it]"
     ]
    },
    {
     "name": "stdout",
     "output_type": "stream",
     "text": [
      "Error fetching www.lotto-hh.de: Timeout 10000ms exceeded.\n"
     ]
    },
    {
     "name": "stderr",
     "output_type": "stream",
     "text": [
      "Fetching URLs:  50%|████▉     | 492/986 [24:08<1:03:38,  7.73s/it]"
     ]
    },
    {
     "name": "stdout",
     "output_type": "stream",
     "text": [
      "Error fetching www.lotto-rlp.de: Timeout 10000ms exceeded.\n"
     ]
    },
    {
     "name": "stderr",
     "output_type": "stream",
     "text": [
      "Fetching URLs:  50%|█████     | 493/986 [24:18<1:09:13,  8.43s/it]"
     ]
    },
    {
     "name": "stdout",
     "output_type": "stream",
     "text": [
      "Error fetching www.lotto-sh.de: Timeout 10000ms exceeded.\n"
     ]
    },
    {
     "name": "stderr",
     "output_type": "stream",
     "text": [
      "Fetching URLs:  50%|█████     | 494/986 [24:28<1:13:04,  8.91s/it]"
     ]
    },
    {
     "name": "stdout",
     "output_type": "stream",
     "text": [
      "Error fetching www.lotto-thueringen.de: Timeout 10000ms exceeded.\n"
     ]
    },
    {
     "name": "stderr",
     "output_type": "stream",
     "text": [
      "Fetching URLs:  50%|█████     | 495/986 [24:28<51:43,  6.32s/it]  "
     ]
    },
    {
     "name": "stdout",
     "output_type": "stream",
     "text": [
      "Error fetching www.lotto.cn: net::ERR_NAME_NOT_RESOLVED at https://www.lotto.cn/\n"
     ]
    },
    {
     "name": "stderr",
     "output_type": "stream",
     "text": [
      "Fetching URLs:  51%|█████     | 499/986 [24:35<22:21,  2.75s/it]"
     ]
    },
    {
     "name": "stdout",
     "output_type": "stream",
     "text": [
      "Error fetching www.lotto.mthai.com: net::ERR_NAME_NOT_RESOLVED at https://www.lotto.mthai.com/\n"
     ]
    },
    {
     "name": "stderr",
     "output_type": "stream",
     "text": [
      "Fetching URLs:  51%|█████     | 503/986 [24:39<10:26,  1.30s/it]"
     ]
    },
    {
     "name": "stdout",
     "output_type": "stream",
     "text": [
      "Error fetching www.lotto24bingo.com: net::ERR_CERT_COMMON_NAME_INVALID at https://www.lotto24bingo.com/\n"
     ]
    },
    {
     "name": "stderr",
     "output_type": "stream",
     "text": [
      "Fetching URLs:  52%|█████▏    | 512/986 [25:14<22:50,  2.89s/it]"
     ]
    },
    {
     "name": "stdout",
     "output_type": "stream",
     "text": [
      "Error fetching www.lsbet690.com: net::ERR_NAME_NOT_RESOLVED at https://www.lsbet690.com/\n"
     ]
    },
    {
     "name": "stderr",
     "output_type": "stream",
     "text": [
      "Fetching URLs:  52%|█████▏    | 512/986 [25:15<23:23,  2.96s/it]\n"
     ]
    },
    {
     "ename": "CancelledError",
     "evalue": "",
     "output_type": "error",
     "traceback": [
      "\u001b[0;31m---------------------------------------------------------------------------\u001b[0m",
      "\u001b[0;31mCancelledError\u001b[0m                            Traceback (most recent call last)",
      "Cell \u001b[0;32mIn[4], line 64\u001b[0m\n\u001b[1;32m     61\u001b[0m         \u001b[38;5;28;01mawait\u001b[39;00m context\u001b[38;5;241m.\u001b[39mclose()\n\u001b[1;32m     62\u001b[0m         \u001b[38;5;28;01mawait\u001b[39;00m browser\u001b[38;5;241m.\u001b[39mclose()\n\u001b[0;32m---> 64\u001b[0m \u001b[38;5;28;01mawait\u001b[39;00m run()\n",
      "Cell \u001b[0;32mIn[4], line 37\u001b[0m, in \u001b[0;36mrun\u001b[0;34m()\u001b[0m\n\u001b[1;32m     35\u001b[0m content \u001b[38;5;241m=\u001b[39m \u001b[38;5;124m\"\u001b[39m\u001b[38;5;124m\"\u001b[39m\n\u001b[1;32m     36\u001b[0m \u001b[38;5;28;01mtry\u001b[39;00m:\n\u001b[0;32m---> 37\u001b[0m     \u001b[38;5;28;01mawait\u001b[39;00m page\u001b[38;5;241m.\u001b[39mgoto(\u001b[38;5;124m\"\u001b[39m\u001b[38;5;124mhttps://\u001b[39m\u001b[38;5;124m\"\u001b[39m\u001b[38;5;241m+\u001b[39murl, timeout\u001b[38;5;241m=\u001b[39mTIMEOUT\u001b[38;5;241m*\u001b[39m\u001b[38;5;241m1000\u001b[39m)\n\u001b[1;32m     38\u001b[0m     content \u001b[38;5;241m=\u001b[39m \u001b[38;5;28;01mawait\u001b[39;00m page\u001b[38;5;241m.\u001b[39mcontent()\n\u001b[1;32m     39\u001b[0m     soup \u001b[38;5;241m=\u001b[39m BeautifulSoup(content, \u001b[38;5;124m\"\u001b[39m\u001b[38;5;124mhtml.parser\u001b[39m\u001b[38;5;124m\"\u001b[39m)\n",
      "File \u001b[0;32m/usr/local/lib/python3.10/dist-packages/playwright/async_api/_generated.py:9260\u001b[0m, in \u001b[0;36mPage.goto\u001b[0;34m(self, url, timeout, wait_until, referer)\u001b[0m\n\u001b[1;32m   9199\u001b[0m \u001b[38;5;28;01masync\u001b[39;00m \u001b[38;5;28;01mdef\u001b[39;00m \u001b[38;5;21mgoto\u001b[39m(\n\u001b[1;32m   9200\u001b[0m     \u001b[38;5;28mself\u001b[39m,\n\u001b[1;32m   9201\u001b[0m     url: \u001b[38;5;28mstr\u001b[39m,\n\u001b[0;32m   (...)\u001b[0m\n\u001b[1;32m   9207\u001b[0m     referer: typing\u001b[38;5;241m.\u001b[39mOptional[\u001b[38;5;28mstr\u001b[39m] \u001b[38;5;241m=\u001b[39m \u001b[38;5;28;01mNone\u001b[39;00m\n\u001b[1;32m   9208\u001b[0m ) \u001b[38;5;241m-\u001b[39m\u001b[38;5;241m>\u001b[39m typing\u001b[38;5;241m.\u001b[39mOptional[\u001b[38;5;124m\"\u001b[39m\u001b[38;5;124mResponse\u001b[39m\u001b[38;5;124m\"\u001b[39m]:\n\u001b[1;32m   9209\u001b[0m \u001b[38;5;250m    \u001b[39m\u001b[38;5;124;03m\"\"\"Page.goto\u001b[39;00m\n\u001b[1;32m   9210\u001b[0m \n\u001b[1;32m   9211\u001b[0m \u001b[38;5;124;03m    Returns the main resource response. In case of multiple redirects, the navigation will resolve with the first\u001b[39;00m\n\u001b[0;32m   (...)\u001b[0m\n\u001b[1;32m   9256\u001b[0m \u001b[38;5;124;03m    Union[Response, None]\u001b[39;00m\n\u001b[1;32m   9257\u001b[0m \u001b[38;5;124;03m    \"\"\"\u001b[39;00m\n\u001b[1;32m   9259\u001b[0m     \u001b[38;5;28;01mreturn\u001b[39;00m mapping\u001b[38;5;241m.\u001b[39mfrom_impl_nullable(\n\u001b[0;32m-> 9260\u001b[0m         \u001b[38;5;28;01mawait\u001b[39;00m \u001b[38;5;28mself\u001b[39m\u001b[38;5;241m.\u001b[39m_impl_obj\u001b[38;5;241m.\u001b[39mgoto(\n\u001b[1;32m   9261\u001b[0m             url\u001b[38;5;241m=\u001b[39murl, timeout\u001b[38;5;241m=\u001b[39mtimeout, waitUntil\u001b[38;5;241m=\u001b[39mwait_until, referer\u001b[38;5;241m=\u001b[39mreferer\n\u001b[1;32m   9262\u001b[0m         )\n\u001b[1;32m   9263\u001b[0m     )\n",
      "File \u001b[0;32m/usr/local/lib/python3.10/dist-packages/playwright/_impl/_page.py:475\u001b[0m, in \u001b[0;36mPage.goto\u001b[0;34m(self, url, timeout, waitUntil, referer)\u001b[0m\n\u001b[1;32m    468\u001b[0m \u001b[38;5;28;01masync\u001b[39;00m \u001b[38;5;28;01mdef\u001b[39;00m \u001b[38;5;21mgoto\u001b[39m(\n\u001b[1;32m    469\u001b[0m     \u001b[38;5;28mself\u001b[39m,\n\u001b[1;32m    470\u001b[0m     url: \u001b[38;5;28mstr\u001b[39m,\n\u001b[0;32m   (...)\u001b[0m\n\u001b[1;32m    473\u001b[0m     referer: \u001b[38;5;28mstr\u001b[39m \u001b[38;5;241m=\u001b[39m \u001b[38;5;28;01mNone\u001b[39;00m,\n\u001b[1;32m    474\u001b[0m ) \u001b[38;5;241m-\u001b[39m\u001b[38;5;241m>\u001b[39m Optional[Response]:\n\u001b[0;32m--> 475\u001b[0m     \u001b[38;5;28;01mreturn\u001b[39;00m \u001b[38;5;28;01mawait\u001b[39;00m \u001b[38;5;28mself\u001b[39m\u001b[38;5;241m.\u001b[39m_main_frame\u001b[38;5;241m.\u001b[39mgoto(\u001b[38;5;241m*\u001b[39m\u001b[38;5;241m*\u001b[39mlocals_to_params(\u001b[38;5;28mlocals\u001b[39m()))\n",
      "File \u001b[0;32m/usr/local/lib/python3.10/dist-packages/playwright/_impl/_frame.py:139\u001b[0m, in \u001b[0;36mFrame.goto\u001b[0;34m(self, url, timeout, waitUntil, referer)\u001b[0m\n\u001b[1;32m    129\u001b[0m \u001b[38;5;28;01masync\u001b[39;00m \u001b[38;5;28;01mdef\u001b[39;00m \u001b[38;5;21mgoto\u001b[39m(\n\u001b[1;32m    130\u001b[0m     \u001b[38;5;28mself\u001b[39m,\n\u001b[1;32m    131\u001b[0m     url: \u001b[38;5;28mstr\u001b[39m,\n\u001b[0;32m   (...)\u001b[0m\n\u001b[1;32m    134\u001b[0m     referer: \u001b[38;5;28mstr\u001b[39m \u001b[38;5;241m=\u001b[39m \u001b[38;5;28;01mNone\u001b[39;00m,\n\u001b[1;32m    135\u001b[0m ) \u001b[38;5;241m-\u001b[39m\u001b[38;5;241m>\u001b[39m Optional[Response]:\n\u001b[1;32m    136\u001b[0m     \u001b[38;5;28;01mreturn\u001b[39;00m cast(\n\u001b[1;32m    137\u001b[0m         Optional[Response],\n\u001b[1;32m    138\u001b[0m         from_nullable_channel(\n\u001b[0;32m--> 139\u001b[0m             \u001b[38;5;28;01mawait\u001b[39;00m \u001b[38;5;28mself\u001b[39m\u001b[38;5;241m.\u001b[39m_channel\u001b[38;5;241m.\u001b[39msend(\u001b[38;5;124m\"\u001b[39m\u001b[38;5;124mgoto\u001b[39m\u001b[38;5;124m\"\u001b[39m, locals_to_params(\u001b[38;5;28mlocals\u001b[39m()))\n\u001b[1;32m    140\u001b[0m         ),\n\u001b[1;32m    141\u001b[0m     )\n",
      "File \u001b[0;32m/usr/local/lib/python3.10/dist-packages/playwright/_impl/_connection.py:62\u001b[0m, in \u001b[0;36mChannel.send\u001b[0;34m(self, method, params)\u001b[0m\n\u001b[1;32m     61\u001b[0m \u001b[38;5;28;01masync\u001b[39;00m \u001b[38;5;28;01mdef\u001b[39;00m \u001b[38;5;21msend\u001b[39m(\u001b[38;5;28mself\u001b[39m, method: \u001b[38;5;28mstr\u001b[39m, params: Dict \u001b[38;5;241m=\u001b[39m \u001b[38;5;28;01mNone\u001b[39;00m) \u001b[38;5;241m-\u001b[39m\u001b[38;5;241m>\u001b[39m Any:\n\u001b[0;32m---> 62\u001b[0m     \u001b[38;5;28;01mreturn\u001b[39;00m \u001b[38;5;28;01mawait\u001b[39;00m \u001b[38;5;28mself\u001b[39m\u001b[38;5;241m.\u001b[39m_connection\u001b[38;5;241m.\u001b[39mwrap_api_call(\n\u001b[1;32m     63\u001b[0m         \u001b[38;5;28;01mlambda\u001b[39;00m: \u001b[38;5;28mself\u001b[39m\u001b[38;5;241m.\u001b[39minner_send(method, params, \u001b[38;5;28;01mFalse\u001b[39;00m)\n\u001b[1;32m     64\u001b[0m     )\n",
      "File \u001b[0;32m/usr/local/lib/python3.10/dist-packages/playwright/_impl/_connection.py:492\u001b[0m, in \u001b[0;36mConnection.wrap_api_call\u001b[0;34m(self, cb, is_internal)\u001b[0m\n\u001b[1;32m    490\u001b[0m \u001b[38;5;28mself\u001b[39m\u001b[38;5;241m.\u001b[39m_api_zone\u001b[38;5;241m.\u001b[39mset(_extract_stack_trace_information_from_stack(st, is_internal))\n\u001b[1;32m    491\u001b[0m \u001b[38;5;28;01mtry\u001b[39;00m:\n\u001b[0;32m--> 492\u001b[0m     \u001b[38;5;28;01mreturn\u001b[39;00m \u001b[38;5;28;01mawait\u001b[39;00m cb()\n\u001b[1;32m    493\u001b[0m \u001b[38;5;28;01mfinally\u001b[39;00m:\n\u001b[1;32m    494\u001b[0m     \u001b[38;5;28mself\u001b[39m\u001b[38;5;241m.\u001b[39m_api_zone\u001b[38;5;241m.\u001b[39mset(\u001b[38;5;28;01mNone\u001b[39;00m)\n",
      "File \u001b[0;32m/usr/local/lib/python3.10/dist-packages/playwright/_impl/_connection.py:91\u001b[0m, in \u001b[0;36mChannel.inner_send\u001b[0;34m(self, method, params, return_as_dict)\u001b[0m\n\u001b[1;32m     89\u001b[0m     \u001b[38;5;28mself\u001b[39m\u001b[38;5;241m.\u001b[39m_connection\u001b[38;5;241m.\u001b[39m_error \u001b[38;5;241m=\u001b[39m \u001b[38;5;28;01mNone\u001b[39;00m\n\u001b[1;32m     90\u001b[0m     \u001b[38;5;28;01mraise\u001b[39;00m error\n\u001b[0;32m---> 91\u001b[0m done, _ \u001b[38;5;241m=\u001b[39m \u001b[38;5;28;01mawait\u001b[39;00m asyncio\u001b[38;5;241m.\u001b[39mwait(\n\u001b[1;32m     92\u001b[0m     {\n\u001b[1;32m     93\u001b[0m         \u001b[38;5;28mself\u001b[39m\u001b[38;5;241m.\u001b[39m_connection\u001b[38;5;241m.\u001b[39m_transport\u001b[38;5;241m.\u001b[39mon_error_future,\n\u001b[1;32m     94\u001b[0m         callback\u001b[38;5;241m.\u001b[39mfuture,\n\u001b[1;32m     95\u001b[0m     },\n\u001b[1;32m     96\u001b[0m     return_when\u001b[38;5;241m=\u001b[39masyncio\u001b[38;5;241m.\u001b[39mFIRST_COMPLETED,\n\u001b[1;32m     97\u001b[0m )\n\u001b[1;32m     98\u001b[0m \u001b[38;5;28;01mif\u001b[39;00m \u001b[38;5;129;01mnot\u001b[39;00m callback\u001b[38;5;241m.\u001b[39mfuture\u001b[38;5;241m.\u001b[39mdone():\n\u001b[1;32m     99\u001b[0m     callback\u001b[38;5;241m.\u001b[39mfuture\u001b[38;5;241m.\u001b[39mcancel()\n",
      "File \u001b[0;32m/usr/lib/python3.10/asyncio/tasks.py:384\u001b[0m, in \u001b[0;36mwait\u001b[0;34m(fs, timeout, return_when)\u001b[0m\n\u001b[1;32m    377\u001b[0m     warnings\u001b[38;5;241m.\u001b[39mwarn(\u001b[38;5;124m\"\u001b[39m\u001b[38;5;124mThe explicit passing of coroutine objects to \u001b[39m\u001b[38;5;124m\"\u001b[39m\n\u001b[1;32m    378\u001b[0m                   \u001b[38;5;124m\"\u001b[39m\u001b[38;5;124masyncio.wait() is deprecated since Python 3.8, and \u001b[39m\u001b[38;5;124m\"\u001b[39m\n\u001b[1;32m    379\u001b[0m                   \u001b[38;5;124m\"\u001b[39m\u001b[38;5;124mscheduled for removal in Python 3.11.\u001b[39m\u001b[38;5;124m\"\u001b[39m,\n\u001b[1;32m    380\u001b[0m                   \u001b[38;5;167;01mDeprecationWarning\u001b[39;00m, stacklevel\u001b[38;5;241m=\u001b[39m\u001b[38;5;241m2\u001b[39m)\n\u001b[1;32m    382\u001b[0m fs \u001b[38;5;241m=\u001b[39m {ensure_future(f, loop\u001b[38;5;241m=\u001b[39mloop) \u001b[38;5;28;01mfor\u001b[39;00m f \u001b[38;5;129;01min\u001b[39;00m fs}\n\u001b[0;32m--> 384\u001b[0m \u001b[38;5;28;01mreturn\u001b[39;00m \u001b[38;5;28;01mawait\u001b[39;00m _wait(fs, timeout, return_when, loop)\n",
      "File \u001b[0;32m/usr/lib/python3.10/asyncio/tasks.py:491\u001b[0m, in \u001b[0;36m_wait\u001b[0;34m(fs, timeout, return_when, loop)\u001b[0m\n\u001b[1;32m    488\u001b[0m     f\u001b[38;5;241m.\u001b[39madd_done_callback(_on_completion)\n\u001b[1;32m    490\u001b[0m \u001b[38;5;28;01mtry\u001b[39;00m:\n\u001b[0;32m--> 491\u001b[0m     \u001b[38;5;28;01mawait\u001b[39;00m waiter\n\u001b[1;32m    492\u001b[0m \u001b[38;5;28;01mfinally\u001b[39;00m:\n\u001b[1;32m    493\u001b[0m     \u001b[38;5;28;01mif\u001b[39;00m timeout_handle \u001b[38;5;129;01mis\u001b[39;00m \u001b[38;5;129;01mnot\u001b[39;00m \u001b[38;5;28;01mNone\u001b[39;00m:\n",
      "\u001b[0;31mCancelledError\u001b[0m: "
     ]
    }
   ],
   "source": [
    "\n",
    "file_urls = 'data/blocklist/all_urls_pos.txt'\n",
    "file_output = 'data/blocklist/pos_raw.txt'\n",
    "dead_urls_output = 'data/blocklist/dead_urls_pos.txt'\n",
    "\n",
    "def write_dead(url):\n",
    "    with open(dead_urls_output, \"a\") as out_file:\n",
    "        out_file.write(url+\"\\n\")\n",
    "\n",
    "TIMEOUT = 20\n",
    "SAVE_THRES = 1\n",
    "WORD_THRES = 50\n",
    "async def run():\n",
    "    contents = []\n",
    "    async with async_playwright() as p:\n",
    "        browser = await p.chromium.launch()\n",
    "        context = await browser.new_context()\n",
    "        page = await context.new_page()\n",
    "        await page.set_extra_http_headers({\n",
    "            'User-Agent': 'Mozilla/5.0 (Windows NT 10.0; Win64; x64) AppleWebKit/537.36 (KHTML, like Gecko) Chrome/58.0.3029.110 Safari/537.3',\n",
    "            'Accept-Language': 'en-US,en;q=0.5'\n",
    "        })\n",
    "\n",
    "        with open(file_urls, 'r') as file:\n",
    "            urls = file.readlines()\n",
    "        \n",
    "        # 780\n",
    "        # 761\n",
    "        # 32\n",
    "        i = 2121\n",
    "        urls = urls[2121:]\n",
    "        for url in tqdm(urls, desc=\"Fetching URLs\"):\n",
    "            url = url.strip() # Remove whitespace/newlines\n",
    "\n",
    "            # fetch content \n",
    "            content = \"\"\n",
    "            try:\n",
    "                await page.goto(\"https://\"+url, timeout=TIMEOUT*1000)\n",
    "                content = await page.content()\n",
    "                soup = BeautifulSoup(content, \"html.parser\")\n",
    "                content = soup.get_text(strip=True)\n",
    "            except Exception as e:\n",
    "                write_dead(url)\n",
    "                print(f\"Error fetching {url}: {e}\")\n",
    "                continue\n",
    "            \n",
    "            if content and len(content.split()) > WORD_THRES:\n",
    "                content = re.sub(r'[^\\w .,;:!?\"\\'-]', ' ', content, flags=re.UNICODE)\n",
    "                content = re.sub(r'\\s+', ' ', content) # compress multiple spaces into one\n",
    "                content = content.strip()\n",
    "                contents.append(content)\n",
    "                i += 1\n",
    "            \n",
    "                if i % SAVE_THRES == 0:\n",
    "                    with open(file_output, \"a\") as out_file:\n",
    "                        out_file.write(\"\\n\\n\".join(contents) + \"\\n\\n\")\n",
    "                    contents = []\n",
    "            else:\n",
    "                write_dead(url)\n",
    "\n",
    "\n",
    "        await context.close()\n",
    "        await browser.close()\n",
    "\n",
    "await run()"
   ]
  },
  {
   "cell_type": "code",
   "execution_count": 10,
   "metadata": {},
   "outputs": [
    {
     "name": "stdout",
     "output_type": "stream",
     "text": [
      "868\n",
      "612\n",
      "256\n"
     ]
    }
   ],
   "source": [
    "INPUT_ALL = \"data/all_urls_pos.txt\"\n",
    "INPUT_DEAD = \"data/dead_urls_pos.txt\"\n",
    "OUTPUT = \"data/alive_urls_pos.txt\"\n",
    "\n",
    "\n",
    "with open(INPUT_ALL, \"r\") as input_file:\n",
    "    all_urls = input_file.readlines()\n",
    "\n",
    "with open(INPUT_DEAD, \"r\") as dead_file:\n",
    "    dead_urls = dead_file.readlines()\n",
    "\n",
    "\n",
    "\n",
    "alive = list(set(all_urls).difference(set(dead_urls)))\n",
    "\n",
    "print(len(all_urls))\n",
    "print(len(dead_urls))\n",
    "print(len(alive))\n",
    "\n",
    "with open(OUTPUT, \"w\") as out_file:\n",
    "    out_file.write(\"\".join(alive))\n"
   ]
  }
 ],
 "metadata": {
  "kernelspec": {
   "display_name": "Python 3 (ipykernel)",
   "language": "python",
   "name": "python3"
  },
  "language_info": {
   "codemirror_mode": {
    "name": "ipython",
    "version": 3
   },
   "file_extension": ".py",
   "mimetype": "text/x-python",
   "name": "python",
   "nbconvert_exporter": "python",
   "pygments_lexer": "ipython3",
   "version": "3.10.12"
  }
 },
 "nbformat": 4,
 "nbformat_minor": 2
}
