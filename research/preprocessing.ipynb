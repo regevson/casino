{
 "cells": [
  {
   "cell_type": "code",
   "execution_count": 1,
   "metadata": {},
   "outputs": [
    {
     "name": "stderr",
     "output_type": "stream",
     "text": [
      "[nltk_data] Downloading package stopwords to /root/nltk_data...\n",
      "[nltk_data]   Package stopwords is already up-to-date!\n",
      "[nltk_data] Downloading package words to /root/nltk_data...\n",
      "[nltk_data]   Package words is already up-to-date!\n"
     ]
    },
    {
     "data": {
      "text/plain": [
       "True"
      ]
     },
     "execution_count": 1,
     "metadata": {},
     "output_type": "execute_result"
    }
   ],
   "source": [
    "import numpy as np\n",
    "import pandas as pd\n",
    "import requests\n",
    "from bs4 import BeautifulSoup\n",
    "import re\n",
    "from tqdm import tqdm\n",
    "from playwright.async_api import async_playwright\n",
    "\n",
    "import nltk\n",
    "from nltk.corpus import stopwords\n",
    "from nltk.corpus import words as english_words\n",
    "nltk.download('stopwords')\n",
    "nltk.download('words')"
   ]
  },
  {
   "cell_type": "markdown",
   "metadata": {},
   "source": [
    "## Casino List\n",
    "- https://www.casinoslists.com/casinos/best\n",
    "- https://www.casinofreak.com/reviews/all-online-casinos\n",
    "- https://casinoalpha.com/online-casinos/list/page/2/\n",
    "- https://www.nonstopbonus.com/new-online-casinos\n",
    "- https://list.casino/\n",
    "- https://lcb.org/casinos"
   ]
  },
  {
   "cell_type": "code",
   "execution_count": 2,
   "metadata": {},
   "outputs": [],
   "source": [
    "headers = {\n",
    "    'User-Agent': 'Mozilla/5.0 (Windows NT 10.0; Win64; x64) AppleWebKit/537.36 (KHTML, like Gecko) Chrome/58.0.3029.110 Safari/537.3',\n",
    "    'Accept-Language': 'en-US,en;q=0.5'\n",
    "}"
   ]
  },
  {
   "cell_type": "raw",
   "metadata": {
    "vscode": {
     "languageId": "python"
    }
   },
   "source": [
    "# Scrape casino lists for urls\n",
    "idx = 0\n",
    "urls = []\n",
    "\n",
    "while True:\n",
    "    idx += 1\n",
    "    print(idx)\n",
    "    url = f\"https://lcb.org/partial/sites/list?&order[rating]=DESC&region=at&page={idx}&show_hidden=true\"\n",
    "    response = requests.get(url, headers=headers)\n",
    "    if not response.ok:\n",
    "        break\n",
    "\n",
    "    soup = BeautifulSoup(response.content, 'html.parser')\n",
    "    div_elements = soup.find_all('div', class_='table-cell logo casino')\n",
    "\n",
    "    for div in div_elements:\n",
    "        link = div.find('a')\n",
    "        if link:\n",
    "            print(\"appended\", link.get('href'))\n",
    "            urls.append(link.get('href'))\n",
    "\n",
    "print(urls)"
   ]
  },
  {
   "cell_type": "raw",
   "metadata": {
    "vscode": {
     "languageId": "python"
    }
   },
   "source": [
    "# remove duplicate urls and save them to file\n",
    "print(len(urls))\n",
    "urls = list(set(links))\n",
    "with open('data/urls.txt', 'w') as file:\n",
    "    for url in links:\n",
    "        file.write(url + '\\n')\n",
    "print(len(urls))"
   ]
  },
  {
   "cell_type": "raw",
   "metadata": {
    "vscode": {
     "languageId": "python"
    }
   },
   "source": [
    "# open urls from file\n",
    "return\n",
    "with open('data/urls_negatives.txt', 'r') as file:\n",
    "    urls = [line.strip() for line in file]"
   ]
  },
  {
   "cell_type": "raw",
   "metadata": {
    "vscode": {
     "languageId": "python"
    }
   },
   "source": [
    "# take urls and download website content\n",
    "\n",
    "return\n",
    "df = pd.DataFrame([], columns=['text'])\n",
    "dest_file_name = \"positives\"\n",
    "\n",
    "content = []\n",
    "idx = 0\n",
    "for url in tqdm(urls, desc=\"Processing urls\"):\n",
    "    try:\n",
    "        response = requests.get(\"http://\" + url, headers=headers)\n",
    "        if response.ok:\n",
    "            soup = BeautifulSoup(response.content, 'html.parser')\n",
    "            txt = soup.get_text().replace(\"\\n\", \"\")\n",
    "            if len(txt) > 50:\n",
    "                content.append(txt)\n",
    "                print(txt)\n",
    "                idx += 1\n",
    "                if idx % 30 == 0:\n",
    "                    df_new = pd.DataFrame(content, columns=['text'])\n",
    "                    df = pd.concat([df, df_new], ignore_index=True)\n",
    "                    df.to_csv(f'data/{dest_file_name}.csv', index=False)\n",
    "                    content = []\n",
    "                    idx = 0\n",
    "    except Exception as e:\n",
    "        print(f\"An error occurred: {str(e)}\")\n"
   ]
  },
  {
   "cell_type": "raw",
   "metadata": {},
   "source": [
    "with open('data/positives.csv', 'r') as file:\n",
    "    lines = file.readlines()\n",
    "\n",
    "# Apply changes to each line\n",
    "for i in range(len(lines)):\n",
    "    lines[i] = lines[i].replace('\\r', '')\n",
    "    lines[i] = lines[i].replace('\"', '')\n",
    "    lines[i] = re.sub(r' +', ' ', lines[i])\n",
    "    lines[i] = lines[i].strip(' ')\n",
    "    lines[i] = lines[i].replace(',', '')\n",
    "    lines[i] = lines[i].replace('\\n', '')\n",
    "    lines[i] = lines[i] + \"\\n\"\n",
    "\n",
    "with open('positives_clean.csv', 'w') as file:\n",
    "    file.writelines(lines)\n"
   ]
  },
  {
   "cell_type": "code",
   "execution_count": 3,
   "metadata": {},
   "outputs": [
    {
     "data": {
      "text/html": [
       "<div>\n",
       "<style scoped>\n",
       "    .dataframe tbody tr th:only-of-type {\n",
       "        vertical-align: middle;\n",
       "    }\n",
       "\n",
       "    .dataframe tbody tr th {\n",
       "        vertical-align: top;\n",
       "    }\n",
       "\n",
       "    .dataframe thead th {\n",
       "        text-align: right;\n",
       "    }\n",
       "</style>\n",
       "<table border=\"1\" class=\"dataframe\">\n",
       "  <thead>\n",
       "    <tr style=\"text-align: right;\">\n",
       "      <th></th>\n",
       "      <th>text</th>\n",
       "      <th>label</th>\n",
       "    </tr>\n",
       "  </thead>\n",
       "  <tbody>\n",
       "    <tr>\n",
       "      <th>0</th>\n",
       "      <td>SISportsbook | Sports Betting Odds | Bet $10 G...</td>\n",
       "      <td>1</td>\n",
       "    </tr>\n",
       "    <tr>\n",
       "      <th>1</th>\n",
       "      <td>Online Sportsbook | Bet Online | Online Sports...</td>\n",
       "      <td>1</td>\n",
       "    </tr>\n",
       "    <tr>\n",
       "      <th>2</th>\n",
       "      <td>FanDuel | Daily Fantasy Sports and Online U.S....</td>\n",
       "      <td>1</td>\n",
       "    </tr>\n",
       "    <tr>\n",
       "      <th>3</th>\n",
       "      <td>To view this video please enable JavaScript an...</td>\n",
       "      <td>1</td>\n",
       "    </tr>\n",
       "    <tr>\n",
       "      <th>4</th>\n",
       "      <td>web browser that</td>\n",
       "      <td>1</td>\n",
       "    </tr>\n",
       "    <tr>\n",
       "      <th>...</th>\n",
       "      <td>...</td>\n",
       "      <td>...</td>\n",
       "    </tr>\n",
       "    <tr>\n",
       "      <th>3417</th>\n",
       "      <td>Free Podcast Hosting - Buzzsprout Buzzsprout m...</td>\n",
       "      <td>0</td>\n",
       "    </tr>\n",
       "    <tr>\n",
       "      <th>3418</th>\n",
       "      <td>ORCID Please enable JavaScript to continue usi...</td>\n",
       "      <td>0</td>\n",
       "    </tr>\n",
       "    <tr>\n",
       "      <th>3419</th>\n",
       "      <td>Discover Top Blogs &amp; Best Websites in 2023 - F...</td>\n",
       "      <td>0</td>\n",
       "    </tr>\n",
       "    <tr>\n",
       "      <th>3420</th>\n",
       "      <td>Google AR &amp; VR | Home OverviewNews &amp; Announcem...</td>\n",
       "      <td>0</td>\n",
       "    </tr>\n",
       "    <tr>\n",
       "      <th>3421</th>\n",
       "      <td>Opinion - Opinionator - The New York Times Sec...</td>\n",
       "      <td>0</td>\n",
       "    </tr>\n",
       "  </tbody>\n",
       "</table>\n",
       "<p>3422 rows × 2 columns</p>\n",
       "</div>"
      ],
      "text/plain": [
       "                                                   text  label\n",
       "0     SISportsbook | Sports Betting Odds | Bet $10 G...      1\n",
       "1     Online Sportsbook | Bet Online | Online Sports...      1\n",
       "2     FanDuel | Daily Fantasy Sports and Online U.S....      1\n",
       "3     To view this video please enable JavaScript an...      1\n",
       "4                                      web browser that      1\n",
       "...                                                 ...    ...\n",
       "3417  Free Podcast Hosting - Buzzsprout Buzzsprout m...      0\n",
       "3418  ORCID Please enable JavaScript to continue usi...      0\n",
       "3419  Discover Top Blogs & Best Websites in 2023 - F...      0\n",
       "3420  Google AR & VR | Home OverviewNews & Announcem...      0\n",
       "3421  Opinion - Opinionator - The New York Times Sec...      0\n",
       "\n",
       "[3422 rows x 2 columns]"
      ]
     },
     "execution_count": 3,
     "metadata": {},
     "output_type": "execute_result"
    }
   ],
   "source": [
    "df_pos = pd.read_csv('data/positives_clean.csv', lineterminator='\\n')\n",
    "df_neg = pd.read_csv('data/negatives_clean.csv', lineterminator='\\n')\n",
    "\n",
    "df_pos['label'] = 1\n",
    "df_neg['label'] = 0\n",
    "\n",
    "df = pd.concat([df_pos, df_neg], ignore_index=True)\n",
    "df"
   ]
  },
  {
   "cell_type": "code",
   "execution_count": 4,
   "metadata": {},
   "outputs": [
    {
     "name": "stdout",
     "output_type": "stream",
     "text": [
      "len 3422\n",
      "len 1070\n"
     ]
    },
    {
     "data": {
      "text/html": [
       "<div>\n",
       "<style scoped>\n",
       "    .dataframe tbody tr th:only-of-type {\n",
       "        vertical-align: middle;\n",
       "    }\n",
       "\n",
       "    .dataframe tbody tr th {\n",
       "        vertical-align: top;\n",
       "    }\n",
       "\n",
       "    .dataframe thead th {\n",
       "        text-align: right;\n",
       "    }\n",
       "</style>\n",
       "<table border=\"1\" class=\"dataframe\">\n",
       "  <thead>\n",
       "    <tr style=\"text-align: right;\">\n",
       "      <th></th>\n",
       "      <th>text</th>\n",
       "      <th>label</th>\n",
       "    </tr>\n",
       "  </thead>\n",
       "  <tbody>\n",
       "    <tr>\n",
       "      <th>0</th>\n",
       "      <td>sisportsbook | sports betting odds | bet $10 g...</td>\n",
       "      <td>1</td>\n",
       "    </tr>\n",
       "    <tr>\n",
       "      <th>1</th>\n",
       "      <td>online sportsbook | bet online | online sports...</td>\n",
       "      <td>1</td>\n",
       "    </tr>\n",
       "    <tr>\n",
       "      <th>2</th>\n",
       "      <td>fanduel | daily fantasy sports and online u.s....</td>\n",
       "      <td>1</td>\n",
       "    </tr>\n",
       "    <tr>\n",
       "      <th>5</th>\n",
       "      <td>supports html5 videoskipnew customersbet $5 ge...</td>\n",
       "      <td>1</td>\n",
       "    </tr>\n",
       "    <tr>\n",
       "      <th>6</th>\n",
       "      <td>malta sunsetsign inbeginning on 22 january 202...</td>\n",
       "      <td>1</td>\n",
       "    </tr>\n",
       "    <tr>\n",
       "      <th>...</th>\n",
       "      <td>...</td>\n",
       "      <td>...</td>\n",
       "    </tr>\n",
       "    <tr>\n",
       "      <th>3416</th>\n",
       "      <td>online community for artists [pixiv] pixiv has...</td>\n",
       "      <td>0</td>\n",
       "    </tr>\n",
       "    <tr>\n",
       "      <th>3417</th>\n",
       "      <td>free podcast hosting - buzzsprout buzzsprout m...</td>\n",
       "      <td>0</td>\n",
       "    </tr>\n",
       "    <tr>\n",
       "      <th>3419</th>\n",
       "      <td>discover top blogs &amp; best websites in 2023 - f...</td>\n",
       "      <td>0</td>\n",
       "    </tr>\n",
       "    <tr>\n",
       "      <th>3420</th>\n",
       "      <td>google ar &amp; vr | home overviewnews &amp; announcem...</td>\n",
       "      <td>0</td>\n",
       "    </tr>\n",
       "    <tr>\n",
       "      <th>3421</th>\n",
       "      <td>opinion - opinionator - the new york times sec...</td>\n",
       "      <td>0</td>\n",
       "    </tr>\n",
       "  </tbody>\n",
       "</table>\n",
       "<p>1070 rows × 2 columns</p>\n",
       "</div>"
      ],
      "text/plain": [
       "                                                   text  label\n",
       "0     sisportsbook | sports betting odds | bet $10 g...      1\n",
       "1     online sportsbook | bet online | online sports...      1\n",
       "2     fanduel | daily fantasy sports and online u.s....      1\n",
       "5     supports html5 videoskipnew customersbet $5 ge...      1\n",
       "6     malta sunsetsign inbeginning on 22 january 202...      1\n",
       "...                                                 ...    ...\n",
       "3416  online community for artists [pixiv] pixiv has...      0\n",
       "3417  free podcast hosting - buzzsprout buzzsprout m...      0\n",
       "3419  discover top blogs & best websites in 2023 - f...      0\n",
       "3420  google ar & vr | home overviewnews & announcem...      0\n",
       "3421  opinion - opinionator - the new york times sec...      0\n",
       "\n",
       "[1070 rows x 2 columns]"
      ]
     },
     "execution_count": 4,
     "metadata": {},
     "output_type": "execute_result"
    }
   ],
   "source": [
    "print(\"len\", len(df))\n",
    "df['text'] = df['text'].apply(lambda x: x.lower())\n",
    "df.loc[:, 'word_count'] = df['text'].str.split().str.len()\n",
    "df = df[df['word_count'] >= 30]\n",
    "df = df.drop(columns=['word_count'])\n",
    "print(\"len\", len(df))\n",
    "df"
   ]
  },
  {
   "cell_type": "code",
   "execution_count": 7,
   "metadata": {},
   "outputs": [
    {
     "name": "stdout",
     "output_type": "stream",
     "text": [
      "Casino Blocker\n"
     ]
    }
   ],
   "source": [
    "from playwright.async_api import async_playwright\n",
    "import asyncio\n",
    "\n",
    "async def run():\n",
    "    async with async_playwright() as p:\n",
    "        browser = await p.chromium.launch()\n",
    "        page = await browser.new_page()\n",
    "        await page.goto('https://casino.regevson.com')\n",
    "        print(await page.title())\n",
    "        await browser.close()\n",
    "\n",
    "await run()"
   ]
  },
  {
   "cell_type": "code",
   "execution_count": 2,
   "metadata": {},
   "outputs": [
    {
     "name": "stderr",
     "output_type": "stream",
     "text": [
      "Fetching URLs:   0%|          | 1/487 [00:10<1:21:18, 10.04s/it]"
     ]
    },
    {
     "name": "stdout",
     "output_type": "stream",
     "text": [
      "Error fetching www.lotto-berlin.de: Timeout 10000ms exceeded.\n"
     ]
    },
    {
     "name": "stderr",
     "output_type": "stream",
     "text": [
      "Fetching URLs:   0%|          | 2/487 [00:20<1:21:13, 10.05s/it]"
     ]
    },
    {
     "name": "stdout",
     "output_type": "stream",
     "text": [
      "Error fetching www.lotto-brandenburg.de: Timeout 10000ms exceeded.\n"
     ]
    },
    {
     "name": "stderr",
     "output_type": "stream",
     "text": [
      "Fetching URLs:   1%|          | 3/487 [00:30<1:21:03, 10.05s/it]"
     ]
    },
    {
     "name": "stdout",
     "output_type": "stream",
     "text": [
      "Error fetching www.lotto-bremen.de: Timeout 10000ms exceeded.\n"
     ]
    },
    {
     "name": "stderr",
     "output_type": "stream",
     "text": [
      "Fetching URLs:   1%|          | 5/487 [00:40<52:11,  6.50s/it]  "
     ]
    },
    {
     "name": "stdout",
     "output_type": "stream",
     "text": [
      "Error fetching www.lotto-bw.de: Timeout 10000ms exceeded.\n",
      "Error fetching www.lotto-centrum.com: net::ERR_CERT_COMMON_NAME_INVALID at https://www.lotto-centrum.com/\n"
     ]
    },
    {
     "name": "stderr",
     "output_type": "stream",
     "text": [
      "Fetching URLs:   1%|          | 6/487 [00:50<1:01:44,  7.70s/it]"
     ]
    },
    {
     "name": "stdout",
     "output_type": "stream",
     "text": [
      "Error fetching www.lotto-hessen.de: Timeout 10000ms exceeded.\n"
     ]
    },
    {
     "name": "stderr",
     "output_type": "stream",
     "text": [
      "Fetching URLs:   1%|▏         | 7/487 [01:00<1:07:48,  8.48s/it]"
     ]
    },
    {
     "name": "stdout",
     "output_type": "stream",
     "text": [
      "Error fetching www.lotto-hh.de: Timeout 10000ms exceeded.\n"
     ]
    },
    {
     "name": "stderr",
     "output_type": "stream",
     "text": [
      "Fetching URLs:   2%|▏         | 8/487 [01:10<1:11:40,  8.98s/it]"
     ]
    },
    {
     "name": "stdout",
     "output_type": "stream",
     "text": [
      "Error fetching www.lotto-rlp.de: Timeout 10000ms exceeded.\n"
     ]
    },
    {
     "name": "stderr",
     "output_type": "stream",
     "text": [
      "Fetching URLs:   2%|▏         | 9/487 [01:20<1:14:10,  9.31s/it]"
     ]
    },
    {
     "name": "stdout",
     "output_type": "stream",
     "text": [
      "Error fetching www.lotto-sh.de: Timeout 10000ms exceeded.\n"
     ]
    },
    {
     "name": "stderr",
     "output_type": "stream",
     "text": [
      "Fetching URLs:   2%|▏         | 10/487 [01:30<1:15:47,  9.53s/it]"
     ]
    },
    {
     "name": "stdout",
     "output_type": "stream",
     "text": [
      "Error fetching www.lotto-thueringen.de: Timeout 10000ms exceeded.\n"
     ]
    },
    {
     "name": "stderr",
     "output_type": "stream",
     "text": [
      "Fetching URLs:   2%|▏         | 11/487 [01:30<53:16,  6.71s/it]  "
     ]
    },
    {
     "name": "stdout",
     "output_type": "stream",
     "text": [
      "Error fetching www.lotto.cn: net::ERR_NAME_NOT_RESOLVED at https://www.lotto.cn/\n"
     ]
    },
    {
     "name": "stderr",
     "output_type": "stream",
     "text": [
      "Fetching URLs:   3%|▎         | 13/487 [01:32<29:11,  3.70s/it]"
     ]
    },
    {
     "name": "stdout",
     "output_type": "stream",
     "text": [
      "Error fetching www.lotto.mthai.com: net::ERR_NAME_NOT_RESOLVED at https://www.lotto.mthai.com/\n"
     ]
    },
    {
     "name": "stderr",
     "output_type": "stream",
     "text": [
      "Fetching URLs:   3%|▎         | 16/487 [01:35<13:28,  1.72s/it]"
     ]
    },
    {
     "name": "stdout",
     "output_type": "stream",
     "text": [
      "Error fetching www.lotto24bingo.com: net::ERR_CERT_COMMON_NAME_INVALID at https://www.lotto24bingo.com/\n"
     ]
    },
    {
     "name": "stderr",
     "output_type": "stream",
     "text": [
      "Fetching URLs:   3%|▎         | 17/487 [01:36<10:59,  1.40s/it]"
     ]
    },
    {
     "name": "stdout",
     "output_type": "stream",
     "text": [
      "Error fetching www.lsbet690.com: net::ERR_NAME_NOT_RESOLVED at https://www.lsbet690.com/\n"
     ]
    },
    {
     "name": "stderr",
     "output_type": "stream",
     "text": [
      "Fetching URLs:   5%|▍         | 24/487 [01:50<11:25,  1.48s/it]"
     ]
    },
    {
     "name": "stdout",
     "output_type": "stream",
     "text": [
      "Error fetching www.lutrija.co.me: net::ERR_CERT_AUTHORITY_INVALID at https://www.lutrija.co.me/\n"
     ]
    },
    {
     "name": "stderr",
     "output_type": "stream",
     "text": [
      "Fetching URLs:   6%|▌         | 27/487 [02:00<18:02,  2.35s/it]"
     ]
    },
    {
     "name": "stdout",
     "output_type": "stream",
     "text": [
      "Error fetching www.luxbet.com: net::ERR_NAME_NOT_RESOLVED at https://www.luxbet.com/\n"
     ]
    },
    {
     "name": "stderr",
     "output_type": "stream",
     "text": [
      "Fetching URLs:   6%|▌         | 29/487 [02:13<37:28,  4.91s/it]"
     ]
    },
    {
     "name": "stdout",
     "output_type": "stream",
     "text": [
      "Error fetching www.m8poker.com: Timeout 10000ms exceeded.\n"
     ]
    },
    {
     "name": "stderr",
     "output_type": "stream",
     "text": [
      "Fetching URLs:   7%|▋         | 32/487 [02:21<25:05,  3.31s/it]"
     ]
    },
    {
     "name": "stdout",
     "output_type": "stream",
     "text": [
      "Error fetching www.macauslot.com: Unable to retrieve content because the page is navigating and changing the content.\n"
     ]
    },
    {
     "name": "stderr",
     "output_type": "stream",
     "text": [
      "Fetching URLs:   7%|▋         | 33/487 [02:31<40:16,  5.32s/it]"
     ]
    },
    {
     "name": "stdout",
     "output_type": "stream",
     "text": [
      "Error fetching www.magicbet.com: Timeout 10000ms exceeded.\n"
     ]
    },
    {
     "name": "stderr",
     "output_type": "stream",
     "text": [
      "Fetching URLs:   7%|▋         | 36/487 [02:40<26:44,  3.56s/it]"
     ]
    },
    {
     "name": "stdout",
     "output_type": "stream",
     "text": [
      "Error fetching www.majorbet.net: net::ERR_CERT_COMMON_NAME_INVALID at https://www.majorbet.net/\n"
     ]
    },
    {
     "name": "stderr",
     "output_type": "stream",
     "text": [
      "Fetching URLs:   8%|▊         | 40/487 [02:46<16:24,  2.20s/it]"
     ]
    },
    {
     "name": "stdout",
     "output_type": "stream",
     "text": [
      "Error fetching www.mansion88.com: net::ERR_CERT_DATE_INVALID at https://www.mansion88.com/\n"
     ]
    },
    {
     "name": "stderr",
     "output_type": "stream",
     "text": [
      "Fetching URLs:  10%|▉         | 47/487 [03:04<11:00,  1.50s/it]"
     ]
    },
    {
     "name": "stdout",
     "output_type": "stream",
     "text": [
      "Error fetching www.marsbet12.com: net::ERR_NAME_NOT_RESOLVED at https://www.marsbet12.com/\n",
      "Error fetching www.marsbet200.com: net::ERR_NAME_NOT_RESOLVED at https://www.marsbet200.com/\n"
     ]
    },
    {
     "name": "stderr",
     "output_type": "stream",
     "text": [
      "Fetching URLs:  10%|█         | 49/487 [03:05<05:53,  1.24it/s]"
     ]
    },
    {
     "name": "stdout",
     "output_type": "stream",
     "text": [
      "Error fetching www.marsbet300.com: net::ERR_NAME_NOT_RESOLVED at https://www.marsbet300.com/\n",
      "Error fetching www.marsbet400.com: net::ERR_NAME_NOT_RESOLVED at https://www.marsbet400.com/\n"
     ]
    },
    {
     "name": "stderr",
     "output_type": "stream",
     "text": [
      "Fetching URLs:  10%|█         | 50/487 [03:05<04:40,  1.56it/s]"
     ]
    },
    {
     "name": "stdout",
     "output_type": "stream",
     "text": [
      "Error fetching www.masuk4d.com: net::ERR_CERT_COMMON_NAME_INVALID at https://www.masuk4d.com/\n"
     ]
    },
    {
     "name": "stderr",
     "output_type": "stream",
     "text": [
      "Fetching URLs:  11%|█         | 52/487 [03:15<24:40,  3.40s/it]"
     ]
    },
    {
     "name": "stdout",
     "output_type": "stream",
     "text": [
      "Error fetching www.maxbet.id: Timeout 10000ms exceeded.\n"
     ]
    },
    {
     "name": "stderr",
     "output_type": "stream",
     "text": [
      "Fetching URLs:  11%|█▏        | 56/487 [03:25<15:30,  2.16s/it]"
     ]
    },
    {
     "name": "stdout",
     "output_type": "stream",
     "text": [
      "Error fetching www.maxbetmaxbetmaxbet.com: net::ERR_CERT_COMMON_NAME_INVALID at https://www.maxbetmaxbetmaxbet.com/\n"
     ]
    },
    {
     "name": "stderr",
     "output_type": "stream",
     "text": [
      "Fetching URLs:  12%|█▏        | 57/487 [03:27<14:59,  2.09s/it]"
     ]
    },
    {
     "name": "stdout",
     "output_type": "stream",
     "text": [
      "Error fetching www.mayansports.eu: net::ERR_NAME_NOT_RESOLVED at https://www.mayansports.eu/\n"
     ]
    },
    {
     "name": "stderr",
     "output_type": "stream",
     "text": [
      "Fetching URLs:  13%|█▎        | 62/487 [03:35<12:59,  1.83s/it]"
     ]
    },
    {
     "name": "stdout",
     "output_type": "stream",
     "text": [
      "Error fetching www.megasportsworld.com: net::ERR_CERT_DATE_INVALID at https://www.megasportsworld.com/\n"
     ]
    },
    {
     "name": "stderr",
     "output_type": "stream",
     "text": [
      "Fetching URLs:  13%|█▎        | 65/487 [03:37<07:26,  1.06s/it]"
     ]
    },
    {
     "name": "stdout",
     "output_type": "stream",
     "text": [
      "Error fetching www.metspoker.com: net::ERR_SSL_VERSION_OR_CIPHER_MISMATCH at https://www.metspoker.com/\n"
     ]
    },
    {
     "name": "stderr",
     "output_type": "stream",
     "text": [
      "Fetching URLs:  14%|█▍        | 69/487 [03:44<08:01,  1.15s/it]"
     ]
    },
    {
     "name": "stdout",
     "output_type": "stream",
     "text": [
      "Error fetching www.miamidicecasino.com: net::ERR_CONNECTION_REFUSED at https://www.miamidicecasino.com/\n"
     ]
    },
    {
     "name": "stderr",
     "output_type": "stream",
     "text": [
      "Fetching URLs:  14%|█▍        | 70/487 [03:54<26:27,  3.81s/it]"
     ]
    },
    {
     "name": "stdout",
     "output_type": "stream",
     "text": [
      "Error fetching www.middlebet.com: Timeout 10000ms exceeded.\n"
     ]
    },
    {
     "name": "stderr",
     "output_type": "stream",
     "text": [
      "Fetching URLs:  15%|█▍        | 73/487 [04:07<34:08,  4.95s/it]"
     ]
    },
    {
     "name": "stdout",
     "output_type": "stream",
     "text": [
      "Error fetching www.mobilbet.com: Timeout 10000ms exceeded.\n"
     ]
    },
    {
     "name": "stderr",
     "output_type": "stream",
     "text": [
      "Fetching URLs:  15%|█▌        | 75/487 [04:20<41:42,  6.07s/it]"
     ]
    },
    {
     "name": "stdout",
     "output_type": "stream",
     "text": [
      "Error fetching www.mobocasino.com: Timeout 10000ms exceeded.\n"
     ]
    },
    {
     "name": "stderr",
     "output_type": "stream",
     "text": [
      "Fetching URLs:  16%|█▌        | 76/487 [04:30<49:44,  7.26s/it]"
     ]
    },
    {
     "name": "stdout",
     "output_type": "stream",
     "text": [
      "Error fetching www.monacoaces.com: Timeout 10000ms exceeded.\n"
     ]
    },
    {
     "name": "stderr",
     "output_type": "stream",
     "text": [
      "Fetching URLs:  16%|█▌        | 77/487 [04:40<55:18,  8.09s/it]"
     ]
    },
    {
     "name": "stdout",
     "output_type": "stream",
     "text": [
      "Error fetching www.moneyplayscasino.com: Timeout 10000ms exceeded.\n"
     ]
    },
    {
     "name": "stderr",
     "output_type": "stream",
     "text": [
      "Fetching URLs:  16%|█▋        | 80/487 [04:44<23:06,  3.41s/it]"
     ]
    },
    {
     "name": "stdout",
     "output_type": "stream",
     "text": [
      "Error fetching www.montecarlocasino.com: net::ERR_CERT_COMMON_NAME_INVALID at https://www.montecarlocasino.com/\n",
      "Error fetching www.morganbet.eu: net::ERR_NAME_NOT_RESOLVED at https://www.morganbet.eu/\n"
     ]
    },
    {
     "name": "stderr",
     "output_type": "stream",
     "text": [
      "Fetching URLs:  17%|█▋        | 85/487 [05:06<23:03,  3.44s/it]"
     ]
    },
    {
     "name": "stdout",
     "output_type": "stream",
     "text": [
      "Error fetching www.mr.bet: net::ERR_NAME_NOT_RESOLVED at https://www.mr.bet/\n"
     ]
    },
    {
     "name": "stderr",
     "output_type": "stream",
     "text": [
      "Fetching URLs:  20%|█▉        | 96/487 [05:28<08:47,  1.35s/it]"
     ]
    },
    {
     "name": "stdout",
     "output_type": "stream",
     "text": [
      "Error fetching www.mvpaction.ag: net::ERR_NAME_NOT_RESOLVED at https://www.mvpaction.ag/\n"
     ]
    },
    {
     "name": "stderr",
     "output_type": "stream",
     "text": [
      "Fetching URLs:  20%|██        | 98/487 [05:39<24:40,  3.81s/it]"
     ]
    },
    {
     "name": "stdout",
     "output_type": "stream",
     "text": [
      "Error fetching www.mychance.com: Timeout 10000ms exceeded.\n"
     ]
    },
    {
     "name": "stderr",
     "output_type": "stream",
     "text": [
      "Fetching URLs:  20%|██        | 99/487 [05:49<36:45,  5.68s/it]"
     ]
    },
    {
     "name": "stdout",
     "output_type": "stream",
     "text": [
      "Error fetching www.mylotto.co.nz: Timeout 10000ms exceeded.\n"
     ]
    },
    {
     "name": "stderr",
     "output_type": "stream",
     "text": [
      "Fetching URLs:  21%|██        | 100/487 [05:49<26:48,  4.16s/it]"
     ]
    },
    {
     "name": "stdout",
     "output_type": "stream",
     "text": [
      "Error fetching www.mysportsbook.ag: net::ERR_CERT_DATE_INVALID at https://www.mysportsbook.ag/\n"
     ]
    },
    {
     "name": "stderr",
     "output_type": "stream",
     "text": [
      "Fetching URLs:  21%|██▏       | 104/487 [06:11<37:40,  5.90s/it]"
     ]
    },
    {
     "name": "stdout",
     "output_type": "stream",
     "text": [
      "Error fetching www.nairastake.com: Timeout 10000ms exceeded.\n",
      "Error fetching www.nanos365.com: net::ERR_NAME_NOT_RESOLVED at https://www.nanos365.com/\n"
     ]
    },
    {
     "name": "stderr",
     "output_type": "stream",
     "text": [
      "Fetching URLs:  22%|██▏       | 108/487 [06:26<31:42,  5.02s/it]"
     ]
    },
    {
     "name": "stdout",
     "output_type": "stream",
     "text": [
      "Error fetching www.nationallottery.co.za: Timeout 10000ms exceeded.\n"
     ]
    },
    {
     "name": "stderr",
     "output_type": "stream",
     "text": [
      "Fetching URLs:  22%|██▏       | 109/487 [06:36<40:15,  6.39s/it]"
     ]
    },
    {
     "name": "stdout",
     "output_type": "stream",
     "text": [
      "Error fetching www.nederbet.com: Timeout 10000ms exceeded.\n"
     ]
    },
    {
     "name": "stderr",
     "output_type": "stream",
     "text": [
      "Fetching URLs:  23%|██▎       | 111/487 [06:39<24:25,  3.90s/it]"
     ]
    },
    {
     "name": "stdout",
     "output_type": "stream",
     "text": [
      "Error fetching www.needforbet.com: net::ERR_CERT_AUTHORITY_INVALID at https://www.needforbet.com/\n"
     ]
    },
    {
     "name": "stderr",
     "output_type": "stream",
     "text": [
      "Fetching URLs:  23%|██▎       | 113/487 [06:41<14:46,  2.37s/it]"
     ]
    },
    {
     "name": "stdout",
     "output_type": "stream",
     "text": [
      "Error fetching www.neverfelted.eu: net::ERR_NAME_NOT_RESOLVED at https://www.neverfelted.eu/\n"
     ]
    },
    {
     "name": "stderr",
     "output_type": "stream",
     "text": [
      "Fetching URLs:  24%|██▍       | 116/487 [06:46<10:15,  1.66s/it]"
     ]
    },
    {
     "name": "stdout",
     "output_type": "stream",
     "text": [
      "Error fetching www.nightwoodbookmakers.co.uk: net::ERR_NAME_NOT_RESOLVED at https://www.nightwoodbookmakers.co.uk/\n"
     ]
    },
    {
     "name": "stderr",
     "output_type": "stream",
     "text": [
      "Fetching URLs:  24%|██▍       | 119/487 [06:47<05:23,  1.14it/s]"
     ]
    },
    {
     "name": "stdout",
     "output_type": "stream",
     "text": [
      "Error fetching www.ninjackpot.com: net::ERR_CONNECTION_REFUSED at https://www.ninjackpot.com/\n"
     ]
    },
    {
     "name": "stderr",
     "output_type": "stream",
     "text": [
      "Fetching URLs:  26%|██▌       | 126/487 [06:59<08:11,  1.36s/it]"
     ]
    },
    {
     "name": "stdout",
     "output_type": "stream",
     "text": [
      "Error fetching www.norgesspill.com: net::ERR_HTTP2_PROTOCOL_ERROR at https://www.norgesspill.com/\n"
     ]
    },
    {
     "name": "stderr",
     "output_type": "stream",
     "text": [
      "Fetching URLs:  26%|██▋       | 128/487 [07:02<06:54,  1.16s/it]"
     ]
    },
    {
     "name": "stdout",
     "output_type": "stream",
     "text": [
      "Error fetching www.norskeautomater.com: net::ERR_HTTP2_PROTOCOL_ERROR at https://www.norskeautomater.com/\n"
     ]
    },
    {
     "name": "stderr",
     "output_type": "stream",
     "text": [
      "Fetching URLs:  29%|██▊       | 139/487 [07:45<22:40,  3.91s/it]"
     ]
    },
    {
     "name": "stdout",
     "output_type": "stream",
     "text": [
      "Error fetching www.odinbet.com: net::ERR_NAME_NOT_RESOLVED at https://www.odinbet.com/\n"
     ]
    },
    {
     "name": "stderr",
     "output_type": "stream",
     "text": [
      "Fetching URLs:  29%|██▊       | 140/487 [07:55<33:20,  5.77s/it]"
     ]
    },
    {
     "name": "stdout",
     "output_type": "stream",
     "text": [
      "Error fetching www.offsidebet.com: Timeout 10000ms exceeded.\n"
     ]
    },
    {
     "name": "stderr",
     "output_type": "stream",
     "text": [
      "Fetching URLs:  30%|███       | 147/487 [08:27<37:20,  6.59s/it]"
     ]
    },
    {
     "name": "stdout",
     "output_type": "stream",
     "text": [
      "Error fetching www.olimp.com: Timeout 10000ms exceeded.\n"
     ]
    },
    {
     "name": "stderr",
     "output_type": "stream",
     "text": [
      "Fetching URLs:  30%|███       | 148/487 [08:27<26:29,  4.69s/it]"
     ]
    },
    {
     "name": "stdout",
     "output_type": "stream",
     "text": [
      "Error fetching www.olybet.com: net::ERR_CERT_COMMON_NAME_INVALID at https://www.olybet.com/\n"
     ]
    },
    {
     "name": "stderr",
     "output_type": "stream",
     "text": [
      "Fetching URLs:  31%|███       | 151/487 [08:54<42:53,  7.66s/it]"
     ]
    },
    {
     "name": "stdout",
     "output_type": "stream",
     "text": [
      "Error fetching www.omniacasino.com: Timeout 10000ms exceeded.\n"
     ]
    },
    {
     "name": "stderr",
     "output_type": "stream",
     "text": [
      "Fetching URLs:  31%|███▏      | 153/487 [08:55<21:52,  3.93s/it]"
     ]
    },
    {
     "name": "stdout",
     "output_type": "stream",
     "text": [
      "Error fetching www.online.singaporepools.com: net::ERR_NAME_NOT_RESOLVED at https://www.online.singaporepools.com/\n",
      "Error fetching www.onlywinners.com: net::ERR_NAME_NOT_RESOLVED at https://www.onlywinners.com/\n"
     ]
    },
    {
     "name": "stderr",
     "output_type": "stream",
     "text": [
      "Fetching URLs:  32%|███▏      | 154/487 [08:55<16:05,  2.90s/it]"
     ]
    },
    {
     "name": "stdout",
     "output_type": "stream",
     "text": [
      "Error fetching www.opcrates.com: net::ERR_NAME_NOT_RESOLVED at https://www.opcrates.com/\n"
     ]
    },
    {
     "name": "stderr",
     "output_type": "stream",
     "text": [
      "Fetching URLs:  32%|███▏      | 158/487 [08:57<06:30,  1.19s/it]"
     ]
    },
    {
     "name": "stdout",
     "output_type": "stream",
     "text": [
      "Error fetching www.optionsports.com: net::ERR_CERT_AUTHORITY_INVALID at https://www.optionsports.com/\n"
     ]
    },
    {
     "name": "stderr",
     "output_type": "stream",
     "text": [
      "Fetching URLs:  33%|███▎      | 160/487 [08:58<04:22,  1.25it/s]"
     ]
    },
    {
     "name": "stdout",
     "output_type": "stream",
     "text": [
      "Error fetching www.orlandocasino.com: net::ERR_CERT_AUTHORITY_INVALID at https://www.orlandocasino.com/\n"
     ]
    },
    {
     "name": "stderr",
     "output_type": "stream",
     "text": [
      "Fetching URLs:  33%|███▎      | 161/487 [08:58<03:27,  1.57it/s]"
     ]
    },
    {
     "name": "stdout",
     "output_type": "stream",
     "text": [
      "Error fetching www.ourpricebet.com: net::ERR_NAME_NOT_RESOLVED at https://www.ourpricebet.com/\n"
     ]
    },
    {
     "name": "stderr",
     "output_type": "stream",
     "text": [
      "Fetching URLs:  33%|███▎      | 163/487 [09:09<18:12,  3.37s/it]"
     ]
    },
    {
     "name": "stdout",
     "output_type": "stream",
     "text": [
      "Error fetching www.ovocasino.com: Timeout 10000ms exceeded.\n"
     ]
    },
    {
     "name": "stderr",
     "output_type": "stream",
     "text": [
      "Fetching URLs:  34%|███▍      | 168/487 [09:27<18:09,  3.42s/it]"
     ]
    },
    {
     "name": "stdout",
     "output_type": "stream",
     "text": [
      "Error fetching www.pais.co.il: Timeout 10000ms exceeded.\n",
      "Error fetching www.palladiumcasino.eu: net::ERR_NAME_NOT_RESOLVED at https://www.palladiumcasino.eu/\n"
     ]
    },
    {
     "name": "stderr",
     "output_type": "stream",
     "text": [
      "Fetching URLs:  35%|███▌      | 172/487 [09:32<08:39,  1.65s/it]"
     ]
    },
    {
     "name": "stdout",
     "output_type": "stream",
     "text": [
      "Error fetching www.parimatchplay1.com: net::ERR_NAME_NOT_RESOLVED at https://www.parimatchplay1.com/\n"
     ]
    },
    {
     "name": "stderr",
     "output_type": "stream",
     "text": [
      "Fetching URLs:  37%|███▋      | 178/487 [10:00<28:25,  5.52s/it]"
     ]
    },
    {
     "name": "stdout",
     "output_type": "stream",
     "text": [
      "Error fetching www.piratespin.com: Timeout 10000ms exceeded.\n"
     ]
    },
    {
     "name": "stderr",
     "output_type": "stream",
     "text": [
      "Fetching URLs:  37%|███▋      | 180/487 [10:03<16:58,  3.32s/it]"
     ]
    },
    {
     "name": "stdout",
     "output_type": "stream",
     "text": [
      "Error fetching www.planetwin365.com: net::ERR_CONNECTION_REFUSED at https://www.planetwin365.com/\n"
     ]
    },
    {
     "name": "stderr",
     "output_type": "stream",
     "text": [
      "Fetching URLs:  37%|███▋      | 181/487 [10:03<12:22,  2.43s/it]"
     ]
    },
    {
     "name": "stdout",
     "output_type": "stream",
     "text": [
      "Error fetching www.playbet.com: net::ERR_CERT_DATE_INVALID at https://www.playbet.com/\n"
     ]
    },
    {
     "name": "stderr",
     "output_type": "stream",
     "text": [
      "Fetching URLs:  39%|███▊      | 188/487 [10:25<14:14,  2.86s/it]"
     ]
    },
    {
     "name": "stdout",
     "output_type": "stream",
     "text": [
      "Error fetching www.plexodds.com: net::ERR_NAME_NOT_RESOLVED at https://www.plexodds.com/\n"
     ]
    },
    {
     "name": "stderr",
     "output_type": "stream",
     "text": [
      "Fetching URLs:  39%|███▉      | 189/487 [10:25<10:38,  2.14s/it]"
     ]
    },
    {
     "name": "stdout",
     "output_type": "stream",
     "text": [
      "Error fetching www.pocketvegas.co.uk: net::ERR_CERT_DATE_INVALID at https://www.pocketvegas.co.uk/\n"
     ]
    },
    {
     "name": "stderr",
     "output_type": "stream",
     "text": [
      "Fetching URLs:  39%|███▉      | 190/487 [10:35<22:19,  4.51s/it]"
     ]
    },
    {
     "name": "stdout",
     "output_type": "stream",
     "text": [
      "Error fetching www.pointcasino.com: Timeout 10000ms exceeded.\n"
     ]
    },
    {
     "name": "stderr",
     "output_type": "stream",
     "text": [
      "Fetching URLs:  39%|███▉      | 192/487 [10:36<11:35,  2.36s/it]"
     ]
    },
    {
     "name": "stdout",
     "output_type": "stream",
     "text": [
      "Error fetching www.pokerbetplace88.com: net::ERR_CONNECTION_REFUSED at https://www.pokerbetplace88.com/\n",
      "Error fetching www.pokerdassi360.com: net::ERR_NAME_NOT_RESOLVED at https://www.pokerdassi360.com/\n"
     ]
    },
    {
     "name": "stderr",
     "output_type": "stream",
     "text": [
      "Fetching URLs:  40%|███▉      | 193/487 [10:46<22:50,  4.66s/it]"
     ]
    },
    {
     "name": "stdout",
     "output_type": "stream",
     "text": [
      "Error fetching www.pokerimaa.com: Timeout 10000ms exceeded.\n"
     ]
    },
    {
     "name": "stderr",
     "output_type": "stream",
     "text": [
      "Fetching URLs:  40%|███▉      | 194/487 [10:47<17:30,  3.58s/it]"
     ]
    },
    {
     "name": "stdout",
     "output_type": "stream",
     "text": [
      "Error fetching www.pokermax.com: net::ERR_NAME_NOT_RESOLVED at https://www.pokermax.com/\n"
     ]
    },
    {
     "name": "stderr",
     "output_type": "stream",
     "text": [
      "Fetching URLs:  41%|████      | 200/487 [11:04<12:40,  2.65s/it]"
     ]
    },
    {
     "name": "stdout",
     "output_type": "stream",
     "text": [
      "Error fetching www.portail.lotoquebec.com: net::ERR_NAME_NOT_RESOLVED at https://www.portail.lotoquebec.com/\n"
     ]
    },
    {
     "name": "stderr",
     "output_type": "stream",
     "text": [
      "Fetching URLs:  42%|████▏     | 204/487 [11:09<05:48,  1.23s/it]"
     ]
    },
    {
     "name": "stdout",
     "output_type": "stream",
     "text": [
      "Error fetching www.pridmorebookmakers.com: net::ERR_CONNECTION_REFUSED at https://www.pridmorebookmakers.com/\n",
      "Error fetching www.primebet.com.mt: net::ERR_NAME_NOT_RESOLVED at https://www.primebet.com.mt/\n"
     ]
    },
    {
     "name": "stderr",
     "output_type": "stream",
     "text": [
      "Fetching URLs:  43%|████▎     | 207/487 [11:24<20:21,  4.36s/it]"
     ]
    },
    {
     "name": "stdout",
     "output_type": "stream",
     "text": [
      "Error fetching www.pro-factory.com: Timeout 10000ms exceeded.\n"
     ]
    },
    {
     "name": "stderr",
     "output_type": "stream",
     "text": [
      "Fetching URLs:  43%|████▎     | 209/487 [11:30<16:22,  3.53s/it]"
     ]
    },
    {
     "name": "stdout",
     "output_type": "stream",
     "text": [
      "Error fetching www.promotions.epic.partners: net::ERR_NAME_NOT_RESOLVED at https://www.promotions.epic.partners/\n"
     ]
    },
    {
     "name": "stderr",
     "output_type": "stream",
     "text": [
      "Fetching URLs:  44%|████▎     | 212/487 [11:31<06:28,  1.41s/it]"
     ]
    },
    {
     "name": "stdout",
     "output_type": "stream",
     "text": [
      "Error fetching www.punchbets.com: net::ERR_SSL_VERSION_OR_CIPHER_MISMATCH at https://www.punchbets.com/\n",
      "Error fetching www.purepoker.eu: net::ERR_NAME_NOT_RESOLVED at https://www.purepoker.eu/\n"
     ]
    },
    {
     "name": "stderr",
     "output_type": "stream",
     "text": [
      "Fetching URLs:  44%|████▍     | 216/487 [11:37<05:30,  1.22s/it]"
     ]
    },
    {
     "name": "stdout",
     "output_type": "stream",
     "text": [
      "Error fetching www.rb88.com: net::ERR_CERT_AUTHORITY_INVALID at https://www.rb88.com/\n"
     ]
    },
    {
     "name": "stderr",
     "output_type": "stream",
     "text": [
      "Fetching URLs:  45%|████▍     | 217/487 [11:40<08:45,  1.95s/it]"
     ]
    },
    {
     "name": "stdout",
     "output_type": "stream",
     "text": [
      "Error fetching www.realbet.eu: net::ERR_NAME_NOT_RESOLVED at https://www.realbet.eu/\n"
     ]
    },
    {
     "name": "stderr",
     "output_type": "stream",
     "text": [
      "Fetching URLs:  45%|████▍     | 219/487 [11:42<05:58,  1.34s/it]"
     ]
    },
    {
     "name": "stdout",
     "output_type": "stream",
     "text": [
      "Error fetching www.rebatewager.ag: net::ERR_NAME_NOT_RESOLVED at https://www.rebatewager.ag/\n"
     ]
    },
    {
     "name": "stderr",
     "output_type": "stream",
     "text": [
      "Fetching URLs:  46%|████▌     | 223/487 [11:53<09:13,  2.10s/it]"
     ]
    },
    {
     "name": "stdout",
     "output_type": "stream",
     "text": [
      "Error fetching www.redstarsports.eu: net::ERR_CERT_COMMON_NAME_INVALID at https://www.redstarsports.eu/\n"
     ]
    },
    {
     "name": "stderr",
     "output_type": "stream",
     "text": [
      "Fetching URLs:  46%|████▌     | 225/487 [12:03<15:08,  3.47s/it]"
     ]
    },
    {
     "name": "stdout",
     "output_type": "stream",
     "text": [
      "Error fetching www.redzonesports.bet: Timeout 10000ms exceeded.\n",
      "Error fetching www.registerigkbet.com: net::ERR_NAME_NOT_RESOLVED at https://www.registerigkbet.com/\n"
     ]
    },
    {
     "name": "stderr",
     "output_type": "stream",
     "text": [
      "Fetching URLs:  47%|████▋     | 227/487 [12:05<10:48,  2.49s/it]"
     ]
    },
    {
     "name": "stdout",
     "output_type": "stream",
     "text": [
      "Error fetching www.ridika.com: net::ERR_NAME_NOT_RESOLVED at https://www.ridika.com/\n"
     ]
    },
    {
     "name": "stderr",
     "output_type": "stream",
     "text": [
      "Fetching URLs:  47%|████▋     | 231/487 [12:18<16:33,  3.88s/it]"
     ]
    },
    {
     "name": "stdout",
     "output_type": "stream",
     "text": [
      "Error fetching www.roadbet.com: Timeout 10000ms exceeded.\n"
     ]
    },
    {
     "name": "stderr",
     "output_type": "stream",
     "text": [
      "Fetching URLs:  48%|████▊     | 233/487 [12:19<08:56,  2.11s/it]"
     ]
    },
    {
     "name": "stdout",
     "output_type": "stream",
     "text": [
      "Error fetching www.royalcspot.com: net::ERR_NAME_NOT_RESOLVED at https://www.royalcspot.com/\n"
     ]
    },
    {
     "name": "stderr",
     "output_type": "stream",
     "text": [
      "Fetching URLs:  48%|████▊     | 235/487 [12:31<18:42,  4.45s/it]"
     ]
    },
    {
     "name": "stdout",
     "output_type": "stream",
     "text": [
      "Error fetching www.royalslots.com: Timeout 10000ms exceeded.\n"
     ]
    },
    {
     "name": "stderr",
     "output_type": "stream",
     "text": [
      "Fetching URLs:  48%|████▊     | 236/487 [12:41<25:31,  6.10s/it]"
     ]
    },
    {
     "name": "stdout",
     "output_type": "stream",
     "text": [
      "Error fetching www.royrichie.com: Timeout 10000ms exceeded.\n"
     ]
    },
    {
     "name": "stderr",
     "output_type": "stream",
     "text": [
      "Fetching URLs:  49%|████▉     | 238/487 [12:43<13:48,  3.33s/it]"
     ]
    },
    {
     "name": "stdout",
     "output_type": "stream",
     "text": [
      "Error fetching www.rush777.com: net::ERR_CERT_AUTHORITY_INVALID at https://www.rush777.com/\n"
     ]
    },
    {
     "name": "stderr",
     "output_type": "stream",
     "text": [
      "Fetching URLs:  49%|████▉     | 241/487 [12:49<09:27,  2.31s/it]"
     ]
    },
    {
     "name": "stdout",
     "output_type": "stream",
     "text": [
      "Error fetching www.safaribet.com.gh: net::ERR_NAME_NOT_RESOLVED at https://www.safaribet.com.gh/\n"
     ]
    },
    {
     "name": "stderr",
     "output_type": "stream",
     "text": [
      "Fetching URLs:  50%|████▉     | 242/487 [12:49<06:57,  1.71s/it]"
     ]
    },
    {
     "name": "stdout",
     "output_type": "stream",
     "text": [
      "Error fetching www.saharabet.com: net::ERR_NAME_NOT_RESOLVED at https://www.saharabet.com/\n"
     ]
    },
    {
     "name": "stderr",
     "output_type": "stream",
     "text": [
      "Fetching URLs:  50%|█████     | 245/487 [13:05<18:51,  4.68s/it]"
     ]
    },
    {
     "name": "stdout",
     "output_type": "stream",
     "text": [
      "Error fetching www.saturnplay.com: Timeout 10000ms exceeded.\n"
     ]
    },
    {
     "name": "stderr",
     "output_type": "stream",
     "text": [
      "Fetching URLs:  51%|█████     | 249/487 [13:20<13:16,  3.35s/it]"
     ]
    },
    {
     "name": "stdout",
     "output_type": "stream",
     "text": [
      "Error fetching www.sbobetbola.org: net::ERR_NAME_NOT_RESOLVED at https://www.sbobetbola.org/\n"
     ]
    },
    {
     "name": "stderr",
     "output_type": "stream",
     "text": [
      "Fetching URLs:  51%|█████▏    | 250/487 [13:22<10:52,  2.75s/it]"
     ]
    },
    {
     "name": "stdout",
     "output_type": "stream",
     "text": [
      "Error fetching www.sbojoki.com: Unable to retrieve content because the page is navigating and changing the content.\n"
     ]
    },
    {
     "name": "stderr",
     "output_type": "stream",
     "text": [
      "Fetching URLs:  52%|█████▏    | 251/487 [13:22<08:11,  2.08s/it]"
     ]
    },
    {
     "name": "stdout",
     "output_type": "stream",
     "text": [
      "Error fetching www.scandibet.com: net::ERR_CERT_COMMON_NAME_INVALID at https://www.scandibet.com/\n"
     ]
    },
    {
     "name": "stderr",
     "output_type": "stream",
     "text": [
      "Fetching URLs:  52%|█████▏    | 253/487 [13:33<15:59,  4.10s/it]"
     ]
    },
    {
     "name": "stdout",
     "output_type": "stream",
     "text": [
      "Error fetching www.score99.net: Timeout 10000ms exceeded.\n"
     ]
    },
    {
     "name": "stderr",
     "output_type": "stream",
     "text": [
      "Fetching URLs:  52%|█████▏    | 254/487 [13:33<11:24,  2.94s/it]"
     ]
    },
    {
     "name": "stdout",
     "output_type": "stream",
     "text": [
      "Error fetching www.scotbet.com: net::ERR_NAME_NOT_RESOLVED at https://www.scotbet.com/\n"
     ]
    },
    {
     "name": "stderr",
     "output_type": "stream",
     "text": [
      "Fetching URLs:  52%|█████▏    | 255/487 [13:43<19:38,  5.08s/it]"
     ]
    },
    {
     "name": "stdout",
     "output_type": "stream",
     "text": [
      "Error fetching www.seabet.com: Timeout 10000ms exceeded.\n"
     ]
    },
    {
     "name": "stderr",
     "output_type": "stream",
     "text": [
      "Fetching URLs:  53%|█████▎    | 257/487 [13:55<22:22,  5.84s/it]"
     ]
    },
    {
     "name": "stdout",
     "output_type": "stream",
     "text": [
      "Error fetching www.seaniemac.com: Timeout 10000ms exceeded.\n"
     ]
    },
    {
     "name": "stderr",
     "output_type": "stream",
     "text": [
      "Fetching URLs:  53%|█████▎    | 260/487 [14:12<23:45,  6.28s/it]"
     ]
    },
    {
     "name": "stdout",
     "output_type": "stream",
     "text": [
      "Error fetching www.setantabet.com: Timeout 10000ms exceeded.\n"
     ]
    },
    {
     "name": "stderr",
     "output_type": "stream",
     "text": [
      "Fetching URLs:  54%|█████▎    | 261/487 [14:22<27:56,  7.42s/it]"
     ]
    },
    {
     "name": "stdout",
     "output_type": "stream",
     "text": [
      "Error fetching www.sirbobet.com: Timeout 10000ms exceeded.\n"
     ]
    },
    {
     "name": "stderr",
     "output_type": "stream",
     "text": [
      "Fetching URLs:  54%|█████▍    | 264/487 [14:27<12:16,  3.30s/it]"
     ]
    },
    {
     "name": "stdout",
     "output_type": "stream",
     "text": [
      "Error fetching www.sisal.it: net::ERR_HTTP2_PROTOCOL_ERROR at https://www.sisal.it/\n",
      "Error fetching www.sjbet.at: net::ERR_NAME_NOT_RESOLVED at https://www.sjbet.at/\n"
     ]
    },
    {
     "name": "stderr",
     "output_type": "stream",
     "text": [
      "Fetching URLs:  54%|█████▍    | 265/487 [14:37<19:43,  5.33s/it]"
     ]
    },
    {
     "name": "stdout",
     "output_type": "stream",
     "text": [
      "Error fetching www.skedina.com: Timeout 10000ms exceeded.\n"
     ]
    },
    {
     "name": "stderr",
     "output_type": "stream",
     "text": [
      "Fetching URLs:  55%|█████▌    | 269/487 [14:40<05:58,  1.65s/it]"
     ]
    },
    {
     "name": "stdout",
     "output_type": "stream",
     "text": [
      "Error fetching www.skinduel.com: net::ERR_ABORTED at https://www.skinduel.com/\n",
      "Error fetching www.skingaben.com: net::ERR_NAME_NOT_RESOLVED at https://www.skingaben.com/\n"
     ]
    },
    {
     "name": "stderr",
     "output_type": "stream",
     "text": [
      "Fetching URLs:  56%|█████▌    | 271/487 [14:50<10:43,  2.98s/it]"
     ]
    },
    {
     "name": "stdout",
     "output_type": "stream",
     "text": [
      "Error fetching www.skinhell.com: Timeout 10000ms exceeded.\n",
      "Error fetching www.skinhunt.com: net::ERR_SSL_PROTOCOL_ERROR at https://www.skinhunt.com/\n"
     ]
    },
    {
     "name": "stderr",
     "output_type": "stream",
     "text": [
      "Fetching URLs:  56%|█████▌    | 272/487 [15:00<18:16,  5.10s/it]"
     ]
    },
    {
     "name": "stdout",
     "output_type": "stream",
     "text": [
      "Error fetching www.skinprofit.com: Timeout 10000ms exceeded.\n"
     ]
    },
    {
     "name": "stderr",
     "output_type": "stream",
     "text": [
      "Fetching URLs:  56%|█████▌    | 273/487 [15:10<23:27,  6.58s/it]"
     ]
    },
    {
     "name": "stdout",
     "output_type": "stream",
     "text": [
      "Error fetching www.skinsdream.com: Timeout 10000ms exceeded.\n"
     ]
    },
    {
     "name": "stderr",
     "output_type": "stream",
     "text": [
      "Fetching URLs:  57%|█████▋    | 277/487 [15:24<18:14,  5.21s/it]"
     ]
    },
    {
     "name": "stdout",
     "output_type": "stream",
     "text": [
      "Error fetching www.slbet.com: Timeout 10000ms exceeded.\n"
     ]
    },
    {
     "name": "stderr",
     "output_type": "stream",
     "text": [
      "Fetching URLs:  57%|█████▋    | 280/487 [15:36<17:55,  5.20s/it]"
     ]
    },
    {
     "name": "stdout",
     "output_type": "stream",
     "text": [
      "Error fetching www.slotsino.co.uk: Timeout 10000ms exceeded.\n"
     ]
    },
    {
     "name": "stderr",
     "output_type": "stream",
     "text": [
      "Fetching URLs:  58%|█████▊    | 284/487 [15:44<08:20,  2.47s/it]"
     ]
    },
    {
     "name": "stdout",
     "output_type": "stream",
     "text": [
      "Error fetching www.sloty.com: net::ERR_NAME_NOT_RESOLVED at https://www.sloty.com/\n"
     ]
    },
    {
     "name": "stderr",
     "output_type": "stream",
     "text": [
      "Fetching URLs:  59%|█████▊    | 286/487 [15:50<08:51,  2.64s/it]"
     ]
    },
    {
     "name": "stdout",
     "output_type": "stream",
     "text": [
      "Error fetching www.socalsportbook.com: net::ERR_NAME_NOT_RESOLVED at https://www.socalsportbook.com/\n"
     ]
    },
    {
     "name": "stderr",
     "output_type": "stream",
     "text": [
      "Fetching URLs:  59%|█████▉    | 288/487 [16:00<12:29,  3.77s/it]"
     ]
    },
    {
     "name": "stdout",
     "output_type": "stream",
     "text": [
      "Error fetching www.softbet.eu: Timeout 10000ms exceeded.\n"
     ]
    },
    {
     "name": "stderr",
     "output_type": "stream",
     "text": [
      "Fetching URLs:  59%|█████▉    | 289/487 [16:02<10:15,  3.11s/it]"
     ]
    },
    {
     "name": "stdout",
     "output_type": "stream",
     "text": [
      "Error fetching www.spela.com: net::ERR_NAME_NOT_RESOLVED at https://www.spela.com/\n"
     ]
    },
    {
     "name": "stderr",
     "output_type": "stream",
     "text": [
      "Fetching URLs:  60%|█████▉    | 291/487 [16:12<12:49,  3.93s/it]"
     ]
    },
    {
     "name": "stdout",
     "output_type": "stream",
     "text": [
      "Error fetching www.spindipity.com: Timeout 10000ms exceeded.\n",
      "Error fetching www.spinit.com: net::ERR_NAME_NOT_RESOLVED at https://www.spinit.com/\n"
     ]
    },
    {
     "name": "stderr",
     "output_type": "stream",
     "text": [
      "Fetching URLs:  61%|██████    | 295/487 [16:12<05:05,  1.59s/it]"
     ]
    },
    {
     "name": "stdout",
     "output_type": "stream",
     "text": [
      "Error fetching www.spinprincess.com: net::ERR_CERT_COMMON_NAME_INVALID at https://www.spinprincess.com/\n"
     ]
    },
    {
     "name": "stderr",
     "output_type": "stream",
     "text": [
      "Fetching URLs:  61%|██████    | 298/487 [16:17<04:46,  1.52s/it]"
     ]
    },
    {
     "name": "stdout",
     "output_type": "stream",
     "text": [
      "Error fetching www.sport-gewin.com: net::ERR_NAME_NOT_RESOLVED at https://www.sport-gewin.com/\n"
     ]
    },
    {
     "name": "stderr",
     "output_type": "stream",
     "text": [
      "Fetching URLs:  62%|██████▏   | 301/487 [16:23<06:10,  1.99s/it]"
     ]
    },
    {
     "name": "stdout",
     "output_type": "stream",
     "text": [
      "Error fetching www.sportfanatik.com: net::ERR_SSL_UNRECOGNIZED_NAME_ALERT at https://www.sportfanatik.com/\n"
     ]
    },
    {
     "name": "stderr",
     "output_type": "stream",
     "text": [
      "Fetching URLs:  62%|██████▏   | 303/487 [16:38<14:34,  4.75s/it]"
     ]
    },
    {
     "name": "stdout",
     "output_type": "stream",
     "text": [
      "Error fetching www.sportingbet.com.au: Timeout 10000ms exceeded.\n"
     ]
    },
    {
     "name": "stderr",
     "output_type": "stream",
     "text": [
      "Fetching URLs:  63%|██████▎   | 306/487 [16:55<17:20,  5.75s/it]"
     ]
    },
    {
     "name": "stdout",
     "output_type": "stream",
     "text": [
      "Error fetching www.sportpesa.co.tz: Timeout 10000ms exceeded.\n"
     ]
    },
    {
     "name": "stderr",
     "output_type": "stream",
     "text": [
      "Fetching URLs:  63%|██████▎   | 308/487 [16:55<08:55,  2.99s/it]"
     ]
    },
    {
     "name": "stdout",
     "output_type": "stream",
     "text": [
      "Error fetching www.sports-gambling.com: net::ERR_NAME_NOT_RESOLVED at https://www.sports-gambling.com/\n",
      "Error fetching www.sports.magicred.com: net::ERR_SSL_PROTOCOL_ERROR at https://www.sports.magicred.com/\n"
     ]
    },
    {
     "name": "stderr",
     "output_type": "stream",
     "text": [
      "Fetching URLs:  63%|██████▎   | 309/487 [17:05<15:03,  5.08s/it]"
     ]
    },
    {
     "name": "stdout",
     "output_type": "stream",
     "text": [
      "Error fetching www.sportsbet.co.za: Timeout 10000ms exceeded.\n"
     ]
    },
    {
     "name": "stderr",
     "output_type": "stream",
     "text": [
      "Fetching URLs:  64%|██████▍   | 312/487 [17:21<17:04,  5.85s/it]"
     ]
    },
    {
     "name": "stdout",
     "output_type": "stream",
     "text": [
      "Error fetching www.sportsbetting.com.au: Timeout 10000ms exceeded.\n"
     ]
    },
    {
     "name": "stderr",
     "output_type": "stream",
     "text": [
      "Fetching URLs:  65%|██████▍   | 315/487 [17:27<08:48,  3.07s/it]"
     ]
    },
    {
     "name": "stdout",
     "output_type": "stream",
     "text": [
      "Error fetching www.sportsbook-uk.com: net::ERR_NAME_NOT_RESOLVED at https://www.sportsbook-uk.com/\n"
     ]
    },
    {
     "name": "stderr",
     "output_type": "stream",
     "text": [
      "Fetching URLs:  65%|██████▌   | 317/487 [17:31<06:40,  2.35s/it]"
     ]
    },
    {
     "name": "stdout",
     "output_type": "stream",
     "text": [
      "Error fetching www.sportsbook.ca: net::ERR_SSL_UNRECOGNIZED_NAME_ALERT at https://www.sportsbook.ca/\n"
     ]
    },
    {
     "name": "stderr",
     "output_type": "stream",
     "text": [
      "Fetching URLs:  66%|██████▌   | 320/487 [17:38<05:56,  2.13s/it]"
     ]
    },
    {
     "name": "stdout",
     "output_type": "stream",
     "text": [
      "Error fetching www.sportsbooks.com: net::ERR_CERT_DATE_INVALID at https://www.sportsbooks.com/\n"
     ]
    },
    {
     "name": "stderr",
     "output_type": "stream",
     "text": [
      "Fetching URLs:  66%|██████▌   | 321/487 [17:48<12:31,  4.53s/it]"
     ]
    },
    {
     "name": "stdout",
     "output_type": "stream",
     "text": [
      "Error fetching www.sportsbookusa.com: Timeout 10000ms exceeded.\n"
     ]
    },
    {
     "name": "stderr",
     "output_type": "stream",
     "text": [
      "Fetching URLs:  66%|██████▌   | 322/487 [17:49<09:17,  3.38s/it]"
     ]
    },
    {
     "name": "stdout",
     "output_type": "stream",
     "text": [
      "Error fetching www.sportsplace88.com: net::ERR_NAME_NOT_RESOLVED at https://www.sportsplace88.com/\n"
     ]
    },
    {
     "name": "stderr",
     "output_type": "stream",
     "text": [
      "Fetching URLs:  67%|██████▋   | 326/487 [18:05<12:24,  4.62s/it]"
     ]
    },
    {
     "name": "stdout",
     "output_type": "stream",
     "text": [
      "Error fetching www.sporttime.net: Timeout 10000ms exceeded.\n"
     ]
    },
    {
     "name": "stderr",
     "output_type": "stream",
     "text": [
      "Fetching URLs:  68%|██████▊   | 333/487 [18:21<05:03,  1.97s/it]"
     ]
    },
    {
     "name": "stdout",
     "output_type": "stream",
     "text": [
      "Error fetching www.starlottosport.com: net::ERR_NAME_NOT_RESOLVED at https://www.starlottosport.com/\n"
     ]
    },
    {
     "name": "stderr",
     "output_type": "stream",
     "text": [
      "Fetching URLs:  69%|██████▊   | 334/487 [18:31<11:08,  4.37s/it]"
     ]
    },
    {
     "name": "stdout",
     "output_type": "stream",
     "text": [
      "Error fetching www.statsloterij.nederlandseloterij.nl: Timeout 10000ms exceeded.\n"
     ]
    },
    {
     "name": "stderr",
     "output_type": "stream",
     "text": [
      "Fetching URLs:  69%|██████▉   | 338/487 [18:41<06:31,  2.62s/it]"
     ]
    },
    {
     "name": "stdout",
     "output_type": "stream",
     "text": [
      "Error fetching www.storspiller.com: net::ERR_NAME_NOT_RESOLVED at https://www.storspiller.com/\n"
     ]
    },
    {
     "name": "stderr",
     "output_type": "stream",
     "text": [
      "Fetching URLs:  70%|██████▉   | 339/487 [18:51<11:57,  4.85s/it]"
     ]
    },
    {
     "name": "stdout",
     "output_type": "stream",
     "text": [
      "Error fetching www.strikewin.com: Timeout 10000ms exceeded.\n"
     ]
    },
    {
     "name": "stderr",
     "output_type": "stream",
     "text": [
      "Fetching URLs:  70%|███████   | 342/487 [18:57<06:59,  2.89s/it]"
     ]
    },
    {
     "name": "stdout",
     "output_type": "stream",
     "text": [
      "Error fetching www.super8casino.com: net::ERR_CONNECTION_REFUSED at https://www.super8casino.com/\n"
     ]
    },
    {
     "name": "stderr",
     "output_type": "stream",
     "text": [
      "Fetching URLs:  71%|███████   | 344/487 [19:07<10:48,  4.53s/it]"
     ]
    },
    {
     "name": "stdout",
     "output_type": "stream",
     "text": [
      "Error fetching www.superbook.ag: Timeout 10000ms exceeded.\n"
     ]
    },
    {
     "name": "stderr",
     "output_type": "stream",
     "text": [
      "Fetching URLs:  71%|███████   | 345/487 [19:08<08:18,  3.51s/it]"
     ]
    },
    {
     "name": "stdout",
     "output_type": "stream",
     "text": [
      "Error fetching www.supersoccer.co.uk: net::ERR_NAME_NOT_RESOLVED at https://www.supersoccer.co.uk/\n"
     ]
    },
    {
     "name": "stderr",
     "output_type": "stream",
     "text": [
      "Fetching URLs:  71%|███████▏  | 348/487 [19:09<03:31,  1.52s/it]"
     ]
    },
    {
     "name": "stdout",
     "output_type": "stream",
     "text": [
      "Error fetching www.supersportsbook.com: net::ERR_NAME_NOT_RESOLVED at https://www.supersportsbook.com/\n",
      "Error fetching www.superusacasino.com: net::ERR_NAME_NOT_RESOLVED at https://www.superusacasino.com/\n"
     ]
    },
    {
     "name": "stderr",
     "output_type": "stream",
     "text": [
      "Fetching URLs:  73%|███████▎  | 355/487 [19:22<02:52,  1.31s/it]"
     ]
    },
    {
     "name": "stdout",
     "output_type": "stream",
     "text": [
      "Error fetching www.sverigekronan.com: net::ERR_CONNECTION_REFUSED at https://www.sverigekronan.com/\n"
     ]
    },
    {
     "name": "stderr",
     "output_type": "stream",
     "text": [
      "Fetching URLs:  75%|███████▍  | 364/487 [19:50<09:29,  4.63s/it]"
     ]
    },
    {
     "name": "stdout",
     "output_type": "stream",
     "text": [
      "Error fetching www.taiwanlottery.com.tw: Timeout 10000ms exceeded.\n"
     ]
    },
    {
     "name": "stderr",
     "output_type": "stream",
     "text": [
      "Fetching URLs:  75%|███████▍  | 365/487 [20:00<12:43,  6.26s/it]"
     ]
    },
    {
     "name": "stdout",
     "output_type": "stream",
     "text": [
      "Error fetching www.takarakuji-official.jp: Timeout 10000ms exceeded.\n"
     ]
    },
    {
     "name": "stderr",
     "output_type": "stream",
     "text": [
      "Fetching URLs:  77%|███████▋  | 374/487 [20:18<02:55,  1.55s/it]"
     ]
    },
    {
     "name": "stdout",
     "output_type": "stream",
     "text": [
      "Error fetching www.tipico.com: net::ERR_HTTP2_PROTOCOL_ERROR at https://www.tipico.com/\n"
     ]
    },
    {
     "name": "stderr",
     "output_type": "stream",
     "text": [
      "Fetching URLs:  78%|███████▊  | 380/487 [20:43<08:45,  4.91s/it]"
     ]
    },
    {
     "name": "stdout",
     "output_type": "stream",
     "text": [
      "Error fetching www.titansbet.com.au: Timeout 10000ms exceeded.\n"
     ]
    },
    {
     "name": "stderr",
     "output_type": "stream",
     "text": [
      "Fetching URLs:  78%|███████▊  | 382/487 [20:44<04:27,  2.55s/it]"
     ]
    },
    {
     "name": "stdout",
     "output_type": "stream",
     "text": [
      "Error fetching www.toals.co.uk: net::ERR_CERT_AUTHORITY_INVALID at https://www.toals.co.uk/\n",
      "Error fetching www.tommyfrench.com: net::ERR_CERT_COMMON_NAME_INVALID at https://www.tommyfrench.com/\n"
     ]
    },
    {
     "name": "stderr",
     "output_type": "stream",
     "text": [
      "Fetching URLs:  79%|███████▉  | 386/487 [21:06<09:41,  5.75s/it]"
     ]
    },
    {
     "name": "stdout",
     "output_type": "stream",
     "text": [
      "Error fetching www.topbetta.com: Timeout 10000ms exceeded.\n"
     ]
    },
    {
     "name": "stderr",
     "output_type": "stream",
     "text": [
      "Fetching URLs:  79%|███████▉  | 387/487 [21:08<07:34,  4.55s/it]"
     ]
    },
    {
     "name": "stdout",
     "output_type": "stream",
     "text": [
      "Error fetching www.topcatsports.ag: net::ERR_CONNECTION_REFUSED at https://www.topcatsports.ag/\n"
     ]
    },
    {
     "name": "stderr",
     "output_type": "stream",
     "text": [
      "Fetching URLs:  80%|███████▉  | 389/487 [21:18<07:48,  4.78s/it]"
     ]
    },
    {
     "name": "stdout",
     "output_type": "stream",
     "text": [
      "Error fetching www.topodds.com.au: Timeout 10000ms exceeded.\n"
     ]
    },
    {
     "name": "stderr",
     "output_type": "stream",
     "text": [
      "Fetching URLs:  80%|████████  | 390/487 [21:28<09:50,  6.08s/it]"
     ]
    },
    {
     "name": "stdout",
     "output_type": "stream",
     "text": [
      "Error fetching www.topplay.cc: Timeout 10000ms exceeded.\n"
     ]
    },
    {
     "name": "stderr",
     "output_type": "stream",
     "text": [
      "Fetching URLs:  82%|████████▏ | 398/487 [21:48<02:55,  1.98s/it]"
     ]
    },
    {
     "name": "stdout",
     "output_type": "stream",
     "text": [
      "Error fetching www.toto2.com: net::ERR_CONNECTION_REFUSED at https://www.toto2.com/\n"
     ]
    },
    {
     "name": "stderr",
     "output_type": "stream",
     "text": [
      "Fetching URLs:  82%|████████▏ | 401/487 [21:59<04:22,  3.05s/it]"
     ]
    },
    {
     "name": "stdout",
     "output_type": "stream",
     "text": [
      "Error fetching www.totobet24.com: Timeout 10000ms exceeded.\n",
      "Error fetching www.toxicjackpot.com: net::ERR_NAME_NOT_RESOLVED at https://www.toxicjackpot.com/\n"
     ]
    },
    {
     "name": "stderr",
     "output_type": "stream",
     "text": [
      "Fetching URLs:  83%|████████▎ | 402/487 [22:00<03:06,  2.20s/it]"
     ]
    },
    {
     "name": "stdout",
     "output_type": "stream",
     "text": [
      "Error fetching www.triobet.com: net::ERR_NAME_NOT_RESOLVED at https://www.triobet.com/\n"
     ]
    },
    {
     "name": "stderr",
     "output_type": "stream",
     "text": [
      "Fetching URLs:  83%|████████▎ | 404/487 [22:02<02:10,  1.58s/it]"
     ]
    },
    {
     "name": "stdout",
     "output_type": "stream",
     "text": [
      "Error fetching www.ubet.com: net::ERR_CONNECTION_REFUSED at https://www.ubet.com/\n"
     ]
    },
    {
     "name": "stderr",
     "output_type": "stream",
     "text": [
      "Fetching URLs:  83%|████████▎ | 405/487 [22:02<01:38,  1.20s/it]"
     ]
    },
    {
     "name": "stdout",
     "output_type": "stream",
     "text": [
      "Error fetching www.ucabet.co: net::ERR_CONNECTION_REFUSED at https://www.ucabet.co/\n"
     ]
    },
    {
     "name": "stderr",
     "output_type": "stream",
     "text": [
      "Fetching URLs:  84%|████████▎ | 407/487 [22:03<00:56,  1.41it/s]"
     ]
    },
    {
     "name": "stdout",
     "output_type": "stream",
     "text": [
      "Error fetching www.uk-k8.com: net::ERR_CERT_COMMON_NAME_INVALID at https://www.uk-k8.com/\n",
      "Error fetching www.ultimate-odds.com: net::ERR_NAME_NOT_RESOLVED at https://www.ultimate-odds.com/\n"
     ]
    },
    {
     "name": "stderr",
     "output_type": "stream",
     "text": [
      "Fetching URLs:  84%|████████▍ | 411/487 [22:07<01:06,  1.15it/s]"
     ]
    },
    {
     "name": "stdout",
     "output_type": "stream",
     "text": [
      "Error fetching www.usapriceperhead.com: net::ERR_NAME_NOT_RESOLVED at https://www.usapriceperhead.com/\n"
     ]
    },
    {
     "name": "stderr",
     "output_type": "stream",
     "text": [
      "Fetching URLs:  85%|████████▍ | 412/487 [22:09<01:12,  1.04it/s]"
     ]
    },
    {
     "name": "stdout",
     "output_type": "stream",
     "text": [
      "Error fetching www.usbetting.co.za: net::ERR_CERT_COMMON_NAME_INVALID at https://www.usbetting.co.za/\n"
     ]
    },
    {
     "name": "stderr",
     "output_type": "stream",
     "text": [
      "Fetching URLs:  85%|████████▌ | 414/487 [22:19<04:26,  3.66s/it]"
     ]
    },
    {
     "name": "stdout",
     "output_type": "stream",
     "text": [
      "Error fetching www.vandersports.com: Timeout 10000ms exceeded.\n"
     ]
    },
    {
     "name": "stderr",
     "output_type": "stream",
     "text": [
      "Fetching URLs:  85%|████████▌ | 416/487 [22:20<02:16,  1.93s/it]"
     ]
    },
    {
     "name": "stdout",
     "output_type": "stream",
     "text": [
      "Error fetching www.vegashero.com: net::ERR_NAME_NOT_RESOLVED at https://www.vegashero.com/\n"
     ]
    },
    {
     "name": "stderr",
     "output_type": "stream",
     "text": [
      "Fetching URLs:  86%|████████▌ | 420/487 [22:35<04:42,  4.21s/it]"
     ]
    },
    {
     "name": "stdout",
     "output_type": "stream",
     "text": [
      "Error fetching www.vestabet365.com: Timeout 10000ms exceeded.\n"
     ]
    },
    {
     "name": "stderr",
     "output_type": "stream",
     "text": [
      "Fetching URLs:  87%|████████▋ | 423/487 [22:37<01:55,  1.81s/it]"
     ]
    },
    {
     "name": "stdout",
     "output_type": "stream",
     "text": [
      "Error fetching www.vierklee.com: net::ERR_CERT_COMMON_NAME_INVALID at https://www.vierklee.com/\n",
      "Error fetching www.vietbet.eu: net::ERR_NAME_NOT_RESOLVED at https://www.vietbet.eu/\n"
     ]
    },
    {
     "name": "stderr",
     "output_type": "stream",
     "text": [
      "Fetching URLs:  88%|████████▊ | 428/487 [22:54<04:33,  4.64s/it]"
     ]
    },
    {
     "name": "stdout",
     "output_type": "stream",
     "text": [
      "Error fetching www.vipsports.eu: Timeout 10000ms exceeded.\n"
     ]
    },
    {
     "name": "stderr",
     "output_type": "stream",
     "text": [
      "Fetching URLs:  88%|████████▊ | 430/487 [23:05<05:10,  5.45s/it]"
     ]
    },
    {
     "name": "stdout",
     "output_type": "stream",
     "text": [
      "Error fetching www.voltbet.com: Timeout 10000ms exceeded.\n"
     ]
    },
    {
     "name": "stderr",
     "output_type": "stream",
     "text": [
      "Fetching URLs:  89%|████████▊ | 432/487 [23:08<02:55,  3.19s/it]"
     ]
    },
    {
     "name": "stdout",
     "output_type": "stream",
     "text": [
      "Error fetching www.vulcun.com: net::ERR_NAME_NOT_RESOLVED at https://www.vulcun.com/\n"
     ]
    },
    {
     "name": "stderr",
     "output_type": "stream",
     "text": [
      "Fetching URLs:  89%|████████▉ | 434/487 [23:23<05:07,  5.79s/it]"
     ]
    },
    {
     "name": "stdout",
     "output_type": "stream",
     "text": [
      "Error fetching www.wager.dm: Timeout 10000ms exceeded.\n"
     ]
    },
    {
     "name": "stderr",
     "output_type": "stream",
     "text": [
      "Fetching URLs:  90%|████████▉ | 436/487 [23:25<02:45,  3.25s/it]"
     ]
    },
    {
     "name": "stdout",
     "output_type": "stream",
     "text": [
      "Error fetching www.wager7.eu: net::ERR_CERT_DATE_INVALID at https://www.wager7.eu/\n"
     ]
    },
    {
     "name": "stderr",
     "output_type": "stream",
     "text": [
      "Fetching URLs:  91%|█████████ | 442/487 [23:47<03:42,  4.94s/it]"
     ]
    },
    {
     "name": "stdout",
     "output_type": "stream",
     "text": [
      "Error fetching www.webbookmakers.com: Timeout 10000ms exceeded.\n"
     ]
    },
    {
     "name": "stderr",
     "output_type": "stream",
     "text": [
      "Fetching URLs:  91%|█████████ | 444/487 [23:59<04:09,  5.80s/it]"
     ]
    },
    {
     "name": "stdout",
     "output_type": "stream",
     "text": [
      "Error fetching www.wettpunkt.com: Timeout 10000ms exceeded.\n"
     ]
    },
    {
     "name": "stderr",
     "output_type": "stream",
     "text": [
      "Fetching URLs:  91%|█████████▏| 445/487 [23:59<02:53,  4.14s/it]"
     ]
    },
    {
     "name": "stdout",
     "output_type": "stream",
     "text": [
      "Error fetching www.wgh.ag: net::ERR_CONNECTION_REFUSED at https://www.wgh.ag/\n"
     ]
    },
    {
     "name": "stderr",
     "output_type": "stream",
     "text": [
      "Fetching URLs:  92%|█████████▏| 447/487 [24:09<02:47,  4.18s/it]"
     ]
    },
    {
     "name": "stdout",
     "output_type": "stream",
     "text": [
      "Error fetching www.whalegaming.co.uk: Timeout 10000ms exceeded.\n",
      "Error fetching www.whitebet.com: net::ERR_CERT_AUTHORITY_INVALID at https://www.whitebet.com/\n"
     ]
    },
    {
     "name": "stderr",
     "output_type": "stream",
     "text": [
      "Fetching URLs:  92%|█████████▏| 448/487 [24:19<03:51,  5.94s/it]"
     ]
    },
    {
     "name": "stdout",
     "output_type": "stream",
     "text": [
      "Error fetching www.wildjackpots.com: Timeout 10000ms exceeded.\n"
     ]
    },
    {
     "name": "stderr",
     "output_type": "stream",
     "text": [
      "Fetching URLs:  93%|█████████▎| 451/487 [24:33<03:25,  5.70s/it]"
     ]
    },
    {
     "name": "stdout",
     "output_type": "stream",
     "text": [
      "Error fetching www.win29.com: Timeout 10000ms exceeded.\n"
     ]
    },
    {
     "name": "stderr",
     "output_type": "stream",
     "text": [
      "Fetching URLs:  93%|█████████▎| 454/487 [24:48<03:08,  5.71s/it]"
     ]
    },
    {
     "name": "stdout",
     "output_type": "stream",
     "text": [
      "Error fetching www.winningft.com: Timeout 10000ms exceeded.\n"
     ]
    },
    {
     "name": "stderr",
     "output_type": "stream",
     "text": [
      "Fetching URLs:  93%|█████████▎| 455/487 [24:48<02:13,  4.18s/it]"
     ]
    },
    {
     "name": "stdout",
     "output_type": "stream",
     "text": [
      "Error fetching www.wixstars.com: net::ERR_SSL_PROTOCOL_ERROR at https://www.wixstars.com/\n"
     ]
    },
    {
     "name": "stderr",
     "output_type": "stream",
     "text": [
      "Fetching URLs:  94%|█████████▎| 456/487 [24:58<03:04,  5.94s/it]"
     ]
    },
    {
     "name": "stdout",
     "output_type": "stream",
     "text": [
      "Error fetching www.worldofsport.co.za: Timeout 10000ms exceeded.\n"
     ]
    },
    {
     "name": "stderr",
     "output_type": "stream",
     "text": [
      "Fetching URLs:  94%|█████████▍| 458/487 [25:05<02:04,  4.30s/it]"
     ]
    },
    {
     "name": "stdout",
     "output_type": "stream",
     "text": [
      "Error fetching www.worldstar.co.ug: net::ERR_NAME_NOT_RESOLVED at https://www.worldstar.co.ug/\n"
     ]
    },
    {
     "name": "stderr",
     "output_type": "stream",
     "text": [
      "Fetching URLs:  94%|█████████▍| 459/487 [25:05<01:27,  3.12s/it]"
     ]
    },
    {
     "name": "stdout",
     "output_type": "stream",
     "text": [
      "Error fetching www.worldwidegamble.com: net::ERR_CERT_DATE_INVALID at https://www.worldwidegamble.com/\n"
     ]
    },
    {
     "name": "stderr",
     "output_type": "stream",
     "text": [
      "Fetching URLs:  95%|█████████▍| 462/487 [25:10<00:50,  2.01s/it]"
     ]
    },
    {
     "name": "stdout",
     "output_type": "stream",
     "text": [
      "Error fetching www.xinweide.com: net::ERR_ADDRESS_UNREACHABLE at https://www.xinweide.com/\n"
     ]
    },
    {
     "name": "stderr",
     "output_type": "stream",
     "text": [
      "Fetching URLs:  95%|█████████▌| 463/487 [25:10<00:35,  1.50s/it]"
     ]
    },
    {
     "name": "stdout",
     "output_type": "stream",
     "text": [
      "Error fetching www.yabet.com: net::ERR_CONNECTION_REFUSED at https://www.yabet.com/\n"
     ]
    },
    {
     "name": "stderr",
     "output_type": "stream",
     "text": [
      "Fetching URLs:  95%|█████████▌| 465/487 [25:13<00:29,  1.36s/it]"
     ]
    },
    {
     "name": "stdout",
     "output_type": "stream",
     "text": [
      "Error fetching www.yobetit.com: net::ERR_NAME_NOT_RESOLVED at https://www.yobetit.com/\n"
     ]
    },
    {
     "name": "stderr",
     "output_type": "stream",
     "text": [
      "Fetching URLs:  97%|█████████▋| 470/487 [25:25<00:41,  2.43s/it]"
     ]
    },
    {
     "name": "stdout",
     "output_type": "stream",
     "text": [
      "Error fetching www.zebrabet.com.au: Timeout 10000ms exceeded.\n",
      "Error fetching www.zetpoker.eu: net::ERR_NAME_NOT_RESOLVED at https://www.zetpoker.eu/\n"
     ]
    },
    {
     "name": "stderr",
     "output_type": "stream",
     "text": [
      "Fetching URLs:  97%|█████████▋| 471/487 [25:33<01:07,  4.19s/it]"
     ]
    },
    {
     "name": "stdout",
     "output_type": "stream",
     "text": [
      "Error fetching www.zodiacu.com: net::ERR_SSL_PROTOCOL_ERROR at https://www.zodiacu.com/\n",
      "Error fetching wymhoki.com: net::ERR_NAME_NOT_RESOLVED at https://wymhoki.com/\n"
     ]
    },
    {
     "name": "stderr",
     "output_type": "stream",
     "text": [
      "Fetching URLs:  97%|█████████▋| 473/487 [25:34<00:33,  2.40s/it]"
     ]
    },
    {
     "name": "stdout",
     "output_type": "stream",
     "text": [
      "Error fetching xinweide.com: net::ERR_ADDRESS_UNREACHABLE at https://xinweide.com/\n"
     ]
    },
    {
     "name": "stderr",
     "output_type": "stream",
     "text": [
      "Fetching URLs:  97%|█████████▋| 474/487 [25:34<00:24,  1.88s/it]"
     ]
    },
    {
     "name": "stdout",
     "output_type": "stream",
     "text": [
      "Error fetching yabet.com: net::ERR_CONNECTION_REFUSED at https://yabet.com/\n"
     ]
    },
    {
     "name": "stderr",
     "output_type": "stream",
     "text": [
      "Fetching URLs:  98%|█████████▊| 476/487 [25:36<00:15,  1.41s/it]"
     ]
    },
    {
     "name": "stdout",
     "output_type": "stream",
     "text": [
      "Error fetching yobetit.com: net::ERR_NAME_NOT_RESOLVED at https://yobetit.com/\n"
     ]
    },
    {
     "name": "stderr",
     "output_type": "stream",
     "text": [
      "Fetching URLs:  99%|█████████▊| 480/487 [25:47<00:22,  3.19s/it]"
     ]
    },
    {
     "name": "stdout",
     "output_type": "stream",
     "text": [
      "Error fetching zebrabet.com.au: Timeout 10000ms exceeded.\n"
     ]
    },
    {
     "name": "stderr",
     "output_type": "stream",
     "text": [
      "Fetching URLs:  99%|█████████▉| 481/487 [25:49<00:17,  2.99s/it]"
     ]
    },
    {
     "name": "stdout",
     "output_type": "stream",
     "text": [
      "Error fetching zetpoker.eu: net::ERR_NAME_NOT_RESOLVED at https://zetpoker.eu/\n"
     ]
    },
    {
     "name": "stderr",
     "output_type": "stream",
     "text": [
      "Fetching URLs:  99%|█████████▉| 483/487 [25:50<00:07,  1.87s/it]"
     ]
    },
    {
     "name": "stdout",
     "output_type": "stream",
     "text": [
      "Error fetching zodiacu.com: net::ERR_CONNECTION_CLOSED at https://zodiacu.com/\n"
     ]
    },
    {
     "name": "stderr",
     "output_type": "stream",
     "text": [
      "Fetching URLs:  99%|█████████▉| 484/487 [25:52<00:05,  1.89s/it]"
     ]
    },
    {
     "name": "stdout",
     "output_type": "stream",
     "text": [
      "Error fetching zpisportbk.com: net::ERR_NAME_NOT_RESOLVED at https://zpisportbk.com/\n"
     ]
    },
    {
     "name": "stderr",
     "output_type": "stream",
     "text": [
      "Fetching URLs: 100%|██████████| 487/487 [26:05<00:00,  3.21s/it]\n"
     ]
    }
   ],
   "source": [
    "\n",
    "file_urls = 'data/blocklist/all_urls_pos.txt'\n",
    "file_output = 'data/blocklist/pos_raw.txt'\n",
    "dead_urls_output = 'data/blocklist/dead_urls_pos.txt'\n",
    "\n",
    "def write_dead(url):\n",
    "    with open(dead_urls_output, \"a\") as out_file:\n",
    "        out_file.write(url+\"\\n\")\n",
    "\n",
    "TIMEOUT = 10\n",
    "SAVE_THRES = 1\n",
    "WORD_THRES = 50\n",
    "async def run():\n",
    "    contents = []\n",
    "    async with async_playwright() as p:\n",
    "        browser = await p.chromium.launch()\n",
    "        context = await browser.new_context()\n",
    "        page = await context.new_page()\n",
    "        await page.set_extra_http_headers({\n",
    "            'User-Agent': 'Mozilla/5.0 (Windows NT 10.0; Win64; x64) AppleWebKit/537.36 (KHTML, like Gecko) Chrome/58.0.3029.110 Safari/537.3',\n",
    "            'Accept-Language': 'en-US,en;q=0.5'\n",
    "        })\n",
    "\n",
    "        with open(file_urls, 'r') as file:\n",
    "            urls = file.readlines()\n",
    "        \n",
    "        # 780\n",
    "        # 761\n",
    "        # 32\n",
    "        i = 2121\n",
    "        urls = urls[2121:]\n",
    "        for url in tqdm(urls, desc=\"Fetching URLs\"):\n",
    "            url = url.strip() # Remove whitespace/newlines\n",
    "\n",
    "            # fetch content \n",
    "            content = \"\"\n",
    "            try:\n",
    "                await page.goto(\"https://\"+url, timeout=TIMEOUT*1000)\n",
    "                content = await page.content()\n",
    "                soup = BeautifulSoup(content, \"html.parser\")\n",
    "                content = soup.get_text(strip=True)\n",
    "            except Exception as e:\n",
    "                write_dead(url)\n",
    "                print(f\"Error fetching {url}: {e}\")\n",
    "                continue\n",
    "            \n",
    "            if content and len(content.split()) > WORD_THRES:\n",
    "                content = re.sub(r'[^\\w .,;:!?\"\\'-]', ' ', content, flags=re.UNICODE)\n",
    "                content = re.sub(r'\\s+', ' ', content) # compress multiple spaces into one\n",
    "                content = content.strip()\n",
    "                contents.append(content)\n",
    "                i += 1\n",
    "            \n",
    "                if i % SAVE_THRES == 0:\n",
    "                    with open(file_output, \"a\") as out_file:\n",
    "                        out_file.write(\"\\n\\n\".join(contents) + \"\\n\\n\")\n",
    "                    contents = []\n",
    "            else:\n",
    "                write_dead(url)\n",
    "\n",
    "\n",
    "        await context.close()\n",
    "        await browser.close()\n",
    "\n",
    "await run()"
   ]
  },
  {
   "cell_type": "code",
   "execution_count": 3,
   "metadata": {},
   "outputs": [
    {
     "name": "stdout",
     "output_type": "stream",
     "text": [
      "2608\n",
      "1734\n",
      "1045\n"
     ]
    }
   ],
   "source": [
    "# remove dead urls\n",
    "INPUT_ALL = \"data/blocklist/all_urls_pos.txt\"\n",
    "INPUT_DEAD = \"data/blocklist/dead_urls_pos.txt\"\n",
    "OUTPUT = \"data/blocklist/alive_urls_pos.txt\"\n",
    "\n",
    "\n",
    "with open(INPUT_ALL, \"r\") as input_file:\n",
    "    all_urls = input_file.readlines()\n",
    "\n",
    "with open(INPUT_DEAD, \"r\") as dead_file:\n",
    "    dead_urls = dead_file.readlines()\n",
    "\n",
    "\n",
    "\n",
    "alive = list(set(all_urls).difference(set(dead_urls)))\n",
    "\n",
    "print(len(all_urls))\n",
    "print(len(dead_urls))\n",
    "print(len(alive))\n",
    "\n",
    "with open(OUTPUT, \"w\") as out_file:\n",
    "    out_file.write(\"\".join(alive))\n"
   ]
  },
  {
   "cell_type": "code",
   "execution_count": null,
   "metadata": {},
   "outputs": [],
   "source": [
    "with open('data/blocklist/.txt', 'r') as file:\n",
    "    lines = file.read().splitlines()  # splitlines() removes the newline character\n",
    "    lines = [line for line in lines if line.strip()]  # this will remove empty lines"
   ]
  }
 ],
 "metadata": {
  "kernelspec": {
   "display_name": "Python 3 (ipykernel)",
   "language": "python",
   "name": "python3"
  },
  "language_info": {
   "codemirror_mode": {
    "name": "ipython",
    "version": 3
   },
   "file_extension": ".py",
   "mimetype": "text/x-python",
   "name": "python",
   "nbconvert_exporter": "python",
   "pygments_lexer": "ipython3",
   "version": "3.10.12"
  }
 },
 "nbformat": 4,
 "nbformat_minor": 2
}
